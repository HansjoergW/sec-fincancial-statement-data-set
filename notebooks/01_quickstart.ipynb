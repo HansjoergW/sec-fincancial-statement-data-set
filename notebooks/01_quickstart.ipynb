{
 "cells": [
  {
   "cell_type": "markdown",
   "id": "324e70d1-9876-44ea-88e0-499d2defa890",
   "metadata": {},
   "source": [
    "# Sec Financial Statement Data Sets Tools - Quickstart"
   ]
  },
  {
   "cell_type": "markdown",
   "id": "ec5fd5e7-16f8-406b-b5e4-2b23cf403638",
   "metadata": {},
   "source": [
    "## TL;DR"
   ]
  },
  {
   "cell_type": "markdown",
   "id": "901fe0d2-d257-4b2d-847e-596438672c24",
   "metadata": {},
   "source": [
    "This notebook gives a first introduction into using the secfsdstools (Sec Financial Data Sets Tools) python package: https://pypi.org/project/secfsdstools/\n",
    "\n",
    "It is designed to work with the data provided by the \"Sec Financial Statement Data Sets\" (SFSDS)(https://www.sec.gov/dera/data/financial-statement-data-sets).\n",
    "\n",
    "The SFSDS contains data from all reports that were filed with the sec since 2012. For instance all anual and quarter reports. The main assets that can be retrieved from this data set are the financial statemens (balance sheet, income statement, and cash flow).\n",
    "\n",
    "First, this notebook shows how the library is installed and configured. After that, it shows how the financial statements can be extracted from the data set.\n",
    "\n",
    "For a detailed definition of the data set see https://www.sec.gov/files/aqfs.pdf."
   ]
  },
  {
   "cell_type": "markdown",
   "id": "385ca081-3a9f-42b9-bc85-496c42821e7e",
   "metadata": {},
   "source": [
    "## Principles / Concepts"
   ]
  },
  {
   "cell_type": "markdown",
   "id": "ffe4edea-7b2a-4efd-9b63-96257251a803",
   "metadata": {},
   "source": [
    "The goal is bulk processing of the data.\n",
    "\n",
    "To improve efficiency, the zip files are downloaded and indexed using a SQLite database table.\n",
    "The index table contains information on all filed reports, over 500,000 in total. The first\n",
    "download will take a couple of minutes but after that, all the data is on your local harddisk.\n",
    "\n",
    "Using the index in the sqlite db allows for direct extraction of data for a specific report from the\n",
    "appropriate zip file, reducing the need to open and search through each zip file.\n",
    "\n",
    "Moreover, the downloaded zip files are converted to the parquet format which provides faster read access\n",
    "to the data compared to reading the csv files inside the zip files.\n",
    "\n",
    "The library is designed to have a low memory footprint, only parsing and reading the data for a specific\n",
    "report into pandas dataframe tables."
   ]
  },
  {
   "cell_type": "markdown",
   "id": "9e66226a-90c8-402e-9c61-85bb656e2e21",
   "metadata": {},
   "source": [
    "## Installation\n",
    "In order to install the library, just use pip install:\n",
    "```\n",
    "pip install secfsdstools\n",
    "```"
   ]
  },
  {
   "cell_type": "markdown",
   "id": "fdd67276-7d80-4138-be4b-53c32126f9a2",
   "metadata": {
    "tags": []
   },
   "source": [
    "## Configure logging in Jupyter"
   ]
  },
  {
   "cell_type": "code",
   "execution_count": 1,
   "id": "e9f97ba9-010c-45e3-ab0b-2e87c0099230",
   "metadata": {
    "tags": []
   },
   "outputs": [],
   "source": [
    "# to ensure that the logging statements are shown in juypter output, run this cell\n",
    "import logging\n",
    "\n",
    "logger = logging.getLogger()\n",
    "logger.setLevel(logging.INFO)"
   ]
  },
  {
   "cell_type": "markdown",
   "id": "affe6107-00af-4603-9c31-2282d92e3a37",
   "metadata": {
    "tags": []
   },
   "source": [
    "## Configure table output for Pandas"
   ]
  },
  {
   "cell_type": "code",
   "execution_count": 2,
   "id": "4e3daf46-7c76-40f8-8790-296b7495c4b7",
   "metadata": {
    "tags": []
   },
   "outputs": [],
   "source": [
    "import pandas as pd\n",
    "# ensure that all columns are shown and that colum content is not cut\n",
    "pd.set_option('display.max_columns', None)\n",
    "pd.set_option('display.max_colwidth', None)\n",
    "pd.set_option('display.width',1000)"
   ]
  },
  {
   "cell_type": "markdown",
   "id": "7c85678c-22c7-422d-8d86-00adc9008124",
   "metadata": {},
   "source": [
    "## Configuration / Setup"
   ]
  },
  {
   "cell_type": "markdown",
   "id": "d076cff1-a3a6-486b-a681-ee27db71778f",
   "metadata": {},
   "source": [
    "In order to be used, the library needs to know where to store the compressed files from the Financial Statement Data Sets and where to store the sqlite database file. This is configured in a configuration file.\n",
    "\n",
    "If you don't provide a config file, one will be created the first time you use the api. The configuration file will be created inside your home\n",
    "directory. You can then change the content of it or directly start with the downloading of the data.\n",
    "\n",
    "```\n",
    "[DEFAULT]\n",
    "downloaddirectory = <userhome>/secfsdstools/data/dld\n",
    "parquetdirectory = <userhome>/secfsdools/data/parquet\n",
    "dbdirectory = <userhome>/secfsdstools/data/db\n",
    "useragentemail = your.email@goeshere.com\n",
    "```\n",
    "\n",
    "The downloaddirectory is the folder in which the compressed data files are downloaded.\n",
    "The parquetdirectory is the folder in which the transfomred parquet version is stored.\n",
    "The dbdirectory will contain sqlite db file.\n",
    "The useragentemail is set inside the header when requests to sec.gov are made. This should be your email-address, however, since we are only making very few requests, it doesn't really matter if you change it or not.\n",
    "\n",
    "If you want to start the download of the data \"manually\", just call the update method."
   ]
  },
  {
   "cell_type": "code",
   "execution_count": null,
   "id": "df8c6cd6-9713-4f85-afbf-fdebb7a02cb1",
   "metadata": {},
   "outputs": [],
   "source": [
    "from secfsdstools.update import update\n",
    "\n",
    "update()"
   ]
  },
  {
   "cell_type": "markdown",
   "id": "9ab10736-1898-4110-9ee3-c51d59206748",
   "metadata": {},
   "source": [
    "The following tasks will be executed:\n",
    "1. All currently available zip-files are downloaded form sec.gov (these are over 50 files that will need over 2 GB of space on your local drive)\n",
    "2. All the zipfiles are transformed and stored as parquet files. Per default, the zipfile is deleted afterwards. If you want to keep the zip files, set the parameter 'KeepZipFiles' in the config file to True.\n",
    "3. An index inside a sqlite db file is created\n",
    "\n",
    "This may take a few minutes.\n",
    "\n",
    "If you don't call update \"manually\", then the first time you call a function from the library, a download will be triggered.\n",
    "\n",
    "Moreover, at most once a day, it is checked if there is a new zip file available on sec.gov. If there is, a download will be started automatically. \n",
    "If you don't want 'auto-update', set the 'AutoUpdate' in your config file to False.\n",
    "The new quarter zip files are available by the beginning of every quarter (January, April, July, October), hence, yo have to run the update() at the beginning of every quarter to get the data for the reprots from last quarter."
   ]
  },
  {
   "cell_type": "markdown",
   "id": "17d4c466-3431-48b7-b2c8-b8fe68710110",
   "metadata": {},
   "source": [
    "Note: the first time downloading data will take a couple of minutes, since over 2 GB of data will be downloaded and converted into parquet format.\n",
    "\n",
    "Note: **If you plan to use Jupyter, make sure that you configure the directories at a location where your Jupyter process has access. The used default directory (your user home directory) will work.**"
   ]
  },
  {
   "cell_type": "markdown",
   "id": "758ca848-83a3-408a-9259-f534638be908",
   "metadata": {},
   "source": [
    "## A first simple example\n",
    "Goal: present the information in the balance sheet of Apple's 2022 10-K report in the same way as it appears in the\n",
    "original report on page 31 (\"CONSOLIDATED BALANCE SHEETS\"): https://www.sec.gov/ix?doc=/Archives/edgar/data/320193/000032019322000108/aapl-20220924.htm\n"
   ]
  },
  {
   "cell_type": "code",
   "execution_count": 3,
   "id": "38bddd29-a291-4ea8-ab70-0d7a4fb9c4af",
   "metadata": {
    "tags": []
   },
   "outputs": [
    {
     "name": "stderr",
     "output_type": "stream",
     "text": [
      "2023-09-18 19:42:33,309 [INFO] configmgt  reading configuration from C:\\Users\\hansj\\.secfsdstools.cfg\n"
     ]
    },
    {
     "name": "stdout",
     "output_type": "stream",
     "text": [
      "                    adsh coreg                                              tag       version stmt  report  line     uom  negating  inpth      20210930      20220930\n",
      "0   0000320193-22-000108                  CashAndCashEquivalentsAtCarryingValue  us-gaap/2022   BS       5     3     USD         0      0  3.494000e+10  2.364600e+10\n",
      "1   0000320193-22-000108                            MarketableSecuritiesCurrent  us-gaap/2022   BS       5     4     USD         0      0  2.769900e+10  2.465800e+10\n",
      "2   0000320193-22-000108                           AccountsReceivableNetCurrent  us-gaap/2022   BS       5     5     USD         0      0  2.627800e+10  2.818400e+10\n",
      "3   0000320193-22-000108                                           InventoryNet  us-gaap/2022   BS       5     6     USD         0      0  6.580000e+09  4.946000e+09\n",
      "4   0000320193-22-000108                             NontradeReceivablesCurrent  us-gaap/2022   BS       5     7     USD         0      0  2.522800e+10  3.274800e+10\n",
      "5   0000320193-22-000108                                     OtherAssetsCurrent  us-gaap/2022   BS       5     8     USD         0      0  1.411100e+10  2.122300e+10\n",
      "6   0000320193-22-000108                                          AssetsCurrent  us-gaap/2022   BS       5     9     USD         0      0  1.348360e+11  1.354050e+11\n",
      "7   0000320193-22-000108                         MarketableSecuritiesNoncurrent  us-gaap/2022   BS       5    11     USD         0      0  1.278770e+11  1.208050e+11\n",
      "8   0000320193-22-000108                           PropertyPlantAndEquipmentNet  us-gaap/2022   BS       5    12     USD         0      0  3.944000e+10  4.211700e+10\n",
      "9   0000320193-22-000108                                  OtherAssetsNoncurrent  us-gaap/2022   BS       5    13     USD         0      0  4.884900e+10  5.442800e+10\n",
      "10  0000320193-22-000108                                       AssetsNoncurrent  us-gaap/2022   BS       5    14     USD         0      0  2.161660e+11  2.173500e+11\n",
      "11  0000320193-22-000108                                                 Assets  us-gaap/2022   BS       5    15     USD         0      0  3.510020e+11  3.527550e+11\n",
      "12  0000320193-22-000108                                 AccountsPayableCurrent  us-gaap/2022   BS       5    18     USD         0      0  5.476300e+10  6.411500e+10\n",
      "13  0000320193-22-000108                                OtherLiabilitiesCurrent  us-gaap/2022   BS       5    19     USD         0      0  4.749300e+10  6.084500e+10\n",
      "14  0000320193-22-000108                   ContractWithCustomerLiabilityCurrent  us-gaap/2022   BS       5    20     USD         0      0  7.612000e+09  7.912000e+09\n",
      "15  0000320193-22-000108                                        CommercialPaper  us-gaap/2022   BS       5    21     USD         0      0  6.000000e+09  9.982000e+09\n",
      "16  0000320193-22-000108                                    LongTermDebtCurrent  us-gaap/2022   BS       5    22     USD         0      0  9.613000e+09  1.112800e+10\n",
      "17  0000320193-22-000108                                     LiabilitiesCurrent  us-gaap/2022   BS       5    23     USD         0      0  1.254810e+11  1.539820e+11\n",
      "18  0000320193-22-000108                                 LongTermDebtNoncurrent  us-gaap/2022   BS       5    25     USD         0      0  1.091060e+11  9.895900e+10\n",
      "19  0000320193-22-000108                             OtherLiabilitiesNoncurrent  us-gaap/2022   BS       5    26     USD         0      0  5.332500e+10  4.914200e+10\n",
      "20  0000320193-22-000108                                  LiabilitiesNoncurrent  us-gaap/2022   BS       5    27     USD         0      0  1.624310e+11  1.481010e+11\n",
      "21  0000320193-22-000108                                            Liabilities  us-gaap/2022   BS       5    28     USD         0      0  2.879120e+11  3.020830e+11\n",
      "22  0000320193-22-000108           CommonStocksIncludingAdditionalPaidInCapital  us-gaap/2022   BS       5    31     USD         0      0  5.736500e+10  6.484900e+10\n",
      "23  0000320193-22-000108                     RetainedEarningsAccumulatedDeficit  us-gaap/2022   BS       5    32     USD         0      0  5.562000e+09 -3.068000e+09\n",
      "24  0000320193-22-000108        AccumulatedOtherComprehensiveIncomeLossNetOfTax  us-gaap/2022   BS       5    33     USD         0      0  1.630000e+08 -1.110900e+10\n",
      "25  0000320193-22-000108                                     StockholdersEquity  us-gaap/2022   BS       5    34     USD         0      0  6.309000e+10  5.067200e+10\n",
      "26  0000320193-22-000108                       LiabilitiesAndStockholdersEquity  us-gaap/2022   BS       5    35     USD         0      0  3.510020e+11  3.527550e+11\n",
      "27  0000320193-22-000108                    CommonStockParOrStatedValuePerShare  us-gaap/2022   BS       6     1     USD         0      1  0.000000e+00  0.000000e+00\n",
      "28  0000320193-22-000108                            CommonStockSharesAuthorized  us-gaap/2022   BS       6     2  shares         0      1  5.040000e+10  5.040000e+10\n",
      "29  0000320193-22-000108                                CommonStockSharesIssued  us-gaap/2022   BS       6     3  shares         0      1  1.642679e+10  1.594342e+10\n",
      "30  0000320193-22-000108                           CommonStockSharesOutstanding  us-gaap/2022   BS       6     4  shares         0      1  1.642679e+10  1.594342e+10\n"
     ]
    }
   ],
   "source": [
    "from secfsdstools.e_collector.reportcollecting import SingleReportCollector\n",
    "from secfsdstools.e_filter.rawfiltering import ReportPeriodAndPreviousPeriodRawFilter\n",
    "from secfsdstools.e_presenter.presenting import StandardStatementPresenter\n",
    "\n",
    "# the unique identifier for apple's 10-K report of 2022\n",
    "apple_10k_2022_adsh = \"0000320193-22-000108\"\n",
    "\n",
    "# us a Collector to grab the data of the 10-K report. filter for balancesheet information\n",
    "collector: SingleReportCollector = SingleReportCollector.get_report_by_adsh(\n",
    "      adsh=apple_10k_2022_adsh,\n",
    "      stmt_filter=[\"BS\"]\n",
    ")  \n",
    "rawdatabag = collector.collect() # load the data from the disk\n",
    "  \n",
    "bs_df = (rawdatabag\n",
    "         # ensure only data from the period (2022) of the previous period (2021) is in the data\n",
    "         .filter(ReportPeriodAndPreviousPeriodRawFilter())\n",
    "         # join the the content of the pre_txt and num_txt together\n",
    "         .join()  \n",
    "         # format the data in the same way as it appears in the report\n",
    "         .present(StandardStatementPresenter())) \n",
    "print(bs_df) "
   ]
  },
  {
   "cell_type": "markdown",
   "id": "311c75f3-bcdf-445f-bf8b-6094215da914",
   "metadata": {},
   "source": [
    "## Overview\n",
    "The following diagram gives an overview on SECFSDSTools library.\n",
    "\n",
    "![Overview](https://github.com/HansjoergW/sec-fincancial-statement-data-set/raw/main/docs/images/overview.png)\n",
    "\n",
    "It mainly exists out of two main processes. The first one ist the \"Date Update Process\" wich is responsible for the\n",
    "download of the Financial Statement Data Sets zip files from the sec.gov website, transforming the content into parquet\n",
    "format, and indexing the content of these files in a simple SQLite database. Again, this whole process can be started\n",
    "\"manually\" by calling the update method, or it is done automatically, as it is described above.\n",
    "\n",
    "The second main process is the \"Data Processing Process\", which is working with the data that is stored inside the\n",
    "sub.txt, pre.txt, and num.txt files from the zip files. The \"Data Processing Process\" mainly exists out of four steps:\n",
    "\n",
    "* **Collect** <br/> Collect the rawdata from one or more different zip files. For instance, get all the data for a single\n",
    "report, or get the data for all 10-K reports of a single report from several zip files.\n",
    "* **Raw Processing** <br/> Once the data is collected, the collected data for sub.txt, pre.txt, and num.txt is available\n",
    "as a pandas dataframe. Filters can be applied, the content can directly be saved and loaded.\n",
    "* **Joined Processing** <br/> From the \"Raw Data\", a \"joined\" representation can be created. This joins the data from\n",
    "the pre.txt and num.txt content together based on the \"adhs\", \"tag\", and \"version\" attributes. \"Joined data\" can also be\n",
    "filtered, concatenated, directly saved and loaded.\n",
    "* **Present** <br/> Produce a single pandas dataframe out of the data and use it for further processing.\n",
    "\n",
    "The diagramm also shows the main classes with which a user interacts. The use of them  is described in the following chapters.\n"
   ]
  },
  {
   "cell_type": "markdown",
   "id": "a3354a79-cd7c-4e22-bf7f-035d0ecd7c04",
   "metadata": {
    "tags": []
   },
   "source": [
    "## General\n",
    "Most of the classes you can interact with have a factory method which name starts with \"get_\". All this factory method\n",
    "take at least one **optional** parameter called configuration which is of type \"Configuration\".\n",
    "\n",
    "If you do not provide this parameter, the class will read the configuration info from you configuration file in your home\n",
    "directory. If, for whatever reason, you do want to provide an alternative configuration, you can overwrite it.\n",
    "\n",
    "However, normally you do not have to provide the \"configuration\" parameter."
   ]
  },
  {
   "cell_type": "markdown",
   "id": "adfc9b97-5209-404d-bb19-42d338bc5c71",
   "metadata": {},
   "source": [
    "## Index: working with the index\n",
    "The first class that interacts with the index is the `IndexSearch` class. It provides a single method `find_company_by_name`\n",
    "which executes a SQL Like search on the name of the available companies and returns a pandas dataframe with the columns\n",
    "'name' and 'cik' (the central index key, or the unique id of a company in the financial statements data sets).\n",
    "The main purpose of this class is to find the cik for a company (of course, you can also directly search the cik on https://www.sec.gov/edgar/searchedgar/companysearch)."
   ]
  },
  {
   "cell_type": "code",
   "execution_count": 4,
   "id": "f4569625-869b-4112-bde1-6dcb70b517d2",
   "metadata": {
    "tags": []
   },
   "outputs": [
    {
     "name": "stderr",
     "output_type": "stream",
     "text": [
      "2023-09-18 19:43:44,199 [INFO] configmgt  reading configuration from C:\\Users\\hansj\\.secfsdstools.cfg\n"
     ]
    },
    {
     "name": "stdout",
     "output_type": "stream",
     "text": [
      "                             name      cik\n",
      "0       APPLE GREEN HOLDING, INC.  1510976\n",
      "1    APPLE HOSPITALITY REIT, INC.  1418121\n",
      "2                       APPLE INC   320193\n",
      "3          APPLE REIT EIGHT, INC.  1387361\n",
      "4           APPLE REIT NINE, INC.  1418121\n",
      "5          APPLE REIT SEVEN, INC.  1329011\n",
      "6              APPLE REIT SIX INC  1277151\n",
      "7            APPLE REIT TEN, INC.  1498864\n",
      "8          APPLETON PAPERS INC/WI  1144326\n",
      "9   DR PEPPER SNAPPLE GROUP, INC.  1418135\n",
      "10   MAUI LAND & PINEAPPLE CO INC    63330\n",
      "11          PINEAPPLE ENERGY INC.    22701\n",
      "12  PINEAPPLE EXPRESS CANNABIS CO  1710495\n",
      "13        PINEAPPLE EXPRESS, INC.  1654672\n",
      "14       PINEAPPLE HOLDINGS, INC.    22701\n",
      "15                PINEAPPLE, INC.  1654672\n"
     ]
    }
   ],
   "source": [
    "from secfsdstools.c_index.searching import IndexSearch\n",
    "\n",
    "index_search = IndexSearch.get_index_search()\n",
    "results = index_search.find_company_by_name(\"apple\")\n",
    "print(results)"
   ]
  },
  {
   "cell_type": "markdown",
   "id": "2f0e0584-599f-4684-ab22-66bd790151d6",
   "metadata": {
    "tags": []
   },
   "source": [
    "Once you have the cik of a company, you can use the `CompanyIndexReader` to get information on available reports of a company.\n",
    "To get an instance of the class, you use the get `get_company_index_reader` method and provide the cik parameter."
   ]
  },
  {
   "cell_type": "code",
   "execution_count": 5,
   "id": "e5033f87-b67f-47cf-99f1-8fd527000fa6",
   "metadata": {
    "tags": []
   },
   "outputs": [
    {
     "name": "stderr",
     "output_type": "stream",
     "text": [
      "2023-09-18 19:43:48,731 [INFO] configmgt  reading configuration from C:\\Users\\hansj\\.secfsdstools.cfg\n"
     ]
    }
   ],
   "source": [
    "from secfsdstools.c_index.companyindexreading import CompanyIndexReader\n",
    "\n",
    "apple_cik = 320193\n",
    "apple_index_reader = CompanyIndexReader.get_company_index_reader(cik=apple_cik)"
   ]
  },
  {
   "cell_type": "markdown",
   "id": "4894c223-3652-432a-a82a-693896a5cf90",
   "metadata": {},
   "source": [
    "First, you could use the method `get_latest_company_filing` which returns a dictionary with the latest filing of the company:"
   ]
  },
  {
   "cell_type": "code",
   "execution_count": 6,
   "id": "b92223bf-6589-4eba-ba22-d2596b47bbd6",
   "metadata": {
    "tags": []
   },
   "outputs": [
    {
     "name": "stdout",
     "output_type": "stream",
     "text": [
      "{'adsh': '0001140361-23-023909', 'cik': 320193, 'name': 'APPLE INC', 'sic': 3571.0, 'countryba': 'US', 'stprba': 'CA', 'cityba': 'CUPERTINO', 'zipba': '95014', 'bas1': 'ONE APPLE PARK WAY', 'bas2': None, 'baph': '(408) 996-1010', 'countryma': 'US', 'stprma': 'CA', 'cityma': 'CUPERTINO', 'zipma': '95014', 'mas1': 'ONE APPLE PARK WAY', 'mas2': None, 'countryinc': 'US', 'stprinc': 'CA', 'ein': 942404110, 'former': 'APPLE INC', 'changed': 20070109.0, 'afs': '1-LAF', 'wksi': 0, 'fye': '0930', 'form': '8-K', 'period': 20230430, 'fy': nan, 'fp': None, 'filed': 20230510, 'accepted': '2023-05-10 16:31:00.0', 'prevrpt': 0, 'detail': 0, 'instance': 'ny20007635x4_8k_htm.xml', 'nciks': 1, 'aciks': None}\n"
     ]
    }
   ],
   "source": [
    "print(apple_index_reader.get_latest_company_filing())"
   ]
  },
  {
   "cell_type": "markdown",
   "id": "8c0ab77d-c444-41ca-8ece-dad1054caf19",
   "metadata": {},
   "source": [
    "Next there are two methods which return the metadata of the reports that a company has filed. The result is either\n",
    "returned as a list of `IndexReport` instances, if you use the method `get_all_company_reports` or as pandas dataframe if\n",
    "you use the method `get_all_company_reports_df`. Both method can take an optional parameter forms, which defines the\n",
    "type of the report that shall be returned. For instance, if you are only interested in the annual and quarterly report,\n",
    "set forms to `[\"10-K\", \"10-Q\"]`."
   ]
  },
  {
   "cell_type": "code",
   "execution_count": 7,
   "id": "5a6233a0-7543-43be-a581-8ed279787442",
   "metadata": {
    "tags": []
   },
   "outputs": [
    {
     "name": "stdout",
     "output_type": "stream",
     "text": [
      "                    adsh     cik       name  form     filed    period                                                     fullPath  originFile originFileType                                                                                               url\n",
      "0   0000320193-22-000108  320193  APPLE INC  10-K  20221028  20220930  C:\\Users\\hansj\\secfsdstools\\data\\parquet\\quarter\\2022q4.zip  2022q4.zip        quarter  https://www.sec.gov/Archives/edgar/data/320193/000032019322000108/0000320193-22-000108-index.htm\n",
      "1   0000320193-21-000105  320193  APPLE INC  10-K  20211029  20210930  C:\\Users\\hansj\\secfsdstools\\data\\parquet\\quarter\\2021q4.zip  2021q4.zip        quarter  https://www.sec.gov/Archives/edgar/data/320193/000032019321000105/0000320193-21-000105-index.htm\n",
      "2   0000320193-20-000096  320193  APPLE INC  10-K  20201030  20200930  C:\\Users\\hansj\\secfsdstools\\data\\parquet\\quarter\\2020q4.zip  2020q4.zip        quarter  https://www.sec.gov/Archives/edgar/data/320193/000032019320000096/0000320193-20-000096-index.htm\n",
      "3   0000320193-19-000119  320193  APPLE INC  10-K  20191031  20190930  C:\\Users\\hansj\\secfsdstools\\data\\parquet\\quarter\\2019q4.zip  2019q4.zip        quarter  https://www.sec.gov/Archives/edgar/data/320193/000032019319000119/0000320193-19-000119-index.htm\n",
      "4   0000320193-18-000145  320193  APPLE INC  10-K  20181105  20180930  C:\\Users\\hansj\\secfsdstools\\data\\parquet\\quarter\\2018q4.zip  2018q4.zip        quarter  https://www.sec.gov/Archives/edgar/data/320193/000032019318000145/0000320193-18-000145-index.htm\n",
      "5   0000320193-17-000070  320193  APPLE INC  10-K  20171103  20170930  C:\\Users\\hansj\\secfsdstools\\data\\parquet\\quarter\\2017q4.zip  2017q4.zip        quarter  https://www.sec.gov/Archives/edgar/data/320193/000032019317000070/0000320193-17-000070-index.htm\n",
      "6   0001628280-16-020309  320193  APPLE INC  10-K  20161026  20160930  C:\\Users\\hansj\\secfsdstools\\data\\parquet\\quarter\\2016q4.zip  2016q4.zip        quarter  https://www.sec.gov/Archives/edgar/data/320193/000162828016020309/0001628280-16-020309-index.htm\n",
      "7   0001193125-15-356351  320193  APPLE INC  10-K  20151028  20150930  C:\\Users\\hansj\\secfsdstools\\data\\parquet\\quarter\\2015q4.zip  2015q4.zip        quarter  https://www.sec.gov/Archives/edgar/data/320193/000119312515356351/0001193125-15-356351-index.htm\n",
      "8   0001193125-14-383437  320193  APPLE INC  10-K  20141027  20140930  C:\\Users\\hansj\\secfsdstools\\data\\parquet\\quarter\\2014q4.zip  2014q4.zip        quarter  https://www.sec.gov/Archives/edgar/data/320193/000119312514383437/0001193125-14-383437-index.htm\n",
      "9   0001193125-13-416534  320193  APPLE INC  10-K  20131030  20130930  C:\\Users\\hansj\\secfsdstools\\data\\parquet\\quarter\\2013q4.zip  2013q4.zip        quarter  https://www.sec.gov/Archives/edgar/data/320193/000119312513416534/0001193125-13-416534-index.htm\n",
      "10  0001193125-12-444068  320193  APPLE INC  10-K  20121031  20120930  C:\\Users\\hansj\\secfsdstools\\data\\parquet\\quarter\\2012q4.zip  2012q4.zip        quarter  https://www.sec.gov/Archives/edgar/data/320193/000119312512444068/0001193125-12-444068-index.htm\n",
      "11  0001193125-11-282113  320193  APPLE INC  10-K  20111026  20110930  C:\\Users\\hansj\\secfsdstools\\data\\parquet\\quarter\\2011q4.zip  2011q4.zip        quarter  https://www.sec.gov/Archives/edgar/data/320193/000119312511282113/0001193125-11-282113-index.htm\n",
      "12  0001193125-10-238044  320193  APPLE INC  10-K  20101027  20100930  C:\\Users\\hansj\\secfsdstools\\data\\parquet\\quarter\\2010q4.zip  2010q4.zip        quarter  https://www.sec.gov/Archives/edgar/data/320193/000119312510238044/0001193125-10-238044-index.htm\n",
      "13  0001193125-09-214859  320193  APPLE INC  10-K  20091027  20090930  C:\\Users\\hansj\\secfsdstools\\data\\parquet\\quarter\\2009q4.zip  2009q4.zip        quarter  https://www.sec.gov/Archives/edgar/data/320193/000119312509214859/0001193125-09-214859-index.htm\n"
     ]
    }
   ],
   "source": [
    "# only show the annual reports of apple\n",
    "print(apple_index_reader.get_all_company_reports_df(forms=[\"10-K\"]))"
   ]
  },
  {
   "cell_type": "markdown",
   "id": "fcf84f13-469d-42d3-9098-40707373c6d8",
   "metadata": {},
   "source": [
    "Note: the entries in the url column above directly open the filing of that report on the sec.gov website."
   ]
  },
  {
   "cell_type": "markdown",
   "id": "da01caac-c8a4-416c-a6f2-42acc79a22bd",
   "metadata": {},
   "source": [
    "## Collect: collecting the data for reports\n",
    "The previously introduced `IndexSearch` and `CompanyIndexReader` let you know what data is available, but they do not\n",
    "return the real data of the financial statements. This is what the `Collector` classes are used for.\n",
    "\n",
    "All the `Collector` classes have their own factory method(s) which instantiates the class. Most of these factory methods\n",
    "also provide parameters to filter the data directly when being loaded from the parquet files.\n",
    "These are\n",
    "* the `forms_filter` <br> lets you select which report type should be loaded (e.g. \"10-K\" or \"10-Q\").<br>\n",
    "  Note: the fomrs filter affects all dataframes (sub, pre, num).\n",
    "* the `stmt_filter` <br> defines the statements that should be loaded (e.g., \"BS\" if only \"Balance Sheet\" data should be loaded) <br>\n",
    "  Note: the stmt filter only affects the pre dataframe.\n",
    "* the `tag_filter` <br> defines the tags, that should be loaded (e.g., \"Assets\" if only the \"Assets\" tag should be loaded) <br>\n",
    "  Note: the tag filter affects the pre and num dataframes.\n",
    "\n",
    "It is also possible to apply filter for these attributes after the data is loaded, but since the `Collector` classes\n",
    "apply this filters directly during the load process from the parquet files (which means that fewer data is loaded from\n",
    "the disk) this is generally more efficient.\n",
    "\n",
    "All `Collector` classes have a `collect` method which then loads the data from the parquet files and returns an instance\n",
    "of `RawDataBag`. The `RawDataBag` instance contains then a pandas dataframe for the `sub` (subscription) data,\n",
    "`pre` (presentation) data, and `num` (the numeric values) data.\n",
    "\n",
    "The framework provides the following collectors:"
   ]
  },
  {
   "cell_type": "markdown",
   "id": "db1af938-7189-471f-9bcf-6e79be23cb45",
   "metadata": {},
   "source": [
    "---\n",
    "* `SingleReportCollector` <br> As the name suggests, this `Collector` returns the data of a single report. It is \n",
    "  instantiated by providing the `adsh` of the desired report as parameter of the `get_report_by_adsh` factory method, \n",
    "  or by using an instance of the `IndexReport` as parameter of the `get_report_by_indexreport`. (As a reminder: \n",
    "  instances of `IndexReport` are returned by the `CompanyIndexReader` class)."
   ]
  },
  {
   "cell_type": "code",
   "execution_count": 9,
   "id": "cfc2ff08-5070-49da-a99d-1bbe12c1c3ee",
   "metadata": {
    "tags": []
   },
   "outputs": [
    {
     "name": "stderr",
     "output_type": "stream",
     "text": [
      "2023-09-18 19:47:45,029 [INFO] configmgt  reading configuration from C:\\Users\\hansj\\.secfsdstools.cfg\n"
     ]
    },
    {
     "name": "stdout",
     "output_type": "stream",
     "text": [
      "                   adsh     cik       name     sic countryba stprba     cityba  zipba                bas1  bas2            baph countryma stprma     cityma  zipma                mas1  mas2 countryinc stprinc        ein     former     changed    afs  wksi   fye  form    period      fy  fp     filed               accepted  prevrpt  detail               instance  nciks aciks\n",
      "0  0000320193-22-000108  320193  APPLE INC  3571.0        US     CA  CUPERTINO  95014  ONE APPLE PARK WAY  None  (408) 996-1010        US     CA  CUPERTINO  95014  ONE APPLE PARK WAY  None         US      CA  942404110  APPLE INC  20070109.0  1-LAF     1  0930  10-K  20220930  2022.0  FY  20221028  2022-10-27 18:01:00.0        0       1  aapl-20220924_htm.xml      1  None \n",
      "\n",
      "(185, 10)\n",
      "(503, 9)\n"
     ]
    }
   ],
   "source": [
    "from secfsdstools.e_collector.reportcollecting import SingleReportCollector\n",
    "\n",
    "apple_10k_2022_adsh = \"0000320193-22-000108\"\n",
    "\n",
    "collector: SingleReportCollector = SingleReportCollector.get_report_by_adsh(adsh=apple_10k_2022_adsh)\n",
    "rawdatabag = collector.collect()\n",
    "\n",
    "# as expected, there is just one entry in the submission dataframe\n",
    "print(rawdatabag.sub_df, '\\n')\n",
    "\n",
    "# just print the size of the pre and num dataframes\n",
    "print(rawdatabag.pre_df.shape)\n",
    "print(rawdatabag.num_df.shape)"
   ]
  },
  {
   "cell_type": "markdown",
   "id": "7815f6ed-bb29-4fca-a036-1d63dd725282",
   "metadata": {},
   "source": [
    "---\n",
    "* `MultiReportCollector` <br> Contrary to the `SingleReportCollector`, this `Collector` can collect data from several\n",
    "  reports. Moreover, the data of the reports are loaded in parallel, this  especially improves the performance if the\n",
    "  reports are from different quarters (resp. are in different zip files). The class provides the factory methods \n",
    "  `get_reports_by_adshs` and `get_reports_by_indexreports`. The first takes a list of adsh strings, the second a list\n",
    "  of `IndexReport` instances."
   ]
  },
  {
   "cell_type": "code",
   "execution_count": 11,
   "id": "80c60929-bbe5-4c8f-86a3-a5f72d640fc9",
   "metadata": {
    "tags": []
   },
   "outputs": [
    {
     "name": "stderr",
     "output_type": "stream",
     "text": [
      "2023-09-18 19:49:22,912 [INFO] configmgt  reading configuration from C:\\Users\\hansj\\.secfsdstools.cfg\n",
      "2023-09-18 19:49:22,943 [INFO] parallelexecution      items to process: 2\n",
      "2023-09-18 19:49:24,602 [INFO] parallelexecution      commited chunk: 0\n"
     ]
    },
    {
     "name": "stdout",
     "output_type": "stream",
     "text": [
      "                   adsh     cik       name     sic countryba stprba     cityba  zipba                bas1  bas2            baph countryma stprma     cityma  zipma                mas1  mas2 countryinc stprinc          ein              former     changed    afs  wksi   fye  form    period      fy  fp     filed               accepted  prevrpt  detail               instance  nciks aciks\n",
      "0  0000320193-22-000108  320193  APPLE INC  3571.0        US     CA  CUPERTINO  95014  ONE APPLE PARK WAY  None  (408) 996-1010        US     CA  CUPERTINO  95014  ONE APPLE PARK WAY  None         US      CA  942404110.0           APPLE INC  20070109.0  1-LAF     1  0930  10-K  20220930  2022.0  FY  20221028  2022-10-27 18:01:00.0        0       1  aapl-20220924_htm.xml      1  None\n",
      "1  0001193125-12-444068  320193  APPLE INC  3571.0        US     CA  CUPERTINO  95014   ONE INFINITE LOOP  None  (408) 996-1010        US     CA  CUPERTINO  95014   ONE INFINITE LOOP  None         US      CA  942404110.0  APPLE COMPUTER INC  19970808.0  1-LAF     1  0930  10-K  20120930  2012.0  FY  20121031  2012-10-31 17:07:00.0        0       1      aapl-20120929.xml      1  None \n",
      "\n",
      "                   adsh     tag       version coreg     ddate  qtrs  uom         value footnote\n",
      "0  0000320193-22-000108  Assets  us-gaap/2022        20210930     0  USD  3.510020e+11     None\n",
      "1  0000320193-22-000108  Assets  us-gaap/2022        20220930     0  USD  3.527550e+11     None\n",
      "2  0001193125-12-444068  Assets  us-gaap/2012        20110930     0  USD  1.163710e+11     None\n",
      "3  0001193125-12-444068  Assets  us-gaap/2012        20120930     0  USD  1.760640e+11     None\n"
     ]
    }
   ],
   "source": [
    "from secfsdstools.e_collector.multireportcollecting import MultiReportCollector\n",
    "apple_10k_2022_adsh = \"0000320193-22-000108\"\n",
    "apple_10k_2012_adsh = \"0001193125-12-444068\"\n",
    "\n",
    "# load only the assets tags that are present in the 10-K report of apple in the years\n",
    "# 2022 and 2012\n",
    "collector: MultiReportCollector = MultiReportCollector.get_reports_by_adshs(\n",
    "                                              adshs=[apple_10k_2022_adsh, apple_10k_2012_adsh],\n",
    "                                              tag_filter=['Assets'])\n",
    "rawdatabag = collector.collect()\n",
    "# as expected, there are just two entries in the submission dataframe\n",
    "print(rawdatabag.sub_df, '\\n')\n",
    "print(rawdatabag.num_df)  "
   ]
  },
  {
   "cell_type": "markdown",
   "id": "e96a68a5-170d-45f9-865b-fa1f8087a677",
   "metadata": {},
   "source": [
    "---\n",
    "* `ZipCollector` <br> This `Collector` collects the data of one single zip (resp. the folder that contains the parquet\n",
    "  files of this zip file). And since the original zip file contains the data for one quarter, the name you provide\n",
    "  in the `get_zuip_by_name` factory method reflects the quarter which data you want to load: e.g. `2022q1.zip`."
   ]
  },
  {
   "cell_type": "code",
   "execution_count": 12,
   "id": "77f7c553-695f-4006-8026-97df10d4bf30",
   "metadata": {
    "tags": []
   },
   "outputs": [
    {
     "name": "stderr",
     "output_type": "stream",
     "text": [
      "2023-09-18 19:51:54,365 [INFO] configmgt  reading configuration from C:\\Users\\hansj\\.secfsdstools.cfg\n"
     ]
    },
    {
     "name": "stdout",
     "output_type": "stream",
     "text": [
      "(4875, 36)\n",
      "(232863, 10)\n",
      "(2404949, 9)\n"
     ]
    }
   ],
   "source": [
    "from secfsdstools.e_collector.zipcollecting import ZipCollector\n",
    "\n",
    "# only collect the Balance Sheet of annual reports that\n",
    "# were filed during the first quarter in 2022\n",
    "collector: ZipCollector = ZipCollector.get_zip_by_name(name=\"2022q1.zip\",\n",
    "                                                       forms_filter=[\"10-K\"],\n",
    "                                                       stmt_filter=[\"BS\"])\n",
    "\n",
    "rawdatabag = collector.collect()\n",
    "\n",
    "# only show the size of the data frame\n",
    "# .. over 4000 companies filed a 10 K report in q1 2022\n",
    "print(rawdatabag.sub_df.shape)\n",
    "print(rawdatabag.pre_df.shape)\n",
    "print(rawdatabag.num_df.shape)    "
   ]
  },
  {
   "cell_type": "markdown",
   "id": "9b9ba431-fad6-4d58-ba4b-de3c9f837d5f",
   "metadata": {},
   "source": [
    "---\n",
    "* `CompanyReportCollector` <br> This class returns reports for one or more companies. The factory method \n",
    "  `get_company_collector` provides the parameter `ciks` which takes a list of cik numbers."
   ]
  },
  {
   "cell_type": "code",
   "execution_count": 13,
   "id": "77165def-b05c-4713-bc86-02e7732fd35a",
   "metadata": {
    "tags": []
   },
   "outputs": [
    {
     "name": "stderr",
     "output_type": "stream",
     "text": [
      "2023-09-18 19:52:57,247 [INFO] configmgt  reading configuration from C:\\Users\\hansj\\.secfsdstools.cfg\n",
      "2023-09-18 19:52:57,460 [INFO] parallelexecution      items to process: 14\n",
      "2023-09-18 19:53:01,868 [INFO] parallelexecution      commited chunk: 0\n"
     ]
    },
    {
     "name": "stdout",
     "output_type": "stream",
     "text": [
      "                    adsh     cik       name     sic countryba stprba     cityba  zipba                bas1  bas2            baph countryma stprma     cityma  zipma                mas1  mas2 countryinc stprinc          ein              former     changed    afs  wksi   fye  form    period      fy  fp     filed               accepted  prevrpt  detail                  instance  nciks aciks\n",
      "0   0000320193-22-000108  320193  APPLE INC  3571.0        US     CA  CUPERTINO  95014  ONE APPLE PARK WAY  None  (408) 996-1010        US     CA  CUPERTINO  95014  ONE APPLE PARK WAY  None         US      CA  942404110.0           APPLE INC  20070109.0  1-LAF     1  0930  10-K  20220930  2022.0  FY  20221028  2022-10-27 18:01:00.0        0       1     aapl-20220924_htm.xml      1  None\n",
      "1   0000320193-21-000105  320193  APPLE INC  3571.0        US     CA  CUPERTINO  95014  ONE APPLE PARK WAY  None  (408) 996-1010        US     CA  CUPERTINO  95014  ONE APPLE PARK WAY  None         US      CA  942404110.0           APPLE INC  20070109.0  1-LAF     1  0930  10-K  20210930  2021.0  FY  20211029  2021-10-28 18:04:00.0        0       1     aapl-20210925_htm.xml      1  None\n",
      "2   0000320193-20-000096  320193  APPLE INC  3571.0        US     CA  CUPERTINO  95014  ONE APPLE PARK WAY  None  (408) 996-1010        US     CA  CUPERTINO  95014  ONE APPLE PARK WAY  None         US      CA  942404110.0           APPLE INC  20070109.0  1-LAF     1  0930  10-K  20200930  2020.0  FY  20201030  2020-10-29 18:06:00.0        0       1     aapl-20200926_htm.xml      1  None\n",
      "3   0000320193-19-000119  320193  APPLE INC  3571.0        US     CA  CUPERTINO  95014  ONE APPLE PARK WAY  None  (408) 996-1010        US     CA  CUPERTINO  95014  ONE APPLE PARK WAY  None         US      CA  942404110.0           APPLE INC  20070109.0  1-LAF     1  0930  10-K  20190930  2019.0  FY  20191031  2019-10-30 18:13:00.0        0       1  a10-k20199282019_htm.xml      1  None\n",
      "4   0000320193-18-000145  320193  APPLE INC  3571.0        US     CA  CUPERTINO  95014  ONE APPLE PARK WAY  None  (408) 996-1010        US     CA  CUPERTINO  95014  ONE APPLE PARK WAY  None         US      CA  942404110.0  APPLE COMPUTER INC  19970808.0  1-LAF     1  0930  10-K  20180930  2018.0  FY  20181105  2018-11-05 08:02:00.0        0       1         aapl-20180929.xml      1  None\n",
      "5   0000320193-17-000070  320193  APPLE INC  3571.0        US     CA  CUPERTINO  95014   ONE INFINITE LOOP  None  (408) 996-1010        US     CA  CUPERTINO  95014   ONE INFINITE LOOP  None         US      CA  942404110.0  APPLE COMPUTER INC  19970808.0  1-LAF     1  0930  10-K  20170930  2017.0  FY  20171103  2017-11-03 08:02:00.0        0       1         aapl-20170930.xml      1  None\n",
      "6   0001628280-16-020309  320193  APPLE INC  3571.0        US     CA  CUPERTINO  95014   ONE INFINITE LOOP  None  (408) 996-1010        US     CA  CUPERTINO  95014   ONE INFINITE LOOP  None         US      CA  942404110.0  APPLE COMPUTER INC  19970808.0  1-LAF     1  0930  10-K  20160930  2016.0  FY  20161026  2016-10-26 16:42:00.0        0       1         aapl-20160924.xml      1  None\n",
      "7   0001193125-15-356351  320193  APPLE INC  3571.0        US     CA  CUPERTINO  95014   ONE INFINITE LOOP  None  (408) 996-1010        US     CA  CUPERTINO  95014   ONE INFINITE LOOP  None         US      CA  942404110.0  APPLE COMPUTER INC  19970808.0  1-LAF     1  0930  10-K  20150930  2015.0  FY  20151028  2015-10-28 16:31:00.0        0       1         aapl-20150926.xml      1  None\n",
      "8   0001193125-14-383437  320193  APPLE INC  3571.0        US     CA  CUPERTINO  95014   ONE INFINITE LOOP  None  (408) 996-1010        US     CA  CUPERTINO  95014   ONE INFINITE LOOP  None         US      CA  942404110.0  APPLE COMPUTER INC  19970808.0  1-LAF     1  0930  10-K  20140930  2014.0  FY  20141027  2014-10-27 17:12:00.0        0       1         aapl-20140927.xml      1  None\n",
      "9   0001193125-13-416534  320193  APPLE INC  3571.0        US     CA  CUPERTINO  95014   ONE INFINITE LOOP  None  (408) 996-1010        US     CA  CUPERTINO  95014   ONE INFINITE LOOP  None         US      CA  942404110.0  APPLE COMPUTER INC  19970808.0  1-LAF     1  0930  10-K  20130930  2013.0  FY  20131030  2013-10-29 20:38:00.0        0       1         aapl-20130928.xml      1  None\n",
      "10  0001193125-12-444068  320193  APPLE INC  3571.0        US     CA  CUPERTINO  95014   ONE INFINITE LOOP  None  (408) 996-1010        US     CA  CUPERTINO  95014   ONE INFINITE LOOP  None         US      CA  942404110.0  APPLE COMPUTER INC  19970808.0  1-LAF     1  0930  10-K  20120930  2012.0  FY  20121031  2012-10-31 17:07:00.0        0       1         aapl-20120929.xml      1  None\n",
      "11  0001193125-11-282113  320193  APPLE INC  3571.0        US     CA  CUPERTINO  95014   ONE INFINITE LOOP  None  (408) 996-1010        US     CA  CUPERTINO  95014   ONE INFINITE LOOP  None         US      CA  942404110.0  APPLE COMPUTER INC  19970808.0  1-LAF     1  0930  10-K  20110930  2011.0  FY  20111026  2011-10-26 16:35:00.0        0       1         aapl-20110924.xml      1  None\n",
      "12  0001193125-10-238044  320193  APPLE INC  3571.0        US     CA  CUPERTINO  95014   ONE INFINITE LOOP  None  (408) 996-1010        US     CA  CUPERTINO  95014   ONE INFINITE LOOP  None         US      CA  942404110.0  APPLE COMPUTER INC  19970808.0  1-LAF     1  0930  10-K  20100930  2010.0  FY  20101027  2010-10-27 16:36:00.0        0       1         aapl-20100925.xml      1  None\n",
      "13  0001193125-09-214859  320193  APPLE INC  3571.0        US     CA  CUPERTINO  95014     1 INFINITE LOOP  None      4089961010        US     CA  CUPERTINO  95014   ONE INFINITE LOOP  None         US      CA  942404110.0  APPLE COMPUTER INC  19970808.0  1-LAF     1  0930  10-K  20090930  2009.0  FY  20091027  2009-10-27 16:18:00.0        1       0         aapl-20090926.xml      1  None\n",
      "(2246, 10)\n",
      "(7925, 9)\n"
     ]
    }
   ],
   "source": [
    "from secfsdstools.e_collector.companycollecting import CompanyReportCollector\n",
    "\n",
    "apple_cik = 320193\n",
    "# load the data for all 10-K (annual) reports of apple\n",
    "collector = CompanyReportCollector.get_company_collector(ciks=[apple_cik],\n",
    "                                                         forms_filter=[\"10-K\"])\n",
    "\n",
    "rawdatabag = collector.collect()\n",
    "\n",
    "# all filed 10-K reports for apple since 2010 are in the databag\n",
    "print(rawdatabag.sub_df)\n",
    "\n",
    "print(rawdatabag.pre_df.shape)\n",
    "print(rawdatabag.num_df.shape) "
   ]
  },
  {
   "cell_type": "markdown",
   "id": "5bc8536b-c775-48a2-8c58-159d569e5acf",
   "metadata": {},
   "source": [
    "## Raw Processing: working with the raw data\n",
    "When the `collect` method of a `Collector` class is called, the data for the sub, pre, and num dataframes are loaded\n",
    "and being stored in the sub_df, pre_df, and num_df attributes inside an instance of `RawDataBag`.\n",
    "\n",
    "The `RawDataBag` provides the following methods:\n",
    "* `save`, `load`<br> The content of a `RawDataBag` can be saved into a directory. Within that directory, \n",
    "   parquet files are stored for the content of the sub_df, pre_df, and num_df. In order to load this \n",
    "   data directly, the static method `RawDataBag.load()` can be used.\n",
    "* `concat`<br> Several instances of a `RawDataBag` can be concatenated in one single instance. In order to do \n",
    "   that, the static method `RawDataBag.concat()` takes a list of RawDataBag as parameter.\n",
    "* `join` <br> This method produces a `JoinedRawDataBag` by joining the content of the pre_df and num_df\n",
    "   based on the columns adsh, tag, and version. It is an inner join. The joined dataframe appears as pre_num_df in\n",
    "   the `JoinedRawDataBag`.\n",
    "* `filter` <br> The filter method takes a parameter of the type `FilterRaw`, applies it to the data and\n",
    "   produces a new instance of `RawDataBag` with the filtered data. Therefore, filters can also be chained like\n",
    "   `a_filtered_RawDataBag = a_RawDataBag.filter(filter1).filter(filter2)`. Moreover, the `__get__item` method\n",
    "   is forwarded to the filter method, so you can also write `a_filtered_RawDataBag = a_RawDataBag[filter1][filter2]`.\n",
    "\n",
    "It is simple to write your own filters, just get some inspiration from the once that are already present in the\n",
    "Framework (module `secfsdstools.e_filter.rawfiltering`:\n",
    "\n",
    "* `AdshRawFilter` <br> Filters the `RawDataBag` instance based on the list of adshs that were provided in the constructor. <br>\n",
    "   ````\n",
    "   a_filtered_RawDataBag = a_RawDataBag.filter(AdshRawFilter(adshs=['0001193125-09-214859', '0001193125-10-238044']))\n",
    "   ````\n",
    "* `StmtRawFilter` <br> Filters the `RawDataBag`instance based on the list of statements ('BS', 'CF', 'IS', ...). <br>\n",
    "   ````\n",
    "   a_filtered_RawDataBag = a_RawDataBag.filter(StmtRawFilter(stmts=['BS', 'IS']))\n",
    "   ````\n",
    "* `TagRawFilter` <br> Filters the `RawDataBag`instance based on the list of tags that is provided. <br>\n",
    "   ````\n",
    "   a_filtered_RawDataBag = a_RawDataBag.filter(TagRawFilter(tags=['Assets', 'Liabilities']))\n",
    "   ````\n",
    "* `MainCoregFilter` <br> Filters the `RawDataBag` so that data of subsidiaries are removed.\n",
    "   ````\n",
    "   a_filtered_RawDataBag = a_RawDataBag.filter(MainCoregFilter()) \n",
    "   ````\n",
    "* `ReportPeriodAndPreviousPeriodRawFilter` <br> The data of a report usually also contains data from previous years.\n",
    "  However, often you want just to analyze the data of the current and the previous year. This filter ensures that\n",
    "  only data for the current period and the previous period are contained in the data.\n",
    "   ````\n",
    "   a_filtered_RawDataBag = a_RawDataBag.filter(ReportPeriodAndPreviousPeriodRawFilter()) \n",
    "   ````\n",
    "* `ReportPeriodRawFilter` <br> If you are just interested only in the data of a report that is from the current period\n",
    "  of the report then you can use this filter. For instance, if you use a `CompanyReportCollector` to collect all\n",
    "  10-K reports of this company, you want to ensure that every report only contains data for its period and not for\n",
    "  previous periods.\n",
    "   ````\n",
    "   a_filtered_RawDataBag = a_RawDataBag.filter(ReportPeriodRawFilter()) \n",
    "   ````\n"
   ]
  },
  {
   "cell_type": "markdown",
   "id": "07abdfe1-96d0-4479-9cf4-e4db6b5f16e0",
   "metadata": {},
   "source": [
    "## Joined Processing: working with joined data\n",
    "When the `join` method of a `RawDataBag` instance is called an instance of `JoinedDataBag` is returned. The returned\n",
    "instance contains an attribute sub_df, which is a reference to the same sub_df that is in the `RawDataBag`.\n",
    "In addition to that, the `JoinedDataBag` contains an attribut pre_num_df, which is an inner join of the pre_df and \n",
    "the num_df based on the columns adsh, tag, and version. Note that an entry in the pre_df can be joined with more than \n",
    "one entry in the num_df.\n",
    "\n",
    "The `JoinedDataBag` provides the following methods:\n",
    "* `save`, `load`<br> The content of a `JoinedDataBag` can be saved into a directory. Within that directory,\n",
    "  parquet files are stored for the content of the sub_df, pre_df, and num_df. In order to load this\n",
    "  data directly, the static method `JoinedDataBag.save()` can be used.\n",
    "* `concat`<br> Several instances of a `JoinedDataBag` can be concatenated in one single instance. In order to do\n",
    "  that, the static method `JoinedDataBag.concat()` takes a list of RawDataBag as parameter.\n",
    "* `filter` <br> The filter method takes a parameter of the type `FilterJoined`, applies it to the data and\n",
    "  produces a new instance of `JoinedDataBag` with the filtered data. Therefore, filters can also be chained like\n",
    "  `a_filtered_JoinedDataBag = a_JoinedDataBag.filter(filter1).filter(filter2)`. Moreover, the `__get__item` method\n",
    "  is forwarded to the filter method, so you can also write `a_filtered_JoinedDataBag = a_JoinedDataBag[filter1][filter2]`.\n",
    "  **Note**: There aren't any filters for the JoinedDataBag in the framework yet. However, you can write them in the same\n",
    "  way as a filter for a `RawDataBag` is being written.\n",
    "* `present` <br> The idea of the present method is to make a final presentation of the data as pandas dataframe. \n",
    "  The method has a parameter presenter of type Presenter."
   ]
  },
  {
   "cell_type": "markdown",
   "id": "c308f46f-0d34-4595-9c04-74798f3b2021",
   "metadata": {},
   "source": [
    "## Present\n",
    "It is simple to writer your own presenter classes. So far, the framework provides the following Presenter \n",
    "implementations (module `secfsdstools.e_presenter.presenting`):\n",
    "\n",
    "* `StandardStatementPresenter` <br> This presenter provides the data in the same form, as you are used to see in\n",
    "  the reports itself. For instance, the primary financial statements balance sheet, income statement, and cash flow\n",
    "  display the different positions in rows and the columns contain the different dates/periods of the data.\n",
    "  Let us say you want to recreate the BS information of the apples 10-K report of 2022, you would write:\n",
    " "
   ]
  },
  {
   "cell_type": "code",
   "execution_count": 15,
   "id": "03cc9462-4bb1-4b6b-89b6-746c7a215dfb",
   "metadata": {
    "tags": []
   },
   "outputs": [
    {
     "name": "stderr",
     "output_type": "stream",
     "text": [
      "2023-09-18 20:01:37,714 [INFO] configmgt  reading configuration from C:\\Users\\hansj\\.secfsdstools.cfg\n"
     ]
    },
    {
     "name": "stdout",
     "output_type": "stream",
     "text": [
      "                    adsh coreg                                              tag       version stmt  report  line     uom  negating  inpth      20210930      20220930\n",
      "0   0000320193-22-000108                  CashAndCashEquivalentsAtCarryingValue  us-gaap/2022   BS       5     3     USD         0      0  3.494000e+10  2.364600e+10\n",
      "1   0000320193-22-000108                            MarketableSecuritiesCurrent  us-gaap/2022   BS       5     4     USD         0      0  2.769900e+10  2.465800e+10\n",
      "2   0000320193-22-000108                           AccountsReceivableNetCurrent  us-gaap/2022   BS       5     5     USD         0      0  2.627800e+10  2.818400e+10\n",
      "3   0000320193-22-000108                                           InventoryNet  us-gaap/2022   BS       5     6     USD         0      0  6.580000e+09  4.946000e+09\n",
      "4   0000320193-22-000108                             NontradeReceivablesCurrent  us-gaap/2022   BS       5     7     USD         0      0  2.522800e+10  3.274800e+10\n",
      "5   0000320193-22-000108                                     OtherAssetsCurrent  us-gaap/2022   BS       5     8     USD         0      0  1.411100e+10  2.122300e+10\n",
      "6   0000320193-22-000108                                          AssetsCurrent  us-gaap/2022   BS       5     9     USD         0      0  1.348360e+11  1.354050e+11\n",
      "7   0000320193-22-000108                         MarketableSecuritiesNoncurrent  us-gaap/2022   BS       5    11     USD         0      0  1.278770e+11  1.208050e+11\n",
      "8   0000320193-22-000108                           PropertyPlantAndEquipmentNet  us-gaap/2022   BS       5    12     USD         0      0  3.944000e+10  4.211700e+10\n",
      "9   0000320193-22-000108                                  OtherAssetsNoncurrent  us-gaap/2022   BS       5    13     USD         0      0  4.884900e+10  5.442800e+10\n",
      "10  0000320193-22-000108                                       AssetsNoncurrent  us-gaap/2022   BS       5    14     USD         0      0  2.161660e+11  2.173500e+11\n",
      "11  0000320193-22-000108                                                 Assets  us-gaap/2022   BS       5    15     USD         0      0  3.510020e+11  3.527550e+11\n",
      "12  0000320193-22-000108                                 AccountsPayableCurrent  us-gaap/2022   BS       5    18     USD         0      0  5.476300e+10  6.411500e+10\n",
      "13  0000320193-22-000108                                OtherLiabilitiesCurrent  us-gaap/2022   BS       5    19     USD         0      0  4.749300e+10  6.084500e+10\n",
      "14  0000320193-22-000108                   ContractWithCustomerLiabilityCurrent  us-gaap/2022   BS       5    20     USD         0      0  7.612000e+09  7.912000e+09\n",
      "15  0000320193-22-000108                                        CommercialPaper  us-gaap/2022   BS       5    21     USD         0      0  6.000000e+09  9.982000e+09\n",
      "16  0000320193-22-000108                                    LongTermDebtCurrent  us-gaap/2022   BS       5    22     USD         0      0  9.613000e+09  1.112800e+10\n",
      "17  0000320193-22-000108                                     LiabilitiesCurrent  us-gaap/2022   BS       5    23     USD         0      0  1.254810e+11  1.539820e+11\n",
      "18  0000320193-22-000108                                 LongTermDebtNoncurrent  us-gaap/2022   BS       5    25     USD         0      0  1.091060e+11  9.895900e+10\n",
      "19  0000320193-22-000108                             OtherLiabilitiesNoncurrent  us-gaap/2022   BS       5    26     USD         0      0  5.332500e+10  4.914200e+10\n",
      "20  0000320193-22-000108                                  LiabilitiesNoncurrent  us-gaap/2022   BS       5    27     USD         0      0  1.624310e+11  1.481010e+11\n",
      "21  0000320193-22-000108                                            Liabilities  us-gaap/2022   BS       5    28     USD         0      0  2.879120e+11  3.020830e+11\n",
      "22  0000320193-22-000108           CommonStocksIncludingAdditionalPaidInCapital  us-gaap/2022   BS       5    31     USD         0      0  5.736500e+10  6.484900e+10\n",
      "23  0000320193-22-000108                     RetainedEarningsAccumulatedDeficit  us-gaap/2022   BS       5    32     USD         0      0  5.562000e+09 -3.068000e+09\n",
      "24  0000320193-22-000108        AccumulatedOtherComprehensiveIncomeLossNetOfTax  us-gaap/2022   BS       5    33     USD         0      0  1.630000e+08 -1.110900e+10\n",
      "25  0000320193-22-000108                                     StockholdersEquity  us-gaap/2022   BS       5    34     USD         0      0  6.309000e+10  5.067200e+10\n",
      "26  0000320193-22-000108                       LiabilitiesAndStockholdersEquity  us-gaap/2022   BS       5    35     USD         0      0  3.510020e+11  3.527550e+11\n",
      "27  0000320193-22-000108                    CommonStockParOrStatedValuePerShare  us-gaap/2022   BS       6     1     USD         0      1  0.000000e+00  0.000000e+00\n",
      "28  0000320193-22-000108                            CommonStockSharesAuthorized  us-gaap/2022   BS       6     2  shares         0      1  5.040000e+10  5.040000e+10\n",
      "29  0000320193-22-000108                                CommonStockSharesIssued  us-gaap/2022   BS       6     3  shares         0      1  1.642679e+10  1.594342e+10\n",
      "30  0000320193-22-000108                           CommonStockSharesOutstanding  us-gaap/2022   BS       6     4  shares         0      1  1.642679e+10  1.594342e+10\n"
     ]
    }
   ],
   "source": [
    "from secfsdstools.e_collector.reportcollecting import SingleReportCollector\n",
    "from secfsdstools.e_filter.rawfiltering import ReportPeriodAndPreviousPeriodRawFilter\n",
    "from secfsdstools.e_presenter.presenting import StandardStatementPresenter\n",
    "\n",
    "apple_10k_2022_adsh = \"0000320193-22-000108\"\n",
    "\n",
    "collector: SingleReportCollector = SingleReportCollector.get_report_by_adsh(\n",
    "    adsh=apple_10k_2022_adsh,\n",
    "    stmt_filter=[\"BS\"]\n",
    ")\n",
    "rawdatabag = collector.collect()\n",
    "bs_df = (rawdatabag.filter(ReportPeriodAndPreviousPeriodRawFilter())\n",
    "                .join()\n",
    "                .present(StandardStatementPresenter()))\n",
    "print(bs_df) "
   ]
  },
  {
   "cell_type": "markdown",
   "id": "e39cd5f9-ace5-4ab4-ba80-01411bfcc23f",
   "metadata": {},
   "source": [
    " If you compare this with the real report at https://www.sec.gov/ix?doc=/Archives/edgar/data/320193/000032019322000108/aapl-20220924.htm\n",
    "  you will notice, that order of the tags and the values are the same."
   ]
  },
  {
   "cell_type": "markdown",
   "id": "a16bfa5f-e965-464e-9479-4017e1745b88",
   "metadata": {},
   "source": [
    "## What to do next\n",
    "Definitely checkout the notebook \"03_explore_with_interactive_notebook.ipynb\" which shows some example on how the data can be explored in an interactive way in Jupyter."
   ]
  },
  {
   "cell_type": "code",
   "execution_count": null,
   "id": "0d75badc-c80b-4dae-ac87-5de378c61fb2",
   "metadata": {},
   "outputs": [],
   "source": []
  }
 ],
 "metadata": {
  "kernelspec": {
   "display_name": "Python 3 (ipykernel)",
   "language": "python",
   "name": "python3"
  },
  "language_info": {
   "codemirror_mode": {
    "name": "ipython",
    "version": 3
   },
   "file_extension": ".py",
   "mimetype": "text/x-python",
   "name": "python",
   "nbconvert_exporter": "python",
   "pygments_lexer": "ipython3",
   "version": "3.10.0"
  }
 },
 "nbformat": 4,
 "nbformat_minor": 5
}
