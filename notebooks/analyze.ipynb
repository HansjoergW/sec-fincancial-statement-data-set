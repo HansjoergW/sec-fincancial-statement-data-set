{
 "cells": [
  {
   "cell_type": "code",
   "execution_count": 1,
   "id": "f99931d8-6800-40fb-b5f0-636de0eee3a6",
   "metadata": {
    "tags": []
   },
   "outputs": [],
   "source": [
    "data_dir = \"bs_10k_10q_all_joined\""
   ]
  },
  {
   "cell_type": "code",
   "execution_count": 2,
   "id": "9dac5d73-608a-4a10-bd4d-20826fa195d6",
   "metadata": {
    "tags": []
   },
   "outputs": [],
   "source": [
    "# Basic import to support interactive widgets in notebooks\n",
    "import ipywidgets as widgets\n",
    "from IPython.display import display, Markdown\n",
    "from ipywidgets import interact, interact_manual\n",
    "\n",
    "import pandas as pd\n",
    "pd.set_option('display.max_rows', 500) # ensure that all rows are shown"
   ]
  },
  {
   "cell_type": "code",
   "execution_count": 3,
   "id": "fdcf62d3-23e4-4c88-b6dc-4613e1f26065",
   "metadata": {
    "tags": []
   },
   "outputs": [],
   "source": [
    "# imports from the secfsdstools package\n",
    "from secfsdstools.c_index.searching import IndexSearch\n",
    "from secfsdstools.c_index.companyindexreading import CompanyIndexReader\n",
    "from secfsdstools.e_collector.reportcollecting import SingleReportCollector\n",
    "from secfsdstools.d_container.databagmodel import JoinedDataBag\n",
    "from secfsdstools.e_filter.rawfiltering import ReportPeriodRawFilter, StmtRawFilter\n",
    "from secfsdstools.e_presenter.presenting import StandardStatementPresenter\n",
    "from secfsdstools.c_index.indexing import BaseReportIndexer"
   ]
  },
  {
   "cell_type": "code",
   "execution_count": 4,
   "id": "ac3ed352-b5bd-441a-bdae-f2458c28866b",
   "metadata": {
    "tags": []
   },
   "outputs": [
    {
     "name": "stderr",
     "output_type": "stream",
     "text": [
      "2023-11-24 09:33:53,888 [INFO] configmgt  reading configuration from C:\\Users\\hansj\\.secfsdstools.cfg\n",
      "2023-11-24 09:33:53,926 [INFO] updateprocess  Check if new report zip files are available...\n",
      "2023-11-24 09:33:53,970 [INFO] updateprocess  check if there are new files to download from sec.gov ...\n",
      "2023-11-24 09:33:54,779 [INFO] updateprocess  start to transform to parquet format ...\n",
      "2023-11-24 09:33:54,779 [INFO] updateprocess  start to index parquet files ...\n"
     ]
    },
    {
     "name": "stdout",
     "output_type": "stream",
     "text": [
      "No rapid-api-key is set: \n",
      "If you are interested in daily updates, please have a look at https://rapidapi.com/hansjoerg.wingeier/api/daily-sec-financial-statement-dataset\n"
     ]
    }
   ],
   "source": [
    "# initialize the search class\n",
    "search = IndexSearch.get_index_search()\n",
    "\n",
    "# create a list with all known forms\n",
    "forms_list = sorted(search.dbaccessor.read_all_indexreports_df().form.unique().tolist())\n",
    "stmt_list = ['BS', 'CF', 'CI', 'CP', 'EQ', 'IS', 'SI', 'UN']"
   ]
  },
  {
   "cell_type": "code",
   "execution_count": 15,
   "id": "1c3d699f-ca4a-492b-8d34-0d4130d594ab",
   "metadata": {
    "tags": []
   },
   "outputs": [],
   "source": [
    "from secfsdstools.e_filter.joinedfiltering import USDonlyFilter as USDonlyJoined\n",
    "bs_bag = JoinedDataBag.load(data_dir)[USDonlyJoined()]"
   ]
  },
  {
   "cell_type": "code",
   "execution_count": 24,
   "id": "14bd8452-1ffa-45f6-b365-0a25d0a73b3d",
   "metadata": {
    "tags": []
   },
   "outputs": [
    {
     "data": {
      "text/html": [
       "<div>\n",
       "<style scoped>\n",
       "    .dataframe tbody tr th:only-of-type {\n",
       "        vertical-align: middle;\n",
       "    }\n",
       "\n",
       "    .dataframe tbody tr th {\n",
       "        vertical-align: top;\n",
       "    }\n",
       "\n",
       "    .dataframe thead th {\n",
       "        text-align: right;\n",
       "    }\n",
       "</style>\n",
       "<table border=\"1\" class=\"dataframe\">\n",
       "  <thead>\n",
       "    <tr style=\"text-align: right;\">\n",
       "      <th></th>\n",
       "      <th></th>\n",
       "      <th></th>\n",
       "      <th></th>\n",
       "      <th></th>\n",
       "      <th>tag</th>\n",
       "    </tr>\n",
       "    <tr>\n",
       "      <th>adsh</th>\n",
       "      <th>coreg</th>\n",
       "      <th>report</th>\n",
       "      <th>ddate</th>\n",
       "      <th>uom</th>\n",
       "      <th></th>\n",
       "    </tr>\n",
       "  </thead>\n",
       "  <tbody>\n",
       "    <tr>\n",
       "      <th>0000003499-11-000024</th>\n",
       "      <th></th>\n",
       "      <th>2</th>\n",
       "      <th>20110630</th>\n",
       "      <th>USD</th>\n",
       "      <td>2</td>\n",
       "    </tr>\n",
       "    <tr>\n",
       "      <th>0000003499-12-000005</th>\n",
       "      <th></th>\n",
       "      <th>2</th>\n",
       "      <th>20111231</th>\n",
       "      <th>USD</th>\n",
       "      <td>2</td>\n",
       "    </tr>\n",
       "    <tr>\n",
       "      <th>0000003499-12-000011</th>\n",
       "      <th></th>\n",
       "      <th>2</th>\n",
       "      <th>20120331</th>\n",
       "      <th>USD</th>\n",
       "      <td>2</td>\n",
       "    </tr>\n",
       "    <tr>\n",
       "      <th>0000003499-12-000020</th>\n",
       "      <th></th>\n",
       "      <th>2</th>\n",
       "      <th>20120930</th>\n",
       "      <th>USD</th>\n",
       "      <td>2</td>\n",
       "    </tr>\n",
       "    <tr>\n",
       "      <th>0000003499-13-000006</th>\n",
       "      <th></th>\n",
       "      <th>2</th>\n",
       "      <th>20121231</th>\n",
       "      <th>USD</th>\n",
       "      <td>2</td>\n",
       "    </tr>\n",
       "    <tr>\n",
       "      <th>...</th>\n",
       "      <th>...</th>\n",
       "      <th>...</th>\n",
       "      <th>...</th>\n",
       "      <th>...</th>\n",
       "      <td>...</td>\n",
       "    </tr>\n",
       "    <tr>\n",
       "      <th>0001883685-22-000026</th>\n",
       "      <th></th>\n",
       "      <th>2</th>\n",
       "      <th>20220630</th>\n",
       "      <th>USD</th>\n",
       "      <td>2</td>\n",
       "    </tr>\n",
       "    <tr>\n",
       "      <th>0001883685-22-000036</th>\n",
       "      <th></th>\n",
       "      <th>2</th>\n",
       "      <th>20220930</th>\n",
       "      <th>USD</th>\n",
       "      <td>2</td>\n",
       "    </tr>\n",
       "    <tr>\n",
       "      <th>0001883685-23-000013</th>\n",
       "      <th></th>\n",
       "      <th>3</th>\n",
       "      <th>20221231</th>\n",
       "      <th>USD</th>\n",
       "      <td>2</td>\n",
       "    </tr>\n",
       "    <tr>\n",
       "      <th>0001883685-23-000025</th>\n",
       "      <th></th>\n",
       "      <th>2</th>\n",
       "      <th>20230331</th>\n",
       "      <th>USD</th>\n",
       "      <td>2</td>\n",
       "    </tr>\n",
       "    <tr>\n",
       "      <th>0001964333-23-000140</th>\n",
       "      <th></th>\n",
       "      <th>2</th>\n",
       "      <th>20230331</th>\n",
       "      <th>USD</th>\n",
       "      <td>2</td>\n",
       "    </tr>\n",
       "  </tbody>\n",
       "</table>\n",
       "<p>39825 rows × 1 columns</p>\n",
       "</div>"
      ],
      "text/plain": [
       "                                                tag\n",
       "adsh                 coreg report ddate    uom     \n",
       "0000003499-11-000024       2      20110630 USD    2\n",
       "0000003499-12-000005       2      20111231 USD    2\n",
       "0000003499-12-000011       2      20120331 USD    2\n",
       "0000003499-12-000020       2      20120930 USD    2\n",
       "0000003499-13-000006       2      20121231 USD    2\n",
       "...                                             ...\n",
       "0001883685-22-000026       2      20220630 USD    2\n",
       "0001883685-22-000036       2      20220930 USD    2\n",
       "0001883685-23-000013       3      20221231 USD    2\n",
       "0001883685-23-000025       2      20230331 USD    2\n",
       "0001964333-23-000140       2      20230331 USD    2\n",
       "\n",
       "[39825 rows x 1 columns]"
      ]
     },
     "execution_count": 24,
     "metadata": {},
     "output_type": "execute_result"
    }
   ],
   "source": [
    "filtered = bs_bag.pre_num_df[bs_bag.pre_num_df.tag.isin(['AdditionalPaidInCapital','TreasuryStockValue'])]\n",
    "counted = filtered[['adsh', 'coreg', 'report', 'ddate', 'uom', 'tag']].groupby(['adsh', 'coreg', 'report', 'ddate', 'uom']).count()\n",
    "counted[counted.tag > 1]"
   ]
  },
  {
   "cell_type": "code",
   "execution_count": 23,
   "id": "59f3f4af-300b-46e9-9361-26ecd7b67c9f",
   "metadata": {
    "tags": []
   },
   "outputs": [
    {
     "data": {
      "text/plain": [
       "AdditionalPaidInCapital    155555\n",
       "TreasuryStockValue          87692\n",
       "ContributedCapital             43\n",
       "PreferredStock                 38\n",
       "CommonStock                    26\n",
       "Name: tag, dtype: int64"
      ]
     },
     "execution_count": 23,
     "metadata": {},
     "output_type": "execute_result"
    }
   ],
   "source": [
    "bs_bag.pre_num_df[bs_bag.pre_num_df.tag.isin([\"CommonStock\",\"PreferredStock\",\"AdditionalPaidInCapital\",\"TreasuryStockValue\",\"ContributedCapital\"])].tag.value_counts()"
   ]
  },
  {
   "cell_type": "code",
   "execution_count": 18,
   "id": "c9eedb99-21ae-4163-b61b-f10897908635",
   "metadata": {
    "tags": []
   },
   "outputs": [
    {
     "data": {
      "text/plain": [
       "RetainedEarningsAccumulatedDeficit    277399\n",
       "RetainedEarningsUnappropriated          2689\n",
       "RetainedEarningsAppropriated            2158\n",
       "RetainedEarnings                          68\n",
       "Name: tag, dtype: int64"
      ]
     },
     "execution_count": 18,
     "metadata": {},
     "output_type": "execute_result"
    }
   ],
   "source": [
    "bs_bag.pre_num_df[bs_bag.pre_num_df.tag.isin(['RetainedEarningsAppropriated', 'RetainedEarningsUnappropriated','RetainedEarnings', 'RetainedEarningsAccumulatedDeficit'])].tag.value_counts()"
   ]
  },
  {
   "cell_type": "code",
   "execution_count": 21,
   "id": "e6c69e21-05f2-4047-84a8-20fd79697f83",
   "metadata": {
    "tags": []
   },
   "outputs": [
    {
     "data": {
      "text/plain": [
       "['PreferredStockIncludingAdditionalPaidInCapitalNetOfDiscount',\n",
       " 'CommonStocksIncludingAdditionalPaidInCapital',\n",
       " 'CommonStocksIncludingAdditionalPaidInCapitalNetOfDiscount',\n",
       " 'AdditionalPaidInCapital',\n",
       " 'AdditionalPaidInCapitalCommonStock',\n",
       " 'AdditionalPaidInCapitalPreferredStock',\n",
       " 'TemporaryEquityValueExcludingAdditionalPaidInCapital',\n",
       " 'PostconfirmationAdditionalPaidInCapital',\n",
       " 'PreferredStockIncludingAdditionalPaidInCapital',\n",
       " 'AdditionalPaidInCapitalCommonStockAndOther',\n",
       " 'AdditionalPaidInCapitalWarrants',\n",
       " 'AdditionalPaidInCapitalStockWarrants',\n",
       " 'AdditionalPaidInCapitalRelatedParty',\n",
       " 'AdditionalPaidInCapitalCommonStockNetOfAdjustments',\n",
       " 'AdditionalPaidInCapitalAndAccumulatedDeficitCommonStock',\n",
       " 'AccumulatedDeficitReclassifiedToAdditionalPaidInCapitalInQuasiReorganization',\n",
       " 'CommonStockIncludingAdditionalPaidInCapital',\n",
       " 'PaidInCapitalGeneralUnits',\n",
       " 'PaidInCapitalLimitedUnits',\n",
       " 'AdditionalPaidInCapitalCommonStockAndDeferredCompensationEquity',\n",
       " 'TotalPaidInCapitalAndRetainedEarningsDeficit',\n",
       " 'AdditionalPaidInCapitalOptions',\n",
       " 'SeniorPaidInKindNotesFairValue',\n",
       " 'AdditionalPaidInCapitalStockOptions',\n",
       " 'AdditionalPaidInCapitalDebtDiscountPortionOfConvertibleNote',\n",
       " 'PaidInCapital',\n",
       " 'AdditionalPaidInCapitalCommonStockWarrants',\n",
       " 'AdditionalPaidInCapitalwarrants',\n",
       " 'AdditionalPaidInCapitalStockIssuedDuringPeriodValueNewIssues',\n",
       " 'AccruedPaidInKindInterest',\n",
       " 'IncomeTaxPaidInAdvance',\n",
       " 'AdjustmentsToAdditionalPaidInCapitalOther',\n",
       " 'AdjustmentsToAdditionalPaidInCapitalSharebasedCompensationRequisiteServicePeriodRecognitionValue',\n",
       " 'AdjustmentsToAdditionalPaidInCapitalStockIssuedIssuanceCosts',\n",
       " 'NoncontrollingInterestAdditionalPaidInCapital',\n",
       " 'AdjustmentsToAdditionalPaidInCapitalForStockIssuanceCosts',\n",
       " 'UnearnedRevenuePaidInStock',\n",
       " 'PaidInCapitalAtParCommonStock',\n",
       " 'PaidInCapitalAtParPreferredStock',\n",
       " 'PrepaidServicesPaidInCommonStock',\n",
       " 'AdditionalPaidInCapitalStockholderReceivable',\n",
       " 'PaidInCapitalCommonStockWarrants',\n",
       " 'AdditionalPaidInCapitalExpiredOptions',\n",
       " 'AdditionalPaidInCapitalLTIPUnits',\n",
       " 'AccumulatedOfferingCostsNettedFromAdditionalPaidInCapital',\n",
       " 'PaidInKindNotesPayable',\n",
       " 'OfferingCostsIncludedAsReductionToAdditionalPaidInCapital',\n",
       " 'PaidInCapitalOptions',\n",
       " 'AdditionalPaidInCapitalNonControllingInterest',\n",
       " 'CommonStockValueIssuedAndAdditionalPaidInCapitalCommonStock',\n",
       " 'AdditionalPaidInCapitalCommonStockPreferredStockDeficit',\n",
       " 'PaidInKindNotePayable',\n",
       " 'AmountOfDeficitReclassifiedToAdditionalPaidInCapitalDueToQuasiReorganization',\n",
       " 'CommonStockIncludingAdditionalPaidInCapitalNetOfDiscount',\n",
       " 'AdditionalPaidInCapitalTreasuryStock',\n",
       " 'DevelopmentalStageEnterprisePaidInCapital',\n",
       " 'AdditionalPaidInCapitalStockToBeIssued',\n",
       " 'AdditionalPaidInCapitalSeriesAPreferred',\n",
       " 'AdditionalPaidInCapitalWarrantsToClassAPreferred',\n",
       " 'OfferingCostsOfAdditionalPaidInCapital',\n",
       " 'UnearnedRevenuePaidInCash',\n",
       " 'AdditionalPaidInCapitalExpiredOptionsWarrants',\n",
       " 'PaidInCapitalCommonStockClassA',\n",
       " 'PaidInCapitalCommonStockClassB',\n",
       " 'PaidInCapitalCommonStockClassC',\n",
       " 'PaidInCapitalCommonStockClassD',\n",
       " 'PaidInCapitalPreferredStock',\n",
       " 'StockholdersEquityAndAdditionalPaidInCapital',\n",
       " 'AdditionalPaidInCapitalPreferredToStock',\n",
       " 'AdditionalPaidInCapitalPreferredStockSeriesD',\n",
       " 'AdditionalPaidInCapitalPreferredStockSeriesE',\n",
       " 'CommonStockAndPaidInCapital',\n",
       " 'PreferredStockAndPaidInCapital',\n",
       " 'AdditionalPaidInCapitalIncludingPreferenceStock',\n",
       " 'CapitalStockAndAdditionalPaidInCapital',\n",
       " 'CommonStockAndAdditionalPaidInCapital',\n",
       " 'AdjustmentsToAdditionalPaidInCapitalDividendsInExcessOfRetainedEarnings',\n",
       " 'AdditionalPaidInCapitalCommonStocks',\n",
       " 'PaidInCapitalSharesToBeIssued',\n",
       " 'AdditionalPaidInCapitalCommonStockAndLimitedLiabilityCompanyMemberInterest',\n",
       " 'AddPaidInCap',\n",
       " 'AdditionalPaidInCapitalCommon',\n",
       " 'WarrantsAdditionalPaidInCapital',\n",
       " 'CommonStockSubscribedPaidInFullSharesUnissued',\n",
       " 'SeriesAPreferredStockSubscribedPaidInFullSharesUnissued',\n",
       " 'CommonAndClassBCommonStockAndAdditionalPaidInCapital',\n",
       " 'AdditionalPaidInCapitals',\n",
       " 'CashCollateralPaidInSupportOfEnergyRiskManagementActivities',\n",
       " 'AdditionalPaidInCapitalAndAccumulatedDistributionsInExcessOfNetIncome',\n",
       " 'InvestmentInUnderlyingFundsPaidInAdvance',\n",
       " 'AdditionalPaidInCapitalAndDistributionsInExcessOfCapital',\n",
       " 'AdditionalPaidInCapitalBenefitConversionFeatureOnConvertibleNotes',\n",
       " 'PaidInKindDividendsNoncurrent',\n",
       " 'DividendsCommonStockPaidInKindPercent',\n",
       " 'RedeemableConvertiblePreferredStockValueExcludingAdditionalPaidInCapital',\n",
       " 'AdditionalPaidInCapitalAndAccumulatedOtherComprehensiveIncome',\n",
       " 'CommonStockAtPaidInAmount',\n",
       " 'OfferingCostAdditionalPaidInCapital',\n",
       " 'PaidInCapitalAtParCommonStock1',\n",
       " 'AdditionalPaidInCapitalSharesToBeIssued',\n",
       " 'AdditionalPaidInCapitalBeneficialConversionFeature',\n",
       " 'TemporaryEquityValueIncludingAdditionalPaidInCapital',\n",
       " 'TotalCommonStockPaidInAdditionalCapitalAndRetainedEarnings',\n",
       " 'AdditionalPaidInCapitalUnitholdersEquityLimitedUnits',\n",
       " 'AdditionalPaidInCapital1',\n",
       " 'AdditionalPaidInCapitalSeriesBPreferredStock',\n",
       " 'CommonStockValueAndAdditionalPaidInCapital',\n",
       " 'CommonStockIncludingAdditionalPaidInCapitalNoParValue',\n",
       " 'AdditionalPaidIncapitalShares',\n",
       " 'AdditionalPaidInCapitalBcf',\n",
       " 'AdditionalPaidInCapitalNonbControllingInterest',\n",
       " 'PaidInCapitalAtParPreferredStock1',\n",
       " 'AdditionalPaidInCapitalAndAccumulatedDeficit',\n",
       " 'AdditionalPaidInCapitalAndOther',\n",
       " 'PaidInAdvanceAndUnprocessedPremiums',\n",
       " 'CommonStockAndAdditionalPaidInCapitalValue',\n",
       " 'AdditionalPaidInCapitalWarrant',\n",
       " 'CommonStockWarrantsAndAdditionalPaidInCapital',\n",
       " 'DividendsPaidInExcessOfEarnings',\n",
       " 'PaidInKindNoteReceivable',\n",
       " 'AdditionalPaidInCapitalInDeficiency']"
      ]
     },
     "execution_count": 21,
     "metadata": {},
     "output_type": "execute_result"
    }
   ],
   "source": [
    "# list all tags containing a certain string\n",
    "[x for x in bs_bag.pre_num_df.tag.unique().tolist() if \"PaidIn\" in str(x)]"
   ]
  },
  {
   "cell_type": "code",
   "execution_count": null,
   "id": "61a79285-ad09-444f-8612-af7649e55c13",
   "metadata": {},
   "outputs": [],
   "source": []
  }
 ],
 "metadata": {
  "kernelspec": {
   "display_name": "Python 3 (ipykernel)",
   "language": "python",
   "name": "python3"
  },
  "language_info": {
   "codemirror_mode": {
    "name": "ipython",
    "version": 3
   },
   "file_extension": ".py",
   "mimetype": "text/x-python",
   "name": "python",
   "nbconvert_exporter": "python",
   "pygments_lexer": "ipython3",
   "version": "3.10.0"
  }
 },
 "nbformat": 4,
 "nbformat_minor": 5
}
