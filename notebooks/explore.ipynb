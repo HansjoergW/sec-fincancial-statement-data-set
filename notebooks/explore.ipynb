{
 "cells": [
  {
   "cell_type": "markdown",
   "id": "9cafe8ec-7214-4e4d-9bec-39ee5183bbac",
   "metadata": {},
   "source": [
    "Note: for using the widgets inside jupyterlab, you need an appropriate environment with nodejs and the widegetextensions install. \n",
    "In order to develop the notebook, the following environment was used:\n",
    "\n",
    "- conda create -n secanalyzing python==3.10\n",
    "- conda activate secanalyzing\n",
    "- pip install jupyterlab\n",
    "- jupyter labextension install @jupyter-widgets/jupyterlab-manager\n",
    "- pip install secfsdstools\n",
    "- pip install ipywidgets"
   ]
  },
  {
   "cell_type": "code",
   "execution_count": 1,
   "id": "1ae9d9be-6d78-48a3-bbda-a3383e6064dc",
   "metadata": {
    "tags": []
   },
   "outputs": [],
   "source": [
    "import ipywidgets as widgets\n",
    "from ipywidgets import interact, interact_manual"
   ]
  },
  {
   "cell_type": "code",
   "execution_count": 11,
   "id": "c20dcfbf-13f7-4519-9649-dbfdf96b32d0",
   "metadata": {
    "tags": []
   },
   "outputs": [],
   "source": [
    "from secfsdstools.e_read.searching import IndexSearch\n",
    "from secfsdstools.e_read.companyreading import CompanyReader\n",
    "\n",
    "# initialize the search class\n",
    "search = IndexSearch.get_index_search()"
   ]
  },
  {
   "cell_type": "code",
   "execution_count": 9,
   "id": "7af46857-312c-4ce1-b3d1-574587707a58",
   "metadata": {
    "tags": []
   },
   "outputs": [
    {
     "data": {
      "application/vnd.jupyter.widget-view+json": {
       "model_id": "64e1afb20c0d4e3e97f7921bb760c6c5",
       "version_major": 2,
       "version_minor": 0
      },
      "text/plain": [
       "interactive(children=(Text(value='', description='search_string'), Output()), _dom_classes=('widget-interact',…"
      ]
     },
     "metadata": {},
     "output_type": "display_data"
    }
   ],
   "source": [
    "@interact\n",
    "def search_cik(search_string=widgets.Text(value='')):\n",
    "    print(search_string)\n",
    "    result_df = search.find_company_by_name(search_string)\n",
    "    display(result_df)"
   ]
  },
  {
   "cell_type": "code",
   "execution_count": 16,
   "id": "07e40670-8598-47a0-a41a-b195b5b34150",
   "metadata": {},
   "outputs": [
    {
     "data": {
      "application/vnd.jupyter.widget-view+json": {
       "model_id": "7c5709475eaf4e4c81ee7c897a1146a5",
       "version_major": 2,
       "version_minor": 0
      },
      "text/plain": [
       "interactive(children=(Text(value='0', description='cik'), Output()), _dom_classes=('widget-interact',))"
      ]
     },
     "metadata": {},
     "output_type": "display_data"
    }
   ],
   "source": [
    "# -> multiselect mit forms, basierend auf bekannten forms\n",
    "# -> flag to indicate, wieviele zeilen angezeigt werden sollen\n",
    "@interact\n",
    "def reports(cik=widgets.Text(value='0')):\n",
    "    reader = CompanyReader.get_company_reader(cik=int(cik))\n",
    "    reports = reader.get_all_company_reports_df()\n",
    "    display(reports.head(20))"
   ]
  },
  {
   "cell_type": "code",
   "execution_count": null,
   "id": "ae10ee12-4208-4b29-8869-16c34e7095ef",
   "metadata": {},
   "outputs": [],
   "source": []
  },
  {
   "cell_type": "code",
   "execution_count": null,
   "id": "24aad921-6566-42ce-8933-6fa3b32efa5e",
   "metadata": {},
   "outputs": [],
   "source": []
  },
  {
   "cell_type": "code",
   "execution_count": null,
   "id": "a1bb0205-0344-43e5-9c53-cfb861c7f3f1",
   "metadata": {},
   "outputs": [],
   "source": []
  }
 ],
 "metadata": {
  "kernelspec": {
   "display_name": "Python 3 (ipykernel)",
   "language": "python",
   "name": "python3"
  },
  "language_info": {
   "codemirror_mode": {
    "name": "ipython",
    "version": 3
   },
   "file_extension": ".py",
   "mimetype": "text/x-python",
   "name": "python",
   "nbconvert_exporter": "python",
   "pygments_lexer": "ipython3",
   "version": "3.10.0"
  }
 },
 "nbformat": 4,
 "nbformat_minor": 5
}
