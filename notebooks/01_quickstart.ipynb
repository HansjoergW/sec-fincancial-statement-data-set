{
 "cells": [
  {
   "cell_type": "markdown",
   "id": "324e70d1-9876-44ea-88e0-499d2defa890",
   "metadata": {},
   "source": [
    "# Sec Financial Statement Data Set Tools - Quickstart"
   ]
  },
  {
   "cell_type": "markdown",
   "id": "ec5fd5e7-16f8-406b-b5e4-2b23cf403638",
   "metadata": {},
   "source": [
    "## TL;DR"
   ]
  },
  {
   "cell_type": "markdown",
   "id": "901fe0d2-d257-4b2d-847e-596438672c24",
   "metadata": {},
   "source": [
    "This notebook gives a first introduction into using this python package.\n",
    "\n",
    "working together with sec financial statement data set -> link\n",
    "what is in there (data of the primary financial statements)\n",
    "\n",
    "how to setup / configure it\n",
    "\n",
    "do you first simple analysis"
   ]
  },
  {
   "cell_type": "markdown",
   "id": "385ca081-3a9f-42b9-bc85-496c42821e7e",
   "metadata": {},
   "source": [
    "## Principles / Concepts"
   ]
  },
  {
   "cell_type": "markdown",
   "id": "ffe4edea-7b2a-4efd-9b63-96257251a803",
   "metadata": {},
   "source": [
    "download all the data -> amount / number of files\n",
    "indexing of reports -> sqlite db\n",
    "what is in the files -> link\n",
    "direct access to the data in the zip files\n",
    "memory efficient\n",
    "performant"
   ]
  },
  {
   "cell_type": "markdown",
   "id": "9e66226a-90c8-402e-9c61-85bb656e2e21",
   "metadata": {},
   "source": [
    "## Installation\n",
    "pip install "
   ]
  },
  {
   "cell_type": "markdown",
   "id": "7c85678c-22c7-422d-8d86-00adc9008124",
   "metadata": {},
   "source": [
    "## Configuration / Setup"
   ]
  },
  {
   "cell_type": "markdown",
   "id": "d076cff1-a3a6-486b-a681-ee27db71778f",
   "metadata": {},
   "source": [
    "1 run "
   ]
  },
  {
   "cell_type": "markdown",
   "id": "a02187e0-577a-4676-b395-60a2525a25c6",
   "metadata": {},
   "source": [
    "show error message"
   ]
  },
  {
   "cell_type": "markdown",
   "id": "a694d92a-169f-4fad-901d-d1fd5fae9b7f",
   "metadata": {},
   "source": [
    "show created config file"
   ]
  },
  {
   "cell_type": "markdown",
   "id": "35c21e36-4267-44c5-bf0a-75bb1cb87ae1",
   "metadata": {},
   "source": [
    "second run -> show content of directories\n",
    "show tables -> "
   ]
  },
  {
   "cell_type": "code",
   "execution_count": null,
   "id": "2c454f27-9a74-45db-9c3c-a4c917c0020d",
   "metadata": {},
   "outputs": [],
   "source": [
    "## read primary financial statements for apples 10k 2022"
   ]
  }
 ],
 "metadata": {
  "kernelspec": {
   "display_name": "Python 3 (ipykernel)",
   "language": "python",
   "name": "python3"
  },
  "language_info": {
   "codemirror_mode": {
    "name": "ipython",
    "version": 3
   },
   "file_extension": ".py",
   "mimetype": "text/x-python",
   "name": "python",
   "nbconvert_exporter": "python",
   "pygments_lexer": "ipython3",
   "version": "3.8.15"
  }
 },
 "nbformat": 4,
 "nbformat_minor": 5
}
