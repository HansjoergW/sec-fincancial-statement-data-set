{
 "cells": [
  {
   "cell_type": "markdown",
   "id": "080e4457-9e40-4684-a079-cf942a3be690",
   "metadata": {},
   "source": [
    "# Receiving Daily updates of filed reports via RapidApi api"
   ]
  },
  {
   "cell_type": "markdown",
   "id": "acccea2e-7169-4908-9f12-b3ea16b48b7c",
   "metadata": {},
   "source": [
    "The SEC provides the preprocessed reports in its [Financial Statements Data Set](https://www.sec.gov/dera/data/financial-statement-data-sets) only at the beginning of every quarter. If you are interested in receiving the lates filed reports every day, you might want to have a look at the [Daily-Sec-Financial-Statement-Dataset API](https://rapidapi.com/hansjoerg.wingeier/api/daily-sec-financial-statement-dataset), which is hosted at rapidapi.com.\n",
    "\n",
    "This API has a basic and premium subscription. The basic subscription provides daily data for days older than 3 weeks ago.\n",
    "\n",
    "**Note: this API is provided by myself and is still in BETA. So far i try to update the days only on a weekly basis.**"
   ]
  },
  {
   "cell_type": "markdown",
   "id": "41fc42ec-d800-4a64-9d18-4283724ca7b1",
   "metadata": {},
   "source": [
    "## Creating a RapidApi account"
   ]
  },
  {
   "cell_type": "markdown",
   "id": "f8973632-5ec5-47f4-860d-50c61af06c7c",
   "metadata": {},
   "source": [
    "Since the api is hosted on [RapidApi.com](https://rapidapi.com), you first have to create an account, which only takes a few second.\n",
    "\n",
    "Just go to the [RapidApi SignUp page](https://rapidapi.com/auth/sign-up) and use one of the provided options to signup.\n",
    "\n",
    "<img src=\"img/rapid_signup.png\" alt=\"SignUp\" style=\"width: 800px;\"/>"
   ]
  },
  {
   "cell_type": "markdown",
   "id": "ed13bfa5-ec17-4e73-8605-12aadb03e982",
   "metadata": {
    "tags": []
   },
   "source": [
    "## Create a new Api Key"
   ]
  },
  {
   "cell_type": "markdown",
   "id": "9ebd299f-abb7-49d3-b396-187a5b42fbcd",
   "metadata": {},
   "source": [
    "Next, you have to create an api-key.\n",
    "\n",
    "Create a new API entry, this will also directly create an api key. Just go to your [APP page](https://rapidapi.com/developer/dashboard) after login to rapidapi.com.\n",
    "\n",
    "<img src=\"img/rapid_newapp.png\" alt=\"ApiKey\" style=\"width: 800px;\"/>"
   ]
  },
  {
   "cell_type": "markdown",
   "id": "87c7ae42-0f38-4924-a662-1e939cbfc857",
   "metadata": {},
   "source": [
    "Enter a meaningful **App Name** like \"Daily-Sec-Financial-Statement-Dataset\" and click on the **Save** button.\n",
    "\n",
    "\n",
    "<img src=\"img/rapid_newkey.png\" alt=\"ApiKey\" style=\"width: 800px;\"/>"
   ]
  },
  {
   "cell_type": "markdown",
   "id": "ef0109e0-059a-4473-8e89-795363e1787c",
   "metadata": {},
   "source": [
    "## Adapt the .secfsdstools.cfg file"
   ]
  },
  {
   "cell_type": "markdown",
   "id": "1ab7c668-27ca-4ffa-8c52-6b6f13196a0e",
   "metadata": {},
   "source": [
    "Copy the hidden key in order to add it to the **.secfsdstools.cfg** config file.\n",
    "\n",
    "Add the two entries **rapidapikey** and **rapidapiplan** to your config file, as shown below:\n",
    "\n",
    "<pre>\n",
    "[DEFAULT]\n",
    "downloaddirectory = <userhome>/secfsdstools/data/dld\n",
    "parquetdirectory = <userhome>/secfsdools/data/parquet\n",
    "dbdirectory = <userhome>/secfsdstools/data/db\n",
    "useragentemail = your.email@goeshere.com\n",
    "rapidapikey = [your_rapid_api_key_goes_here]\n",
    "rapidapiplan = basic\n",
    "</pre>\n",
    "\n",
    "If you should decide to pay for the service, then your **rapidapiplan** would be \"premium\" instead of basic."
   ]
  },
  {
   "cell_type": "markdown",
   "id": "f6997a71-b406-4e7a-bb90-c19fd94e22cd",
   "metadata": {},
   "source": [
    "## Download and index the latest daily-zip files\n",
    "\n",
    "In order to download and index the latest daily-zip files, just call the update method:"
   ]
  },
  {
   "cell_type": "code",
   "execution_count": 2,
   "id": "ee605f90-003e-4a83-845c-2ec50c8aa395",
   "metadata": {
    "tags": []
   },
   "outputs": [],
   "source": [
    "from secfsdstools.update import update\n",
    "\n",
    "update()"
   ]
  },
  {
   "cell_type": "markdown",
   "id": "93750133-6c02-4e34-bced-3bf7f8ab8e1a",
   "metadata": {},
   "source": [
    "Now, you can read the data as explained in the quickstart notebook"
   ]
  }
 ],
 "metadata": {
  "kernelspec": {
   "display_name": "Python 3 (ipykernel)",
   "language": "python",
   "name": "python3"
  },
  "language_info": {
   "codemirror_mode": {
    "name": "ipython",
    "version": 3
   },
   "file_extension": ".py",
   "mimetype": "text/x-python",
   "name": "python",
   "nbconvert_exporter": "python",
   "pygments_lexer": "ipython3",
   "version": "3.10.0"
  }
 },
 "nbformat": 4,
 "nbformat_minor": 5
}
