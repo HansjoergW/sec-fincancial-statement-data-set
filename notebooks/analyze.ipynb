{
 "cells": [
  {
   "cell_type": "code",
   "execution_count": 1,
   "id": "f99931d8-6800-40fb-b5f0-636de0eee3a6",
   "metadata": {
    "tags": []
   },
   "outputs": [],
   "source": [
    "data_dir = \"bs_10k_10q_all_joined\""
   ]
  },
  {
   "cell_type": "code",
   "execution_count": 2,
   "id": "9dac5d73-608a-4a10-bd4d-20826fa195d6",
   "metadata": {
    "tags": []
   },
   "outputs": [],
   "source": [
    "# Basic import to support interactive widgets in notebooks\n",
    "import ipywidgets as widgets\n",
    "from IPython.display import display, Markdown\n",
    "from ipywidgets import interact, interact_manual\n",
    "\n",
    "import pandas as pd\n",
    "pd.set_option('display.max_rows', 500) # ensure that all rows are shown"
   ]
  },
  {
   "cell_type": "code",
   "execution_count": 5,
   "id": "fdcf62d3-23e4-4c88-b6dc-4613e1f26065",
   "metadata": {
    "tags": []
   },
   "outputs": [],
   "source": [
    "# imports from the secfsdstools package\n",
    "from secfsdstools.c_index.searching import IndexSearch\n",
    "from secfsdstools.c_index.companyindexreading import CompanyIndexReader\n",
    "from secfsdstools.e_collector.reportcollecting import SingleReportCollector\n",
    "from secfsdstools.d_container.databagmodel import JoinedDataBag\n",
    "from secfsdstools.e_filter.rawfiltering import ReportPeriodRawFilter, StmtRawFilter\n",
    "from secfsdstools.e_presenter.presenting import StandardStatementPresenter\n",
    "from secfsdstools.c_index.indexing import BaseReportIndexer"
   ]
  },
  {
   "cell_type": "code",
   "execution_count": 4,
   "id": "ac3ed352-b5bd-441a-bdae-f2458c28866b",
   "metadata": {
    "tags": []
   },
   "outputs": [
    {
     "name": "stderr",
     "output_type": "stream",
     "text": [
      "2023-11-05 06:28:45,267 [INFO] configmgt  reading configuration from C:\\Users\\hansj\\.secfsdstools.cfg\n"
     ]
    }
   ],
   "source": [
    "# initialize the search class\n",
    "search = IndexSearch.get_index_search()\n",
    "\n",
    "# create a list with all known forms\n",
    "forms_list = sorted(search.dbaccessor.read_all_indexreports_df().form.unique().tolist())\n",
    "stmt_list = ['BS', 'CF', 'CI', 'CP', 'EQ', 'IS', 'SI', 'UN']"
   ]
  },
  {
   "cell_type": "code",
   "execution_count": 6,
   "id": "1c3d699f-ca4a-492b-8d34-0d4130d594ab",
   "metadata": {
    "tags": []
   },
   "outputs": [],
   "source": [
    "bs_bag = JoinedDataBag.load(data_dir)"
   ]
  },
  {
   "cell_type": "code",
   "execution_count": 18,
   "id": "c9eedb99-21ae-4163-b61b-f10897908635",
   "metadata": {
    "tags": []
   },
   "outputs": [
    {
     "data": {
      "text/plain": [
       "RetainedEarningsAccumulatedDeficit    277399\n",
       "RetainedEarningsUnappropriated          2689\n",
       "RetainedEarningsAppropriated            2158\n",
       "RetainedEarnings                          68\n",
       "Name: tag, dtype: int64"
      ]
     },
     "execution_count": 18,
     "metadata": {},
     "output_type": "execute_result"
    }
   ],
   "source": [
    "bs_bag.pre_num_df[bs_bag.pre_num_df.tag.isin(['RetainedEarningsAppropriated', 'RetainedEarningsUnappropriated','RetainedEarnings', 'RetainedEarningsAccumulatedDeficit'])].tag.value_counts()"
   ]
  },
  {
   "cell_type": "code",
   "execution_count": 14,
   "id": "e6c69e21-05f2-4047-84a8-20fd79697f83",
   "metadata": {
    "tags": []
   },
   "outputs": [
    {
     "data": {
      "text/plain": [
       "['RetainedEarningsAccumulatedDeficit',\n",
       " 'RetainedEarningsAppropriated',\n",
       " 'RetainedEarningsUnappropriated',\n",
       " 'RetainedEarnings',\n",
       " 'ImpactOfRestatementOnOpeningRetainedEarningsNetOfTax',\n",
       " 'PostconfirmationRetainedEarningsDeficit',\n",
       " 'PreconfirmationRetainedEarningsDeficit',\n",
       " 'StatutoryAccountingPracticesRetainedEarningsNotAvailableForDividends',\n",
       " 'ManagerRetainedEarningsAccumulatedDeficit',\n",
       " 'ShareholdersRetainedEarningsAccumulatedDeficit',\n",
       " 'RetainedEarningsPartiallyRestricted',\n",
       " 'RetainedEarningsAccumulatedDeficitGeneralShares',\n",
       " 'RetainedEarningsAccumulatedDeficitLimitedShares',\n",
       " 'RetainedEarningsAccumulatedDeficitAndCumulativeDistribution',\n",
       " 'RestrictedRetainedEarnings',\n",
       " 'TotalPaidInCapitalAndRetainedEarningsDeficit',\n",
       " 'RetainedEarningsFromDiscontinuedOperations',\n",
       " 'RetainedEarningsPowerProgram',\n",
       " 'RetainedEarningsAccumulatedIncomeDeficit',\n",
       " 'FreshStartAdjustmentIncreaseDecreaseRetainedEarningsDeficit',\n",
       " 'RetainedEarningsAndAccumulatedOtherComprehensiveIncome',\n",
       " 'RetainedEarningsIncludingAccumulatedOtherComprehensiveLosses',\n",
       " 'RetainedEarningsAndOtherShareholdersEquity',\n",
       " 'RetainedEarningsAccumulatedDeficitAppropriatedForInvestorsInConsolidatedInvestmentProducts',\n",
       " 'RetainedEarningsAccumulatedDeficitSubjectToRestrictions',\n",
       " 'RetainedEarningsAccumulatedDeficitFormerParentCompany',\n",
       " 'RetainedEarningsAccumulated',\n",
       " 'SumOfCapitalStockAdditionalCapitalAndRetainedEarnings',\n",
       " 'RetainedEarningsRetainedDeficit',\n",
       " 'NoncontrollingInterestRetainedEarningsInConsolidatedSubsidiaries',\n",
       " 'StatutoryAccountingPracticesPortionOfExcessRetainedEarningsNotTaxed',\n",
       " 'RetainedEarningsAccumulatedDeficitAttributableToNoncontrollingInterest',\n",
       " 'RetainedEarningsAccumulatedDeficit1',\n",
       " 'StockholdersEquityExcludingRetainedEarnings',\n",
       " 'RetainedEarningsAccumulatedDeficitNonControllingInterest',\n",
       " 'RetainedEarningsAccumulatedDeficitInDiscontinuedOperation',\n",
       " 'RetainedEarningsAccumulatedEarningsDeficit',\n",
       " 'RetainedEarningsAccumulatedDeficitSinceReenteringDevelopmentStage',\n",
       " 'RetainedEarningsAccumulatedDeficitIncludingAccumulatedOtherComprehensiveIncomeLossNetOfTax',\n",
       " 'RetainedEarningsDeficitAccumulatedDuringExplorationStage',\n",
       " 'RetainedEarningsGeneralShares',\n",
       " 'RetainedEarningsLimitedShares',\n",
       " 'RetainedEarningsPriorToDevelopmentStage',\n",
       " 'RetainedEarningsDuringExplorationStage',\n",
       " 'RetainedEarningsPriorToExplorationStage',\n",
       " 'RetainedEarningsAccumulatedDeficitDuringExplorationStage',\n",
       " 'RetainedEarningsAndAccumulatedDeficitAndOtherComprehensiveIncome',\n",
       " 'RetainedEarningsRelatedToVariableInterestEntity',\n",
       " 'RetainedEarningsAccumulatedDeficitNonControllingInterestholdersShare',\n",
       " 'RetainedEarningsAccumulatedDeficitEliminated',\n",
       " 'ImpactOfRestatementOnOpeningRetainedEarningsNetOfTaxs',\n",
       " 'TotalContributedCapitalAndRetainedEarnings',\n",
       " 'AppropriatedRetainedEarningsOfConsolidatedInvestmentEntities',\n",
       " 'AdjustmentsToAdditionalPaidInCapitalDividendsInExcessOfRetainedEarnings',\n",
       " 'RetainedEarningsGeneralUnits',\n",
       " 'RestrictedPortionOfRetainedEarnings',\n",
       " 'RetainedEarningsSinceDevelopment',\n",
       " 'RetainedEarningsSinceReenteringDevelopmentStage',\n",
       " 'RetainedEarningsAccumulatedDeficitAndAccumulatedOtherComprehensiveIncomeLossNetOfTax',\n",
       " 'CumulativeEffectOnRetainedEarningsNetOfTax',\n",
       " 'CommonStockAndRetainedEarningsTotal',\n",
       " 'RetainedEarningsRestrictedPortion',\n",
       " 'RetainedEarningsAndAccumulatedDeficitAndOtherComprehensiveIncomeLoss',\n",
       " 'AccumulatedDeficitRetainedEarningsDuringDevelopmentStage',\n",
       " 'RetainedEarningsDeficitDuringExplorationStage',\n",
       " 'RetainedEarningsAccumulatedDeficitNoncontrollingInterest',\n",
       " 'RetainedEarningsSubstantiallyRestricted',\n",
       " 'CommonStockAndRetainedEarnings',\n",
       " 'CumulativeEffectOnRetainedEarningsNetOfTax1',\n",
       " 'RetainedEarningsAccumulatedDeficitFromDiscontinuedOperations',\n",
       " 'RetainedEarningsUnappropriatedExcludingRetainedEarningsAccumulatedDeficit',\n",
       " 'RetainedEarningsdeficitPriorToReentryIntoDevelopmentStage',\n",
       " 'SumOfCommonStockCapitalInExcessOfParValueRetainedEarningsCumulativeTranslationAdjustmentAccumulatedLossesOnDerivativesQualifyingAsHedgesAndPensionAndPostretirementLiabilityAdjustment',\n",
       " 'TotalCommonStockPaidInAdditionalCapitalAndRetainedEarnings',\n",
       " 'LiabilitiesAndRetainedEarningsAccumulatedDeficit',\n",
       " 'RetainedEarningsDuringDDStageAccumulatedDeficit',\n",
       " 'RetainedEarningsAccumulatedDeficitPriorToExplorationStage']"
      ]
     },
     "execution_count": 14,
     "metadata": {},
     "output_type": "execute_result"
    }
   ],
   "source": [
    "# list all tags containing a certain string\n",
    "[x for x in bs_bag.pre_num_df.tag.unique().tolist() if \"RetainedEarnings\" in str(x)]"
   ]
  },
  {
   "cell_type": "code",
   "execution_count": null,
   "id": "61a79285-ad09-444f-8612-af7649e55c13",
   "metadata": {},
   "outputs": [],
   "source": []
  }
 ],
 "metadata": {
  "kernelspec": {
   "display_name": "Python 3 (ipykernel)",
   "language": "python",
   "name": "python3"
  },
  "language_info": {
   "codemirror_mode": {
    "name": "ipython",
    "version": 3
   },
   "file_extension": ".py",
   "mimetype": "text/x-python",
   "name": "python",
   "nbconvert_exporter": "python",
   "pygments_lexer": "ipython3",
   "version": "3.10.0"
  }
 },
 "nbformat": 4,
 "nbformat_minor": 5
}
