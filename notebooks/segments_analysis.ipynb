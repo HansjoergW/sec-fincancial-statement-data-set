{
 "cells": [
  {
   "cell_type": "code",
   "execution_count": 1,
   "id": "c0c03ccb-b418-4fc6-8010-4f011a17be4d",
   "metadata": {
    "tags": []
   },
   "outputs": [],
   "source": [
    "import pandas as pd\n",
    "# ensure that all columns are shown and that colum content is not cut\n",
    "pd.set_option('display.max_rows', 500) # ensure that all rows are shown\n",
    "pd.set_option('display.max_colwidth', None)\n",
    "pd.set_option('display.max_columns', None)\n",
    "pd.set_option('display.width',1000)"
   ]
  },
  {
   "cell_type": "markdown",
   "id": "a9a6cd1d-9a54-4cf1-aa61-27b26a5be491",
   "metadata": {},
   "source": [
    "As of February 2025\n",
    "-------------------\n",
    "\n",
    "Questions:\n",
    "\n",
    "- how many entires in the joined dataset: 62.2 million\n",
    "\n",
    "- how many entries with segments info: 26.2 millions\n",
    "  \n",
    "  conclusion: almost have of the datapoints contain segments information. these values are important.\n",
    "  \n",
    "  \n",
    "- how many different values in segments info: 845 thousands\n",
    "- how many different main categories: 6050\n",
    "\n",
    "- how many different main categories per stmt (BS, IS, CF)\n",
    "    BS: 3457\n",
    "    IS: 2663\n",
    "    CF: 2309\n",
    "\n",
    "- top 10 main categories per stmt (BS, IS, CF)\n",
    "<pre>  \n",
    "  BS\n",
    "    EquityComponents                       1334326\n",
    "    ClassOfStock                            800987\n",
    "    FairValueByFairValueHierarchyLevel      702379\n",
    "    InvestmentIdentifier                    496133\n",
    "    BusinessSegments                        481380\n",
    "    ConsolidatedEntities                    474227\n",
    "    ConsolidationItems                      354201\n",
    "    FinancingReceivablePortfolioSegment     250581\n",
    "    FinancialInstrument                     224834\n",
    "    FairValueByMeasurementBasis             177198\n",
    "\n",
    "\n",
    "  IS\n",
    "    BusinessSegments                                            2315314\n",
    "    ConsolidationItems                                           957705\n",
    "    EquityComponents                                             738475\n",
    "    ProductOrService                                             540249\n",
    "    Geographical                                                 382707\n",
    "    ConsolidatedEntities                                         341274\n",
    "    ClassOfStock                                                 186131\n",
    "    LegalEntity                                                  105392\n",
    "    ReclassificationOutOfAccumulatedOtherComprehensiveIncome      75727\n",
    "    AdjustmentsForNewAccountingPronouncements                     67966\n",
    "\n",
    "\n",
    "  CF\n",
    "    EquityComponents                       529497\n",
    "    BusinessSegments                       341077\n",
    "    ConsolidatedEntities                   319963\n",
    "    ConsolidationItems                     315154\n",
    "    DebtInstrument                          66902\n",
    "    LegalEntity                             56122\n",
    "    IncomeStatementLocation                 51111\n",
    "    Scenario                                47435\n",
    "    ClassOfStock                            47382\n",
    "    FinancingReceivablePortfolioSegment     42721\n",
    "</pre>"
   ]
  },
  {
   "cell_type": "code",
   "execution_count": 2,
   "id": "dea37d1a-5077-4e1d-a106-de98858d54c5",
   "metadata": {
    "tags": []
   },
   "outputs": [
    {
     "name": "stderr",
     "output_type": "stream",
     "text": [
      "2025-02-12 06:26:57,093 [INFO] configmgt  reading configuration from C:\\Users\\hansj\\.secfsdstools.cfg\n"
     ]
    },
    {
     "name": "stdout",
     "output_type": "stream",
     "text": [
      "62187005\n"
     ]
    }
   ],
   "source": [
    "from secfsdstools.d_container.databagmodel import JoinedDataBag\n",
    "\n",
    "path_to_all = \"C:/data/sec/automated/_4_single_bag/all\"\n",
    "all_bag = JoinedDataBag.load(path_to_all)\n",
    "print(len(all_bag.pre_num_df))"
   ]
  },
  {
   "cell_type": "code",
   "execution_count": 3,
   "id": "bc4ac4c4-7801-4d6f-9276-c8c9bb06c29a",
   "metadata": {
    "tags": []
   },
   "outputs": [
    {
     "name": "stdout",
     "output_type": "stream",
     "text": [
      "26381721\n"
     ]
    }
   ],
   "source": [
    "pre_num_df = all_bag.pre_num_df\n",
    "pre_num_df = pre_num_df[~(pre_num_df.segments=='')].copy()\n",
    "print(len(pre_num_df))\n",
    "pre_num_df['category'] = pre_num_df.segments.str.split(\"=\", n=1, expand=True)[0]"
   ]
  },
  {
   "cell_type": "markdown",
   "id": "f6882b0b-5059-48c9-a2c8-ab9cec59c2ce",
   "metadata": {},
   "source": [
    "We have 62.2 millions joint datapoints. Out of those, 26.4 millions have values inside the segments column"
   ]
  },
  {
   "cell_type": "code",
   "execution_count": 7,
   "id": "d5fe87bd-4e77-4b8b-9c62-37fe95fb7c6b",
   "metadata": {
    "tags": []
   },
   "outputs": [
    {
     "data": {
      "text/plain": [
       "844867"
      ]
     },
     "execution_count": 7,
     "metadata": {},
     "output_type": "execute_result"
    }
   ],
   "source": [
    "segment_combinations = pre_num_df.segments.value_counts()\n",
    "segment_combinations = segment_combinations.reset_index()\n",
    "segment_combinations.columns = [\"segments\", \"count\"]\n",
    "segment_combinations['category'] = segment_combinations.segments.str.split(\"=\", n=1, expand=True)[0]\n",
    "len(segment_combinations)"
   ]
  },
  {
   "cell_type": "markdown",
   "id": "24cb7acc-c9b8-49ce-96a4-2eed45ce4f9f",
   "metadata": {},
   "source": [
    "There are 844 thousands distinct segment values"
   ]
  },
  {
   "cell_type": "code",
   "execution_count": 8,
   "id": "b67ad1f9-9b04-4108-a6e4-bc0e2d022ee3",
   "metadata": {
    "tags": []
   },
   "outputs": [
    {
     "name": "stdout",
     "output_type": "stream",
     "text": [
      "6050\n"
     ]
    }
   ],
   "source": [
    "main_categories = segment_combinations.category.value_counts()\n",
    "print(len(main_categories))"
   ]
  },
  {
   "cell_type": "markdown",
   "id": "0fdb2961-a58d-4e1d-b195-39d3027eff8d",
   "metadata": {},
   "source": [
    "there are around 6000 \"main\" cataegories, resp. \"axis\""
   ]
  },
  {
   "cell_type": "code",
   "execution_count": 12,
   "id": "5b9ead38-64dc-4a7f-ad9d-55cbcc935582",
   "metadata": {},
   "outputs": [
    {
     "name": "stdout",
     "output_type": "stream",
     "text": [
      "Results for:  BS\n",
      "different categories in stmt 3457\n",
      "top ten\n",
      "\n",
      "EquityComponents                       1334326\n",
      "ClassOfStock                            800987\n",
      "FairValueByFairValueHierarchyLevel      702379\n",
      "InvestmentIdentifier                    496133\n",
      "BusinessSegments                        481380\n",
      "ConsolidatedEntities                    474227\n",
      "ConsolidationItems                      354201\n",
      "FinancingReceivablePortfolioSegment     250581\n",
      "FinancialInstrument                     224834\n",
      "FairValueByMeasurementBasis             177198\n",
      "Name: category, dtype: int64\n",
      "-------------------------------------\n",
      "\n",
      "\n",
      "Results for:  IS\n",
      "different categories in stmt 2663\n",
      "top ten\n",
      "\n",
      "BusinessSegments                                            2315314\n",
      "ConsolidationItems                                           957705\n",
      "EquityComponents                                             738475\n",
      "ProductOrService                                             540249\n",
      "Geographical                                                 382707\n",
      "ConsolidatedEntities                                         341274\n",
      "ClassOfStock                                                 186131\n",
      "LegalEntity                                                  105392\n",
      "ReclassificationOutOfAccumulatedOtherComprehensiveIncome      75727\n",
      "AdjustmentsForNewAccountingPronouncements                     67966\n",
      "Name: category, dtype: int64\n",
      "-------------------------------------\n",
      "\n",
      "\n",
      "Results for:  CF\n",
      "different categories in stmt 2309\n",
      "top ten\n",
      "\n",
      "EquityComponents                       529497\n",
      "BusinessSegments                       341077\n",
      "ConsolidatedEntities                   319963\n",
      "ConsolidationItems                     315154\n",
      "DebtInstrument                          66902\n",
      "LegalEntity                             56122\n",
      "IncomeStatementLocation                 51111\n",
      "Scenario                                47435\n",
      "ClassOfStock                            47382\n",
      "FinancingReceivablePortfolioSegment     42721\n",
      "Name: category, dtype: int64\n",
      "-------------------------------------\n",
      "\n",
      "\n"
     ]
    }
   ],
   "source": [
    "stmts = ['BS', 'IS', 'CF']\n",
    "\n",
    "for stmt in stmts:\n",
    "  print(\"Results for: \", stmt)\n",
    "  p_n_stmt_df = pre_num_df[pre_num_df.stmt==stmt]\n",
    "  categories_stmt =  p_n_stmt_df.category.value_counts()\n",
    "  print(\"different categories in\", \"stmt\", len(categories_stmt))\n",
    "  print(\"top ten\\n\")\n",
    "  print(categories_stmt[:10])\n",
    "  print(\"-------------------------------------\\n\\n\")"
   ]
  },
  {
   "cell_type": "code",
   "execution_count": null,
   "id": "9ceb4c95-6893-4b8c-ad51-65352f6fded5",
   "metadata": {},
   "outputs": [],
   "source": []
  }
 ],
 "metadata": {
  "kernelspec": {
   "display_name": "Python 3 (ipykernel)",
   "language": "python",
   "name": "python3"
  },
  "language_info": {
   "codemirror_mode": {
    "name": "ipython",
    "version": 3
   },
   "file_extension": ".py",
   "mimetype": "text/x-python",
   "name": "python",
   "nbconvert_exporter": "python",
   "pygments_lexer": "ipython3",
   "version": "3.10.0"
  }
 },
 "nbformat": 4,
 "nbformat_minor": 5
}
