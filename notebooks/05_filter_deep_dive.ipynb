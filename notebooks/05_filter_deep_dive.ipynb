{
 "cells": [
  {
   "cell_type": "code",
   "execution_count": null,
   "id": "064dcee2-22dc-48ca-afcb-bd8f62f34c03",
   "metadata": {},
   "outputs": [],
   "source": [
    "import pandas as pd\n",
    "# ensure that all columns are shown and that colum content is not cut\n",
    "pd.set_option('display.max_columns', None)\n",
    "pd.set_option('display.max_colwidth', None)\n",
    "pd.set_option('display.width',1000)\n",
    "pd.set_option('display.max_rows', 500) # ensure that all rows are shown"
   ]
  },
  {
   "cell_type": "markdown",
   "id": "dbc500ef-7d18-40eb-91ff-77c4a9608e51",
   "metadata": {},
   "source": [
    "# Filter Deep Dive\n",
    "This notebook introduces all the available Filters"
   ]
  },
  {
   "cell_type": "markdown",
   "id": "878a30ce-39c5-4a22-9358-035a7113dd5d",
   "metadata": {},
   "source": [
    "## Basics\n",
    "\n",
    "A few basic points\n",
    "\n",
    "* All Filters are implmented for the RawDataBag and for the JoinedDataBag. Depending for which databag type the filter is implemented its postfix is either `RawFiltere` or `JoinedFilter`.\n",
    "* All Filters do not copy the dataframes. They just apply filter on existing dataframes, but don't create new ones.\n",
    "* All Filters have a `filter()` method which takes a databag as parameter and returns a new databag as parameter (again, they dataframes are not copied in the new instance of the databag). However, there is also a filter `filter()` method of the databag itself.\n",
    "```\n",
    "a_filter = USDOnlyRawFilter()\n",
    "a_rawdatabag: RawDataBag = ...\n",
    "\n",
    "# use the filter() method of the filter..\n",
    "new_databag = a_filter.filter(a_rawdatabag)\n",
    "\n",
    "# or use the filter method of the databab\n",
    "new_databag = a_rawdatabag.filter(a_filter)\n",
    "```\n",
    "* Calls to the `filter()` method of the databag can be chained as follows\n",
    "```\n",
    "filter1 = USDOnlyRawFilter()\n",
    "filter2 = OfficialTagsOnlyRawFilter()\n",
    "a_rawdatabag: RawDataBag = ...\n",
    "\n",
    "new_databag = a_rawdatabag.filter(filter1).filter(filter2)\n",
    "\n",
    "```\n",
    "* The index operator (`[]`) of the databag class is forwarded to the `filter()` method, therefore you can write the previous call as follows:\n",
    "```\n",
    "new_databag = a_rawdatabag[filter1][filter2]\n",
    "```"
   ]
  },
  {
   "cell_type": "markdown",
   "id": "8a4303be-fc28-4c10-895e-5328ced45861",
   "metadata": {},
   "source": [
    "## Load Demo Databag"
   ]
  },
  {
   "cell_type": "code",
   "execution_count": 8,
   "id": "7ae5a999-6b76-4424-be7e-5ebbc1b9c5f2",
   "metadata": {
    "tags": []
   },
   "outputs": [
    {
     "name": "stderr",
     "output_type": "stream",
     "text": [
      "2023-11-29 06:55:39,372 [INFO] configmgt  reading configuration from C:\\Users\\hansj\\.secfsdstools.cfg\n",
      "2023-11-29 06:55:39,403 [INFO] parallelexecution      items to process: 1\n",
      "2023-11-29 06:55:39,437 [INFO] zipcollecting  processing C:\\Users\\hansj\\secfsdstools\\data\\parquet\\quarter\\2022q4.zip\n",
      "2023-11-29 06:55:40,810 [INFO] parallelexecution      commited chunk: 0\n"
     ]
    },
    {
     "name": "stdout",
     "output_type": "stream",
     "text": [
      "sub:  (23943, 36)\n",
      "pre:  (1315392, 10)\n",
      "num:  (2701629, 9)\n"
     ]
    }
   ],
   "source": [
    "from secfsdstools.e_collector.zipcollecting import ZipCollector\n",
    "\n",
    "databag = ZipCollector.get_zip_by_name('2022q4.zip').collect()\n",
    "\n",
    "print(\"sub: \", databag.sub_df.shape)\n",
    "print(\"pre: \", databag.pre_df.shape)\n",
    "print(\"num: \", databag.num_df.shape)"
   ]
  },
  {
   "cell_type": "markdown",
   "id": "de4d180e-c199-4c14-bf6e-a72862bfe4f3",
   "metadata": {},
   "source": [
    "## `AdshRawFilter`\n",
    "\n",
    "This filter lets you select the data for certain reports by their adsh number. Just provide the list of the adsh numbers you are interested in in the constructor of the filter.\n",
    "\n",
    "It operates on all dataframes (sub, pre, and num)."
   ]
  },
  {
   "cell_type": "code",
   "execution_count": 7,
   "id": "de2d1088-cf64-4775-8efa-96ecff7b8f6d",
   "metadata": {
    "tags": []
   },
   "outputs": [
    {
     "name": "stdout",
     "output_type": "stream",
     "text": [
      "sub:  (1, 36)\n",
      "pre:  (185, 10)\n",
      "num:  (503, 9)\n"
     ]
    }
   ],
   "source": [
    "from secfsdstools.e_filter.rawfiltering import AdshRawFilter\n",
    "\n",
    "apple_10k_2022_adsh = \"0000320193-22-000108\"\n",
    "adsh_filter = AdshRawFilter(adshs=[apple_10k_2022_adsh])\n",
    "\n",
    "filtered_databag = databag[adsh_filter]\n",
    "\n",
    "print(\"sub: \", filtered_databag.sub_df.shape)\n",
    "print(\"pre: \", filtered_databag.pre_df.shape)\n",
    "print(\"num: \", filtered_databag.num_df.shape)"
   ]
  },
  {
   "cell_type": "code",
   "execution_count": null,
   "id": "8a9285b2-0bd0-41ca-9281-6533ba2ac795",
   "metadata": {},
   "outputs": [],
   "source": []
  },
  {
   "cell_type": "code",
   "execution_count": null,
   "id": "e718b240-df5e-4d18-9cbd-ab89ce15f1b9",
   "metadata": {},
   "outputs": [],
   "source": []
  },
  {
   "cell_type": "code",
   "execution_count": null,
   "id": "d84d0896-b930-4c58-b763-8bd3e1ce6144",
   "metadata": {},
   "outputs": [],
   "source": []
  },
  {
   "cell_type": "code",
   "execution_count": null,
   "id": "580a6761-ded4-4f4d-af5c-2660b93e5490",
   "metadata": {},
   "outputs": [],
   "source": []
  },
  {
   "cell_type": "code",
   "execution_count": null,
   "id": "d4cb94bd-528c-4d0f-854d-15b3ae4139a2",
   "metadata": {},
   "outputs": [],
   "source": []
  },
  {
   "cell_type": "code",
   "execution_count": null,
   "id": "6761b082-ae22-4a13-b9fd-9c090cfc4b6d",
   "metadata": {},
   "outputs": [],
   "source": [
    "implement your own filter"
   ]
  }
 ],
 "metadata": {
  "kernelspec": {
   "display_name": "Python 3 (ipykernel)",
   "language": "python",
   "name": "python3"
  },
  "language_info": {
   "codemirror_mode": {
    "name": "ipython",
    "version": 3
   },
   "file_extension": ".py",
   "mimetype": "text/x-python",
   "name": "python",
   "nbconvert_exporter": "python",
   "pygments_lexer": "ipython3",
   "version": "3.10.0"
  }
 },
 "nbformat": 4,
 "nbformat_minor": 5
}
