{
 "cells": [
  {
   "cell_type": "code",
   "execution_count": 2,
   "id": "2a419685-e6e4-4626-95e2-6a7c7c9f7411",
   "metadata": {},
   "outputs": [],
   "source": [
    "import pandas as pd\n",
    "# ensure that all columns are shown and that colum content is not cut\n",
    "pd.set_option('display.max_columns', None)\n",
    "pd.set_option('display.max_colwidth', None)\n",
    "pd.set_option('display.width',1000)\n",
    "pd.set_option('display.max_rows', 500) # ensure that all rows are shown"
   ]
  },
  {
   "cell_type": "markdown",
   "id": "439fd62c-ebd8-4a93-9309-0b120d26d5f9",
   "metadata": {},
   "source": [
    "# Customize Standardizer\n",
    "This Notebook gives some ideas how you could customize the standardizer classes.\n",
    "\n",
    "All three standardizer classes `BalanceSheetStandardizer`, `IncomeStatementStandardizer`, and `CashFlowStandardizer` are derived from the same base class `Standardizer` and share the same constructor parameters. In fact, the whole behavior of the standardizer is defined by these parameters and the three standardizer classes are just containers which define the values for the constructor parameters but do not define additional methods or overwrite existing methods. So, it is simply a configuration of the base class.\n",
    "\n",
    "Since every constructor parameter can be overwritten when instantiating one of the three standardizer classes, you can customize the standardizer in three ways:\n",
    "\n",
    "1. Simply adapt the parameters of the constructor when you instantiate `BalanceSheetStandardizer`, `IncomeStatementStandardizer`, or `CashFlowStandardizer`. A simply way, for instance, to adapt the list of tags/columns that should appear in the final result.\n",
    "2. Create a sublcass of `BalanceSheetStandardizer`, `IncomeStatementStandardizer`, or `CashFlowStandardizer` and redefine certain, more complex rules. For instance, maybe you want to define additional `Validation` rules, or you want to change the `Post` rules so that NaN-values are not set to zero but instead stay undefined.\n",
    "3. Create a subclass directly from `Standardizer` and define everything yourself."
   ]
  },
  {
   "cell_type": "markdown",
   "id": "2189f407-0003-44db-b957-21ed3c79908e",
   "metadata": {},
   "source": [
    "## Basic Constructor Parameters\n",
    "\n",
    "The following simple bascic constructors are available to change some details of the behavior."
   ]
  },
  {
   "cell_type": "markdown",
   "id": "363a3735-a1bd-4343-9a71-8c955aaec5c3",
   "metadata": {},
   "source": [
    "### `filter_for_main_statement`\n",
    "\n",
    "A quaterly or annual report usually contains many different tables with data. Beside the tables with the primary financial information (Balance Sheet, Income Statement, or the CashFlow) there tables that often contain part of the information from the primary financial statements. Usually, however, you are just interested in the tables that contain the primary financial information.\n",
    "\n",
    "If this flag is set to true (which is the default value), only the table that contains most data points that generally belong to the appropriate statement, will be returned in the result set."
   ]
  },
  {
   "cell_type": "markdown",
   "id": "e33ab955-dfa3-4e07-a24f-c71a834f2b0c",
   "metadata": {},
   "source": [
    "### `additional_final_sub_fields`\n",
    "\n",
    "When you call the `process` method of a standardizer, you will receive a restulting dataframe that just contains the `adsh` column as an identifier. In contrary, when you use the `present` method, the resulting data frame is enriched with additional information from the sub_df. By default, these are the columns `cik`, `name` (the last registered name of the company), `form` (either 10-K or 10Q), `fye` (the financial year ending as MMDD), `fy` (the financial year to which the report belongs), `fp` (the financial period Q1, Q2, Q3, or FY), `filed` (date when the report was filed with the SEC as an integer value in the format YYYYMMDD), `data` (same as `filed` but as areal date format).\n",
    "\n",
    "However, there are many more columns in the sub_df available (like contact information). So if you would like to have the zip code of the town where the company is based, you can define this with the `additional_final_sub_fields` parameter:\n",
    "\n",
    "    bs_standardizer = BalanceSheetStandardizer(additional_final_sub_fields=['zipba'])\n",
    "\n",
    "    result_df = bs_standardizer.present(joined_bag)\n",
    "    \n",
    "    # or via the get_standardize_bag\n",
    "    bs_standardizer.get_standardize_bag().result_df\n"
   ]
  },
  {
   "cell_type": "markdown",
   "id": "805fca3c-abb3-47ce-9d19-dacaaf9e8fb5",
   "metadata": {},
   "source": [
    "### `additional_final_tags`\n",
    "\n",
    "Every standardizer defines an internal list `final_tags` which defines the tags (resp. the columns) that are contained in the data frame that is returned. This columns are only a subset and sometimes aggregated fields of the fields that actually are avaiable. As the name standardizer suggest, the goal is to just provide information that is available in most of the reports. \n",
    "\n",
    "There may be situations, when you would like to have additional tags returned as well. For instance, instead of just having `LiabilitiesNoncurrent`, you might also be interested in the `LongTermDebt`. This is possible by defining the `additional_final_tags` parameter:\n",
    "\n",
    "\n",
    "    bs_standardizer = BalanceSheetStandardizer(additional_final_tags=['LongTermDebt'])\n",
    "\n",
    "    result_df = bs_standardizer.present(joined_bag)\n",
    "    \n",
    "    # or via the get_standardize_bag\n",
    "    bs_standardizer.get_standardize_bag().result_df"
   ]
  },
  {
   "cell_type": "markdown",
   "id": "54bb12a5-7a4d-474b-9acf-9cad968d1ab8",
   "metadata": {},
   "source": [
    "### `final_tags`\n",
    "\n",
    "Instead of just adding additional final tags with the `additional_final_tags` parameter, you can redefine the whole list directly with `final_tags` parameter. For instance, if you want to remove certain tags from the final result, or if you want them to appear in a certain order.\n",
    "\n",
    "    # The default list is\n",
    "    #     ['Assets', 'AssetsCurrent', 'Cash', 'AssetsNoncurrent',\n",
    "    #      'Liabilities', 'LiabilitiesCurrent', 'LiabilitiesNoncurrent',\n",
    "    #      'Equity',\n",
    "    #      'HolderEquity',\n",
    "    #      'RetainedEarnings',\n",
    "    #      'AdditionalPaidInCapital',\n",
    "    #      'TreasuryStockValue',\n",
    "    #      'TemporaryEquity',\n",
    "    #      'RedeemableEquity',\n",
    "    #      'LiabilitiesAndEquity'] \n",
    "    # However, we are only interested in a subset of it and in a different order, so we adapt final_tags\n",
    "    bs_standardizer = BalanceSheetStandardizer(final_tags=['LiabilitiesCurrent', 'LiabilitiesNoncurrent', 'Liabilities', 'AssetsCurrent', 'AssetsNoncurrent', 'Assets'])\n",
    "\n",
    "    result_df = bs_standardizer.present(joined_bag)\n",
    "    \n",
    "    # or via the get_standardize_bag\n",
    "    bs_standardizer.get_standardize_bag().result_df"
   ]
  },
  {
   "cell_type": "markdown",
   "id": "1b7e8914-a708-489d-b227-10bdb3b8c1a4",
   "metadata": {},
   "source": [
    "## Subclassing\n",
    "\n",
    "Subclassing makes sense when you want to change the more complex parameters. For instance, the definition of rules. Of course, you could also directly do that just by changing the constructor parameter as explained above, but it might make more sense to encapsulate more complex definitions within a special class.\n",
    "\n",
    "The following example shows, how we could change the definition of the `Post` rules, so that unset values are not set to zero at the end of the process in the `BalanceSheetStandardizer`. So, we simply remove all `PostSetToZero` entries from the original definition of the `post_rule_tree`.\n",
    "\n",
    "    class NoSetToZeroBalanceSheetStandardizer(BalanceSheetStandardizer):\n",
    "   \n",
    "        # redefined post_rule_tree without any PostSetToZero rules\n",
    "        post_rule_tree = RuleGroup(prefix=\"BS_POST\",\n",
    "                               rules=[\n",
    "                                   # if only Assets is sets, set the AssetsCurrent to value\n",
    "                                   # of Assets and AssetsNoncurrent to 0\n",
    "                                   PostCopyToFirstSummand(sum_tag='Assets',\n",
    "                                                          first_summand='AssetsCurrent',\n",
    "                                                          other_summands=[\n",
    "                                                              'AssetsNoncurrent']),\n",
    "                                   # if only Liabilities is sets, set the LiabilitiesCurrent to\n",
    "                                   # value of Liabilities and LiabilitiesNoncurrent to 0\n",
    "                                   PostCopyToFirstSummand(sum_tag='Liabilities',\n",
    "                                                          first_summand='LiabilitiesCurrent',\n",
    "                                                          other_summands=[\n",
    "                                                              'LiabilitiesNoncurrent']),\n",
    "                               ])\n",
    "        \n",
    "        def __init__():\n",
    "            super().__init__(\n",
    "                post_rule_tree=post_rule_tree\n",
    "            )\n",
    "   \n",
    "   \n",
    "   \n"
   ]
  },
  {
   "cell_type": "markdown",
   "id": "9a143eb7-3ef2-4401-baee-68eee0abf1bf",
   "metadata": {},
   "source": [
    "# How to Find Tags\n",
    "\n",
    "A crucial thing when standardizing reports is to know or to find out which tags we care about. \n",
    "\n",
    "As mentioned in other places, many different tags can be used in a report, some have a similar meaning, a lot of them have a hierachical order, sometimes some of them are misused, and so on. \n",
    "\n",
    "Since we actually have all the data for a certain report (for instance the balance sheet) it is quite esay to get a first impression about the number of tags and how often they are used. In order to analyze, we use the data set that was produced in the notebook 06_bulk_data_processing_deep_dive.ipynb"
   ]
  },
  {
   "cell_type": "code",
   "execution_count": 1,
   "id": "95b50b70-666a-46b1-a996-a52f17b0b435",
   "metadata": {
    "tags": []
   },
   "outputs": [],
   "source": [
    "from secfsdstools.d_container.databagmodel import JoinedDataBag\n",
    "\n",
    "all_bs_joinedbag:JoinedDataBag = JoinedDataBag.load(target_path=\"set/parallel/BS/joined\")"
   ]
  },
  {
   "cell_type": "markdown",
   "id": "8872301b-1625-43c1-b5eb-bc704f441871",
   "metadata": {},
   "source": [
    "First, lets see how many tags there are in total and how often they seem to be used"
   ]
  },
  {
   "cell_type": "code",
   "execution_count": 4,
   "id": "fe71f11d-a1a7-4b92-8228-970d5e9ba013",
   "metadata": {
    "tags": []
   },
   "outputs": [
    {
     "name": "stdout",
     "output_type": "stream",
     "text": [
      "number of different tags used in a BalanceSheet 3109\n"
     ]
    }
   ],
   "source": [
    "print(\"number of different tags used in a BalanceSheet:\", len(all_bs_joinedbag.pre_num_df.tag.unique()))"
   ]
  },
  {
   "cell_type": "code",
   "execution_count": 8,
   "id": "0b5b72dc-2d78-48bd-a8ad-1d5c0ea7d011",
   "metadata": {
    "tags": []
   },
   "outputs": [
    {
     "data": {
      "text/plain": [
       "Assets                                                                      317347\n",
       "LiabilitiesAndStockholdersEquity                                            316344\n",
       "StockholdersEquity                                                          285737\n",
       "RetainedEarningsAccumulatedDeficit                                          282630\n",
       "CommonStockValue                                                            258548\n",
       "CashAndCashEquivalentsAtCarryingValue                                       257944\n",
       "Liabilities                                                                 251551\n",
       "CommonStockSharesAuthorized                                                 250753\n",
       "AssetsCurrent                                                               248267\n",
       "LiabilitiesCurrent                                                          246897\n",
       "CommonStockSharesIssued                                                     245362\n",
       "PropertyPlantAndEquipmentNet                                                238063\n",
       "CommonStockParOrStatedValuePerShare                                         237175\n",
       "CommonStockSharesOutstanding                                                221572\n",
       "AccumulatedOtherComprehensiveIncomeLossNetOfTax                             184562\n",
       "CommitmentsAndContingencies                                                 181468\n",
       "AccountsPayableCurrent                                                      176102\n",
       "PreferredStockSharesAuthorized                                              163751\n",
       "AdditionalPaidInCapital                                                     159042\n",
       "OtherAssetsNoncurrent                                                       156594\n",
       "PreferredStockValue                                                         154560\n",
       "AccountsReceivableNetCurrent                                                153302\n",
       "PreferredStockParOrStatedValuePerShare                                      147452\n",
       "Goodwill                                                                    139574\n",
       "PreferredStockSharesIssued                                                  136545\n",
       "InventoryNet                                                                127411\n",
       "OtherLiabilitiesNoncurrent                                                  123728\n",
       "AdditionalPaidInCapitalCommonStock                                          118230\n",
       "AccruedLiabilitiesCurrent                                                   116786\n",
       "PreferredStockSharesOutstanding                                             116152\n",
       "PrepaidExpenseAndOtherAssetsCurrent                                         109390\n",
       "IntangibleAssetsNetExcludingGoodwill                                        100712\n",
       "TreasuryStockValue                                                           88604\n",
       "StockholdersEquityIncludingPortionAttributableToNoncontrollingInterest       85713\n",
       "LongTermDebtNoncurrent                                                       78518\n",
       "TreasuryStockShares                                                          72372\n",
       "MinorityInterest                                                             69764\n",
       "AllowanceForDoubtfulAccountsReceivableCurrent                                69398\n",
       "OtherAssetsCurrent                                                           68082\n",
       "PrepaidExpenseCurrent                                                        56545\n",
       "DeferredTaxLiabilitiesNoncurrent                                             55536\n",
       "OtherAssets                                                                  55282\n",
       "OtherLiabilitiesCurrent                                                      54467\n",
       "LongTermDebtCurrent                                                          54312\n",
       "EmployeeRelatedLiabilitiesCurrent                                            54265\n",
       "OperatingLeaseRightOfUseAsset                                                53768\n",
       "AccumulatedDepreciationDepletionAndAmortizationPropertyPlantAndEquipment     53280\n",
       "AccountsPayableAndAccruedLiabilitiesCurrent                                  51953\n",
       "OperatingLeaseLiabilityNoncurrent                                            46444\n",
       "DeferredRevenueCurrent                                                       46227\n",
       "Name: tag, dtype: int64"
      ]
     },
     "execution_count": 8,
     "metadata": {},
     "output_type": "execute_result"
    }
   ],
   "source": [
    "counts_df = all_bs_joinedbag.pre_num_df.tag.value_counts()\n",
    "\n",
    "counts_df.head(50)"
   ]
  },
  {
   "cell_type": "markdown",
   "id": "d50656f1-50e8-49da-9b81-d34010cbc99c",
   "metadata": {},
   "source": [
    "Maybe we are interested in a certain group of tags, like Assets. So lets see what tags we have that have \"Assets\" in their name:"
   ]
  },
  {
   "cell_type": "code",
   "execution_count": 12,
   "id": "0d50df18-1f56-424f-a6c3-f726298080a4",
   "metadata": {
    "tags": []
   },
   "outputs": [
    {
     "data": {
      "text/plain": [
       "Assets                                                                        317347\n",
       "AssetsCurrent                                                                 248267\n",
       "OtherAssetsNoncurrent                                                         156594\n",
       "PrepaidExpenseAndOtherAssetsCurrent                                           109390\n",
       "IntangibleAssetsNetExcludingGoodwill                                          100712\n",
       "OtherAssetsCurrent                                                             68082\n",
       "OtherAssets                                                                    55282\n",
       "FiniteLivedIntangibleAssetsNet                                                 38208\n",
       "DeferredTaxAssetsNetCurrent                                                    34964\n",
       "DeferredTaxAssetsNetNoncurrent                                                 28612\n",
       "DeferredIncomeTaxAssetsNet                                                     24687\n",
       "AssetsNoncurrent                                                               19657\n",
       "PrepaidExpenseAndOtherAssets                                                   14322\n",
       "FiniteLivedIntangibleAssetsAccumulatedAmortization                             14271\n",
       "AssetsOfDisposalGroupIncludingDiscontinuedOperationCurrent                     11013\n",
       "DepositsAssetsNoncurrent                                                       10395\n",
       "DeferredTaxAssetsLiabilitiesNetNoncurrent                                       8906\n",
       "IntangibleAssetsNetIncludingGoodwill                                            7538\n",
       "OtherIntangibleAssetsNet                                                        6609\n",
       "DerivativeAssetsCurrent                                                         6239\n",
       "AssetsHeldInTrustNoncurrent                                                     6040\n",
       "DeferredTaxAssetsNet                                                            5679\n",
       "DeferredTaxAssetsLiabilitiesNetCurrent                                          5624\n",
       "DeferredTaxAssetsLiabilitiesNet                                                 4659\n",
       "RegulatoryAssetsNoncurrent                                                      4577\n",
       "DerivativeAssetsNoncurrent                                                      4396\n",
       "OtherRealEstateAndForeclosedAssets                                              4146\n",
       "DerivativeAssets                                                                4017\n",
       "DepositsAssetsCurrent                                                           3673\n",
       "AssetsOfDisposalGroupIncludingDiscontinuedOperation                             3411\n",
       "DisposalGroupIncludingDiscontinuedOperationAssetsNoncurrent                     3241\n",
       "IndefiniteLivedIntangibleAssetsExcludingGoodwill                                3145\n",
       "RegulatoryAssetsCurrent                                                         2963\n",
       "AssetsHeldForSaleNotPartOfDisposalGroupCurrent                                  2917\n",
       "DefinedBenefitPlanAssetsForPlanBenefitsNoncurrent                               2803\n",
       "AssetsHeldForSaleCurrent                                                        2682\n",
       "DepositAssets                                                                   2631\n",
       "DepositsAssets                                                                  2615\n",
       "ForeclosedAssets                                                                2314\n",
       "InvestmentsAndOtherNoncurrentAssets                                             2066\n",
       "OtherAssetsMiscellaneousNoncurrent                                              2018\n",
       "SeparateAccountAssets                                                           1927\n",
       "PrepaidExpenseAndOtherAssetsNoncurrent                                          1513\n",
       "InterestReceivableAndOtherAssets                                                1510\n",
       "AssetsNet                                                                       1459\n",
       "AssetsHeldForSaleNotPartOfDisposalGroup                                         1434\n",
       "LiabilitiesOfAssetsHeldForSale                                                  1369\n",
       "FiniteLivedIntangibleAssetsGross                                                1280\n",
       "DeferredCostsAndOtherAssets                                                     1244\n",
       "AssetsNoncurrentOtherThanNoncurrentInvestmentsAndPropertyPlantAndEquipment      1216\n",
       "Name: tag, dtype: int64"
      ]
     },
     "execution_count": 12,
     "metadata": {},
     "output_type": "execute_result"
    }
   ],
   "source": [
    "all_bs_joinedbag.pre_num_df.tag[all_bs_joinedbag.pre_num_df.tag.str.contains(\"Assets\")].value_counts()[:50] # only show the top 50"
   ]
  },
  {
   "cell_type": "markdown",
   "id": "43c9cbe2-75fa-4dbd-816b-b871b8f07886",
   "metadata": {},
   "source": [
    "Another great tool to get a better understanding about the tag hierarchy is ChatGPT. For instance, try out a prompt like the following:\n",
    "\n",
    "*Please visualize the hierarchy of the 50 most common xbrl tags in a balance sheet that belong to \"Assets\". Please create the visualization with ASCII characters only.*\n",
    "\n",
    "Result:\n",
    "\n",
    "    Total Assets\n",
    "    │\n",
    "    ├── Current Assets\n",
    "    │   ├── Cash and Cash Equivalents\n",
    "    │   │   ├── CashAndCashEquivalentsAtCarryingValue\n",
    "    │   │   ├── CashAndCashEquivalentsRestrictedCashAndRestrictedCashEquivalents\n",
    "    │   │   └── CashAndCashEquivalentsAtCarryingValueIncludingDiscontinuedOperations\n",
    "    │   ├── Receivables\n",
    "    │   │   ├── AccountsReceivableNetCurrent\n",
    "    │   │   └── ReceivablesNetCurrent\n",
    "    │   ├── Inventories\n",
    "    │   │   ├── InventoryNet\n",
    "    │   │   └── InventoriesFinishedGoodsNetOfReserves\n",
    "    │   ├── Prepaid Expenses\n",
    "    │   │   └── PrepaidExpenseAndOtherAssetsCurrent\n",
    "    │   └── Other Current Assets\n",
    "    │       ├── OtherAssetsCurrent\n",
    "    │       └── AssetsHeldForSaleCurrent\n",
    "    │\n",
    "    ├── Non-Current Assets\n",
    "    │   ├── Property, Plant, and Equipment (PP&E)\n",
    "    │   │   ├── PropertyPlantAndEquipmentNet\n",
    "    │   │   └── LandAndBuildingsNetOfAccumulatedDepreciation\n",
    "    │   ├── Intangible Assets\n",
    "    │   │   ├── Goodwill\n",
    "    │   │   └── IntangibleAssetsNetExcludingGoodwill\n",
    "    │   ├── Investments\n",
    "    │   │   ├── InvestmentsAndAdvances\n",
    "    │   │   └── InvestmentsNoncurrent\n",
    "    │   ├── Deferred Tax Assets\n",
    "    │   │   └── DeferredTaxAssetsNoncurrent\n",
    "    │   └── Other Non-Current Assets\n",
    "    │       ├── OtherAssetsNoncurrent\n",
    "    │       ├── OtherIntangibleAssetsNet\n",
    "    │       └── AssetsHeldForSaleNoncurrent\n",
    "    │\n",
    "    ├── Restricted Assets\n",
    "    │   ├── RestrictedCashAndCashEquivalentsNoncurrent\n",
    "    │   ├── RestrictedCashAndCashEquivalentsAtCarryingValue\n",
    "    │   └── RestrictedCashAndInvestmentsNoncurrent\n",
    "    │\n",
    "    ├── Financial Instruments\n",
    "    │   ├── MarketableSecurities\n",
    "    │   │   ├── MarketableSecuritiesCurrent\n",
    "    │   │   └── MarketableSecuritiesNoncurrent\n",
    "    │   ├── AvailableForSaleSecurities\n",
    "    │   │   ├── AvailableForSaleSecuritiesCurrent\n",
    "    │   │   └── AvailableForSaleSecuritiesNoncurrent\n",
    "    │   └── TradingSecurities\n",
    "    │       ├── TradingSecuritiesCurrent\n",
    "    │       └── TradingSecuritiesNoncurrent\n",
    "    │\n",
    "    └── Other Assets\n",
    "        ├── OtherAssets\n",
    "        ├── MiscellaneousAssets\n",
    "        └── DerivativeAssets\n",
    "            ├── DerivativeAssetsCurrent\n",
    "            └── DerivativeAssetsNoncurrent\n",
    "\n",
    "\n",
    "Is the tag `RestrictedCashAndCashEquivalentsNoncurrent` actually being used?"
   ]
  },
  {
   "cell_type": "code",
   "execution_count": 18,
   "id": "fa0c6a89-f4f6-44f1-9d1b-5a1c343e9323",
   "metadata": {
    "tags": []
   },
   "outputs": [
    {
     "data": {
      "text/plain": [
       "11727"
      ]
     },
     "execution_count": 18,
     "metadata": {},
     "output_type": "execute_result"
    }
   ],
   "source": [
    "sum(all_bs_joinedbag.pre_num_df.tag == \"RestrictedCashAndCashEquivalentsNoncurrent\")"
   ]
  },
  {
   "cell_type": "markdown",
   "id": "4dc5eb4f-6705-4ebb-b812-ba72f0c07627",
   "metadata": {},
   "source": [
    "As it is with LLMs, sometimes information is made up, or does not actually reflect actual official tags. None the less, LLMs can help to get a good understanding of the hierarchy of tags."
   ]
  },
  {
   "cell_type": "markdown",
   "id": "618a4c94-b7d4-43a2-92c4-e37db8c5272f",
   "metadata": {},
   "source": [
    "\n",
    "\n",
    "Find out what tag is used in a certain report\n",
    "- interactive notebook\n",
    "- sec site\n",
    "\n",
    "\n",
    "welche tags\n",
    "wie oft werden diese benutuzt / wie common sind sie\n",
    "\n",
    "ChatGPT\n",
    "looking in the data\n",
    "look directly in the SEC page -> either the original report itself or the \"interactive data\" of the report"
   ]
  }
 ],
 "metadata": {
  "kernelspec": {
   "display_name": "Python 3 (ipykernel)",
   "language": "python",
   "name": "python3"
  },
  "language_info": {
   "codemirror_mode": {
    "name": "ipython",
    "version": 3
   },
   "file_extension": ".py",
   "mimetype": "text/x-python",
   "name": "python",
   "nbconvert_exporter": "python",
   "pygments_lexer": "ipython3",
   "version": "3.10.0"
  }
 },
 "nbformat": 4,
 "nbformat_minor": 5
}
