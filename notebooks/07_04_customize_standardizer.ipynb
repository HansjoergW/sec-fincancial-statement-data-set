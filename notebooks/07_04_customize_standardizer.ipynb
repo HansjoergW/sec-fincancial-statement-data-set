{
 "cells": [
  {
   "cell_type": "code",
   "execution_count": null,
   "id": "2a419685-e6e4-4626-95e2-6a7c7c9f7411",
   "metadata": {},
   "outputs": [],
   "source": [
    "import pandas as pd\n",
    "# ensure that all columns are shown and that colum content is not cut\n",
    "pd.set_option('display.max_columns', None)\n",
    "pd.set_option('display.max_colwidth', None)\n",
    "pd.set_option('display.width',1000)\n",
    "pd.set_option('display.max_rows', 500) # ensure that all rows are shown"
   ]
  },
  {
   "cell_type": "markdown",
   "id": "439fd62c-ebd8-4a93-9309-0b120d26d5f9",
   "metadata": {},
   "source": [
    "# Customize Standardizer\n",
    "This Notebook gives some ideas how you could customize the standardizer classes.\n",
    "\n",
    "All three standardizer classes `BalanceSheetStandardizer`, `IncomeStatementStandardizer`, and `CashFlowStandardizer` are derived from the same base class `Standardizer` and share the same constructor parameters. In fact, the whole behavior of the standardizer is defined by these parameters and the three standardizer classes are just containers which define the values for the constructor parameters but do not define additional methods or overwrite existing methods. So, it is simply a configuration of the base class.\n",
    "\n",
    "Since every constructor parameter can be overwritten when instantiating one of the three standardizer classes, you can customize the standardizer in three ways:\n",
    "\n",
    "1. Simply adapt the parameters of the constructor when you instantiate `BalanceSheetStandardizer`, `IncomeStatementStandardizer`, or `CashFlowStandardizer`. A simply way, for instance, to adapt the list of tags/columns that should appear in the final result.\n",
    "2. Create a sublcass of `BalanceSheetStandardizer`, `IncomeStatementStandardizer`, or `CashFlowStandardizer` and redefine certain, more complex rules. For instance, maybe you want to define additional `Validation` rules, or you want to change the `Post` rules so that NaN-values are not set to zero but instead stay undefined.\n",
    "3. Create a subclass directly from `Standardizer` and define everything yourself."
   ]
  },
  {
   "cell_type": "markdown",
   "id": "2189f407-0003-44db-b957-21ed3c79908e",
   "metadata": {},
   "source": [
    "## Basic Constructor Parameters\n",
    "\n",
    "The following simple bascic constructors are available to change some details of the behavior."
   ]
  },
  {
   "cell_type": "markdown",
   "id": "363a3735-a1bd-4343-9a71-8c955aaec5c3",
   "metadata": {},
   "source": [
    "### `filter_for_main_statement`\n",
    "\n",
    "A quaterly or annual report usually contains many different tables with data. Beside the tables with the primary financial information (Balance Sheet, Income Statement, or the CashFlow) there tables that often contain part of the information from the primary financial statements. Usually, however, you are just interested in the tables that contain the primary financial information.\n",
    "\n",
    "If this flag is set to true (which is the default value), only the table that contains most data points that generally belong to the appropriate statement, will be returned in the result set."
   ]
  },
  {
   "cell_type": "markdown",
   "id": "e33ab955-dfa3-4e07-a24f-c71a834f2b0c",
   "metadata": {},
   "source": [
    "### `additional_final_sub_fields`\n",
    "\n",
    "When you call the `process` method of a standardizer, you will receive a restulting dataframe that just contains the `adsh` column as an identifier. In contrary, when you use the `present` method, the resulting data frame is enriched with additional information from the sub_df. By default, these are the columns `cik`, `name` (the last registered name of the company), `form` (either 10-K or 10Q), `fye` (the financial year ending as MMDD), `fy` (the financial year to which the report belongs), `fp` (the financial period Q1, Q2, Q3, or FY), `filed` (date when the report was filed with the SEC as an integer value in the format YYYYMMDD), `data` (same as `filed` but as areal date format).\n",
    "\n",
    "However, there are many more columns in the sub_df available (like contact information). So if you would like to have the zip code of the town where the company is based, you can define this with the `additional_final_sub_fields` parameter:\n",
    "\n",
    "    bs_standardizer = BalanceSheetStandardizer(additional_final_sub_fields=['zipba'])\n",
    "\n",
    "    result_df = bs_standardizer.present(joined_bag)\n",
    "    \n",
    "    # or via the get_standardize_bag\n",
    "    bs_standardizer.get_standardize_bag().result_df\n"
   ]
  },
  {
   "cell_type": "markdown",
   "id": "805fca3c-abb3-47ce-9d19-dacaaf9e8fb5",
   "metadata": {},
   "source": [
    "### `additional_final_tags`\n",
    "\n",
    "Every standardizer defines an internal list `final_tags` which defines the tags (resp. the columns) that are contained in the data frame that is returned. This columns are only a subset and sometimes aggregated fields of the fields that actually are avaiable. As the name standardizer suggest, the goal is to just provide information that is available in most of the reports. \n",
    "\n",
    "There may be situations, when you would like to have additional tags returned as well. For instance, instead of just having `LiabilitiesNoncurrent`, you might also be interested in the `LongTermDebt`. This is possible by defining the `additional_final_tags` parameter:\n",
    "\n",
    "\n",
    "    bs_standardizer = BalanceSheetStandardizer(additional_final_tags=['LongTermDebt'])\n",
    "\n",
    "    result_df = bs_standardizer.present(joined_bag)\n",
    "    \n",
    "    # or via the get_standardize_bag\n",
    "    bs_standardizer.get_standardize_bag().result_df"
   ]
  },
  {
   "cell_type": "markdown",
   "id": "54bb12a5-7a4d-474b-9acf-9cad968d1ab8",
   "metadata": {},
   "source": [
    "### `final_tags`\n",
    "\n",
    "Instead of just adding additional final tags with the `additional_final_tags` parameter, you can redefine the whole list directly with `final_tags` parameter. For instance, if you want to remove certain tags from the final result, or if you want them to appear in a certain order.\n",
    "\n",
    "    # The default list is\n",
    "    #     ['Assets', 'AssetsCurrent', 'Cash', 'AssetsNoncurrent',\n",
    "    #      'Liabilities', 'LiabilitiesCurrent', 'LiabilitiesNoncurrent',\n",
    "    #      'Equity',\n",
    "    #      'HolderEquity',\n",
    "    #      'RetainedEarnings',\n",
    "    #      'AdditionalPaidInCapital',\n",
    "    #      'TreasuryStockValue',\n",
    "    #      'TemporaryEquity',\n",
    "    #      'RedeemableEquity',\n",
    "    #      'LiabilitiesAndEquity'] \n",
    "    # However, we are only interested in a subset of it and in a different order, so we adapt final_tags\n",
    "    bs_standardizer = BalanceSheetStandardizer(final_tags=['LiabilitiesCurrent', 'LiabilitiesNoncurrent', 'Liabilities', 'AssetsCurrent', 'AssetsNoncurrent', 'Assets'])\n",
    "\n",
    "    result_df = bs_standardizer.present(joined_bag)\n",
    "    \n",
    "    # or via the get_standardize_bag\n",
    "    bs_standardizer.get_standardize_bag().result_df"
   ]
  },
  {
   "cell_type": "markdown",
   "id": "1b7e8914-a708-489d-b227-10bdb3b8c1a4",
   "metadata": {},
   "source": [
    "## Subclassing\n",
    "\n",
    "Subclassing makes sense when you want to change the more complex parameters. For instance, the definition of rules. Of course, you could also diretly do that just by changing the parameter, but it might make sense to put such definitions within a special class.\n",
    "\n",
    "The following example shows, how we could change the definition of the `Post` rules, so that values are not set to zero in the `BalanceSheetStandardizer`.\n",
    "\n",
    "    class NoSetToZeroBalanceSheetStandardizer(BalanceSheetStandardizer):\n",
    "   \n",
    "        # redefined post_rule_tree without any PostSetToZero rules\n",
    "        post_rule_tree = RuleGroup(prefix=\"BS_POST\",\n",
    "                               rules=[\n",
    "                                   # if only Assets is sets, set the AssetsCurrent to value\n",
    "                                   # of Assets and AssetsNoncurrent to 0\n",
    "                                   PostCopyToFirstSummand(sum_tag='Assets',\n",
    "                                                          first_summand='AssetsCurrent',\n",
    "                                                          other_summands=[\n",
    "                                                              'AssetsNoncurrent']),\n",
    "                                   # if only Liabilities is sets, set the LiabilitiesCurrent to\n",
    "                                   # value of Liabilities and LiabilitiesNoncurrent to 0\n",
    "                                   PostCopyToFirstSummand(sum_tag='Liabilities',\n",
    "                                                          first_summand='LiabilitiesCurrent',\n",
    "                                                          other_summands=[\n",
    "                                                              'LiabilitiesNoncurrent']),\n",
    "                               ])\n",
    "        \n",
    "        def __init__():\n",
    "            super().__init__(\n",
    "                post_rule_tree=post_rule_tree\n",
    "            )\n",
    "   \n",
    "   \n",
    "   \n"
   ]
  },
  {
   "cell_type": "markdown",
   "id": "9a143eb7-3ef2-4401-baee-68eee0abf1bf",
   "metadata": {},
   "source": [
    "# How to find Tags"
   ]
  },
  {
   "cell_type": "code",
   "execution_count": null,
   "id": "301ca5bf-26cf-4593-80ba-7b0414deaaa9",
   "metadata": {},
   "outputs": [],
   "source": []
  }
 ],
 "metadata": {
  "kernelspec": {
   "display_name": "Python 3 (ipykernel)",
   "language": "python",
   "name": "python3"
  },
  "language_info": {
   "codemirror_mode": {
    "name": "ipython",
    "version": 3
   },
   "file_extension": ".py",
   "mimetype": "text/x-python",
   "name": "python",
   "nbconvert_exporter": "python",
   "pygments_lexer": "ipython3",
   "version": "3.10.0"
  }
 },
 "nbformat": 4,
 "nbformat_minor": 5
}
