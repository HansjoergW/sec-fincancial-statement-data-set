{
 "cells": [
  {
   "cell_type": "markdown",
   "id": "1df9d333-7247-4e89-b333-6c8f26e846f1",
   "metadata": {},
   "source": [
    "# Financial Statements Standardizer"
   ]
  },
  {
   "cell_type": "markdown",
   "id": "b7134494-451f-4370-ab92-ffaa64d7d5d8",
   "metadata": {},
   "source": [
    "## Goal"
   ]
  },
  {
   "cell_type": "markdown",
   "id": "9c841a03-6bb9-4cf1-8b0f-a8857a4ad8f5",
   "metadata": {},
   "source": [
    "Even when adhering to the US-GAAP standard, financial statements among different companies or even across different years of the same company are often not directly comparable.\n",
    "\n",
    "Let's examine the balance sheet to illustrate a couple of problems that can arise:\n",
    "\n",
    "- There are over 3000 different tags that could be used in a balance sheet, even though a balance sheet typically only has about 30-40 rows.\n",
    "- Some tags have a similar meaning; for instance, the position \"Total assets\" can be tagged with \"Assets,\" but sometimes, the tag \"AssetsNet\" is also used.\n",
    "- Sometimes not all major positions are presented. For instance, normally, you expect Liabilities, LiabilitiesCurrent, and LiabilitiesNoncurrent to appear in the balance sheet. However, in some reports, only Liabilities, Liabilities, and only detailed positions of LiabilitiesNoncurrent are listed, with no total position for LiabilitiesCurrent. Sometimes even the total position for liabilities is missing.\n",
    "\n",
    "The Standardizer processes the data and produces comparable statements that contain the main positions of a certain financial statement. For example, the balance sheet standardizer produces reports with values for Assets, AssetsCurrent, AssetsNoncurrent, Liabilities, LiabilitiesCurrent, LiabilitiesNoncurrent, Equity, as well as a few other positions that are not always present.\n",
    "\n",
    "To achieve this, the standardizer uses a **simple rule framework** that lets you define rules acting on the data. In the context of the balance sheet, a few rules include:\n",
    "- If there is an AssetsNet tag but no Assets tag, copy the value from AssetsNet to Assets.\n",
    "- If two of the tags Assets, AssetsCurrent, AssetsNoncurrent are present, calculate the missing one by applying the formula Assets = AssetsCurrent + AssetsNoncurrent.\n",
    "- If the LiabilitiesNoncurrent tag is missing, sum up any existing detail tags of LiabilitiesNoncurrent and store the sum in the LiabilitiesNoncurrent tag.\n",
    "\n",
    "Since calculations are involved, which under certain circumstances could be incorrect or problematic, **any action is logged**. Therefore, if a specific rule was applied for a certain report/financial statement, it is logged. With that information, a user can trace how many rules and which rules were applied to which tags of a particular report.\n",
    "\n",
    "As mentioned, applying certain rules could lead under certain circumstances to incorrect results or interpretations. Moreover, the input data could also be incorrect or essential information could be missing from the dataset altogether. Therefore, **validation rules** can be defined and are applied at the end of processing the data. In the case of the balance sheet, a few examples of validation rules are Assets = AssetsCurrent + AssetsNoncurrent, Liabilities = LiabilitiesCurrent + LiabilitiesNoncurrent, Assets = Liabilities + Equity. These validation checks are applied for every financial statement, and the results are presented with a relative error and a categorized error (category 0 = exact match, category 1 = less than 1%, category 5 = less than 5%, category 10 = less than 10%, category 100 = greater than 10%). For instance, if you want to use the data to train an ML model, you might want to choose only statements with all checks below category 5.\n"
   ]
  },
  {
   "cell_type": "markdown",
   "id": "89000559-c0e5-41fe-9628-c6a5241e5184",
   "metadata": {},
   "source": [
    "## Main Process"
   ]
  },
  {
   "cell_type": "markdown",
   "id": "fecee420-6420-45de-bba3-844b4def1638",
   "metadata": {},
   "source": [
    "The main process has four main steps:\n",
    "\n",
    "1. Preprocessing\n",
    "    1. Based on the rules that are defined, all tags that are not used by these rules, are removed\n",
    "    1. Deduplication: sometimes in the data, the value for certain tags or even all tags of a financial statements appear more than once. These duplicated entries have to be removed\n",
    "    1. Invert negated values: the sign of values that are marked as negated is changed\n",
    "    1. Pivot the table: So far, every tag with its value has its own row in the dataset. However, what we want to have is that every tag has its own column\n",
    "    1. Filter for main statement: sometimes, an financial report has more than one table that is attributed to a certain financial statement. For instance, there may be the main balance sheet statement and a somewhat reduced one in the same report. This steps tries to keep just the main statement.\n",
    "    1. Apply the preprocess rules: The idea of preprocess rules is to correct errors in the data. For instance, reports exists where the tags for Assets and AssetsNoncurrent are mixed up, meaning the value of Assets is tagged as AssetsNoncurrent and vice versa. With preprocess rules, we can fix such errors\n",
    "    1. Preparation of log dataframes\n",
    "2. Mainprocessing <br> This step applies the main rule. They are applied in the order in which they are defined. Also, they whole rule tree can be applied more than once, since applying a rule at the end of the tree could calculate a not present tag that then can be used to calculate another value.\n",
    "3. Postprocessing <br> in the \n",
    " \n",
    "\n",
    "    "
   ]
  },
  {
   "cell_type": "markdown",
   "id": "bfe75e0d-5ffc-4598-b92c-305ecc97d139",
   "metadata": {},
   "source": [
    "content\n",
    "- goal\n",
    "- problems / examples\n",
    "  -missing liabilities and lieabilitiesnoncurrent tags\n",
    "- what does the standardizer to\n",
    " - pre steps\n",
    "   - deduplication\n",
    "   - correct errors\n",
    " - main rules\n",
    "  - iterateed\n",
    " - post rule\n",
    " - validation\n",
    "- loading and saving information\n",
    "\n",
    "-Example BalanceSheet\n",
    "- input \n",
    "   -> filtered data \n",
    "   -> only statement, only one currency, only main company, only standardized tags\n",
    "- what kind of logs are produced, what do they show\n",
    "- what you should consider if using standardized information\n",
    "  -> check logs / check validation summary \n",
    "- limitations\n",
    "  wrong data, missing tags in data\n",
    "  none standardized tags\n",
    "  \n",
    "- Empirical approach, definition is not taken into account"
   ]
  }
 ],
 "metadata": {
  "kernelspec": {
   "display_name": "Python 3 (ipykernel)",
   "language": "python",
   "name": "python3"
  },
  "language_info": {
   "codemirror_mode": {
    "name": "ipython",
    "version": 3
   },
   "file_extension": ".py",
   "mimetype": "text/x-python",
   "name": "python",
   "nbconvert_exporter": "python",
   "pygments_lexer": "ipython3",
   "version": "3.10.0"
  }
 },
 "nbformat": 4,
 "nbformat_minor": 5
}
