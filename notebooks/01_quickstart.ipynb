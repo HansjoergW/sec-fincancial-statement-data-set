{
 "cells": [
  {
   "cell_type": "markdown",
   "id": "324e70d1-9876-44ea-88e0-499d2defa890",
   "metadata": {},
   "source": [
    "# Sec Financial Statement Data Sets Tools - Quickstart"
   ]
  },
  {
   "cell_type": "markdown",
   "id": "ec5fd5e7-16f8-406b-b5e4-2b23cf403638",
   "metadata": {},
   "source": [
    "## TL;DR"
   ]
  },
  {
   "cell_type": "markdown",
   "id": "901fe0d2-d257-4b2d-847e-596438672c24",
   "metadata": {},
   "source": [
    "This notebook gives a first introduction into using the secfsdstools (Sec Financial Data Sets Tools) python package: https://pypi.org/project/secfsdstools/\n",
    "\n",
    "It is designed to work with the data provided by the \"Sec Financial Statement Data Sets\" (SFSDS)(https://www.sec.gov/dera/data/financial-statement-data-sets).\n",
    "\n",
    "The SFSDS contains data from all reports that were filed with the sec since 2012. For instance all anual and quarter reports. The main asset that can be retrieved from this data set are the financial statemens (balance sheet, income statement, and cash flow).\n",
    "\n",
    "First, this notebook shows how the library is installed and configured. After that, it shows how the financial statements can be extracted from the data set.\n",
    "\n",
    "For a detailed definition of the data set see https://www.sec.gov/files/aqfs.pdf."
   ]
  },
  {
   "cell_type": "markdown",
   "id": "385ca081-3a9f-42b9-bc85-496c42821e7e",
   "metadata": {},
   "source": [
    "## Principles / Concepts"
   ]
  },
  {
   "cell_type": "markdown",
   "id": "ffe4edea-7b2a-4efd-9b63-96257251a803",
   "metadata": {},
   "source": [
    "The libary will download all data files that are available. Currently, this is a total of 2GB and every year about 200MB are added. Every quarter has its own compressed file which contains the data from the quarter.\n",
    "\n",
    "The reports are indexed in a simple sqlite database, which makes finding the a report much more efficient. As of the end of 2022, there are over 500'000 reports from more than 15'000 companies.\n",
    "\n",
    "The library is storage and memory efficient. The data is directly read from the compressed files. Moreover, only the requested data is read and instantiated as pandas dataframes."
   ]
  },
  {
   "cell_type": "markdown",
   "id": "9e66226a-90c8-402e-9c61-85bb656e2e21",
   "metadata": {},
   "source": [
    "## Installation\n",
    "In order to install the library, just use pip install:\n",
    "```\n",
    "pip install secfsdstools\n",
    "```"
   ]
  },
  {
   "cell_type": "markdown",
   "id": "7c85678c-22c7-422d-8d86-00adc9008124",
   "metadata": {},
   "source": [
    "## Configuration / Setup"
   ]
  },
  {
   "cell_type": "markdown",
   "id": "d076cff1-a3a6-486b-a681-ee27db71778f",
   "metadata": {},
   "source": [
    "In order to be used, the library needs to know where to store the compressed files from the SFSDS and where to store the sqlite database file. This is configured in a configuration file.\n",
    "\n",
    "The easiest way to create the configuration file is to import the update method of the library and run it:"
   ]
  },
  {
   "cell_type": "code",
   "execution_count": null,
   "id": "df8c6cd6-9713-4f85-afbf-fdebb7a02cb1",
   "metadata": {},
   "outputs": [],
   "source": [
    "from secfsdstools.update import update\n",
    "\n",
    "update()"
   ]
  },
  {
   "cell_type": "markdown",
   "id": "17d4c466-3431-48b7-b2c8-b8fe68710110",
   "metadata": {},
   "source": [
    "If you run the method for the first time, it will fail with the following message:\n",
    "```\n",
    "No config file found at home directory C:\\Users\\hansj\\.secfsdstools.cfg.\n",
    "Config file created at <user-home>/.secfsdstools.cfg. Please check the content and rerun.\n",
    "```\n",
    "\n",
    "As the message says, a default config file was created in your user home directory. It has the following content:\n",
    "```\n",
    "[DEFAULT]\n",
    "downloaddirectory = <userhome>/secfsdstools/data/dld\n",
    "dbdirectory = <userhome>/secfsdstools/data/db\n",
    "useragentemail = your.email@goeshere.com\n",
    "```\n",
    "The downloaddirectory is the folder in which the compressed data files are downloaded and inside the fodler defined in dbdirectory the sqlite db file is created.\n",
    "The useragentemail is set inside the header when requests to sec.gov are made. This should be your email-address, however, since we are only making very few requests, it doesn't really matter if you change it or not.\n",
    "\n",
    "If you plan to use Jupyter, make sure that you configure the directories at a location where your Jupyter process has access. The used default directory (your user home directory) will work.\n",
    "\n",
    "Next, run the update method again."
   ]
  },
  {
   "cell_type": "code",
   "execution_count": 2,
   "id": "c6522bca-9188-4c40-a8d6-bde9bc87884f",
   "metadata": {},
   "outputs": [],
   "source": [
    "from secfsdstools.update import update\n",
    "\n",
    "update()"
   ]
  },
  {
   "cell_type": "markdown",
   "id": "a02187e0-577a-4676-b395-60a2525a25c6",
   "metadata": {},
   "source": [
    "This may take a few minutes. if you want to see the progress of the download, have a look at your download directory."
   ]
  },
  {
   "cell_type": "markdown",
   "id": "1edaab72-fd6a-499c-8dc5-b4ddf52d420b",
   "metadata": {},
   "source": [
    "## Read Financial Statements for apple annual report 2022"
   ]
  },
  {
   "cell_type": "code",
   "execution_count": 4,
   "id": "c17828e1-c467-417a-93a7-4d7fe8b7e245",
   "metadata": {},
   "outputs": [
    {
     "name": "stdout",
     "output_type": "stream",
     "text": [
      "C:\\Users\\hansj\n"
     ]
    }
   ],
   "source": [
    "\n",
    "from os.path import expanduser\n",
    "home = expanduser(\"~\")\n",
    "print(home)"
   ]
  },
  {
   "cell_type": "code",
   "execution_count": 5,
   "id": "0a1166c5-5a7b-4a5f-8254-a7d63750ee23",
   "metadata": {},
   "outputs": [
    {
     "data": {
      "text/plain": [
       "['C:\\\\Users\\\\hansj']"
      ]
     },
     "execution_count": 5,
     "metadata": {},
     "output_type": "execute_result"
    }
   ],
   "source": [
    "import glob\n",
    "glob.glob(home)"
   ]
  },
  {
   "cell_type": "code",
   "execution_count": 7,
   "id": "118f4f99-1645-4342-83ef-465a7a89285a",
   "metadata": {},
   "outputs": [
    {
     "name": "stdout",
     "output_type": "stream",
     "text": [
      "['.anaconda', '.android', '.astropy', '.bash_history', '.cache', '.conda', '.condarc', '.config', '.databricks-connect', '.docker', '.dotnet', '.freemind', '.git', '.gitattributes', '.gitconfig', '.gnupg', '.gtk-bookmarks', '.IntelliJIdea2018.2', '.IntelliJIdea2019.3', '.ipynb_checkpoints', '.ipython', '.ivy2', '.jupyter', '.keras', '.m2', '.matplotlib', '.ms-ad', '.openshot_qt', '.pdfbox.cache', '.pyforest', '.pylint.d', '.pypirc', '.Rhistory', '.scala_history', '.secfsdstools.cfg', '.spyder-py3', '.ssh', '.step', '.surprise_data', '.vscode', '3D Objects', 'ansel', 'Anwendungsdaten', 'AppData', 'bp.png', 'cbhous.page', 'Contacts', 'Cookies', 'Desktop', 'Documents', 'Downloads', 'Dropbox', 'Druckumgebung', 'Eigene Dateien', 'environment.yml', 'examregression.html', 'Favorites', 'GD Elternrat', 'Google Drive', 'googledrive', 'IdeaProjects', 'IntelGraphicsProfiles', 'kabletable.html', 'Links', 'locked', 'Lokale Einstellungen', 'MicrosoftEdgeBackups', 'Music', 'Netzwerkumgebung', 'NTUSER.DAT', 'ntuser.dat.LOG1', 'ntuser.dat.LOG2', 'NTUSER.DAT{61a55033-8625-11eb-ab6c-bdfda83b4d32}.TM.blf', 'NTUSER.DAT{61a55033-8625-11eb-ab6c-bdfda83b4d32}.TMContainer00000000000000000001.regtrans-ms', 'NTUSER.DAT{61a55033-8625-11eb-ab6c-bdfda83b4d32}.TMContainer00000000000000000002.regtrans-ms', 'ntuser.ini', 'OneDrive', 'Pictures', 'Recent', 'regression.html', 'Saved Games', 'seaborn-data', 'Searches', 'secsdfstools.cfg', 'SendTo', 'Startmenü', 'videoprojekte', 'Videos', 'Vorlagen']\n"
     ]
    }
   ],
   "source": [
    "import os\n",
    "dir_list = os.listdir(home)\n",
    "print(dir_list)"
   ]
  },
  {
   "cell_type": "code",
   "execution_count": null,
   "id": "44b3aa0d-1ea7-4b77-80bf-f5ac55b2fd58",
   "metadata": {},
   "outputs": [],
   "source": []
  }
 ],
 "metadata": {
  "kernelspec": {
   "display_name": "Python 3 (ipykernel)",
   "language": "python",
   "name": "python3"
  },
  "language_info": {
   "codemirror_mode": {
    "name": "ipython",
    "version": 3
   },
   "file_extension": ".py",
   "mimetype": "text/x-python",
   "name": "python",
   "nbconvert_exporter": "python",
   "pygments_lexer": "ipython3",
   "version": "3.8.15"
  }
 },
 "nbformat": 4,
 "nbformat_minor": 5
}
