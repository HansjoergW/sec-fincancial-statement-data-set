{
 "cells": [
  {
   "cell_type": "markdown",
   "id": "bfe75e0d-5ffc-4598-b92c-305ecc97d139",
   "metadata": {},
   "source": [
    "content\n",
    "- goal\n",
    "- problems / examples\n",
    "  -missing liabilities and lieabilitiesnoncurrent tags\n",
    "- what does the standardizer to\n",
    " - pre steps\n",
    "   - deduplication\n",
    "   - correct errors\n",
    " - main rules\n",
    " - post rule\n",
    " - validation\n",
    "- loading and saving information\n",
    "- input \n",
    "   -> filtered data \n",
    "   -> only statement, only one currency, only main company, only standardized tags\n",
    "- what kind of logs are produced, what do they show\n",
    "- what you should consider if using standardized information\n",
    "  -> check logs / check validation summary \n",
    "- limitations\n",
    "  wrong data, missing tags in data\n",
    "  none standardized tags\n",
    "  \n",
    "- Empirical approach, definition is not taken into account"
   ]
  }
 ],
 "metadata": {
  "kernelspec": {
   "display_name": "Python 3 (ipykernel)",
   "language": "python",
   "name": "python3"
  },
  "language_info": {
   "codemirror_mode": {
    "name": "ipython",
    "version": 3
   },
   "file_extension": ".py",
   "mimetype": "text/x-python",
   "name": "python",
   "nbconvert_exporter": "python",
   "pygments_lexer": "ipython3",
   "version": "3.10.0"
  }
 },
 "nbformat": 4,
 "nbformat_minor": 5
}
