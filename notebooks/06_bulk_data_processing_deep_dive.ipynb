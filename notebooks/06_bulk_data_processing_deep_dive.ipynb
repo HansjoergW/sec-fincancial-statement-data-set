{
 "cells": [
  {
   "cell_type": "code",
   "execution_count": 1,
   "id": "5974588b-0809-468d-b6e3-e2df73afaacd",
   "metadata": {
    "tags": []
   },
   "outputs": [],
   "source": [
    "import pandas as pd\n",
    "# ensure that all columns are shown and that colum content is not cut\n",
    "pd.set_option('display.max_columns', None)\n",
    "pd.set_option('display.max_colwidth', None)\n",
    "pd.set_option('display.width',1000)\n",
    "pd.set_option('display.max_rows', 500) # ensure that all rows are shown"
   ]
  },
  {
   "cell_type": "markdown",
   "id": "333f3746-2750-4526-a4d9-b97ca6a1e167",
   "metadata": {},
   "source": [
    "# Bulk Data Processing Deep Dive\n",
    "The main advantage of this library is that the all data is downloaded down to your computer and therefore makes it easy to analyze all the data at once. \n",
    "\n",
    "For instance, if you want to implement your own screener.\n",
    "\n",
    "Just on the file system, the size of all data files is more than 2 GB. Since the parquet format is also storage optimized, loading all the data into memory would need significantly more memory than a standard computer/laptop usually provides.\n",
    "\n",
    "Hence it is important to filter the data during the loading process, so that you only load the data into memory that is really needed."
   ]
  },
  {
   "cell_type": "markdown",
   "id": "8ba379f1-5124-4bc4-bd2d-3cfc292ba03f",
   "metadata": {},
   "source": [
    "## Prepare Datasets\n",
    "In the first part of this notebook, we will create different datasets for all the balance sheet datapoints, the cashflow datapoints, and the income statement datapoints.\n",
    "These datasets will be stored in their own directories, so that they can be easily loaded afterwards. Moreover, we will store the raw version (where the num_df and the pre_df are not joined) and the joined version, where num_df and pre_df are joined. Depending on what you want to do/analyze, you can use either one.\n",
    "\n",
    "**Note:** The code that is explained here is also available in the modul `bulk_loading` which is inside the `u_usecase` package.\n",
    "\n",
    "This notebook will show two approaches. The first one is loading all the data in parallel, which you can do if you have enough resources in your computer. The second is doing it sequentially, which is slower, but needs less memory. In the end, you will create these datasets once and extend it when new quarterly zip files arrive, or you will recreate them once every quarter. So in the end it doesn't really matter if the process takes 15 minutes or an hour.\n",
    "\n",
    "We will also apply different filters:\n",
    "\n",
    "* only filter 10-K and 10-Q reports during loading\n",
    "* `ReportPeriodRawFilter`: since we are only interested in datapoints that belong to the period of the report\n",
    "* `MainCoregRawFilter`: since we don't want to see datapoints of a subsidiary\n",
    "* `OfficialTagsOnlyRawFilter`: since we want to be able to compare the content and therefore don't want to read tags that or not in the standard sec xbrl definition\n",
    "* `USDOnlyRawFilter`: since we are not interested in money datapoints that are not in USD"
   ]
  },
  {
   "cell_type": "markdown",
   "id": "c1904d65-28df-47e1-9385-9b60098afc6e",
   "metadata": {},
   "source": [
    "### Basics\n",
    "First, we will defines some basic stuff that is used by both approaches."
   ]
  },
  {
   "cell_type": "code",
   "execution_count": 2,
   "id": "d0d01c1f-8479-4360-aab6-164068424126",
   "metadata": {
    "tags": []
   },
   "outputs": [
    {
     "name": "stderr",
     "output_type": "stream",
     "text": [
      "2024-10-06 11:51:10,460 [INFO] configmgt  reading configuration from C:\\Users\\hansj\\.secfsdstools.cfg\n"
     ]
    }
   ],
   "source": [
    "import os\n",
    "from secfsdstools.d_container.databagmodel import RawDataBag, JoinedDataBag\n",
    "from secfsdstools.e_collector.zipcollecting import ZipCollector"
   ]
  },
  {
   "cell_type": "markdown",
   "id": "f6e87306-9242-4523-9b81-0293069ddebe",
   "metadata": {},
   "source": [
    "The following list defines which statements we want to load."
   ]
  },
  {
   "cell_type": "code",
   "execution_count": 3,
   "id": "594116ef-3645-4dcc-9942-201bfe343e07",
   "metadata": {
    "tags": []
   },
   "outputs": [],
   "source": [
    "statements_to_load = [\"BS\", \"CF\", \"IS\", \"CP\"]"
   ]
  },
  {
   "cell_type": "markdown",
   "id": "133b535c-9ad4-4b00-9d39-bdf3dad43663",
   "metadata": {},
   "source": [
    "Next, we define a filter function, that defines the whole chain. As mentioned in the 04_collector_deep_dive.ipynt notebook, we have to define the imports inside the function itself, if we want to use it in jupyter together with parallization."
   ]
  },
  {
   "cell_type": "code",
   "execution_count": 4,
   "id": "6d908348-8e48-461f-a26c-ec0d0f2bbfd0",
   "metadata": {
    "tags": []
   },
   "outputs": [],
   "source": [
    "def postloadfilter(databag: RawDataBag) -> RawDataBag:\n",
    "    from secfsdstools.e_filter.rawfiltering import ReportPeriodRawFilter, MainCoregRawFilter, OfficialTagsOnlyRawFilter, USDOnlyRawFilter\n",
    "\n",
    "    return databag[ReportPeriodRawFilter()][MainCoregRawFilter()][OfficialTagsOnlyRawFilter()][USDOnlyRawFilter()]"
   ]
  },
  {
   "cell_type": "markdown",
   "id": "a0ff096f-b7e8-4e4a-a661-2a95e4b922f5",
   "metadata": {},
   "source": [
    "Next is a simple function that takes a raw databag and creates the joined databag. Both, the rawdatabag and the joined databag are then stored in a specific folder.\n"
   ]
  },
  {
   "cell_type": "code",
   "execution_count": 5,
   "id": "9395fe8a-06c3-4ca4-9953-fc22fa58b9f4",
   "metadata": {
    "tags": []
   },
   "outputs": [],
   "source": [
    "def save_databag(databag: RawDataBag, financial_statement: str, base_path: str) -> JoinedDataBag:\n",
    "    target_path_raw = os.path.join(base_path, financial_statement, 'raw')\n",
    "    print(f\"store rawdatabag under {target_path_raw}\")\n",
    "    os.makedirs(target_path_raw, exist_ok=True)\n",
    "    databag.save(target_path_raw)\n",
    "    \n",
    "    target_path_joined = os.path.join(base_path, financial_statement, 'joined')\n",
    "    os.makedirs(target_path_joined, exist_ok=True)\n",
    "    print(\"create joined databag\")\n",
    "    joined_databag = databag.join()\n",
    "    \n",
    "    print(f\"store joineddatabag under {target_path_joined}\")\n",
    "    joined_databag.save(target_path_joined)\n",
    "    return joined_databag"
   ]
  },
  {
   "cell_type": "markdown",
   "id": "c564ba5e-3334-47a9-94c7-53ba5df7a9c5",
   "metadata": {},
   "source": [
    "### Parallel Data Loading\n",
    "As stated above, we want to load all available 10-K and 10-Q reports. Therefore, we can use the `ZipCollector`which provides an option to load data from all available zip files. \n",
    "\n",
    "Moreover, the implementation of the ziploader uses all your cores in order to load data from your disk into memory. So you don't have to implement the parallization yourself. There are 50+ zip files that have to be loaded, so if you have 4 cores, you will load 4 at one time.\n",
    "\n",
    "Also, the `ZipCollector` provides parameters for filtering the report type (10-K and 10-Q) amd the financial statement type (Balance Sheet, Casch Flow, or Income Statement). These filters are directly applied during loading, since the data is stored in Parquet format. This will already reduce that amount of data that is being loaded into memory significantly.\n",
    "\n",
    "Moreover, it also provides the post_load_filter which we can use to apply the other filters, defined in the postloadfilter function."
   ]
  },
  {
   "cell_type": "code",
   "execution_count": 6,
   "id": "d18ac72e-0020-4ea5-9cd8-373e2f143fde",
   "metadata": {
    "tags": []
   },
   "outputs": [],
   "source": [
    "def load_all_financial_statements_parallel(financial_statement: str) -> RawDataBag:\n",
    "    \"\"\" \n",
    "    financial_statement: either \"BS\", \"CF\", or \"IS\"\n",
    "    \"\"\"\n",
    "\n",
    "    collector: ZipCollector = ZipCollector.get_all_zips(forms_filter=[\"10-K\", \"10-Q\"],\n",
    "                                                        stmt_filter=[financial_statement],\n",
    "                                                        post_load_filter=postloadfilter)\n",
    "    return collector.collect()"
   ]
  },
  {
   "cell_type": "markdown",
   "id": "db367d8c-bda3-4ab1-a555-0e31c6f6bd52",
   "metadata": {},
   "source": [
    "We loop over the statements that we want to load and collect their datapoints into a specific dataset.\n",
    "\n",
    "This process will take several minutes. On my laptop the execution time was approximately 20 minutes (32GB Ram / 4/8 Cores)."
   ]
  },
  {
   "cell_type": "code",
   "execution_count": 7,
   "id": "b158ec71-ce9d-49ea-9a23-6f111fcc8811",
   "metadata": {
    "tags": []
   },
   "outputs": [
    {
     "name": "stderr",
     "output_type": "stream",
     "text": [
      "2024-10-06 11:52:17,786 [INFO] configmgt  reading configuration from C:\\Users\\hansj\\.secfsdstools.cfg\n",
      "2024-10-06 11:52:17,791 [INFO] parallelexecution      items to process: 61\n",
      "2024-10-06 11:57:08,240 [INFO] parallelexecution      commited chunk: 0\n"
     ]
    },
    {
     "name": "stdout",
     "output_type": "stream",
     "text": [
      "store rawdatabag under ./set/parallel/BS\\raw\n",
      "create joined databag\n",
      "store joineddatabag under ./set/parallel/BS\\joined\n"
     ]
    },
    {
     "name": "stderr",
     "output_type": "stream",
     "text": [
      "2024-10-06 11:58:51,890 [INFO] configmgt  reading configuration from C:\\Users\\hansj\\.secfsdstools.cfg\n",
      "2024-10-06 11:58:51,893 [INFO] parallelexecution      items to process: 61\n",
      "2024-10-06 12:03:09,493 [INFO] parallelexecution      commited chunk: 0\n"
     ]
    },
    {
     "name": "stdout",
     "output_type": "stream",
     "text": [
      "store rawdatabag under ./set/parallel/CF\\raw\n",
      "create joined databag\n",
      "store joineddatabag under ./set/parallel/CF\\joined\n"
     ]
    },
    {
     "name": "stderr",
     "output_type": "stream",
     "text": [
      "2024-10-06 12:04:44,886 [INFO] configmgt  reading configuration from C:\\Users\\hansj\\.secfsdstools.cfg\n",
      "2024-10-06 12:04:44,895 [INFO] parallelexecution      items to process: 61\n",
      "2024-10-06 12:08:47,531 [INFO] parallelexecution      commited chunk: 0\n"
     ]
    },
    {
     "name": "stdout",
     "output_type": "stream",
     "text": [
      "store rawdatabag under ./set/parallel/IS\\raw\n",
      "create joined databag\n",
      "store joineddatabag under ./set/parallel/IS\\joined\n"
     ]
    },
    {
     "name": "stderr",
     "output_type": "stream",
     "text": [
      "2024-10-06 12:10:17,273 [INFO] configmgt  reading configuration from C:\\Users\\hansj\\.secfsdstools.cfg\n",
      "2024-10-06 12:10:17,279 [INFO] parallelexecution      items to process: 61\n",
      "2024-10-06 12:14:07,884 [INFO] parallelexecution      commited chunk: 0\n"
     ]
    },
    {
     "name": "stdout",
     "output_type": "stream",
     "text": [
      "store rawdatabag under ./set/parallel/CP\\raw\n",
      "create joined databag\n",
      "store joineddatabag under ./set/parallel/CP\\joined\n"
     ]
    }
   ],
   "source": [
    "for statement_to_load in statements_to_load:\n",
    "    rawdatabag = load_all_financial_statements_parallel(financial_statement=statement_to_load)\n",
    "    save_databag(databag=rawdatabag, financial_statement=statement_to_load, base_path=\"./set/parallel/\")"
   ]
  },
  {
   "cell_type": "markdown",
   "id": "0c1b0d7d-683d-40fd-937c-7242c5eb84ce",
   "metadata": {},
   "source": [
    "After processing, you have the following structure and sizes (with data up to 2023 Q3):\n",
    "<pre>\n",
    "- set/parallel\n",
    "  - BS\n",
    "    - raw     : 715 MB\n",
    "    - joined  : 266 MB\n",
    "  - CF\n",
    "    - raw     : 700 MB\n",
    "    - joined  : 246 MB\n",
    "  - IS\n",
    "    - raw     : 636 MB\n",
    "    - joined  : 217 MB\n",
    "  - IS\n",
    "    - raw     :  604 MB\n",
    "    - joined  :   18 MB    \n",
    "</pre>\n",
    "\n",
    "Especially the joined databags have a size that can be easily loaded. Moreover, loading them just takes a few seconds. "
   ]
  },
  {
   "cell_type": "code",
   "execution_count": 8,
   "id": "686cf90c-fe3e-4f28-a987-42d5961695fa",
   "metadata": {
    "tags": []
   },
   "outputs": [
    {
     "name": "stdout",
     "output_type": "stream",
     "text": [
      "loaded BS databag:  (11014858, 16)\n",
      "loaded CF databag:  (9984175, 16)\n",
      "loaded IS databag:  (9968603, 16)\n",
      "loaded CP databag:  (41947, 16)\n"
     ]
    }
   ],
   "source": [
    "#load BS joined data\n",
    "joinedBS = JoinedDataBag.load(\"./set/parallel/BS/joined\")\n",
    "print(\"loaded BS databag: \", joinedBS.pre_num_df.shape)\n",
    "joinedCF = JoinedDataBag.load(\"./set/parallel/CF/joined\")\n",
    "print(\"loaded CF databag: \", joinedCF.pre_num_df.shape)\n",
    "joinedIS = JoinedDataBag.load(\"./set/parallel/IS/joined\")\n",
    "print(\"loaded IS databag: \", joinedIS.pre_num_df.shape)\n",
    "joinedCP = JoinedDataBag.load(\"./set/parallel/CP/joined\")\n",
    "print(\"loaded CP databag: \", joinedCP.pre_num_df.shape)"
   ]
  },
  {
   "cell_type": "markdown",
   "id": "1c15bf60-8266-405b-bf17-f1470c48933b",
   "metadata": {},
   "source": [
    "### Serial Data Loading\n",
    "As mentioned above, parallel loading requires some minimal ressources on your laptop/computer. However, using a serial process, you still can create the databags for all balance sheet, cash flow, and income statments. Of course, we need more code and we will also save intermediate results on disk."
   ]
  },
  {
   "cell_type": "markdown",
   "id": "b26d7a4d-1e01-4349-b400-fcadfea40fb5",
   "metadata": {},
   "source": [
    "The first thing which we need, is a list of all available zip-files. Actually, we just can copy the code from `ZipCollector.get_all_zips()`."
   ]
  },
  {
   "cell_type": "code",
   "execution_count": 9,
   "id": "96fdc620-20d7-4d3b-9294-9b1b696241e6",
   "metadata": {
    "tags": []
   },
   "outputs": [],
   "source": [
    "from typing import List\n",
    "from secfsdstools.a_config.configmgt import ConfigurationManager\n",
    "from secfsdstools.c_index.indexdataaccess import ParquetDBIndexingAccessor\n",
    "\n",
    "def read_all_zip_names() -> List[str]:\n",
    "    configuration = ConfigurationManager.read_config_file()\n",
    "    dbaccessor = ParquetDBIndexingAccessor(db_dir=configuration.db_dir)\n",
    "\n",
    "    # exclude 2009q1.zip, since this is empty and causes an error when it is read with a filter\n",
    "    filenames = [x.fileName for x in dbaccessor.read_all_indexfileprocessing() if not x.fullPath.endswith(\"2009q1.zip\")]\n",
    "    return filenames"
   ]
  },
  {
   "cell_type": "code",
   "execution_count": 10,
   "id": "f2f566bf-0422-40dc-8d2f-b2bce2a842c6",
   "metadata": {
    "tags": []
   },
   "outputs": [
    {
     "name": "stderr",
     "output_type": "stream",
     "text": [
      "2024-10-06 12:21:10,600 [INFO] configmgt  reading configuration from C:\\Users\\hansj\\.secfsdstools.cfg\n"
     ]
    },
    {
     "name": "stdout",
     "output_type": "stream",
     "text": [
      "61\n",
      "['2019q4.zip', '2023q1.zip', '2014q3.zip', '2016q3.zip', '2018q1.zip', '2013q4.zip', '2015q2.zip', '2021q3.zip', '2010q3.zip', '2011q4.zip', '2012q2.zip', '2010q4.zip', '2016q1.zip', '2021q1.zip', '2011q2.zip', '2009q2.zip', '2022q1.zip', '2012q4.zip', '2010q1.zip', '2015q1.zip', '2022q3.zip', '2018q2.zip', '2019q3.zip', '2020q2.zip', '2022q4.zip', '2017q2.zip', '2012q3.zip', '2011q1.zip', '2017q4.zip', '2010q2.zip', '2018q3.zip', '2021q4.zip', '2019q2.zip', '2013q1.zip', '2015q4.zip', '2009q3.zip', '2016q2.zip', '2013q3.zip', '2016q4.zip', '2017q3.zip', '2018q4.zip', '2023q2.zip', '2014q4.zip', '2011q3.zip', '2020q3.zip', '2014q2.zip', '2020q1.zip', '2012q1.zip', '2014q1.zip', '2019q1.zip', '2015q3.zip', '2017q1.zip', '2020q4.zip', '2013q2.zip', '2021q2.zip', '2022q2.zip', '2009q4.zip', '2023q3.zip', '2023q4.zip', '2024q1.zip', '2024q2.zip']\n"
     ]
    }
   ],
   "source": [
    "all_zip_names = read_all_zip_names()\n",
    "print(len(all_zip_names))\n",
    "print(all_zip_names)"
   ]
  },
  {
   "cell_type": "markdown",
   "id": "d8ab160d-2b3c-439b-8fa1-ec87950138ce",
   "metadata": {},
   "source": [
    "**Prepare the temporary dataset**\n",
    "Next, prepare the data for every single zip-file. So for every zip-file, we collect the datapoints for BS, CF, and IS and apply the aove defined filters. The following functions takes care of that."
   ]
  },
  {
   "cell_type": "code",
   "execution_count": 11,
   "id": "4d0d98e6-e6c5-418a-b775-320245dfecda",
   "metadata": {
    "tags": []
   },
   "outputs": [],
   "source": [
    "def build_tmp_set(financial_statement: str, file_names: List[str], target_path: str = \"set/tmp/\"):\n",
    "    \"\"\" This function reads the data in sequence from the provided list of zip file names. It filters according to the \n",
    "        defined financial_statement and stores the data in specific subfolders.\n",
    "        \n",
    "        the folder structure will look like\n",
    "        <target_path>/<file_name>/<financial_statement>/raw\n",
    "        <target_path>/<file_name>/<financial_statement>/joined                                       \n",
    "        \"\"\"\n",
    "    \n",
    "    for file_name in file_names:\n",
    "        collector = ZipCollector.get_zip_by_name(name=file_name,\n",
    "                                 forms_filter=[\"10-K\", \"10-Q\"],\n",
    "                                 stmt_filter=[financial_statement],\n",
    "                                 post_load_filter=postloadfilter)\n",
    "\n",
    "        rawdatabag = collector.collect()\n",
    "\n",
    "        base_path = os.path.join(target_path, file_name)\n",
    "        # saving the raw databag, joining and saving the joined databag\n",
    "        save_databag(databag=rawdatabag, financial_statement=financial_statement, base_path=base_path)"
   ]
  },
  {
   "cell_type": "markdown",
   "id": "93d62cba-893c-4f41-9b06-ae99f8b87244",
   "metadata": {
    "tags": []
   },
   "source": [
    "We call the function for every statement (BS, CF, IS, and CP).\n",
    "As a reference, running all four cells took about 12 minutes on my laptop (32GB Ram / 4/8 Cores)"
   ]
  },
  {
   "cell_type": "code",
   "execution_count": 13,
   "id": "56ae6366-922c-4f32-b63c-e0cc1eed53a5",
   "metadata": {
    "collapsed": true,
    "jupyter": {
     "outputs_hidden": true
    },
    "tags": []
   },
   "outputs": [
    {
     "name": "stderr",
     "output_type": "stream",
     "text": [
      "2024-10-06 12:22:35,950 [INFO] configmgt  reading configuration from C:\\Users\\hansj\\.secfsdstools.cfg\n",
      "2024-10-06 12:22:35,953 [INFO] parallelexecution      items to process: 1\n",
      "2024-10-06 12:22:35,954 [INFO] zipcollecting  processing C:\\Users\\hansj\\secfsdstools\\data\\parquet\\quarter\\2019q4.zip\n",
      "2024-10-06 12:22:37,885 [INFO] parallelexecution      commited chunk: 0\n"
     ]
    },
    {
     "name": "stdout",
     "output_type": "stream",
     "text": [
      "store rawdatabag under set/tmp/2019q4.zip\\BS\\raw\n",
      "create joined databag\n",
      "store joineddatabag under set/tmp/2019q4.zip\\BS\\joined\n"
     ]
    },
    {
     "name": "stderr",
     "output_type": "stream",
     "text": [
      "2024-10-06 12:22:39,691 [INFO] configmgt  reading configuration from C:\\Users\\hansj\\.secfsdstools.cfg\n",
      "2024-10-06 12:22:39,694 [INFO] parallelexecution      items to process: 1\n",
      "2024-10-06 12:22:39,695 [INFO] zipcollecting  processing C:\\Users\\hansj\\secfsdstools\\data\\parquet\\quarter\\2023q1.zip\n",
      "2024-10-06 12:22:41,992 [INFO] parallelexecution      commited chunk: 0\n"
     ]
    },
    {
     "name": "stdout",
     "output_type": "stream",
     "text": [
      "store rawdatabag under set/tmp/2023q1.zip\\BS\\raw\n",
      "create joined databag\n",
      "store joineddatabag under set/tmp/2023q1.zip\\BS\\joined\n"
     ]
    },
    {
     "name": "stderr",
     "output_type": "stream",
     "text": [
      "2024-10-06 12:22:43,948 [INFO] configmgt  reading configuration from C:\\Users\\hansj\\.secfsdstools.cfg\n",
      "2024-10-06 12:22:43,952 [INFO] parallelexecution      items to process: 1\n",
      "2024-10-06 12:22:43,953 [INFO] zipcollecting  processing C:\\Users\\hansj\\secfsdstools\\data\\parquet\\quarter\\2014q3.zip\n",
      "2024-10-06 12:22:46,211 [INFO] parallelexecution      commited chunk: 0\n"
     ]
    },
    {
     "name": "stdout",
     "output_type": "stream",
     "text": [
      "store rawdatabag under set/tmp/2014q3.zip\\BS\\raw\n",
      "create joined databag\n",
      "store joineddatabag under set/tmp/2014q3.zip\\BS\\joined\n"
     ]
    },
    {
     "name": "stderr",
     "output_type": "stream",
     "text": [
      "2024-10-06 12:22:48,255 [INFO] configmgt  reading configuration from C:\\Users\\hansj\\.secfsdstools.cfg\n",
      "2024-10-06 12:22:48,258 [INFO] parallelexecution      items to process: 1\n",
      "2024-10-06 12:22:48,260 [INFO] zipcollecting  processing C:\\Users\\hansj\\secfsdstools\\data\\parquet\\quarter\\2016q3.zip\n",
      "2024-10-06 12:22:50,184 [INFO] parallelexecution      commited chunk: 0\n"
     ]
    },
    {
     "name": "stdout",
     "output_type": "stream",
     "text": [
      "store rawdatabag under set/tmp/2016q3.zip\\BS\\raw\n",
      "create joined databag\n",
      "store joineddatabag under set/tmp/2016q3.zip\\BS\\joined\n"
     ]
    },
    {
     "name": "stderr",
     "output_type": "stream",
     "text": [
      "2024-10-06 12:22:52,012 [INFO] configmgt  reading configuration from C:\\Users\\hansj\\.secfsdstools.cfg\n",
      "2024-10-06 12:22:52,014 [INFO] parallelexecution      items to process: 1\n",
      "2024-10-06 12:22:52,015 [INFO] zipcollecting  processing C:\\Users\\hansj\\secfsdstools\\data\\parquet\\quarter\\2018q1.zip\n",
      "2024-10-06 12:22:54,136 [INFO] parallelexecution      commited chunk: 0\n"
     ]
    },
    {
     "name": "stdout",
     "output_type": "stream",
     "text": [
      "store rawdatabag under set/tmp/2018q1.zip\\BS\\raw\n",
      "create joined databag\n",
      "store joineddatabag under set/tmp/2018q1.zip\\BS\\joined\n"
     ]
    },
    {
     "name": "stderr",
     "output_type": "stream",
     "text": [
      "2024-10-06 12:22:55,859 [INFO] configmgt  reading configuration from C:\\Users\\hansj\\.secfsdstools.cfg\n",
      "2024-10-06 12:22:55,862 [INFO] parallelexecution      items to process: 1\n",
      "2024-10-06 12:22:55,862 [INFO] zipcollecting  processing C:\\Users\\hansj\\secfsdstools\\data\\parquet\\quarter\\2013q4.zip\n",
      "2024-10-06 12:22:58,179 [INFO] parallelexecution      commited chunk: 0\n"
     ]
    },
    {
     "name": "stdout",
     "output_type": "stream",
     "text": [
      "store rawdatabag under set/tmp/2013q4.zip\\BS\\raw\n",
      "create joined databag\n",
      "store joineddatabag under set/tmp/2013q4.zip\\BS\\joined\n"
     ]
    },
    {
     "name": "stderr",
     "output_type": "stream",
     "text": [
      "2024-10-06 12:23:00,203 [INFO] configmgt  reading configuration from C:\\Users\\hansj\\.secfsdstools.cfg\n",
      "2024-10-06 12:23:00,205 [INFO] parallelexecution      items to process: 1\n",
      "2024-10-06 12:23:00,206 [INFO] zipcollecting  processing C:\\Users\\hansj\\secfsdstools\\data\\parquet\\quarter\\2015q2.zip\n",
      "2024-10-06 12:23:02,141 [INFO] parallelexecution      commited chunk: 0\n"
     ]
    },
    {
     "name": "stdout",
     "output_type": "stream",
     "text": [
      "store rawdatabag under set/tmp/2015q2.zip\\BS\\raw\n",
      "create joined databag\n",
      "store joineddatabag under set/tmp/2015q2.zip\\BS\\joined\n"
     ]
    },
    {
     "name": "stderr",
     "output_type": "stream",
     "text": [
      "2024-10-06 12:23:04,018 [INFO] configmgt  reading configuration from C:\\Users\\hansj\\.secfsdstools.cfg\n",
      "2024-10-06 12:23:04,021 [INFO] parallelexecution      items to process: 1\n",
      "2024-10-06 12:23:04,022 [INFO] zipcollecting  processing C:\\Users\\hansj\\secfsdstools\\data\\parquet\\quarter\\2021q3.zip\n",
      "2024-10-06 12:23:05,967 [INFO] parallelexecution      commited chunk: 0\n"
     ]
    },
    {
     "name": "stdout",
     "output_type": "stream",
     "text": [
      "store rawdatabag under set/tmp/2021q3.zip\\BS\\raw\n",
      "create joined databag\n",
      "store joineddatabag under set/tmp/2021q3.zip\\BS\\joined\n"
     ]
    },
    {
     "name": "stderr",
     "output_type": "stream",
     "text": [
      "2024-10-06 12:23:07,859 [INFO] configmgt  reading configuration from C:\\Users\\hansj\\.secfsdstools.cfg\n",
      "2024-10-06 12:23:07,862 [INFO] parallelexecution      items to process: 1\n",
      "2024-10-06 12:23:07,863 [INFO] zipcollecting  processing C:\\Users\\hansj\\secfsdstools\\data\\parquet\\quarter\\2010q3.zip\n",
      "2024-10-06 12:23:08,246 [INFO] parallelexecution      commited chunk: 0\n"
     ]
    },
    {
     "name": "stdout",
     "output_type": "stream",
     "text": [
      "store rawdatabag under set/tmp/2010q3.zip\\BS\\raw\n"
     ]
    },
    {
     "name": "stderr",
     "output_type": "stream",
     "text": [
      "2024-10-06 12:23:08,663 [INFO] configmgt  reading configuration from C:\\Users\\hansj\\.secfsdstools.cfg\n",
      "2024-10-06 12:23:08,666 [INFO] parallelexecution      items to process: 1\n",
      "2024-10-06 12:23:08,667 [INFO] zipcollecting  processing C:\\Users\\hansj\\secfsdstools\\data\\parquet\\quarter\\2011q4.zip\n"
     ]
    },
    {
     "name": "stdout",
     "output_type": "stream",
     "text": [
      "create joined databag\n",
      "store joineddatabag under set/tmp/2010q3.zip\\BS\\joined\n"
     ]
    },
    {
     "name": "stderr",
     "output_type": "stream",
     "text": [
      "2024-10-06 12:23:10,472 [INFO] parallelexecution      commited chunk: 0\n"
     ]
    },
    {
     "name": "stdout",
     "output_type": "stream",
     "text": [
      "store rawdatabag under set/tmp/2011q4.zip\\BS\\raw\n",
      "create joined databag\n",
      "store joineddatabag under set/tmp/2011q4.zip\\BS\\joined\n"
     ]
    },
    {
     "name": "stderr",
     "output_type": "stream",
     "text": [
      "2024-10-06 12:23:12,205 [INFO] configmgt  reading configuration from C:\\Users\\hansj\\.secfsdstools.cfg\n",
      "2024-10-06 12:23:12,208 [INFO] parallelexecution      items to process: 1\n",
      "2024-10-06 12:23:12,209 [INFO] zipcollecting  processing C:\\Users\\hansj\\secfsdstools\\data\\parquet\\quarter\\2012q2.zip\n",
      "2024-10-06 12:23:13,907 [INFO] parallelexecution      commited chunk: 0\n"
     ]
    },
    {
     "name": "stdout",
     "output_type": "stream",
     "text": [
      "store rawdatabag under set/tmp/2012q2.zip\\BS\\raw\n",
      "create joined databag\n",
      "store joineddatabag under set/tmp/2012q2.zip\\BS\\joined\n"
     ]
    },
    {
     "name": "stderr",
     "output_type": "stream",
     "text": [
      "2024-10-06 12:23:15,730 [INFO] configmgt  reading configuration from C:\\Users\\hansj\\.secfsdstools.cfg\n",
      "2024-10-06 12:23:15,733 [INFO] parallelexecution      items to process: 1\n",
      "2024-10-06 12:23:15,734 [INFO] zipcollecting  processing C:\\Users\\hansj\\secfsdstools\\data\\parquet\\quarter\\2010q4.zip\n",
      "2024-10-06 12:23:16,160 [INFO] parallelexecution      commited chunk: 0\n"
     ]
    },
    {
     "name": "stdout",
     "output_type": "stream",
     "text": [
      "store rawdatabag under set/tmp/2010q4.zip\\BS\\raw\n"
     ]
    },
    {
     "name": "stderr",
     "output_type": "stream",
     "text": [
      "2024-10-06 12:23:16,632 [INFO] configmgt  reading configuration from C:\\Users\\hansj\\.secfsdstools.cfg\n",
      "2024-10-06 12:23:16,636 [INFO] parallelexecution      items to process: 1\n",
      "2024-10-06 12:23:16,637 [INFO] zipcollecting  processing C:\\Users\\hansj\\secfsdstools\\data\\parquet\\quarter\\2016q1.zip\n"
     ]
    },
    {
     "name": "stdout",
     "output_type": "stream",
     "text": [
      "create joined databag\n",
      "store joineddatabag under set/tmp/2010q4.zip\\BS\\joined\n"
     ]
    },
    {
     "name": "stderr",
     "output_type": "stream",
     "text": [
      "2024-10-06 12:23:19,288 [INFO] parallelexecution      commited chunk: 0\n"
     ]
    },
    {
     "name": "stdout",
     "output_type": "stream",
     "text": [
      "store rawdatabag under set/tmp/2016q1.zip\\BS\\raw\n",
      "create joined databag\n",
      "store joineddatabag under set/tmp/2016q1.zip\\BS\\joined\n"
     ]
    },
    {
     "name": "stderr",
     "output_type": "stream",
     "text": [
      "2024-10-06 12:23:21,223 [INFO] configmgt  reading configuration from C:\\Users\\hansj\\.secfsdstools.cfg\n",
      "2024-10-06 12:23:21,227 [INFO] parallelexecution      items to process: 1\n",
      "2024-10-06 12:23:21,228 [INFO] zipcollecting  processing C:\\Users\\hansj\\secfsdstools\\data\\parquet\\quarter\\2021q1.zip\n",
      "2024-10-06 12:23:23,389 [INFO] parallelexecution      commited chunk: 0\n"
     ]
    },
    {
     "name": "stdout",
     "output_type": "stream",
     "text": [
      "store rawdatabag under set/tmp/2021q1.zip\\BS\\raw\n",
      "create joined databag\n",
      "store joineddatabag under set/tmp/2021q1.zip\\BS\\joined\n"
     ]
    },
    {
     "name": "stderr",
     "output_type": "stream",
     "text": [
      "2024-10-06 12:23:25,190 [INFO] configmgt  reading configuration from C:\\Users\\hansj\\.secfsdstools.cfg\n",
      "2024-10-06 12:23:25,192 [INFO] parallelexecution      items to process: 1\n",
      "2024-10-06 12:23:25,193 [INFO] zipcollecting  processing C:\\Users\\hansj\\secfsdstools\\data\\parquet\\quarter\\2011q2.zip\n",
      "2024-10-06 12:23:25,603 [INFO] parallelexecution      commited chunk: 0\n"
     ]
    },
    {
     "name": "stdout",
     "output_type": "stream",
     "text": [
      "store rawdatabag under set/tmp/2011q2.zip\\BS\\raw\n"
     ]
    },
    {
     "name": "stderr",
     "output_type": "stream",
     "text": [
      "2024-10-06 12:23:26,073 [INFO] configmgt  reading configuration from C:\\Users\\hansj\\.secfsdstools.cfg\n"
     ]
    },
    {
     "name": "stdout",
     "output_type": "stream",
     "text": [
      "create joined databag\n",
      "store joineddatabag under set/tmp/2011q2.zip\\BS\\joined\n"
     ]
    },
    {
     "name": "stderr",
     "output_type": "stream",
     "text": [
      "2024-10-06 12:23:26,076 [INFO] parallelexecution      items to process: 1\n",
      "2024-10-06 12:23:26,077 [INFO] zipcollecting  processing C:\\Users\\hansj\\secfsdstools\\data\\parquet\\quarter\\2009q2.zip\n",
      "2024-10-06 12:23:26,108 [INFO] parallelexecution      commited chunk: 0\n",
      "2024-10-06 12:23:26,172 [INFO] configmgt  reading configuration from C:\\Users\\hansj\\.secfsdstools.cfg\n",
      "2024-10-06 12:23:26,175 [INFO] parallelexecution      items to process: 1\n",
      "2024-10-06 12:23:26,176 [INFO] zipcollecting  processing C:\\Users\\hansj\\secfsdstools\\data\\parquet\\quarter\\2022q1.zip\n"
     ]
    },
    {
     "name": "stdout",
     "output_type": "stream",
     "text": [
      "store rawdatabag under set/tmp/2009q2.zip\\BS\\raw\n",
      "create joined databag\n",
      "store joineddatabag under set/tmp/2009q2.zip\\BS\\joined\n"
     ]
    },
    {
     "name": "stderr",
     "output_type": "stream",
     "text": [
      "2024-10-06 12:23:28,461 [INFO] parallelexecution      commited chunk: 0\n"
     ]
    },
    {
     "name": "stdout",
     "output_type": "stream",
     "text": [
      "store rawdatabag under set/tmp/2022q1.zip\\BS\\raw\n",
      "create joined databag\n",
      "store joineddatabag under set/tmp/2022q1.zip\\BS\\joined\n"
     ]
    },
    {
     "name": "stderr",
     "output_type": "stream",
     "text": [
      "2024-10-06 12:23:30,365 [INFO] configmgt  reading configuration from C:\\Users\\hansj\\.secfsdstools.cfg\n",
      "2024-10-06 12:23:30,367 [INFO] parallelexecution      items to process: 1\n",
      "2024-10-06 12:23:30,368 [INFO] zipcollecting  processing C:\\Users\\hansj\\secfsdstools\\data\\parquet\\quarter\\2012q4.zip\n",
      "2024-10-06 12:23:32,592 [INFO] parallelexecution      commited chunk: 0\n"
     ]
    },
    {
     "name": "stdout",
     "output_type": "stream",
     "text": [
      "store rawdatabag under set/tmp/2012q4.zip\\BS\\raw\n",
      "create joined databag\n",
      "store joineddatabag under set/tmp/2012q4.zip\\BS\\joined\n"
     ]
    },
    {
     "name": "stderr",
     "output_type": "stream",
     "text": [
      "2024-10-06 12:23:34,577 [INFO] configmgt  reading configuration from C:\\Users\\hansj\\.secfsdstools.cfg\n",
      "2024-10-06 12:23:34,580 [INFO] parallelexecution      items to process: 1\n",
      "2024-10-06 12:23:34,580 [INFO] zipcollecting  processing C:\\Users\\hansj\\secfsdstools\\data\\parquet\\quarter\\2010q1.zip\n",
      "2024-10-06 12:23:34,743 [INFO] parallelexecution      commited chunk: 0\n",
      "2024-10-06 12:23:34,932 [INFO] configmgt  reading configuration from C:\\Users\\hansj\\.secfsdstools.cfg\n",
      "2024-10-06 12:23:34,934 [INFO] parallelexecution      items to process: 1\n",
      "2024-10-06 12:23:34,935 [INFO] zipcollecting  processing C:\\Users\\hansj\\secfsdstools\\data\\parquet\\quarter\\2015q1.zip\n"
     ]
    },
    {
     "name": "stdout",
     "output_type": "stream",
     "text": [
      "store rawdatabag under set/tmp/2010q1.zip\\BS\\raw\n",
      "create joined databag\n",
      "store joineddatabag under set/tmp/2010q1.zip\\BS\\joined\n"
     ]
    },
    {
     "name": "stderr",
     "output_type": "stream",
     "text": [
      "2024-10-06 12:23:37,646 [INFO] parallelexecution      commited chunk: 0\n"
     ]
    },
    {
     "name": "stdout",
     "output_type": "stream",
     "text": [
      "store rawdatabag under set/tmp/2015q1.zip\\BS\\raw\n",
      "create joined databag\n",
      "store joineddatabag under set/tmp/2015q1.zip\\BS\\joined\n"
     ]
    },
    {
     "name": "stderr",
     "output_type": "stream",
     "text": [
      "2024-10-06 12:23:39,661 [INFO] configmgt  reading configuration from C:\\Users\\hansj\\.secfsdstools.cfg\n",
      "2024-10-06 12:23:39,663 [INFO] parallelexecution      items to process: 1\n",
      "2024-10-06 12:23:39,664 [INFO] zipcollecting  processing C:\\Users\\hansj\\secfsdstools\\data\\parquet\\quarter\\2022q3.zip\n",
      "2024-10-06 12:23:41,628 [INFO] parallelexecution      commited chunk: 0\n"
     ]
    },
    {
     "name": "stdout",
     "output_type": "stream",
     "text": [
      "store rawdatabag under set/tmp/2022q3.zip\\BS\\raw\n",
      "create joined databag\n",
      "store joineddatabag under set/tmp/2022q3.zip\\BS\\joined\n"
     ]
    },
    {
     "name": "stderr",
     "output_type": "stream",
     "text": [
      "2024-10-06 12:23:43,792 [INFO] configmgt  reading configuration from C:\\Users\\hansj\\.secfsdstools.cfg\n",
      "2024-10-06 12:23:43,794 [INFO] parallelexecution      items to process: 1\n",
      "2024-10-06 12:23:43,795 [INFO] zipcollecting  processing C:\\Users\\hansj\\secfsdstools\\data\\parquet\\quarter\\2018q2.zip\n",
      "2024-10-06 12:23:45,623 [INFO] parallelexecution      commited chunk: 0\n"
     ]
    },
    {
     "name": "stdout",
     "output_type": "stream",
     "text": [
      "store rawdatabag under set/tmp/2018q2.zip\\BS\\raw\n",
      "create joined databag\n",
      "store joineddatabag under set/tmp/2018q2.zip\\BS\\joined\n"
     ]
    },
    {
     "name": "stderr",
     "output_type": "stream",
     "text": [
      "2024-10-06 12:23:47,619 [INFO] configmgt  reading configuration from C:\\Users\\hansj\\.secfsdstools.cfg\n",
      "2024-10-06 12:23:47,622 [INFO] parallelexecution      items to process: 1\n",
      "2024-10-06 12:23:47,623 [INFO] zipcollecting  processing C:\\Users\\hansj\\secfsdstools\\data\\parquet\\quarter\\2019q3.zip\n",
      "2024-10-06 12:23:49,607 [INFO] parallelexecution      commited chunk: 0\n"
     ]
    },
    {
     "name": "stdout",
     "output_type": "stream",
     "text": [
      "store rawdatabag under set/tmp/2019q3.zip\\BS\\raw\n",
      "create joined databag\n",
      "store joineddatabag under set/tmp/2019q3.zip\\BS\\joined\n"
     ]
    },
    {
     "name": "stderr",
     "output_type": "stream",
     "text": [
      "2024-10-06 12:23:51,522 [INFO] configmgt  reading configuration from C:\\Users\\hansj\\.secfsdstools.cfg\n",
      "2024-10-06 12:23:51,525 [INFO] parallelexecution      items to process: 1\n",
      "2024-10-06 12:23:51,526 [INFO] zipcollecting  processing C:\\Users\\hansj\\secfsdstools\\data\\parquet\\quarter\\2020q2.zip\n",
      "2024-10-06 12:23:53,175 [INFO] parallelexecution      commited chunk: 0\n"
     ]
    },
    {
     "name": "stdout",
     "output_type": "stream",
     "text": [
      "store rawdatabag under set/tmp/2020q2.zip\\BS\\raw\n",
      "create joined databag\n",
      "store joineddatabag under set/tmp/2020q2.zip\\BS\\joined\n"
     ]
    },
    {
     "name": "stderr",
     "output_type": "stream",
     "text": [
      "2024-10-06 12:23:55,023 [INFO] configmgt  reading configuration from C:\\Users\\hansj\\.secfsdstools.cfg\n",
      "2024-10-06 12:23:55,026 [INFO] parallelexecution      items to process: 1\n",
      "2024-10-06 12:23:55,027 [INFO] zipcollecting  processing C:\\Users\\hansj\\secfsdstools\\data\\parquet\\quarter\\2022q4.zip\n",
      "2024-10-06 12:23:57,215 [INFO] parallelexecution      commited chunk: 0\n"
     ]
    },
    {
     "name": "stdout",
     "output_type": "stream",
     "text": [
      "store rawdatabag under set/tmp/2022q4.zip\\BS\\raw\n",
      "create joined databag\n",
      "store joineddatabag under set/tmp/2022q4.zip\\BS\\joined\n"
     ]
    },
    {
     "name": "stderr",
     "output_type": "stream",
     "text": [
      "2024-10-06 12:23:59,229 [INFO] configmgt  reading configuration from C:\\Users\\hansj\\.secfsdstools.cfg\n",
      "2024-10-06 12:23:59,232 [INFO] parallelexecution      items to process: 1\n",
      "2024-10-06 12:23:59,232 [INFO] zipcollecting  processing C:\\Users\\hansj\\secfsdstools\\data\\parquet\\quarter\\2017q2.zip\n",
      "2024-10-06 12:24:00,981 [INFO] parallelexecution      commited chunk: 0\n"
     ]
    },
    {
     "name": "stdout",
     "output_type": "stream",
     "text": [
      "store rawdatabag under set/tmp/2017q2.zip\\BS\\raw\n",
      "create joined databag\n",
      "store joineddatabag under set/tmp/2017q2.zip\\BS\\joined\n"
     ]
    },
    {
     "name": "stderr",
     "output_type": "stream",
     "text": [
      "2024-10-06 12:24:02,631 [INFO] configmgt  reading configuration from C:\\Users\\hansj\\.secfsdstools.cfg\n",
      "2024-10-06 12:24:02,634 [INFO] parallelexecution      items to process: 1\n",
      "2024-10-06 12:24:02,635 [INFO] zipcollecting  processing C:\\Users\\hansj\\secfsdstools\\data\\parquet\\quarter\\2012q3.zip\n",
      "2024-10-06 12:24:04,689 [INFO] parallelexecution      commited chunk: 0\n"
     ]
    },
    {
     "name": "stdout",
     "output_type": "stream",
     "text": [
      "store rawdatabag under set/tmp/2012q3.zip\\BS\\raw\n",
      "create joined databag\n",
      "store joineddatabag under set/tmp/2012q3.zip\\BS\\joined\n"
     ]
    },
    {
     "name": "stderr",
     "output_type": "stream",
     "text": [
      "2024-10-06 12:24:06,440 [INFO] configmgt  reading configuration from C:\\Users\\hansj\\.secfsdstools.cfg\n",
      "2024-10-06 12:24:06,442 [INFO] parallelexecution      items to process: 1\n",
      "2024-10-06 12:24:06,443 [INFO] zipcollecting  processing C:\\Users\\hansj\\secfsdstools\\data\\parquet\\quarter\\2011q1.zip\n",
      "2024-10-06 12:24:06,968 [INFO] parallelexecution      commited chunk: 0\n"
     ]
    },
    {
     "name": "stdout",
     "output_type": "stream",
     "text": [
      "store rawdatabag under set/tmp/2011q1.zip\\BS\\raw\n"
     ]
    },
    {
     "name": "stderr",
     "output_type": "stream",
     "text": [
      "2024-10-06 12:24:07,424 [INFO] configmgt  reading configuration from C:\\Users\\hansj\\.secfsdstools.cfg\n",
      "2024-10-06 12:24:07,427 [INFO] parallelexecution      items to process: 1\n",
      "2024-10-06 12:24:07,428 [INFO] zipcollecting  processing C:\\Users\\hansj\\secfsdstools\\data\\parquet\\quarter\\2017q4.zip\n"
     ]
    },
    {
     "name": "stdout",
     "output_type": "stream",
     "text": [
      "create joined databag\n",
      "store joineddatabag under set/tmp/2011q1.zip\\BS\\joined\n"
     ]
    },
    {
     "name": "stderr",
     "output_type": "stream",
     "text": [
      "2024-10-06 12:24:09,274 [INFO] parallelexecution      commited chunk: 0\n"
     ]
    },
    {
     "name": "stdout",
     "output_type": "stream",
     "text": [
      "store rawdatabag under set/tmp/2017q4.zip\\BS\\raw\n",
      "create joined databag\n",
      "store joineddatabag under set/tmp/2017q4.zip\\BS\\joined\n"
     ]
    },
    {
     "name": "stderr",
     "output_type": "stream",
     "text": [
      "2024-10-06 12:24:11,052 [INFO] configmgt  reading configuration from C:\\Users\\hansj\\.secfsdstools.cfg\n",
      "2024-10-06 12:24:11,055 [INFO] parallelexecution      items to process: 1\n",
      "2024-10-06 12:24:11,055 [INFO] zipcollecting  processing C:\\Users\\hansj\\secfsdstools\\data\\parquet\\quarter\\2010q2.zip\n",
      "2024-10-06 12:24:11,182 [INFO] parallelexecution      commited chunk: 0\n",
      "2024-10-06 12:24:11,361 [INFO] configmgt  reading configuration from C:\\Users\\hansj\\.secfsdstools.cfg\n",
      "2024-10-06 12:24:11,364 [INFO] parallelexecution      items to process: 1\n",
      "2024-10-06 12:24:11,365 [INFO] zipcollecting  processing C:\\Users\\hansj\\secfsdstools\\data\\parquet\\quarter\\2018q3.zip\n"
     ]
    },
    {
     "name": "stdout",
     "output_type": "stream",
     "text": [
      "store rawdatabag under set/tmp/2010q2.zip\\BS\\raw\n",
      "create joined databag\n",
      "store joineddatabag under set/tmp/2010q2.zip\\BS\\joined\n"
     ]
    },
    {
     "name": "stderr",
     "output_type": "stream",
     "text": [
      "2024-10-06 12:24:13,198 [INFO] parallelexecution      commited chunk: 0\n"
     ]
    },
    {
     "name": "stdout",
     "output_type": "stream",
     "text": [
      "store rawdatabag under set/tmp/2018q3.zip\\BS\\raw\n",
      "create joined databag\n",
      "store joineddatabag under set/tmp/2018q3.zip\\BS\\joined\n"
     ]
    },
    {
     "name": "stderr",
     "output_type": "stream",
     "text": [
      "2024-10-06 12:24:14,913 [INFO] configmgt  reading configuration from C:\\Users\\hansj\\.secfsdstools.cfg\n",
      "2024-10-06 12:24:14,915 [INFO] parallelexecution      items to process: 1\n",
      "2024-10-06 12:24:14,917 [INFO] zipcollecting  processing C:\\Users\\hansj\\secfsdstools\\data\\parquet\\quarter\\2021q4.zip\n",
      "2024-10-06 12:24:16,864 [INFO] parallelexecution      commited chunk: 0\n"
     ]
    },
    {
     "name": "stdout",
     "output_type": "stream",
     "text": [
      "store rawdatabag under set/tmp/2021q4.zip\\BS\\raw\n",
      "create joined databag\n",
      "store joineddatabag under set/tmp/2021q4.zip\\BS\\joined\n"
     ]
    },
    {
     "name": "stderr",
     "output_type": "stream",
     "text": [
      "2024-10-06 12:24:18,793 [INFO] configmgt  reading configuration from C:\\Users\\hansj\\.secfsdstools.cfg\n",
      "2024-10-06 12:24:18,796 [INFO] parallelexecution      items to process: 1\n",
      "2024-10-06 12:24:18,797 [INFO] zipcollecting  processing C:\\Users\\hansj\\secfsdstools\\data\\parquet\\quarter\\2019q2.zip\n",
      "2024-10-06 12:24:20,503 [INFO] parallelexecution      commited chunk: 0\n"
     ]
    },
    {
     "name": "stdout",
     "output_type": "stream",
     "text": [
      "store rawdatabag under set/tmp/2019q2.zip\\BS\\raw\n",
      "create joined databag\n",
      "store joineddatabag under set/tmp/2019q2.zip\\BS\\joined\n"
     ]
    },
    {
     "name": "stderr",
     "output_type": "stream",
     "text": [
      "2024-10-06 12:24:22,247 [INFO] configmgt  reading configuration from C:\\Users\\hansj\\.secfsdstools.cfg\n",
      "2024-10-06 12:24:22,250 [INFO] parallelexecution      items to process: 1\n",
      "2024-10-06 12:24:22,251 [INFO] zipcollecting  processing C:\\Users\\hansj\\secfsdstools\\data\\parquet\\quarter\\2013q1.zip\n",
      "2024-10-06 12:24:24,771 [INFO] parallelexecution      commited chunk: 0\n"
     ]
    },
    {
     "name": "stdout",
     "output_type": "stream",
     "text": [
      "store rawdatabag under set/tmp/2013q1.zip\\BS\\raw\n",
      "create joined databag\n",
      "store joineddatabag under set/tmp/2013q1.zip\\BS\\joined\n"
     ]
    },
    {
     "name": "stderr",
     "output_type": "stream",
     "text": [
      "2024-10-06 12:24:26,693 [INFO] configmgt  reading configuration from C:\\Users\\hansj\\.secfsdstools.cfg\n",
      "2024-10-06 12:24:26,696 [INFO] parallelexecution      items to process: 1\n",
      "2024-10-06 12:24:26,698 [INFO] zipcollecting  processing C:\\Users\\hansj\\secfsdstools\\data\\parquet\\quarter\\2015q4.zip\n",
      "2024-10-06 12:24:28,799 [INFO] parallelexecution      commited chunk: 0\n"
     ]
    },
    {
     "name": "stdout",
     "output_type": "stream",
     "text": [
      "store rawdatabag under set/tmp/2015q4.zip\\BS\\raw\n",
      "create joined databag\n",
      "store joineddatabag under set/tmp/2015q4.zip\\BS\\joined\n"
     ]
    },
    {
     "name": "stderr",
     "output_type": "stream",
     "text": [
      "2024-10-06 12:24:30,976 [INFO] configmgt  reading configuration from C:\\Users\\hansj\\.secfsdstools.cfg\n",
      "2024-10-06 12:24:30,980 [INFO] parallelexecution      items to process: 1\n",
      "2024-10-06 12:24:30,982 [INFO] zipcollecting  processing C:\\Users\\hansj\\secfsdstools\\data\\parquet\\quarter\\2009q3.zip\n",
      "2024-10-06 12:24:31,119 [INFO] parallelexecution      commited chunk: 0\n",
      "2024-10-06 12:24:31,302 [INFO] configmgt  reading configuration from C:\\Users\\hansj\\.secfsdstools.cfg\n",
      "2024-10-06 12:24:31,306 [INFO] parallelexecution      items to process: 1\n",
      "2024-10-06 12:24:31,307 [INFO] zipcollecting  processing C:\\Users\\hansj\\secfsdstools\\data\\parquet\\quarter\\2016q2.zip\n"
     ]
    },
    {
     "name": "stdout",
     "output_type": "stream",
     "text": [
      "store rawdatabag under set/tmp/2009q3.zip\\BS\\raw\n",
      "create joined databag\n",
      "store joineddatabag under set/tmp/2009q3.zip\\BS\\joined\n"
     ]
    },
    {
     "name": "stderr",
     "output_type": "stream",
     "text": [
      "2024-10-06 12:24:33,257 [INFO] parallelexecution      commited chunk: 0\n"
     ]
    },
    {
     "name": "stdout",
     "output_type": "stream",
     "text": [
      "store rawdatabag under set/tmp/2016q2.zip\\BS\\raw\n",
      "create joined databag\n",
      "store joineddatabag under set/tmp/2016q2.zip\\BS\\joined\n"
     ]
    },
    {
     "name": "stderr",
     "output_type": "stream",
     "text": [
      "2024-10-06 12:24:35,013 [INFO] configmgt  reading configuration from C:\\Users\\hansj\\.secfsdstools.cfg\n",
      "2024-10-06 12:24:35,016 [INFO] parallelexecution      items to process: 1\n",
      "2024-10-06 12:24:35,017 [INFO] zipcollecting  processing C:\\Users\\hansj\\secfsdstools\\data\\parquet\\quarter\\2013q3.zip\n",
      "2024-10-06 12:24:37,279 [INFO] parallelexecution      commited chunk: 0\n"
     ]
    },
    {
     "name": "stdout",
     "output_type": "stream",
     "text": [
      "store rawdatabag under set/tmp/2013q3.zip\\BS\\raw\n",
      "create joined databag\n",
      "store joineddatabag under set/tmp/2013q3.zip\\BS\\joined\n"
     ]
    },
    {
     "name": "stderr",
     "output_type": "stream",
     "text": [
      "2024-10-06 12:24:39,420 [INFO] configmgt  reading configuration from C:\\Users\\hansj\\.secfsdstools.cfg\n",
      "2024-10-06 12:24:39,422 [INFO] parallelexecution      items to process: 1\n",
      "2024-10-06 12:24:39,423 [INFO] zipcollecting  processing C:\\Users\\hansj\\secfsdstools\\data\\parquet\\quarter\\2016q4.zip\n",
      "2024-10-06 12:24:41,429 [INFO] parallelexecution      commited chunk: 0\n"
     ]
    },
    {
     "name": "stdout",
     "output_type": "stream",
     "text": [
      "store rawdatabag under set/tmp/2016q4.zip\\BS\\raw\n",
      "create joined databag\n",
      "store joineddatabag under set/tmp/2016q4.zip\\BS\\joined\n"
     ]
    },
    {
     "name": "stderr",
     "output_type": "stream",
     "text": [
      "2024-10-06 12:24:43,257 [INFO] configmgt  reading configuration from C:\\Users\\hansj\\.secfsdstools.cfg\n",
      "2024-10-06 12:24:43,260 [INFO] parallelexecution      items to process: 1\n",
      "2024-10-06 12:24:43,261 [INFO] zipcollecting  processing C:\\Users\\hansj\\secfsdstools\\data\\parquet\\quarter\\2017q3.zip\n",
      "2024-10-06 12:24:45,065 [INFO] parallelexecution      commited chunk: 0\n"
     ]
    },
    {
     "name": "stdout",
     "output_type": "stream",
     "text": [
      "store rawdatabag under set/tmp/2017q3.zip\\BS\\raw\n",
      "create joined databag\n",
      "store joineddatabag under set/tmp/2017q3.zip\\BS\\joined\n"
     ]
    },
    {
     "name": "stderr",
     "output_type": "stream",
     "text": [
      "2024-10-06 12:24:46,809 [INFO] configmgt  reading configuration from C:\\Users\\hansj\\.secfsdstools.cfg\n",
      "2024-10-06 12:24:46,812 [INFO] parallelexecution      items to process: 1\n",
      "2024-10-06 12:24:46,813 [INFO] zipcollecting  processing C:\\Users\\hansj\\secfsdstools\\data\\parquet\\quarter\\2018q4.zip\n",
      "2024-10-06 12:24:48,572 [INFO] parallelexecution      commited chunk: 0\n"
     ]
    },
    {
     "name": "stdout",
     "output_type": "stream",
     "text": [
      "store rawdatabag under set/tmp/2018q4.zip\\BS\\raw\n",
      "create joined databag\n",
      "store joineddatabag under set/tmp/2018q4.zip\\BS\\joined\n"
     ]
    },
    {
     "name": "stderr",
     "output_type": "stream",
     "text": [
      "2024-10-06 12:24:50,313 [INFO] configmgt  reading configuration from C:\\Users\\hansj\\.secfsdstools.cfg\n",
      "2024-10-06 12:24:50,316 [INFO] parallelexecution      items to process: 1\n",
      "2024-10-06 12:24:50,317 [INFO] zipcollecting  processing C:\\Users\\hansj\\secfsdstools\\data\\parquet\\quarter\\2023q2.zip\n",
      "2024-10-06 12:24:52,108 [INFO] parallelexecution      commited chunk: 0\n"
     ]
    },
    {
     "name": "stdout",
     "output_type": "stream",
     "text": [
      "store rawdatabag under set/tmp/2023q2.zip\\BS\\raw\n",
      "create joined databag\n",
      "store joineddatabag under set/tmp/2023q2.zip\\BS\\joined\n"
     ]
    },
    {
     "name": "stderr",
     "output_type": "stream",
     "text": [
      "2024-10-06 12:24:53,964 [INFO] configmgt  reading configuration from C:\\Users\\hansj\\.secfsdstools.cfg\n",
      "2024-10-06 12:24:53,967 [INFO] parallelexecution      items to process: 1\n",
      "2024-10-06 12:24:53,968 [INFO] zipcollecting  processing C:\\Users\\hansj\\secfsdstools\\data\\parquet\\quarter\\2014q4.zip\n",
      "2024-10-06 12:24:56,390 [INFO] parallelexecution      commited chunk: 0\n"
     ]
    },
    {
     "name": "stdout",
     "output_type": "stream",
     "text": [
      "store rawdatabag under set/tmp/2014q4.zip\\BS\\raw\n",
      "create joined databag\n",
      "store joineddatabag under set/tmp/2014q4.zip\\BS\\joined\n"
     ]
    },
    {
     "name": "stderr",
     "output_type": "stream",
     "text": [
      "2024-10-06 12:24:58,407 [INFO] configmgt  reading configuration from C:\\Users\\hansj\\.secfsdstools.cfg\n",
      "2024-10-06 12:24:58,410 [INFO] parallelexecution      items to process: 1\n",
      "2024-10-06 12:24:58,410 [INFO] zipcollecting  processing C:\\Users\\hansj\\secfsdstools\\data\\parquet\\quarter\\2011q3.zip\n",
      "2024-10-06 12:25:00,042 [INFO] parallelexecution      commited chunk: 0\n"
     ]
    },
    {
     "name": "stdout",
     "output_type": "stream",
     "text": [
      "store rawdatabag under set/tmp/2011q3.zip\\BS\\raw\n",
      "create joined databag\n",
      "store joineddatabag under set/tmp/2011q3.zip\\BS\\joined\n"
     ]
    },
    {
     "name": "stderr",
     "output_type": "stream",
     "text": [
      "2024-10-06 12:25:01,514 [INFO] configmgt  reading configuration from C:\\Users\\hansj\\.secfsdstools.cfg\n",
      "2024-10-06 12:25:01,517 [INFO] parallelexecution      items to process: 1\n",
      "2024-10-06 12:25:01,517 [INFO] zipcollecting  processing C:\\Users\\hansj\\secfsdstools\\data\\parquet\\quarter\\2020q3.zip\n",
      "2024-10-06 12:25:03,357 [INFO] parallelexecution      commited chunk: 0\n"
     ]
    },
    {
     "name": "stdout",
     "output_type": "stream",
     "text": [
      "store rawdatabag under set/tmp/2020q3.zip\\BS\\raw\n",
      "create joined databag\n",
      "store joineddatabag under set/tmp/2020q3.zip\\BS\\joined\n"
     ]
    },
    {
     "name": "stderr",
     "output_type": "stream",
     "text": [
      "2024-10-06 12:25:05,169 [INFO] configmgt  reading configuration from C:\\Users\\hansj\\.secfsdstools.cfg\n",
      "2024-10-06 12:25:05,171 [INFO] parallelexecution      items to process: 1\n",
      "2024-10-06 12:25:05,172 [INFO] zipcollecting  processing C:\\Users\\hansj\\secfsdstools\\data\\parquet\\quarter\\2014q2.zip\n",
      "2024-10-06 12:25:07,208 [INFO] parallelexecution      commited chunk: 0\n"
     ]
    },
    {
     "name": "stdout",
     "output_type": "stream",
     "text": [
      "store rawdatabag under set/tmp/2014q2.zip\\BS\\raw\n",
      "create joined databag\n",
      "store joineddatabag under set/tmp/2014q2.zip\\BS\\joined\n"
     ]
    },
    {
     "name": "stderr",
     "output_type": "stream",
     "text": [
      "2024-10-06 12:25:09,120 [INFO] configmgt  reading configuration from C:\\Users\\hansj\\.secfsdstools.cfg\n",
      "2024-10-06 12:25:09,123 [INFO] parallelexecution      items to process: 1\n",
      "2024-10-06 12:25:09,124 [INFO] zipcollecting  processing C:\\Users\\hansj\\secfsdstools\\data\\parquet\\quarter\\2020q1.zip\n",
      "2024-10-06 12:25:11,273 [INFO] parallelexecution      commited chunk: 0\n"
     ]
    },
    {
     "name": "stdout",
     "output_type": "stream",
     "text": [
      "store rawdatabag under set/tmp/2020q1.zip\\BS\\raw\n",
      "create joined databag\n",
      "store joineddatabag under set/tmp/2020q1.zip\\BS\\joined\n"
     ]
    },
    {
     "name": "stderr",
     "output_type": "stream",
     "text": [
      "2024-10-06 12:25:13,091 [INFO] configmgt  reading configuration from C:\\Users\\hansj\\.secfsdstools.cfg\n",
      "2024-10-06 12:25:13,093 [INFO] parallelexecution      items to process: 1\n",
      "2024-10-06 12:25:13,094 [INFO] zipcollecting  processing C:\\Users\\hansj\\secfsdstools\\data\\parquet\\quarter\\2012q1.zip\n",
      "2024-10-06 12:25:14,984 [INFO] parallelexecution      commited chunk: 0\n"
     ]
    },
    {
     "name": "stdout",
     "output_type": "stream",
     "text": [
      "store rawdatabag under set/tmp/2012q1.zip\\BS\\raw\n",
      "create joined databag\n",
      "store joineddatabag under set/tmp/2012q1.zip\\BS\\joined\n"
     ]
    },
    {
     "name": "stderr",
     "output_type": "stream",
     "text": [
      "2024-10-06 12:25:16,678 [INFO] configmgt  reading configuration from C:\\Users\\hansj\\.secfsdstools.cfg\n",
      "2024-10-06 12:25:16,681 [INFO] parallelexecution      items to process: 1\n",
      "2024-10-06 12:25:16,682 [INFO] zipcollecting  processing C:\\Users\\hansj\\secfsdstools\\data\\parquet\\quarter\\2014q1.zip\n",
      "2024-10-06 12:25:19,264 [INFO] parallelexecution      commited chunk: 0\n"
     ]
    },
    {
     "name": "stdout",
     "output_type": "stream",
     "text": [
      "store rawdatabag under set/tmp/2014q1.zip\\BS\\raw\n",
      "create joined databag\n",
      "store joineddatabag under set/tmp/2014q1.zip\\BS\\joined\n"
     ]
    },
    {
     "name": "stderr",
     "output_type": "stream",
     "text": [
      "2024-10-06 12:25:21,345 [INFO] configmgt  reading configuration from C:\\Users\\hansj\\.secfsdstools.cfg\n",
      "2024-10-06 12:25:21,347 [INFO] parallelexecution      items to process: 1\n",
      "2024-10-06 12:25:21,349 [INFO] zipcollecting  processing C:\\Users\\hansj\\secfsdstools\\data\\parquet\\quarter\\2019q1.zip\n",
      "2024-10-06 12:25:23,372 [INFO] parallelexecution      commited chunk: 0\n"
     ]
    },
    {
     "name": "stdout",
     "output_type": "stream",
     "text": [
      "store rawdatabag under set/tmp/2019q1.zip\\BS\\raw\n",
      "create joined databag\n",
      "store joineddatabag under set/tmp/2019q1.zip\\BS\\joined\n"
     ]
    },
    {
     "name": "stderr",
     "output_type": "stream",
     "text": [
      "2024-10-06 12:25:25,138 [INFO] configmgt  reading configuration from C:\\Users\\hansj\\.secfsdstools.cfg\n",
      "2024-10-06 12:25:25,142 [INFO] parallelexecution      items to process: 1\n",
      "2024-10-06 12:25:25,143 [INFO] zipcollecting  processing C:\\Users\\hansj\\secfsdstools\\data\\parquet\\quarter\\2015q3.zip\n",
      "2024-10-06 12:25:27,290 [INFO] parallelexecution      commited chunk: 0\n"
     ]
    },
    {
     "name": "stdout",
     "output_type": "stream",
     "text": [
      "store rawdatabag under set/tmp/2015q3.zip\\BS\\raw\n",
      "create joined databag\n",
      "store joineddatabag under set/tmp/2015q3.zip\\BS\\joined\n"
     ]
    },
    {
     "name": "stderr",
     "output_type": "stream",
     "text": [
      "2024-10-06 12:25:29,280 [INFO] configmgt  reading configuration from C:\\Users\\hansj\\.secfsdstools.cfg\n",
      "2024-10-06 12:25:29,283 [INFO] parallelexecution      items to process: 1\n",
      "2024-10-06 12:25:29,284 [INFO] zipcollecting  processing C:\\Users\\hansj\\secfsdstools\\data\\parquet\\quarter\\2017q1.zip\n",
      "2024-10-06 12:25:31,632 [INFO] parallelexecution      commited chunk: 0\n"
     ]
    },
    {
     "name": "stdout",
     "output_type": "stream",
     "text": [
      "store rawdatabag under set/tmp/2017q1.zip\\BS\\raw\n",
      "create joined databag\n",
      "store joineddatabag under set/tmp/2017q1.zip\\BS\\joined\n"
     ]
    },
    {
     "name": "stderr",
     "output_type": "stream",
     "text": [
      "2024-10-06 12:25:33,547 [INFO] configmgt  reading configuration from C:\\Users\\hansj\\.secfsdstools.cfg\n",
      "2024-10-06 12:25:33,549 [INFO] parallelexecution      items to process: 1\n",
      "2024-10-06 12:25:33,551 [INFO] zipcollecting  processing C:\\Users\\hansj\\secfsdstools\\data\\parquet\\quarter\\2020q4.zip\n",
      "2024-10-06 12:25:35,639 [INFO] parallelexecution      commited chunk: 0\n"
     ]
    },
    {
     "name": "stdout",
     "output_type": "stream",
     "text": [
      "store rawdatabag under set/tmp/2020q4.zip\\BS\\raw\n",
      "create joined databag\n",
      "store joineddatabag under set/tmp/2020q4.zip\\BS\\joined\n"
     ]
    },
    {
     "name": "stderr",
     "output_type": "stream",
     "text": [
      "2024-10-06 12:25:37,592 [INFO] configmgt  reading configuration from C:\\Users\\hansj\\.secfsdstools.cfg\n",
      "2024-10-06 12:25:37,595 [INFO] parallelexecution      items to process: 1\n",
      "2024-10-06 12:25:37,596 [INFO] zipcollecting  processing C:\\Users\\hansj\\secfsdstools\\data\\parquet\\quarter\\2013q2.zip\n",
      "2024-10-06 12:25:39,966 [INFO] parallelexecution      commited chunk: 0\n"
     ]
    },
    {
     "name": "stdout",
     "output_type": "stream",
     "text": [
      "store rawdatabag under set/tmp/2013q2.zip\\BS\\raw\n",
      "create joined databag\n",
      "store joineddatabag under set/tmp/2013q2.zip\\BS\\joined\n"
     ]
    },
    {
     "name": "stderr",
     "output_type": "stream",
     "text": [
      "2024-10-06 12:25:41,991 [INFO] configmgt  reading configuration from C:\\Users\\hansj\\.secfsdstools.cfg\n",
      "2024-10-06 12:25:41,994 [INFO] parallelexecution      items to process: 1\n",
      "2024-10-06 12:25:41,995 [INFO] zipcollecting  processing C:\\Users\\hansj\\secfsdstools\\data\\parquet\\quarter\\2021q2.zip\n",
      "2024-10-06 12:25:43,715 [INFO] parallelexecution      commited chunk: 0\n"
     ]
    },
    {
     "name": "stdout",
     "output_type": "stream",
     "text": [
      "store rawdatabag under set/tmp/2021q2.zip\\BS\\raw\n",
      "create joined databag\n",
      "store joineddatabag under set/tmp/2021q2.zip\\BS\\joined\n"
     ]
    },
    {
     "name": "stderr",
     "output_type": "stream",
     "text": [
      "2024-10-06 12:25:45,469 [INFO] configmgt  reading configuration from C:\\Users\\hansj\\.secfsdstools.cfg\n",
      "2024-10-06 12:25:45,471 [INFO] parallelexecution      items to process: 1\n",
      "2024-10-06 12:25:45,472 [INFO] zipcollecting  processing C:\\Users\\hansj\\secfsdstools\\data\\parquet\\quarter\\2022q2.zip\n",
      "2024-10-06 12:25:47,277 [INFO] parallelexecution      commited chunk: 0\n"
     ]
    },
    {
     "name": "stdout",
     "output_type": "stream",
     "text": [
      "store rawdatabag under set/tmp/2022q2.zip\\BS\\raw\n",
      "create joined databag\n",
      "store joineddatabag under set/tmp/2022q2.zip\\BS\\joined\n"
     ]
    },
    {
     "name": "stderr",
     "output_type": "stream",
     "text": [
      "2024-10-06 12:25:49,111 [INFO] configmgt  reading configuration from C:\\Users\\hansj\\.secfsdstools.cfg\n",
      "2024-10-06 12:25:49,114 [INFO] parallelexecution      items to process: 1\n",
      "2024-10-06 12:25:49,115 [INFO] zipcollecting  processing C:\\Users\\hansj\\secfsdstools\\data\\parquet\\quarter\\2009q4.zip\n",
      "2024-10-06 12:25:49,257 [INFO] parallelexecution      commited chunk: 0\n",
      "2024-10-06 12:25:49,444 [INFO] configmgt  reading configuration from C:\\Users\\hansj\\.secfsdstools.cfg\n",
      "2024-10-06 12:25:49,446 [INFO] parallelexecution      items to process: 1\n",
      "2024-10-06 12:25:49,447 [INFO] zipcollecting  processing C:\\Users\\hansj\\secfsdstools\\data\\parquet\\quarter\\2023q3.zip\n"
     ]
    },
    {
     "name": "stdout",
     "output_type": "stream",
     "text": [
      "store rawdatabag under set/tmp/2009q4.zip\\BS\\raw\n",
      "create joined databag\n",
      "store joineddatabag under set/tmp/2009q4.zip\\BS\\joined\n"
     ]
    },
    {
     "name": "stderr",
     "output_type": "stream",
     "text": [
      "2024-10-06 12:25:51,620 [INFO] parallelexecution      commited chunk: 0\n"
     ]
    },
    {
     "name": "stdout",
     "output_type": "stream",
     "text": [
      "store rawdatabag under set/tmp/2023q3.zip\\BS\\raw\n",
      "create joined databag\n",
      "store joineddatabag under set/tmp/2023q3.zip\\BS\\joined\n"
     ]
    },
    {
     "name": "stderr",
     "output_type": "stream",
     "text": [
      "2024-10-06 12:25:53,432 [INFO] configmgt  reading configuration from C:\\Users\\hansj\\.secfsdstools.cfg\n",
      "2024-10-06 12:25:53,434 [INFO] parallelexecution      items to process: 1\n",
      "2024-10-06 12:25:53,435 [INFO] zipcollecting  processing C:\\Users\\hansj\\secfsdstools\\data\\parquet\\quarter\\2023q4.zip\n",
      "2024-10-06 12:25:55,638 [INFO] parallelexecution      commited chunk: 0\n"
     ]
    },
    {
     "name": "stdout",
     "output_type": "stream",
     "text": [
      "store rawdatabag under set/tmp/2023q4.zip\\BS\\raw\n",
      "create joined databag\n",
      "store joineddatabag under set/tmp/2023q4.zip\\BS\\joined\n"
     ]
    },
    {
     "name": "stderr",
     "output_type": "stream",
     "text": [
      "2024-10-06 12:25:57,528 [INFO] configmgt  reading configuration from C:\\Users\\hansj\\.secfsdstools.cfg\n",
      "2024-10-06 12:25:57,531 [INFO] parallelexecution      items to process: 1\n",
      "2024-10-06 12:25:57,532 [INFO] zipcollecting  processing C:\\Users\\hansj\\secfsdstools\\data\\parquet\\quarter\\2024q1.zip\n",
      "2024-10-06 12:25:59,632 [INFO] parallelexecution      commited chunk: 0\n"
     ]
    },
    {
     "name": "stdout",
     "output_type": "stream",
     "text": [
      "store rawdatabag under set/tmp/2024q1.zip\\BS\\raw\n",
      "create joined databag\n",
      "store joineddatabag under set/tmp/2024q1.zip\\BS\\joined\n"
     ]
    },
    {
     "name": "stderr",
     "output_type": "stream",
     "text": [
      "2024-10-06 12:26:01,393 [INFO] configmgt  reading configuration from C:\\Users\\hansj\\.secfsdstools.cfg\n",
      "2024-10-06 12:26:01,396 [INFO] parallelexecution      items to process: 1\n",
      "2024-10-06 12:26:01,397 [INFO] zipcollecting  processing C:\\Users\\hansj\\secfsdstools\\data\\parquet\\quarter\\2024q2.zip\n",
      "2024-10-06 12:26:03,275 [INFO] parallelexecution      commited chunk: 0\n"
     ]
    },
    {
     "name": "stdout",
     "output_type": "stream",
     "text": [
      "store rawdatabag under set/tmp/2024q2.zip\\BS\\raw\n",
      "create joined databag\n",
      "store joineddatabag under set/tmp/2024q2.zip\\BS\\joined\n"
     ]
    }
   ],
   "source": [
    "build_tmp_set(financial_statement=\"BS\", file_names=all_zip_names, target_path=\"set/tmp/\")"
   ]
  },
  {
   "cell_type": "code",
   "execution_count": 14,
   "id": "c01cfcac-5260-41de-a9dd-7ce7f890859f",
   "metadata": {
    "collapsed": true,
    "jupyter": {
     "outputs_hidden": true
    },
    "tags": []
   },
   "outputs": [
    {
     "name": "stderr",
     "output_type": "stream",
     "text": [
      "2024-10-06 12:26:05,238 [INFO] configmgt  reading configuration from C:\\Users\\hansj\\.secfsdstools.cfg\n",
      "2024-10-06 12:26:05,243 [INFO] parallelexecution      items to process: 1\n",
      "2024-10-06 12:26:05,245 [INFO] zipcollecting  processing C:\\Users\\hansj\\secfsdstools\\data\\parquet\\quarter\\2019q4.zip\n",
      "2024-10-06 12:26:07,433 [INFO] parallelexecution      commited chunk: 0\n"
     ]
    },
    {
     "name": "stdout",
     "output_type": "stream",
     "text": [
      "store rawdatabag under set/tmp/2019q4.zip\\CF\\raw\n",
      "create joined databag\n",
      "store joineddatabag under set/tmp/2019q4.zip\\CF\\joined\n"
     ]
    },
    {
     "name": "stderr",
     "output_type": "stream",
     "text": [
      "2024-10-06 12:26:09,274 [INFO] configmgt  reading configuration from C:\\Users\\hansj\\.secfsdstools.cfg\n",
      "2024-10-06 12:26:09,277 [INFO] parallelexecution      items to process: 1\n",
      "2024-10-06 12:26:09,278 [INFO] zipcollecting  processing C:\\Users\\hansj\\secfsdstools\\data\\parquet\\quarter\\2023q1.zip\n",
      "2024-10-06 12:26:11,518 [INFO] parallelexecution      commited chunk: 0\n"
     ]
    },
    {
     "name": "stdout",
     "output_type": "stream",
     "text": [
      "store rawdatabag under set/tmp/2023q1.zip\\CF\\raw\n",
      "create joined databag\n",
      "store joineddatabag under set/tmp/2023q1.zip\\CF\\joined\n"
     ]
    },
    {
     "name": "stderr",
     "output_type": "stream",
     "text": [
      "2024-10-06 12:26:13,330 [INFO] configmgt  reading configuration from C:\\Users\\hansj\\.secfsdstools.cfg\n",
      "2024-10-06 12:26:13,333 [INFO] parallelexecution      items to process: 1\n",
      "2024-10-06 12:26:13,334 [INFO] zipcollecting  processing C:\\Users\\hansj\\secfsdstools\\data\\parquet\\quarter\\2014q3.zip\n",
      "2024-10-06 12:26:15,476 [INFO] parallelexecution      commited chunk: 0\n"
     ]
    },
    {
     "name": "stdout",
     "output_type": "stream",
     "text": [
      "store rawdatabag under set/tmp/2014q3.zip\\CF\\raw\n",
      "create joined databag\n",
      "store joineddatabag under set/tmp/2014q3.zip\\CF\\joined\n"
     ]
    },
    {
     "name": "stderr",
     "output_type": "stream",
     "text": [
      "2024-10-06 12:26:17,383 [INFO] configmgt  reading configuration from C:\\Users\\hansj\\.secfsdstools.cfg\n",
      "2024-10-06 12:26:17,386 [INFO] parallelexecution      items to process: 1\n",
      "2024-10-06 12:26:17,387 [INFO] zipcollecting  processing C:\\Users\\hansj\\secfsdstools\\data\\parquet\\quarter\\2016q3.zip\n",
      "2024-10-06 12:26:19,243 [INFO] parallelexecution      commited chunk: 0\n"
     ]
    },
    {
     "name": "stdout",
     "output_type": "stream",
     "text": [
      "store rawdatabag under set/tmp/2016q3.zip\\CF\\raw\n",
      "create joined databag\n",
      "store joineddatabag under set/tmp/2016q3.zip\\CF\\joined\n"
     ]
    },
    {
     "name": "stderr",
     "output_type": "stream",
     "text": [
      "2024-10-06 12:26:21,007 [INFO] configmgt  reading configuration from C:\\Users\\hansj\\.secfsdstools.cfg\n",
      "2024-10-06 12:26:21,010 [INFO] parallelexecution      items to process: 1\n",
      "2024-10-06 12:26:21,011 [INFO] zipcollecting  processing C:\\Users\\hansj\\secfsdstools\\data\\parquet\\quarter\\2018q1.zip\n",
      "2024-10-06 12:26:23,144 [INFO] parallelexecution      commited chunk: 0\n"
     ]
    },
    {
     "name": "stdout",
     "output_type": "stream",
     "text": [
      "store rawdatabag under set/tmp/2018q1.zip\\CF\\raw\n",
      "create joined databag\n",
      "store joineddatabag under set/tmp/2018q1.zip\\CF\\joined\n"
     ]
    },
    {
     "name": "stderr",
     "output_type": "stream",
     "text": [
      "2024-10-06 12:26:24,891 [INFO] configmgt  reading configuration from C:\\Users\\hansj\\.secfsdstools.cfg\n",
      "2024-10-06 12:26:24,894 [INFO] parallelexecution      items to process: 1\n",
      "2024-10-06 12:26:24,895 [INFO] zipcollecting  processing C:\\Users\\hansj\\secfsdstools\\data\\parquet\\quarter\\2013q4.zip\n",
      "2024-10-06 12:26:27,133 [INFO] parallelexecution      commited chunk: 0\n"
     ]
    },
    {
     "name": "stdout",
     "output_type": "stream",
     "text": [
      "store rawdatabag under set/tmp/2013q4.zip\\CF\\raw\n",
      "create joined databag\n",
      "store joineddatabag under set/tmp/2013q4.zip\\CF\\joined\n"
     ]
    },
    {
     "name": "stderr",
     "output_type": "stream",
     "text": [
      "2024-10-06 12:26:29,089 [INFO] configmgt  reading configuration from C:\\Users\\hansj\\.secfsdstools.cfg\n",
      "2024-10-06 12:26:29,092 [INFO] parallelexecution      items to process: 1\n",
      "2024-10-06 12:26:29,093 [INFO] zipcollecting  processing C:\\Users\\hansj\\secfsdstools\\data\\parquet\\quarter\\2015q2.zip\n",
      "2024-10-06 12:26:31,001 [INFO] parallelexecution      commited chunk: 0\n"
     ]
    },
    {
     "name": "stdout",
     "output_type": "stream",
     "text": [
      "store rawdatabag under set/tmp/2015q2.zip\\CF\\raw\n",
      "create joined databag\n",
      "store joineddatabag under set/tmp/2015q2.zip\\CF\\joined\n"
     ]
    },
    {
     "name": "stderr",
     "output_type": "stream",
     "text": [
      "2024-10-06 12:26:32,743 [INFO] configmgt  reading configuration from C:\\Users\\hansj\\.secfsdstools.cfg\n",
      "2024-10-06 12:26:32,746 [INFO] parallelexecution      items to process: 1\n",
      "2024-10-06 12:26:32,747 [INFO] zipcollecting  processing C:\\Users\\hansj\\secfsdstools\\data\\parquet\\quarter\\2021q3.zip\n",
      "2024-10-06 12:26:34,783 [INFO] parallelexecution      commited chunk: 0\n"
     ]
    },
    {
     "name": "stdout",
     "output_type": "stream",
     "text": [
      "store rawdatabag under set/tmp/2021q3.zip\\CF\\raw\n",
      "create joined databag\n",
      "store joineddatabag under set/tmp/2021q3.zip\\CF\\joined\n"
     ]
    },
    {
     "name": "stderr",
     "output_type": "stream",
     "text": [
      "2024-10-06 12:26:36,728 [INFO] configmgt  reading configuration from C:\\Users\\hansj\\.secfsdstools.cfg\n",
      "2024-10-06 12:26:36,732 [INFO] parallelexecution      items to process: 1\n",
      "2024-10-06 12:26:36,733 [INFO] zipcollecting  processing C:\\Users\\hansj\\secfsdstools\\data\\parquet\\quarter\\2010q3.zip\n",
      "2024-10-06 12:26:37,156 [INFO] parallelexecution      commited chunk: 0\n"
     ]
    },
    {
     "name": "stdout",
     "output_type": "stream",
     "text": [
      "store rawdatabag under set/tmp/2010q3.zip\\CF\\raw\n"
     ]
    },
    {
     "name": "stderr",
     "output_type": "stream",
     "text": [
      "2024-10-06 12:26:37,582 [INFO] configmgt  reading configuration from C:\\Users\\hansj\\.secfsdstools.cfg\n",
      "2024-10-06 12:26:37,585 [INFO] parallelexecution      items to process: 1\n",
      "2024-10-06 12:26:37,587 [INFO] zipcollecting  processing C:\\Users\\hansj\\secfsdstools\\data\\parquet\\quarter\\2011q4.zip\n"
     ]
    },
    {
     "name": "stdout",
     "output_type": "stream",
     "text": [
      "create joined databag\n",
      "store joineddatabag under set/tmp/2010q3.zip\\CF\\joined\n"
     ]
    },
    {
     "name": "stderr",
     "output_type": "stream",
     "text": [
      "2024-10-06 12:26:39,546 [INFO] parallelexecution      commited chunk: 0\n"
     ]
    },
    {
     "name": "stdout",
     "output_type": "stream",
     "text": [
      "store rawdatabag under set/tmp/2011q4.zip\\CF\\raw\n",
      "create joined databag\n",
      "store joineddatabag under set/tmp/2011q4.zip\\CF\\joined\n"
     ]
    },
    {
     "name": "stderr",
     "output_type": "stream",
     "text": [
      "2024-10-06 12:26:41,216 [INFO] configmgt  reading configuration from C:\\Users\\hansj\\.secfsdstools.cfg\n",
      "2024-10-06 12:26:41,219 [INFO] parallelexecution      items to process: 1\n",
      "2024-10-06 12:26:41,220 [INFO] zipcollecting  processing C:\\Users\\hansj\\secfsdstools\\data\\parquet\\quarter\\2012q2.zip\n",
      "2024-10-06 12:26:42,918 [INFO] parallelexecution      commited chunk: 0\n"
     ]
    },
    {
     "name": "stdout",
     "output_type": "stream",
     "text": [
      "store rawdatabag under set/tmp/2012q2.zip\\CF\\raw\n",
      "create joined databag\n",
      "store joineddatabag under set/tmp/2012q2.zip\\CF\\joined\n"
     ]
    },
    {
     "name": "stderr",
     "output_type": "stream",
     "text": [
      "2024-10-06 12:26:44,606 [INFO] configmgt  reading configuration from C:\\Users\\hansj\\.secfsdstools.cfg\n",
      "2024-10-06 12:26:44,609 [INFO] parallelexecution      items to process: 1\n",
      "2024-10-06 12:26:44,610 [INFO] zipcollecting  processing C:\\Users\\hansj\\secfsdstools\\data\\parquet\\quarter\\2010q4.zip\n",
      "2024-10-06 12:26:45,047 [INFO] parallelexecution      commited chunk: 0\n"
     ]
    },
    {
     "name": "stdout",
     "output_type": "stream",
     "text": [
      "store rawdatabag under set/tmp/2010q4.zip\\CF\\raw\n"
     ]
    },
    {
     "name": "stderr",
     "output_type": "stream",
     "text": [
      "2024-10-06 12:26:45,485 [INFO] configmgt  reading configuration from C:\\Users\\hansj\\.secfsdstools.cfg\n",
      "2024-10-06 12:26:45,488 [INFO] parallelexecution      items to process: 1\n",
      "2024-10-06 12:26:45,489 [INFO] zipcollecting  processing C:\\Users\\hansj\\secfsdstools\\data\\parquet\\quarter\\2016q1.zip\n"
     ]
    },
    {
     "name": "stdout",
     "output_type": "stream",
     "text": [
      "create joined databag\n",
      "store joineddatabag under set/tmp/2010q4.zip\\CF\\joined\n"
     ]
    },
    {
     "name": "stderr",
     "output_type": "stream",
     "text": [
      "2024-10-06 12:26:47,929 [INFO] parallelexecution      commited chunk: 0\n"
     ]
    },
    {
     "name": "stdout",
     "output_type": "stream",
     "text": [
      "store rawdatabag under set/tmp/2016q1.zip\\CF\\raw\n",
      "create joined databag\n",
      "store joineddatabag under set/tmp/2016q1.zip\\CF\\joined\n"
     ]
    },
    {
     "name": "stderr",
     "output_type": "stream",
     "text": [
      "2024-10-06 12:26:49,796 [INFO] configmgt  reading configuration from C:\\Users\\hansj\\.secfsdstools.cfg\n",
      "2024-10-06 12:26:49,799 [INFO] parallelexecution      items to process: 1\n",
      "2024-10-06 12:26:49,800 [INFO] zipcollecting  processing C:\\Users\\hansj\\secfsdstools\\data\\parquet\\quarter\\2021q1.zip\n",
      "2024-10-06 12:26:51,932 [INFO] parallelexecution      commited chunk: 0\n"
     ]
    },
    {
     "name": "stdout",
     "output_type": "stream",
     "text": [
      "store rawdatabag under set/tmp/2021q1.zip\\CF\\raw\n",
      "create joined databag\n",
      "store joineddatabag under set/tmp/2021q1.zip\\CF\\joined\n"
     ]
    },
    {
     "name": "stderr",
     "output_type": "stream",
     "text": [
      "2024-10-06 12:26:53,684 [INFO] configmgt  reading configuration from C:\\Users\\hansj\\.secfsdstools.cfg\n",
      "2024-10-06 12:26:53,687 [INFO] parallelexecution      items to process: 1\n",
      "2024-10-06 12:26:53,688 [INFO] zipcollecting  processing C:\\Users\\hansj\\secfsdstools\\data\\parquet\\quarter\\2011q2.zip\n",
      "2024-10-06 12:26:54,108 [INFO] parallelexecution      commited chunk: 0\n"
     ]
    },
    {
     "name": "stdout",
     "output_type": "stream",
     "text": [
      "store rawdatabag under set/tmp/2011q2.zip\\CF\\raw\n"
     ]
    },
    {
     "name": "stderr",
     "output_type": "stream",
     "text": [
      "2024-10-06 12:26:54,532 [INFO] configmgt  reading configuration from C:\\Users\\hansj\\.secfsdstools.cfg\n",
      "2024-10-06 12:26:54,534 [INFO] parallelexecution      items to process: 1\n",
      "2024-10-06 12:26:54,535 [INFO] zipcollecting  processing C:\\Users\\hansj\\secfsdstools\\data\\parquet\\quarter\\2009q2.zip\n",
      "2024-10-06 12:26:54,570 [INFO] parallelexecution      commited chunk: 0\n"
     ]
    },
    {
     "name": "stdout",
     "output_type": "stream",
     "text": [
      "create joined databag\n",
      "store joineddatabag under set/tmp/2011q2.zip\\CF\\joined\n"
     ]
    },
    {
     "name": "stderr",
     "output_type": "stream",
     "text": [
      "2024-10-06 12:26:54,629 [INFO] configmgt  reading configuration from C:\\Users\\hansj\\.secfsdstools.cfg\n",
      "2024-10-06 12:26:54,631 [INFO] parallelexecution      items to process: 1\n",
      "2024-10-06 12:26:54,632 [INFO] zipcollecting  processing C:\\Users\\hansj\\secfsdstools\\data\\parquet\\quarter\\2022q1.zip\n"
     ]
    },
    {
     "name": "stdout",
     "output_type": "stream",
     "text": [
      "store rawdatabag under set/tmp/2009q2.zip\\CF\\raw\n",
      "create joined databag\n",
      "store joineddatabag under set/tmp/2009q2.zip\\CF\\joined\n"
     ]
    },
    {
     "name": "stderr",
     "output_type": "stream",
     "text": [
      "2024-10-06 12:26:56,957 [INFO] parallelexecution      commited chunk: 0\n"
     ]
    },
    {
     "name": "stdout",
     "output_type": "stream",
     "text": [
      "store rawdatabag under set/tmp/2022q1.zip\\CF\\raw\n",
      "create joined databag\n",
      "store joineddatabag under set/tmp/2022q1.zip\\CF\\joined\n"
     ]
    },
    {
     "name": "stderr",
     "output_type": "stream",
     "text": [
      "2024-10-06 12:26:58,784 [INFO] configmgt  reading configuration from C:\\Users\\hansj\\.secfsdstools.cfg\n",
      "2024-10-06 12:26:58,786 [INFO] parallelexecution      items to process: 1\n",
      "2024-10-06 12:26:58,787 [INFO] zipcollecting  processing C:\\Users\\hansj\\secfsdstools\\data\\parquet\\quarter\\2012q4.zip\n",
      "2024-10-06 12:27:01,158 [INFO] parallelexecution      commited chunk: 0\n"
     ]
    },
    {
     "name": "stdout",
     "output_type": "stream",
     "text": [
      "store rawdatabag under set/tmp/2012q4.zip\\CF\\raw\n",
      "create joined databag\n",
      "store joineddatabag under set/tmp/2012q4.zip\\CF\\joined\n"
     ]
    },
    {
     "name": "stderr",
     "output_type": "stream",
     "text": [
      "2024-10-06 12:27:03,107 [INFO] configmgt  reading configuration from C:\\Users\\hansj\\.secfsdstools.cfg\n",
      "2024-10-06 12:27:03,111 [INFO] parallelexecution      items to process: 1\n",
      "2024-10-06 12:27:03,112 [INFO] zipcollecting  processing C:\\Users\\hansj\\secfsdstools\\data\\parquet\\quarter\\2010q1.zip\n",
      "2024-10-06 12:27:03,273 [INFO] parallelexecution      commited chunk: 0\n",
      "2024-10-06 12:27:03,453 [INFO] configmgt  reading configuration from C:\\Users\\hansj\\.secfsdstools.cfg\n",
      "2024-10-06 12:27:03,456 [INFO] parallelexecution      items to process: 1\n",
      "2024-10-06 12:27:03,456 [INFO] zipcollecting  processing C:\\Users\\hansj\\secfsdstools\\data\\parquet\\quarter\\2015q1.zip\n"
     ]
    },
    {
     "name": "stdout",
     "output_type": "stream",
     "text": [
      "store rawdatabag under set/tmp/2010q1.zip\\CF\\raw\n",
      "create joined databag\n",
      "store joineddatabag under set/tmp/2010q1.zip\\CF\\joined\n"
     ]
    },
    {
     "name": "stderr",
     "output_type": "stream",
     "text": [
      "2024-10-06 12:27:05,994 [INFO] parallelexecution      commited chunk: 0\n"
     ]
    },
    {
     "name": "stdout",
     "output_type": "stream",
     "text": [
      "store rawdatabag under set/tmp/2015q1.zip\\CF\\raw\n",
      "create joined databag\n",
      "store joineddatabag under set/tmp/2015q1.zip\\CF\\joined\n"
     ]
    },
    {
     "name": "stderr",
     "output_type": "stream",
     "text": [
      "2024-10-06 12:27:07,920 [INFO] configmgt  reading configuration from C:\\Users\\hansj\\.secfsdstools.cfg\n",
      "2024-10-06 12:27:07,923 [INFO] parallelexecution      items to process: 1\n",
      "2024-10-06 12:27:07,924 [INFO] zipcollecting  processing C:\\Users\\hansj\\secfsdstools\\data\\parquet\\quarter\\2022q3.zip\n",
      "2024-10-06 12:27:09,898 [INFO] parallelexecution      commited chunk: 0\n"
     ]
    },
    {
     "name": "stdout",
     "output_type": "stream",
     "text": [
      "store rawdatabag under set/tmp/2022q3.zip\\CF\\raw\n",
      "create joined databag\n",
      "store joineddatabag under set/tmp/2022q3.zip\\CF\\joined\n"
     ]
    },
    {
     "name": "stderr",
     "output_type": "stream",
     "text": [
      "2024-10-06 12:27:11,727 [INFO] configmgt  reading configuration from C:\\Users\\hansj\\.secfsdstools.cfg\n",
      "2024-10-06 12:27:11,730 [INFO] parallelexecution      items to process: 1\n",
      "2024-10-06 12:27:11,731 [INFO] zipcollecting  processing C:\\Users\\hansj\\secfsdstools\\data\\parquet\\quarter\\2018q2.zip\n",
      "2024-10-06 12:27:13,463 [INFO] parallelexecution      commited chunk: 0\n"
     ]
    },
    {
     "name": "stdout",
     "output_type": "stream",
     "text": [
      "store rawdatabag under set/tmp/2018q2.zip\\CF\\raw\n",
      "create joined databag\n",
      "store joineddatabag under set/tmp/2018q2.zip\\CF\\joined\n"
     ]
    },
    {
     "name": "stderr",
     "output_type": "stream",
     "text": [
      "2024-10-06 12:27:15,086 [INFO] configmgt  reading configuration from C:\\Users\\hansj\\.secfsdstools.cfg\n",
      "2024-10-06 12:27:15,089 [INFO] parallelexecution      items to process: 1\n",
      "2024-10-06 12:27:15,090 [INFO] zipcollecting  processing C:\\Users\\hansj\\secfsdstools\\data\\parquet\\quarter\\2019q3.zip\n",
      "2024-10-06 12:27:16,936 [INFO] parallelexecution      commited chunk: 0\n"
     ]
    },
    {
     "name": "stdout",
     "output_type": "stream",
     "text": [
      "store rawdatabag under set/tmp/2019q3.zip\\CF\\raw\n",
      "create joined databag\n",
      "store joineddatabag under set/tmp/2019q3.zip\\CF\\joined\n"
     ]
    },
    {
     "name": "stderr",
     "output_type": "stream",
     "text": [
      "2024-10-06 12:27:18,622 [INFO] configmgt  reading configuration from C:\\Users\\hansj\\.secfsdstools.cfg\n",
      "2024-10-06 12:27:18,626 [INFO] parallelexecution      items to process: 1\n",
      "2024-10-06 12:27:18,626 [INFO] zipcollecting  processing C:\\Users\\hansj\\secfsdstools\\data\\parquet\\quarter\\2020q2.zip\n",
      "2024-10-06 12:27:20,233 [INFO] parallelexecution      commited chunk: 0\n"
     ]
    },
    {
     "name": "stdout",
     "output_type": "stream",
     "text": [
      "store rawdatabag under set/tmp/2020q2.zip\\CF\\raw\n",
      "create joined databag\n",
      "store joineddatabag under set/tmp/2020q2.zip\\CF\\joined\n"
     ]
    },
    {
     "name": "stderr",
     "output_type": "stream",
     "text": [
      "2024-10-06 12:27:21,732 [INFO] configmgt  reading configuration from C:\\Users\\hansj\\.secfsdstools.cfg\n",
      "2024-10-06 12:27:21,735 [INFO] parallelexecution      items to process: 1\n",
      "2024-10-06 12:27:21,736 [INFO] zipcollecting  processing C:\\Users\\hansj\\secfsdstools\\data\\parquet\\quarter\\2022q4.zip\n",
      "2024-10-06 12:27:23,764 [INFO] parallelexecution      commited chunk: 0\n"
     ]
    },
    {
     "name": "stdout",
     "output_type": "stream",
     "text": [
      "store rawdatabag under set/tmp/2022q4.zip\\CF\\raw\n",
      "create joined databag\n",
      "store joineddatabag under set/tmp/2022q4.zip\\CF\\joined\n"
     ]
    },
    {
     "name": "stderr",
     "output_type": "stream",
     "text": [
      "2024-10-06 12:27:25,648 [INFO] configmgt  reading configuration from C:\\Users\\hansj\\.secfsdstools.cfg\n",
      "2024-10-06 12:27:25,651 [INFO] parallelexecution      items to process: 1\n",
      "2024-10-06 12:27:25,652 [INFO] zipcollecting  processing C:\\Users\\hansj\\secfsdstools\\data\\parquet\\quarter\\2017q2.zip\n",
      "2024-10-06 12:27:27,303 [INFO] parallelexecution      commited chunk: 0\n"
     ]
    },
    {
     "name": "stdout",
     "output_type": "stream",
     "text": [
      "store rawdatabag under set/tmp/2017q2.zip\\CF\\raw\n",
      "create joined databag\n",
      "store joineddatabag under set/tmp/2017q2.zip\\CF\\joined\n"
     ]
    },
    {
     "name": "stderr",
     "output_type": "stream",
     "text": [
      "2024-10-06 12:27:28,856 [INFO] configmgt  reading configuration from C:\\Users\\hansj\\.secfsdstools.cfg\n",
      "2024-10-06 12:27:28,859 [INFO] parallelexecution      items to process: 1\n",
      "2024-10-06 12:27:28,860 [INFO] zipcollecting  processing C:\\Users\\hansj\\secfsdstools\\data\\parquet\\quarter\\2012q3.zip\n",
      "2024-10-06 12:27:30,939 [INFO] parallelexecution      commited chunk: 0\n"
     ]
    },
    {
     "name": "stdout",
     "output_type": "stream",
     "text": [
      "store rawdatabag under set/tmp/2012q3.zip\\CF\\raw\n",
      "create joined databag\n",
      "store joineddatabag under set/tmp/2012q3.zip\\CF\\joined\n"
     ]
    },
    {
     "name": "stderr",
     "output_type": "stream",
     "text": [
      "2024-10-06 12:27:32,633 [INFO] configmgt  reading configuration from C:\\Users\\hansj\\.secfsdstools.cfg\n",
      "2024-10-06 12:27:32,636 [INFO] parallelexecution      items to process: 1\n",
      "2024-10-06 12:27:32,637 [INFO] zipcollecting  processing C:\\Users\\hansj\\secfsdstools\\data\\parquet\\quarter\\2011q1.zip\n",
      "2024-10-06 12:27:33,159 [INFO] parallelexecution      commited chunk: 0\n"
     ]
    },
    {
     "name": "stdout",
     "output_type": "stream",
     "text": [
      "store rawdatabag under set/tmp/2011q1.zip\\CF\\raw\n"
     ]
    },
    {
     "name": "stderr",
     "output_type": "stream",
     "text": [
      "2024-10-06 12:27:33,620 [INFO] configmgt  reading configuration from C:\\Users\\hansj\\.secfsdstools.cfg\n",
      "2024-10-06 12:27:33,623 [INFO] parallelexecution      items to process: 1\n",
      "2024-10-06 12:27:33,624 [INFO] zipcollecting  processing C:\\Users\\hansj\\secfsdstools\\data\\parquet\\quarter\\2017q4.zip\n"
     ]
    },
    {
     "name": "stdout",
     "output_type": "stream",
     "text": [
      "create joined databag\n",
      "store joineddatabag under set/tmp/2011q1.zip\\CF\\joined\n"
     ]
    },
    {
     "name": "stderr",
     "output_type": "stream",
     "text": [
      "2024-10-06 12:27:35,453 [INFO] parallelexecution      commited chunk: 0\n"
     ]
    },
    {
     "name": "stdout",
     "output_type": "stream",
     "text": [
      "store rawdatabag under set/tmp/2017q4.zip\\CF\\raw\n",
      "create joined databag\n",
      "store joineddatabag under set/tmp/2017q4.zip\\CF\\joined\n"
     ]
    },
    {
     "name": "stderr",
     "output_type": "stream",
     "text": [
      "2024-10-06 12:27:37,149 [INFO] configmgt  reading configuration from C:\\Users\\hansj\\.secfsdstools.cfg\n",
      "2024-10-06 12:27:37,152 [INFO] parallelexecution      items to process: 1\n",
      "2024-10-06 12:27:37,153 [INFO] zipcollecting  processing C:\\Users\\hansj\\secfsdstools\\data\\parquet\\quarter\\2010q2.zip\n",
      "2024-10-06 12:27:37,282 [INFO] parallelexecution      commited chunk: 0\n",
      "2024-10-06 12:27:37,446 [INFO] configmgt  reading configuration from C:\\Users\\hansj\\.secfsdstools.cfg\n",
      "2024-10-06 12:27:37,448 [INFO] parallelexecution      items to process: 1\n",
      "2024-10-06 12:27:37,449 [INFO] zipcollecting  processing C:\\Users\\hansj\\secfsdstools\\data\\parquet\\quarter\\2018q3.zip\n"
     ]
    },
    {
     "name": "stdout",
     "output_type": "stream",
     "text": [
      "store rawdatabag under set/tmp/2010q2.zip\\CF\\raw\n",
      "create joined databag\n",
      "store joineddatabag under set/tmp/2010q2.zip\\CF\\joined\n"
     ]
    },
    {
     "name": "stderr",
     "output_type": "stream",
     "text": [
      "2024-10-06 12:27:39,216 [INFO] parallelexecution      commited chunk: 0\n"
     ]
    },
    {
     "name": "stdout",
     "output_type": "stream",
     "text": [
      "store rawdatabag under set/tmp/2018q3.zip\\CF\\raw\n",
      "create joined databag\n",
      "store joineddatabag under set/tmp/2018q3.zip\\CF\\joined\n"
     ]
    },
    {
     "name": "stderr",
     "output_type": "stream",
     "text": [
      "2024-10-06 12:27:40,838 [INFO] configmgt  reading configuration from C:\\Users\\hansj\\.secfsdstools.cfg\n",
      "2024-10-06 12:27:40,841 [INFO] parallelexecution      items to process: 1\n",
      "2024-10-06 12:27:40,842 [INFO] zipcollecting  processing C:\\Users\\hansj\\secfsdstools\\data\\parquet\\quarter\\2021q4.zip\n",
      "2024-10-06 12:27:42,825 [INFO] parallelexecution      commited chunk: 0\n"
     ]
    },
    {
     "name": "stdout",
     "output_type": "stream",
     "text": [
      "store rawdatabag under set/tmp/2021q4.zip\\CF\\raw\n",
      "create joined databag\n",
      "store joineddatabag under set/tmp/2021q4.zip\\CF\\joined\n"
     ]
    },
    {
     "name": "stderr",
     "output_type": "stream",
     "text": [
      "2024-10-06 12:27:44,637 [INFO] configmgt  reading configuration from C:\\Users\\hansj\\.secfsdstools.cfg\n",
      "2024-10-06 12:27:44,639 [INFO] parallelexecution      items to process: 1\n",
      "2024-10-06 12:27:44,640 [INFO] zipcollecting  processing C:\\Users\\hansj\\secfsdstools\\data\\parquet\\quarter\\2019q2.zip\n",
      "2024-10-06 12:27:46,348 [INFO] parallelexecution      commited chunk: 0\n"
     ]
    },
    {
     "name": "stdout",
     "output_type": "stream",
     "text": [
      "store rawdatabag under set/tmp/2019q2.zip\\CF\\raw\n",
      "create joined databag\n",
      "store joineddatabag under set/tmp/2019q2.zip\\CF\\joined\n"
     ]
    },
    {
     "name": "stderr",
     "output_type": "stream",
     "text": [
      "2024-10-06 12:27:47,979 [INFO] configmgt  reading configuration from C:\\Users\\hansj\\.secfsdstools.cfg\n",
      "2024-10-06 12:27:47,982 [INFO] parallelexecution      items to process: 1\n",
      "2024-10-06 12:27:47,983 [INFO] zipcollecting  processing C:\\Users\\hansj\\secfsdstools\\data\\parquet\\quarter\\2013q1.zip\n",
      "2024-10-06 12:27:50,506 [INFO] parallelexecution      commited chunk: 0\n"
     ]
    },
    {
     "name": "stdout",
     "output_type": "stream",
     "text": [
      "store rawdatabag under set/tmp/2013q1.zip\\CF\\raw\n",
      "create joined databag\n",
      "store joineddatabag under set/tmp/2013q1.zip\\CF\\joined\n"
     ]
    },
    {
     "name": "stderr",
     "output_type": "stream",
     "text": [
      "2024-10-06 12:27:52,360 [INFO] configmgt  reading configuration from C:\\Users\\hansj\\.secfsdstools.cfg\n",
      "2024-10-06 12:27:52,362 [INFO] parallelexecution      items to process: 1\n",
      "2024-10-06 12:27:52,363 [INFO] zipcollecting  processing C:\\Users\\hansj\\secfsdstools\\data\\parquet\\quarter\\2015q4.zip\n",
      "2024-10-06 12:27:54,441 [INFO] parallelexecution      commited chunk: 0\n"
     ]
    },
    {
     "name": "stdout",
     "output_type": "stream",
     "text": [
      "store rawdatabag under set/tmp/2015q4.zip\\CF\\raw\n",
      "create joined databag\n",
      "store joineddatabag under set/tmp/2015q4.zip\\CF\\joined\n"
     ]
    },
    {
     "name": "stderr",
     "output_type": "stream",
     "text": [
      "2024-10-06 12:27:56,265 [INFO] configmgt  reading configuration from C:\\Users\\hansj\\.secfsdstools.cfg\n",
      "2024-10-06 12:27:56,269 [INFO] parallelexecution      items to process: 1\n",
      "2024-10-06 12:27:56,270 [INFO] zipcollecting  processing C:\\Users\\hansj\\secfsdstools\\data\\parquet\\quarter\\2009q3.zip\n",
      "2024-10-06 12:27:56,389 [INFO] parallelexecution      commited chunk: 0\n",
      "2024-10-06 12:27:56,550 [INFO] configmgt  reading configuration from C:\\Users\\hansj\\.secfsdstools.cfg\n",
      "2024-10-06 12:27:56,553 [INFO] parallelexecution      items to process: 1\n",
      "2024-10-06 12:27:56,554 [INFO] zipcollecting  processing C:\\Users\\hansj\\secfsdstools\\data\\parquet\\quarter\\2016q2.zip\n"
     ]
    },
    {
     "name": "stdout",
     "output_type": "stream",
     "text": [
      "store rawdatabag under set/tmp/2009q3.zip\\CF\\raw\n",
      "create joined databag\n",
      "store joineddatabag under set/tmp/2009q3.zip\\CF\\joined\n"
     ]
    },
    {
     "name": "stderr",
     "output_type": "stream",
     "text": [
      "2024-10-06 12:27:58,332 [INFO] parallelexecution      commited chunk: 0\n"
     ]
    },
    {
     "name": "stdout",
     "output_type": "stream",
     "text": [
      "store rawdatabag under set/tmp/2016q2.zip\\CF\\raw\n",
      "create joined databag\n",
      "store joineddatabag under set/tmp/2016q2.zip\\CF\\joined\n"
     ]
    },
    {
     "name": "stderr",
     "output_type": "stream",
     "text": [
      "2024-10-06 12:27:59,937 [INFO] configmgt  reading configuration from C:\\Users\\hansj\\.secfsdstools.cfg\n",
      "2024-10-06 12:27:59,940 [INFO] parallelexecution      items to process: 1\n",
      "2024-10-06 12:27:59,941 [INFO] zipcollecting  processing C:\\Users\\hansj\\secfsdstools\\data\\parquet\\quarter\\2013q3.zip\n",
      "2024-10-06 12:28:02,412 [INFO] parallelexecution      commited chunk: 0\n"
     ]
    },
    {
     "name": "stdout",
     "output_type": "stream",
     "text": [
      "store rawdatabag under set/tmp/2013q3.zip\\CF\\raw\n",
      "create joined databag\n",
      "store joineddatabag under set/tmp/2013q3.zip\\CF\\joined\n"
     ]
    },
    {
     "name": "stderr",
     "output_type": "stream",
     "text": [
      "2024-10-06 12:28:04,441 [INFO] configmgt  reading configuration from C:\\Users\\hansj\\.secfsdstools.cfg\n",
      "2024-10-06 12:28:04,444 [INFO] parallelexecution      items to process: 1\n",
      "2024-10-06 12:28:04,445 [INFO] zipcollecting  processing C:\\Users\\hansj\\secfsdstools\\data\\parquet\\quarter\\2016q4.zip\n",
      "2024-10-06 12:28:06,373 [INFO] parallelexecution      commited chunk: 0\n"
     ]
    },
    {
     "name": "stdout",
     "output_type": "stream",
     "text": [
      "store rawdatabag under set/tmp/2016q4.zip\\CF\\raw\n",
      "create joined databag\n",
      "store joineddatabag under set/tmp/2016q4.zip\\CF\\joined\n"
     ]
    },
    {
     "name": "stderr",
     "output_type": "stream",
     "text": [
      "2024-10-06 12:28:08,293 [INFO] configmgt  reading configuration from C:\\Users\\hansj\\.secfsdstools.cfg\n",
      "2024-10-06 12:28:08,295 [INFO] parallelexecution      items to process: 1\n",
      "2024-10-06 12:28:08,296 [INFO] zipcollecting  processing C:\\Users\\hansj\\secfsdstools\\data\\parquet\\quarter\\2017q3.zip\n",
      "2024-10-06 12:28:10,148 [INFO] parallelexecution      commited chunk: 0\n"
     ]
    },
    {
     "name": "stdout",
     "output_type": "stream",
     "text": [
      "store rawdatabag under set/tmp/2017q3.zip\\CF\\raw\n",
      "create joined databag\n",
      "store joineddatabag under set/tmp/2017q3.zip\\CF\\joined\n"
     ]
    },
    {
     "name": "stderr",
     "output_type": "stream",
     "text": [
      "2024-10-06 12:28:11,835 [INFO] configmgt  reading configuration from C:\\Users\\hansj\\.secfsdstools.cfg\n",
      "2024-10-06 12:28:11,838 [INFO] parallelexecution      items to process: 1\n",
      "2024-10-06 12:28:11,839 [INFO] zipcollecting  processing C:\\Users\\hansj\\secfsdstools\\data\\parquet\\quarter\\2018q4.zip\n",
      "2024-10-06 12:28:13,635 [INFO] parallelexecution      commited chunk: 0\n"
     ]
    },
    {
     "name": "stdout",
     "output_type": "stream",
     "text": [
      "store rawdatabag under set/tmp/2018q4.zip\\CF\\raw\n",
      "create joined databag\n",
      "store joineddatabag under set/tmp/2018q4.zip\\CF\\joined\n"
     ]
    },
    {
     "name": "stderr",
     "output_type": "stream",
     "text": [
      "2024-10-06 12:28:15,305 [INFO] configmgt  reading configuration from C:\\Users\\hansj\\.secfsdstools.cfg\n",
      "2024-10-06 12:28:15,307 [INFO] parallelexecution      items to process: 1\n",
      "2024-10-06 12:28:15,308 [INFO] zipcollecting  processing C:\\Users\\hansj\\secfsdstools\\data\\parquet\\quarter\\2023q2.zip\n",
      "2024-10-06 12:28:17,088 [INFO] parallelexecution      commited chunk: 0\n"
     ]
    },
    {
     "name": "stdout",
     "output_type": "stream",
     "text": [
      "store rawdatabag under set/tmp/2023q2.zip\\CF\\raw\n",
      "create joined databag\n",
      "store joineddatabag under set/tmp/2023q2.zip\\CF\\joined\n"
     ]
    },
    {
     "name": "stderr",
     "output_type": "stream",
     "text": [
      "2024-10-06 12:28:18,702 [INFO] configmgt  reading configuration from C:\\Users\\hansj\\.secfsdstools.cfg\n",
      "2024-10-06 12:28:18,705 [INFO] parallelexecution      items to process: 1\n",
      "2024-10-06 12:28:18,705 [INFO] zipcollecting  processing C:\\Users\\hansj\\secfsdstools\\data\\parquet\\quarter\\2014q4.zip\n",
      "2024-10-06 12:28:20,934 [INFO] parallelexecution      commited chunk: 0\n"
     ]
    },
    {
     "name": "stdout",
     "output_type": "stream",
     "text": [
      "store rawdatabag under set/tmp/2014q4.zip\\CF\\raw\n",
      "create joined databag\n",
      "store joineddatabag under set/tmp/2014q4.zip\\CF\\joined\n"
     ]
    },
    {
     "name": "stderr",
     "output_type": "stream",
     "text": [
      "2024-10-06 12:28:22,849 [INFO] configmgt  reading configuration from C:\\Users\\hansj\\.secfsdstools.cfg\n",
      "2024-10-06 12:28:22,852 [INFO] parallelexecution      items to process: 1\n",
      "2024-10-06 12:28:22,853 [INFO] zipcollecting  processing C:\\Users\\hansj\\secfsdstools\\data\\parquet\\quarter\\2011q3.zip\n",
      "2024-10-06 12:28:24,355 [INFO] parallelexecution      commited chunk: 0\n"
     ]
    },
    {
     "name": "stdout",
     "output_type": "stream",
     "text": [
      "store rawdatabag under set/tmp/2011q3.zip\\CF\\raw\n",
      "create joined databag\n",
      "store joineddatabag under set/tmp/2011q3.zip\\CF\\joined\n"
     ]
    },
    {
     "name": "stderr",
     "output_type": "stream",
     "text": [
      "2024-10-06 12:28:25,725 [INFO] configmgt  reading configuration from C:\\Users\\hansj\\.secfsdstools.cfg\n",
      "2024-10-06 12:28:25,728 [INFO] parallelexecution      items to process: 1\n",
      "2024-10-06 12:28:25,729 [INFO] zipcollecting  processing C:\\Users\\hansj\\secfsdstools\\data\\parquet\\quarter\\2020q3.zip\n",
      "2024-10-06 12:28:27,556 [INFO] parallelexecution      commited chunk: 0\n"
     ]
    },
    {
     "name": "stdout",
     "output_type": "stream",
     "text": [
      "store rawdatabag under set/tmp/2020q3.zip\\CF\\raw\n",
      "create joined databag\n",
      "store joineddatabag under set/tmp/2020q3.zip\\CF\\joined\n"
     ]
    },
    {
     "name": "stderr",
     "output_type": "stream",
     "text": [
      "2024-10-06 12:28:29,204 [INFO] configmgt  reading configuration from C:\\Users\\hansj\\.secfsdstools.cfg\n",
      "2024-10-06 12:28:29,206 [INFO] parallelexecution      items to process: 1\n",
      "2024-10-06 12:28:29,207 [INFO] zipcollecting  processing C:\\Users\\hansj\\secfsdstools\\data\\parquet\\quarter\\2014q2.zip\n",
      "2024-10-06 12:28:31,225 [INFO] parallelexecution      commited chunk: 0\n"
     ]
    },
    {
     "name": "stdout",
     "output_type": "stream",
     "text": [
      "store rawdatabag under set/tmp/2014q2.zip\\CF\\raw\n",
      "create joined databag\n",
      "store joineddatabag under set/tmp/2014q2.zip\\CF\\joined\n"
     ]
    },
    {
     "name": "stderr",
     "output_type": "stream",
     "text": [
      "2024-10-06 12:28:33,059 [INFO] configmgt  reading configuration from C:\\Users\\hansj\\.secfsdstools.cfg\n",
      "2024-10-06 12:28:33,062 [INFO] parallelexecution      items to process: 1\n",
      "2024-10-06 12:28:33,063 [INFO] zipcollecting  processing C:\\Users\\hansj\\secfsdstools\\data\\parquet\\quarter\\2020q1.zip\n",
      "2024-10-06 12:28:35,220 [INFO] parallelexecution      commited chunk: 0\n"
     ]
    },
    {
     "name": "stdout",
     "output_type": "stream",
     "text": [
      "store rawdatabag under set/tmp/2020q1.zip\\CF\\raw\n",
      "create joined databag\n",
      "store joineddatabag under set/tmp/2020q1.zip\\CF\\joined\n"
     ]
    },
    {
     "name": "stderr",
     "output_type": "stream",
     "text": [
      "2024-10-06 12:28:36,908 [INFO] configmgt  reading configuration from C:\\Users\\hansj\\.secfsdstools.cfg\n",
      "2024-10-06 12:28:36,910 [INFO] parallelexecution      items to process: 1\n",
      "2024-10-06 12:28:36,911 [INFO] zipcollecting  processing C:\\Users\\hansj\\secfsdstools\\data\\parquet\\quarter\\2012q1.zip\n",
      "2024-10-06 12:28:38,809 [INFO] parallelexecution      commited chunk: 0\n"
     ]
    },
    {
     "name": "stdout",
     "output_type": "stream",
     "text": [
      "store rawdatabag under set/tmp/2012q1.zip\\CF\\raw\n",
      "create joined databag\n",
      "store joineddatabag under set/tmp/2012q1.zip\\CF\\joined\n"
     ]
    },
    {
     "name": "stderr",
     "output_type": "stream",
     "text": [
      "2024-10-06 12:28:40,444 [INFO] configmgt  reading configuration from C:\\Users\\hansj\\.secfsdstools.cfg\n",
      "2024-10-06 12:28:40,447 [INFO] parallelexecution      items to process: 1\n",
      "2024-10-06 12:28:40,448 [INFO] zipcollecting  processing C:\\Users\\hansj\\secfsdstools\\data\\parquet\\quarter\\2014q1.zip\n",
      "2024-10-06 12:28:43,024 [INFO] parallelexecution      commited chunk: 0\n"
     ]
    },
    {
     "name": "stdout",
     "output_type": "stream",
     "text": [
      "store rawdatabag under set/tmp/2014q1.zip\\CF\\raw\n",
      "create joined databag\n",
      "store joineddatabag under set/tmp/2014q1.zip\\CF\\joined\n"
     ]
    },
    {
     "name": "stderr",
     "output_type": "stream",
     "text": [
      "2024-10-06 12:28:45,038 [INFO] configmgt  reading configuration from C:\\Users\\hansj\\.secfsdstools.cfg\n",
      "2024-10-06 12:28:45,040 [INFO] parallelexecution      items to process: 1\n",
      "2024-10-06 12:28:45,041 [INFO] zipcollecting  processing C:\\Users\\hansj\\secfsdstools\\data\\parquet\\quarter\\2019q1.zip\n",
      "2024-10-06 12:28:47,027 [INFO] parallelexecution      commited chunk: 0\n"
     ]
    },
    {
     "name": "stdout",
     "output_type": "stream",
     "text": [
      "store rawdatabag under set/tmp/2019q1.zip\\CF\\raw\n",
      "create joined databag\n",
      "store joineddatabag under set/tmp/2019q1.zip\\CF\\joined\n"
     ]
    },
    {
     "name": "stderr",
     "output_type": "stream",
     "text": [
      "2024-10-06 12:28:48,844 [INFO] configmgt  reading configuration from C:\\Users\\hansj\\.secfsdstools.cfg\n",
      "2024-10-06 12:28:48,848 [INFO] parallelexecution      items to process: 1\n",
      "2024-10-06 12:28:48,849 [INFO] zipcollecting  processing C:\\Users\\hansj\\secfsdstools\\data\\parquet\\quarter\\2015q3.zip\n",
      "2024-10-06 12:28:51,237 [INFO] parallelexecution      commited chunk: 0\n"
     ]
    },
    {
     "name": "stdout",
     "output_type": "stream",
     "text": [
      "store rawdatabag under set/tmp/2015q3.zip\\CF\\raw\n",
      "create joined databag\n",
      "store joineddatabag under set/tmp/2015q3.zip\\CF\\joined\n"
     ]
    },
    {
     "name": "stderr",
     "output_type": "stream",
     "text": [
      "2024-10-06 12:28:53,102 [INFO] configmgt  reading configuration from C:\\Users\\hansj\\.secfsdstools.cfg\n",
      "2024-10-06 12:28:53,104 [INFO] parallelexecution      items to process: 1\n",
      "2024-10-06 12:28:53,106 [INFO] zipcollecting  processing C:\\Users\\hansj\\secfsdstools\\data\\parquet\\quarter\\2017q1.zip\n",
      "2024-10-06 12:28:55,646 [INFO] parallelexecution      commited chunk: 0\n"
     ]
    },
    {
     "name": "stdout",
     "output_type": "stream",
     "text": [
      "store rawdatabag under set/tmp/2017q1.zip\\CF\\raw\n",
      "create joined databag\n",
      "store joineddatabag under set/tmp/2017q1.zip\\CF\\joined\n"
     ]
    },
    {
     "name": "stderr",
     "output_type": "stream",
     "text": [
      "2024-10-06 12:28:57,601 [INFO] configmgt  reading configuration from C:\\Users\\hansj\\.secfsdstools.cfg\n",
      "2024-10-06 12:28:57,604 [INFO] parallelexecution      items to process: 1\n",
      "2024-10-06 12:28:57,605 [INFO] zipcollecting  processing C:\\Users\\hansj\\secfsdstools\\data\\parquet\\quarter\\2020q4.zip\n",
      "2024-10-06 12:28:59,543 [INFO] parallelexecution      commited chunk: 0\n"
     ]
    },
    {
     "name": "stdout",
     "output_type": "stream",
     "text": [
      "store rawdatabag under set/tmp/2020q4.zip\\CF\\raw\n",
      "create joined databag\n",
      "store joineddatabag under set/tmp/2020q4.zip\\CF\\joined\n"
     ]
    },
    {
     "name": "stderr",
     "output_type": "stream",
     "text": [
      "2024-10-06 12:29:01,278 [INFO] configmgt  reading configuration from C:\\Users\\hansj\\.secfsdstools.cfg\n",
      "2024-10-06 12:29:01,281 [INFO] parallelexecution      items to process: 1\n",
      "2024-10-06 12:29:01,282 [INFO] zipcollecting  processing C:\\Users\\hansj\\secfsdstools\\data\\parquet\\quarter\\2013q2.zip\n",
      "2024-10-06 12:29:03,602 [INFO] parallelexecution      commited chunk: 0\n"
     ]
    },
    {
     "name": "stdout",
     "output_type": "stream",
     "text": [
      "store rawdatabag under set/tmp/2013q2.zip\\CF\\raw\n",
      "create joined databag\n",
      "store joineddatabag under set/tmp/2013q2.zip\\CF\\joined\n"
     ]
    },
    {
     "name": "stderr",
     "output_type": "stream",
     "text": [
      "2024-10-06 12:29:05,585 [INFO] configmgt  reading configuration from C:\\Users\\hansj\\.secfsdstools.cfg\n",
      "2024-10-06 12:29:05,587 [INFO] parallelexecution      items to process: 1\n",
      "2024-10-06 12:29:05,588 [INFO] zipcollecting  processing C:\\Users\\hansj\\secfsdstools\\data\\parquet\\quarter\\2021q2.zip\n",
      "2024-10-06 12:29:07,281 [INFO] parallelexecution      commited chunk: 0\n"
     ]
    },
    {
     "name": "stdout",
     "output_type": "stream",
     "text": [
      "store rawdatabag under set/tmp/2021q2.zip\\CF\\raw\n",
      "create joined databag\n",
      "store joineddatabag under set/tmp/2021q2.zip\\CF\\joined\n"
     ]
    },
    {
     "name": "stderr",
     "output_type": "stream",
     "text": [
      "2024-10-06 12:29:09,056 [INFO] configmgt  reading configuration from C:\\Users\\hansj\\.secfsdstools.cfg\n",
      "2024-10-06 12:29:09,059 [INFO] parallelexecution      items to process: 1\n",
      "2024-10-06 12:29:09,060 [INFO] zipcollecting  processing C:\\Users\\hansj\\secfsdstools\\data\\parquet\\quarter\\2022q2.zip\n",
      "2024-10-06 12:29:10,914 [INFO] parallelexecution      commited chunk: 0\n"
     ]
    },
    {
     "name": "stdout",
     "output_type": "stream",
     "text": [
      "store rawdatabag under set/tmp/2022q2.zip\\CF\\raw\n",
      "create joined databag\n",
      "store joineddatabag under set/tmp/2022q2.zip\\CF\\joined\n"
     ]
    },
    {
     "name": "stderr",
     "output_type": "stream",
     "text": [
      "2024-10-06 12:29:12,738 [INFO] configmgt  reading configuration from C:\\Users\\hansj\\.secfsdstools.cfg\n",
      "2024-10-06 12:29:12,740 [INFO] parallelexecution      items to process: 1\n",
      "2024-10-06 12:29:12,741 [INFO] zipcollecting  processing C:\\Users\\hansj\\secfsdstools\\data\\parquet\\quarter\\2009q4.zip\n",
      "2024-10-06 12:29:12,886 [INFO] parallelexecution      commited chunk: 0\n",
      "2024-10-06 12:29:13,096 [INFO] configmgt  reading configuration from C:\\Users\\hansj\\.secfsdstools.cfg\n"
     ]
    },
    {
     "name": "stdout",
     "output_type": "stream",
     "text": [
      "store rawdatabag under set/tmp/2009q4.zip\\CF\\raw\n",
      "create joined databag\n",
      "store joineddatabag under set/tmp/2009q4.zip\\CF\\joined\n"
     ]
    },
    {
     "name": "stderr",
     "output_type": "stream",
     "text": [
      "2024-10-06 12:29:13,099 [INFO] parallelexecution      items to process: 1\n",
      "2024-10-06 12:29:13,100 [INFO] zipcollecting  processing C:\\Users\\hansj\\secfsdstools\\data\\parquet\\quarter\\2023q3.zip\n",
      "2024-10-06 12:29:15,369 [INFO] parallelexecution      commited chunk: 0\n"
     ]
    },
    {
     "name": "stdout",
     "output_type": "stream",
     "text": [
      "store rawdatabag under set/tmp/2023q3.zip\\CF\\raw\n",
      "create joined databag\n",
      "store joineddatabag under set/tmp/2023q3.zip\\CF\\joined\n"
     ]
    },
    {
     "name": "stderr",
     "output_type": "stream",
     "text": [
      "2024-10-06 12:29:17,342 [INFO] configmgt  reading configuration from C:\\Users\\hansj\\.secfsdstools.cfg\n",
      "2024-10-06 12:29:17,346 [INFO] parallelexecution      items to process: 1\n",
      "2024-10-06 12:29:17,347 [INFO] zipcollecting  processing C:\\Users\\hansj\\secfsdstools\\data\\parquet\\quarter\\2023q4.zip\n",
      "2024-10-06 12:29:19,820 [INFO] parallelexecution      commited chunk: 0\n"
     ]
    },
    {
     "name": "stdout",
     "output_type": "stream",
     "text": [
      "store rawdatabag under set/tmp/2023q4.zip\\CF\\raw\n",
      "create joined databag\n",
      "store joineddatabag under set/tmp/2023q4.zip\\CF\\joined\n"
     ]
    },
    {
     "name": "stderr",
     "output_type": "stream",
     "text": [
      "2024-10-06 12:29:21,669 [INFO] configmgt  reading configuration from C:\\Users\\hansj\\.secfsdstools.cfg\n",
      "2024-10-06 12:29:21,671 [INFO] parallelexecution      items to process: 1\n",
      "2024-10-06 12:29:21,673 [INFO] zipcollecting  processing C:\\Users\\hansj\\secfsdstools\\data\\parquet\\quarter\\2024q1.zip\n",
      "2024-10-06 12:29:23,825 [INFO] parallelexecution      commited chunk: 0\n"
     ]
    },
    {
     "name": "stdout",
     "output_type": "stream",
     "text": [
      "store rawdatabag under set/tmp/2024q1.zip\\CF\\raw\n",
      "create joined databag\n",
      "store joineddatabag under set/tmp/2024q1.zip\\CF\\joined\n"
     ]
    },
    {
     "name": "stderr",
     "output_type": "stream",
     "text": [
      "2024-10-06 12:29:25,710 [INFO] configmgt  reading configuration from C:\\Users\\hansj\\.secfsdstools.cfg\n",
      "2024-10-06 12:29:25,713 [INFO] parallelexecution      items to process: 1\n",
      "2024-10-06 12:29:25,714 [INFO] zipcollecting  processing C:\\Users\\hansj\\secfsdstools\\data\\parquet\\quarter\\2024q2.zip\n",
      "2024-10-06 12:29:27,859 [INFO] parallelexecution      commited chunk: 0\n"
     ]
    },
    {
     "name": "stdout",
     "output_type": "stream",
     "text": [
      "store rawdatabag under set/tmp/2024q2.zip\\CF\\raw\n",
      "create joined databag\n",
      "store joineddatabag under set/tmp/2024q2.zip\\CF\\joined\n"
     ]
    }
   ],
   "source": [
    "build_tmp_set(financial_statement=\"CF\", file_names=all_zip_names, target_path=\"set/tmp/\")"
   ]
  },
  {
   "cell_type": "code",
   "execution_count": 15,
   "id": "24659372-b22b-42a2-b002-b28abdba7231",
   "metadata": {
    "collapsed": true,
    "jupyter": {
     "outputs_hidden": true
    },
    "tags": []
   },
   "outputs": [
    {
     "name": "stderr",
     "output_type": "stream",
     "text": [
      "2024-10-06 12:29:29,886 [INFO] configmgt  reading configuration from C:\\Users\\hansj\\.secfsdstools.cfg\n",
      "2024-10-06 12:29:29,890 [INFO] parallelexecution      items to process: 1\n",
      "2024-10-06 12:29:29,893 [INFO] zipcollecting  processing C:\\Users\\hansj\\secfsdstools\\data\\parquet\\quarter\\2019q4.zip\n",
      "2024-10-06 12:29:32,129 [INFO] parallelexecution      commited chunk: 0\n"
     ]
    },
    {
     "name": "stdout",
     "output_type": "stream",
     "text": [
      "store rawdatabag under set/tmp/2019q4.zip\\IS\\raw\n",
      "create joined databag\n",
      "store joineddatabag under set/tmp/2019q4.zip\\IS\\joined\n"
     ]
    },
    {
     "name": "stderr",
     "output_type": "stream",
     "text": [
      "2024-10-06 12:29:33,913 [INFO] configmgt  reading configuration from C:\\Users\\hansj\\.secfsdstools.cfg\n",
      "2024-10-06 12:29:33,917 [INFO] parallelexecution      items to process: 1\n",
      "2024-10-06 12:29:33,918 [INFO] zipcollecting  processing C:\\Users\\hansj\\secfsdstools\\data\\parquet\\quarter\\2023q1.zip\n",
      "2024-10-06 12:29:36,256 [INFO] parallelexecution      commited chunk: 0\n"
     ]
    },
    {
     "name": "stdout",
     "output_type": "stream",
     "text": [
      "store rawdatabag under set/tmp/2023q1.zip\\IS\\raw\n",
      "create joined databag\n",
      "store joineddatabag under set/tmp/2023q1.zip\\IS\\joined\n"
     ]
    },
    {
     "name": "stderr",
     "output_type": "stream",
     "text": [
      "2024-10-06 12:29:37,944 [INFO] configmgt  reading configuration from C:\\Users\\hansj\\.secfsdstools.cfg\n",
      "2024-10-06 12:29:37,947 [INFO] parallelexecution      items to process: 1\n",
      "2024-10-06 12:29:37,947 [INFO] zipcollecting  processing C:\\Users\\hansj\\secfsdstools\\data\\parquet\\quarter\\2014q3.zip\n",
      "2024-10-06 12:29:40,233 [INFO] parallelexecution      commited chunk: 0\n"
     ]
    },
    {
     "name": "stdout",
     "output_type": "stream",
     "text": [
      "store rawdatabag under set/tmp/2014q3.zip\\IS\\raw\n",
      "create joined databag\n",
      "store joineddatabag under set/tmp/2014q3.zip\\IS\\joined\n"
     ]
    },
    {
     "name": "stderr",
     "output_type": "stream",
     "text": [
      "2024-10-06 12:29:42,204 [INFO] configmgt  reading configuration from C:\\Users\\hansj\\.secfsdstools.cfg\n",
      "2024-10-06 12:29:42,207 [INFO] parallelexecution      items to process: 1\n",
      "2024-10-06 12:29:42,208 [INFO] zipcollecting  processing C:\\Users\\hansj\\secfsdstools\\data\\parquet\\quarter\\2016q3.zip\n",
      "2024-10-06 12:29:44,072 [INFO] parallelexecution      commited chunk: 0\n"
     ]
    },
    {
     "name": "stdout",
     "output_type": "stream",
     "text": [
      "store rawdatabag under set/tmp/2016q3.zip\\IS\\raw\n",
      "create joined databag\n",
      "store joineddatabag under set/tmp/2016q3.zip\\IS\\joined\n"
     ]
    },
    {
     "name": "stderr",
     "output_type": "stream",
     "text": [
      "2024-10-06 12:29:45,816 [INFO] configmgt  reading configuration from C:\\Users\\hansj\\.secfsdstools.cfg\n",
      "2024-10-06 12:29:45,819 [INFO] parallelexecution      items to process: 1\n",
      "2024-10-06 12:29:45,820 [INFO] zipcollecting  processing C:\\Users\\hansj\\secfsdstools\\data\\parquet\\quarter\\2018q1.zip\n",
      "2024-10-06 12:29:47,890 [INFO] parallelexecution      commited chunk: 0\n"
     ]
    },
    {
     "name": "stdout",
     "output_type": "stream",
     "text": [
      "store rawdatabag under set/tmp/2018q1.zip\\IS\\raw\n",
      "create joined databag\n",
      "store joineddatabag under set/tmp/2018q1.zip\\IS\\joined\n"
     ]
    },
    {
     "name": "stderr",
     "output_type": "stream",
     "text": [
      "2024-10-06 12:29:49,460 [INFO] configmgt  reading configuration from C:\\Users\\hansj\\.secfsdstools.cfg\n",
      "2024-10-06 12:29:49,463 [INFO] parallelexecution      items to process: 1\n",
      "2024-10-06 12:29:49,464 [INFO] zipcollecting  processing C:\\Users\\hansj\\secfsdstools\\data\\parquet\\quarter\\2013q4.zip\n",
      "2024-10-06 12:29:51,702 [INFO] parallelexecution      commited chunk: 0\n"
     ]
    },
    {
     "name": "stdout",
     "output_type": "stream",
     "text": [
      "store rawdatabag under set/tmp/2013q4.zip\\IS\\raw\n",
      "create joined databag\n",
      "store joineddatabag under set/tmp/2013q4.zip\\IS\\joined\n"
     ]
    },
    {
     "name": "stderr",
     "output_type": "stream",
     "text": [
      "2024-10-06 12:29:53,571 [INFO] configmgt  reading configuration from C:\\Users\\hansj\\.secfsdstools.cfg\n",
      "2024-10-06 12:29:53,574 [INFO] parallelexecution      items to process: 1\n",
      "2024-10-06 12:29:53,575 [INFO] zipcollecting  processing C:\\Users\\hansj\\secfsdstools\\data\\parquet\\quarter\\2015q2.zip\n",
      "2024-10-06 12:29:55,466 [INFO] parallelexecution      commited chunk: 0\n"
     ]
    },
    {
     "name": "stdout",
     "output_type": "stream",
     "text": [
      "store rawdatabag under set/tmp/2015q2.zip\\IS\\raw\n",
      "create joined databag\n",
      "store joineddatabag under set/tmp/2015q2.zip\\IS\\joined\n"
     ]
    },
    {
     "name": "stderr",
     "output_type": "stream",
     "text": [
      "2024-10-06 12:29:57,059 [INFO] configmgt  reading configuration from C:\\Users\\hansj\\.secfsdstools.cfg\n",
      "2024-10-06 12:29:57,062 [INFO] parallelexecution      items to process: 1\n",
      "2024-10-06 12:29:57,063 [INFO] zipcollecting  processing C:\\Users\\hansj\\secfsdstools\\data\\parquet\\quarter\\2021q3.zip\n",
      "2024-10-06 12:29:59,041 [INFO] parallelexecution      commited chunk: 0\n"
     ]
    },
    {
     "name": "stdout",
     "output_type": "stream",
     "text": [
      "store rawdatabag under set/tmp/2021q3.zip\\IS\\raw\n",
      "create joined databag\n",
      "store joineddatabag under set/tmp/2021q3.zip\\IS\\joined\n"
     ]
    },
    {
     "name": "stderr",
     "output_type": "stream",
     "text": [
      "2024-10-06 12:30:00,785 [INFO] configmgt  reading configuration from C:\\Users\\hansj\\.secfsdstools.cfg\n",
      "2024-10-06 12:30:00,788 [INFO] parallelexecution      items to process: 1\n",
      "2024-10-06 12:30:00,789 [INFO] zipcollecting  processing C:\\Users\\hansj\\secfsdstools\\data\\parquet\\quarter\\2010q3.zip\n",
      "2024-10-06 12:30:01,175 [INFO] parallelexecution      commited chunk: 0\n"
     ]
    },
    {
     "name": "stdout",
     "output_type": "stream",
     "text": [
      "store rawdatabag under set/tmp/2010q3.zip\\IS\\raw\n",
      "create joined databag\n"
     ]
    },
    {
     "name": "stderr",
     "output_type": "stream",
     "text": [
      "2024-10-06 12:30:01,580 [INFO] configmgt  reading configuration from C:\\Users\\hansj\\.secfsdstools.cfg\n",
      "2024-10-06 12:30:01,583 [INFO] parallelexecution      items to process: 1\n",
      "2024-10-06 12:30:01,584 [INFO] zipcollecting  processing C:\\Users\\hansj\\secfsdstools\\data\\parquet\\quarter\\2011q4.zip\n"
     ]
    },
    {
     "name": "stdout",
     "output_type": "stream",
     "text": [
      "store joineddatabag under set/tmp/2010q3.zip\\IS\\joined\n"
     ]
    },
    {
     "name": "stderr",
     "output_type": "stream",
     "text": [
      "2024-10-06 12:30:03,382 [INFO] parallelexecution      commited chunk: 0\n"
     ]
    },
    {
     "name": "stdout",
     "output_type": "stream",
     "text": [
      "store rawdatabag under set/tmp/2011q4.zip\\IS\\raw\n",
      "create joined databag\n",
      "store joineddatabag under set/tmp/2011q4.zip\\IS\\joined\n"
     ]
    },
    {
     "name": "stderr",
     "output_type": "stream",
     "text": [
      "2024-10-06 12:30:05,040 [INFO] configmgt  reading configuration from C:\\Users\\hansj\\.secfsdstools.cfg\n",
      "2024-10-06 12:30:05,042 [INFO] parallelexecution      items to process: 1\n",
      "2024-10-06 12:30:05,043 [INFO] zipcollecting  processing C:\\Users\\hansj\\secfsdstools\\data\\parquet\\quarter\\2012q2.zip\n",
      "2024-10-06 12:30:06,753 [INFO] parallelexecution      commited chunk: 0\n"
     ]
    },
    {
     "name": "stdout",
     "output_type": "stream",
     "text": [
      "store rawdatabag under set/tmp/2012q2.zip\\IS\\raw\n",
      "create joined databag\n",
      "store joineddatabag under set/tmp/2012q2.zip\\IS\\joined\n"
     ]
    },
    {
     "name": "stderr",
     "output_type": "stream",
     "text": [
      "2024-10-06 12:30:08,288 [INFO] configmgt  reading configuration from C:\\Users\\hansj\\.secfsdstools.cfg\n",
      "2024-10-06 12:30:08,291 [INFO] parallelexecution      items to process: 1\n",
      "2024-10-06 12:30:08,292 [INFO] zipcollecting  processing C:\\Users\\hansj\\secfsdstools\\data\\parquet\\quarter\\2010q4.zip\n",
      "2024-10-06 12:30:08,748 [INFO] parallelexecution      commited chunk: 0\n"
     ]
    },
    {
     "name": "stdout",
     "output_type": "stream",
     "text": [
      "store rawdatabag under set/tmp/2010q4.zip\\IS\\raw\n"
     ]
    },
    {
     "name": "stderr",
     "output_type": "stream",
     "text": [
      "2024-10-06 12:30:09,190 [INFO] configmgt  reading configuration from C:\\Users\\hansj\\.secfsdstools.cfg\n"
     ]
    },
    {
     "name": "stdout",
     "output_type": "stream",
     "text": [
      "create joined databag\n",
      "store joineddatabag under set/tmp/2010q4.zip\\IS\\joined\n"
     ]
    },
    {
     "name": "stderr",
     "output_type": "stream",
     "text": [
      "2024-10-06 12:30:09,193 [INFO] parallelexecution      items to process: 1\n",
      "2024-10-06 12:30:09,194 [INFO] zipcollecting  processing C:\\Users\\hansj\\secfsdstools\\data\\parquet\\quarter\\2016q1.zip\n",
      "2024-10-06 12:30:11,629 [INFO] parallelexecution      commited chunk: 0\n"
     ]
    },
    {
     "name": "stdout",
     "output_type": "stream",
     "text": [
      "store rawdatabag under set/tmp/2016q1.zip\\IS\\raw\n",
      "create joined databag\n",
      "store joineddatabag under set/tmp/2016q1.zip\\IS\\joined\n"
     ]
    },
    {
     "name": "stderr",
     "output_type": "stream",
     "text": [
      "2024-10-06 12:30:13,344 [INFO] configmgt  reading configuration from C:\\Users\\hansj\\.secfsdstools.cfg\n",
      "2024-10-06 12:30:13,347 [INFO] parallelexecution      items to process: 1\n",
      "2024-10-06 12:30:13,348 [INFO] zipcollecting  processing C:\\Users\\hansj\\secfsdstools\\data\\parquet\\quarter\\2021q1.zip\n",
      "2024-10-06 12:30:15,544 [INFO] parallelexecution      commited chunk: 0\n"
     ]
    },
    {
     "name": "stdout",
     "output_type": "stream",
     "text": [
      "store rawdatabag under set/tmp/2021q1.zip\\IS\\raw\n",
      "create joined databag\n",
      "store joineddatabag under set/tmp/2021q1.zip\\IS\\joined\n"
     ]
    },
    {
     "name": "stderr",
     "output_type": "stream",
     "text": [
      "2024-10-06 12:30:17,145 [INFO] configmgt  reading configuration from C:\\Users\\hansj\\.secfsdstools.cfg\n",
      "2024-10-06 12:30:17,148 [INFO] parallelexecution      items to process: 1\n",
      "2024-10-06 12:30:17,150 [INFO] zipcollecting  processing C:\\Users\\hansj\\secfsdstools\\data\\parquet\\quarter\\2011q2.zip\n",
      "2024-10-06 12:30:17,537 [INFO] parallelexecution      commited chunk: 0\n"
     ]
    },
    {
     "name": "stdout",
     "output_type": "stream",
     "text": [
      "store rawdatabag under set/tmp/2011q2.zip\\IS\\raw\n"
     ]
    },
    {
     "name": "stderr",
     "output_type": "stream",
     "text": [
      "2024-10-06 12:30:17,925 [INFO] configmgt  reading configuration from C:\\Users\\hansj\\.secfsdstools.cfg\n",
      "2024-10-06 12:30:17,927 [INFO] parallelexecution      items to process: 1\n",
      "2024-10-06 12:30:17,928 [INFO] zipcollecting  processing C:\\Users\\hansj\\secfsdstools\\data\\parquet\\quarter\\2009q2.zip\n",
      "2024-10-06 12:30:17,958 [INFO] parallelexecution      commited chunk: 0\n"
     ]
    },
    {
     "name": "stdout",
     "output_type": "stream",
     "text": [
      "create joined databag\n",
      "store joineddatabag under set/tmp/2011q2.zip\\IS\\joined\n"
     ]
    },
    {
     "name": "stderr",
     "output_type": "stream",
     "text": [
      "2024-10-06 12:30:18,016 [INFO] configmgt  reading configuration from C:\\Users\\hansj\\.secfsdstools.cfg\n",
      "2024-10-06 12:30:18,018 [INFO] parallelexecution      items to process: 1\n",
      "2024-10-06 12:30:18,020 [INFO] zipcollecting  processing C:\\Users\\hansj\\secfsdstools\\data\\parquet\\quarter\\2022q1.zip\n"
     ]
    },
    {
     "name": "stdout",
     "output_type": "stream",
     "text": [
      "store rawdatabag under set/tmp/2009q2.zip\\IS\\raw\n",
      "create joined databag\n",
      "store joineddatabag under set/tmp/2009q2.zip\\IS\\joined\n"
     ]
    },
    {
     "name": "stderr",
     "output_type": "stream",
     "text": [
      "2024-10-06 12:30:20,295 [INFO] parallelexecution      commited chunk: 0\n"
     ]
    },
    {
     "name": "stdout",
     "output_type": "stream",
     "text": [
      "store rawdatabag under set/tmp/2022q1.zip\\IS\\raw\n",
      "create joined databag\n",
      "store joineddatabag under set/tmp/2022q1.zip\\IS\\joined\n"
     ]
    },
    {
     "name": "stderr",
     "output_type": "stream",
     "text": [
      "2024-10-06 12:30:21,954 [INFO] configmgt  reading configuration from C:\\Users\\hansj\\.secfsdstools.cfg\n",
      "2024-10-06 12:30:21,957 [INFO] parallelexecution      items to process: 1\n",
      "2024-10-06 12:30:21,958 [INFO] zipcollecting  processing C:\\Users\\hansj\\secfsdstools\\data\\parquet\\quarter\\2012q4.zip\n",
      "2024-10-06 12:30:24,208 [INFO] parallelexecution      commited chunk: 0\n"
     ]
    },
    {
     "name": "stdout",
     "output_type": "stream",
     "text": [
      "store rawdatabag under set/tmp/2012q4.zip\\IS\\raw\n",
      "create joined databag\n",
      "store joineddatabag under set/tmp/2012q4.zip\\IS\\joined\n"
     ]
    },
    {
     "name": "stderr",
     "output_type": "stream",
     "text": [
      "2024-10-06 12:30:26,113 [INFO] configmgt  reading configuration from C:\\Users\\hansj\\.secfsdstools.cfg\n",
      "2024-10-06 12:30:26,116 [INFO] parallelexecution      items to process: 1\n",
      "2024-10-06 12:30:26,117 [INFO] zipcollecting  processing C:\\Users\\hansj\\secfsdstools\\data\\parquet\\quarter\\2010q1.zip\n",
      "2024-10-06 12:30:26,268 [INFO] parallelexecution      commited chunk: 0\n",
      "2024-10-06 12:30:26,437 [INFO] configmgt  reading configuration from C:\\Users\\hansj\\.secfsdstools.cfg\n",
      "2024-10-06 12:30:26,440 [INFO] parallelexecution      items to process: 1\n",
      "2024-10-06 12:30:26,441 [INFO] zipcollecting  processing C:\\Users\\hansj\\secfsdstools\\data\\parquet\\quarter\\2015q1.zip\n"
     ]
    },
    {
     "name": "stdout",
     "output_type": "stream",
     "text": [
      "store rawdatabag under set/tmp/2010q1.zip\\IS\\raw\n",
      "create joined databag\n",
      "store joineddatabag under set/tmp/2010q1.zip\\IS\\joined\n"
     ]
    },
    {
     "name": "stderr",
     "output_type": "stream",
     "text": [
      "2024-10-06 12:30:28,974 [INFO] parallelexecution      commited chunk: 0\n"
     ]
    },
    {
     "name": "stdout",
     "output_type": "stream",
     "text": [
      "store rawdatabag under set/tmp/2015q1.zip\\IS\\raw\n",
      "create joined databag\n",
      "store joineddatabag under set/tmp/2015q1.zip\\IS\\joined\n"
     ]
    },
    {
     "name": "stderr",
     "output_type": "stream",
     "text": [
      "2024-10-06 12:30:30,819 [INFO] configmgt  reading configuration from C:\\Users\\hansj\\.secfsdstools.cfg\n",
      "2024-10-06 12:30:30,823 [INFO] parallelexecution      items to process: 1\n",
      "2024-10-06 12:30:30,824 [INFO] zipcollecting  processing C:\\Users\\hansj\\secfsdstools\\data\\parquet\\quarter\\2022q3.zip\n",
      "2024-10-06 12:30:32,814 [INFO] parallelexecution      commited chunk: 0\n"
     ]
    },
    {
     "name": "stdout",
     "output_type": "stream",
     "text": [
      "store rawdatabag under set/tmp/2022q3.zip\\IS\\raw\n",
      "create joined databag\n",
      "store joineddatabag under set/tmp/2022q3.zip\\IS\\joined\n"
     ]
    },
    {
     "name": "stderr",
     "output_type": "stream",
     "text": [
      "2024-10-06 12:30:34,563 [INFO] configmgt  reading configuration from C:\\Users\\hansj\\.secfsdstools.cfg\n",
      "2024-10-06 12:30:34,566 [INFO] parallelexecution      items to process: 1\n",
      "2024-10-06 12:30:34,567 [INFO] zipcollecting  processing C:\\Users\\hansj\\secfsdstools\\data\\parquet\\quarter\\2018q2.zip\n",
      "2024-10-06 12:30:36,270 [INFO] parallelexecution      commited chunk: 0\n"
     ]
    },
    {
     "name": "stdout",
     "output_type": "stream",
     "text": [
      "store rawdatabag under set/tmp/2018q2.zip\\IS\\raw\n",
      "create joined databag\n",
      "store joineddatabag under set/tmp/2018q2.zip\\IS\\joined\n"
     ]
    },
    {
     "name": "stderr",
     "output_type": "stream",
     "text": [
      "2024-10-06 12:30:37,795 [INFO] configmgt  reading configuration from C:\\Users\\hansj\\.secfsdstools.cfg\n",
      "2024-10-06 12:30:37,797 [INFO] parallelexecution      items to process: 1\n",
      "2024-10-06 12:30:37,798 [INFO] zipcollecting  processing C:\\Users\\hansj\\secfsdstools\\data\\parquet\\quarter\\2019q3.zip\n",
      "2024-10-06 12:30:39,624 [INFO] parallelexecution      commited chunk: 0\n"
     ]
    },
    {
     "name": "stdout",
     "output_type": "stream",
     "text": [
      "store rawdatabag under set/tmp/2019q3.zip\\IS\\raw\n",
      "create joined databag\n",
      "store joineddatabag under set/tmp/2019q3.zip\\IS\\joined\n"
     ]
    },
    {
     "name": "stderr",
     "output_type": "stream",
     "text": [
      "2024-10-06 12:30:41,247 [INFO] configmgt  reading configuration from C:\\Users\\hansj\\.secfsdstools.cfg\n",
      "2024-10-06 12:30:41,250 [INFO] parallelexecution      items to process: 1\n",
      "2024-10-06 12:30:41,251 [INFO] zipcollecting  processing C:\\Users\\hansj\\secfsdstools\\data\\parquet\\quarter\\2020q2.zip\n",
      "2024-10-06 12:30:42,845 [INFO] parallelexecution      commited chunk: 0\n"
     ]
    },
    {
     "name": "stdout",
     "output_type": "stream",
     "text": [
      "store rawdatabag under set/tmp/2020q2.zip\\IS\\raw\n",
      "create joined databag\n",
      "store joineddatabag under set/tmp/2020q2.zip\\IS\\joined\n"
     ]
    },
    {
     "name": "stderr",
     "output_type": "stream",
     "text": [
      "2024-10-06 12:30:44,221 [INFO] configmgt  reading configuration from C:\\Users\\hansj\\.secfsdstools.cfg\n",
      "2024-10-06 12:30:44,224 [INFO] parallelexecution      items to process: 1\n",
      "2024-10-06 12:30:44,224 [INFO] zipcollecting  processing C:\\Users\\hansj\\secfsdstools\\data\\parquet\\quarter\\2022q4.zip\n",
      "2024-10-06 12:30:46,183 [INFO] parallelexecution      commited chunk: 0\n"
     ]
    },
    {
     "name": "stdout",
     "output_type": "stream",
     "text": [
      "store rawdatabag under set/tmp/2022q4.zip\\IS\\raw\n",
      "create joined databag\n",
      "store joineddatabag under set/tmp/2022q4.zip\\IS\\joined\n"
     ]
    },
    {
     "name": "stderr",
     "output_type": "stream",
     "text": [
      "2024-10-06 12:30:47,938 [INFO] configmgt  reading configuration from C:\\Users\\hansj\\.secfsdstools.cfg\n",
      "2024-10-06 12:30:47,941 [INFO] parallelexecution      items to process: 1\n",
      "2024-10-06 12:30:47,942 [INFO] zipcollecting  processing C:\\Users\\hansj\\secfsdstools\\data\\parquet\\quarter\\2017q2.zip\n",
      "2024-10-06 12:30:49,583 [INFO] parallelexecution      commited chunk: 0\n"
     ]
    },
    {
     "name": "stdout",
     "output_type": "stream",
     "text": [
      "store rawdatabag under set/tmp/2017q2.zip\\IS\\raw\n",
      "create joined databag\n",
      "store joineddatabag under set/tmp/2017q2.zip\\IS\\joined\n"
     ]
    },
    {
     "name": "stderr",
     "output_type": "stream",
     "text": [
      "2024-10-06 12:30:51,023 [INFO] configmgt  reading configuration from C:\\Users\\hansj\\.secfsdstools.cfg\n",
      "2024-10-06 12:30:51,027 [INFO] parallelexecution      items to process: 1\n",
      "2024-10-06 12:30:51,028 [INFO] zipcollecting  processing C:\\Users\\hansj\\secfsdstools\\data\\parquet\\quarter\\2012q3.zip\n",
      "2024-10-06 12:30:53,064 [INFO] parallelexecution      commited chunk: 0\n"
     ]
    },
    {
     "name": "stdout",
     "output_type": "stream",
     "text": [
      "store rawdatabag under set/tmp/2012q3.zip\\IS\\raw\n",
      "create joined databag\n",
      "store joineddatabag under set/tmp/2012q3.zip\\IS\\joined\n"
     ]
    },
    {
     "name": "stderr",
     "output_type": "stream",
     "text": [
      "2024-10-06 12:30:54,755 [INFO] configmgt  reading configuration from C:\\Users\\hansj\\.secfsdstools.cfg\n",
      "2024-10-06 12:30:54,757 [INFO] parallelexecution      items to process: 1\n",
      "2024-10-06 12:30:54,758 [INFO] zipcollecting  processing C:\\Users\\hansj\\secfsdstools\\data\\parquet\\quarter\\2011q1.zip\n",
      "2024-10-06 12:30:55,260 [INFO] parallelexecution      commited chunk: 0\n"
     ]
    },
    {
     "name": "stdout",
     "output_type": "stream",
     "text": [
      "store rawdatabag under set/tmp/2011q1.zip\\IS\\raw\n"
     ]
    },
    {
     "name": "stderr",
     "output_type": "stream",
     "text": [
      "2024-10-06 12:30:55,686 [INFO] configmgt  reading configuration from C:\\Users\\hansj\\.secfsdstools.cfg\n",
      "2024-10-06 12:30:55,689 [INFO] parallelexecution      items to process: 1\n",
      "2024-10-06 12:30:55,689 [INFO] zipcollecting  processing C:\\Users\\hansj\\secfsdstools\\data\\parquet\\quarter\\2017q4.zip\n"
     ]
    },
    {
     "name": "stdout",
     "output_type": "stream",
     "text": [
      "create joined databag\n",
      "store joineddatabag under set/tmp/2011q1.zip\\IS\\joined\n"
     ]
    },
    {
     "name": "stderr",
     "output_type": "stream",
     "text": [
      "2024-10-06 12:30:57,480 [INFO] parallelexecution      commited chunk: 0\n"
     ]
    },
    {
     "name": "stdout",
     "output_type": "stream",
     "text": [
      "store rawdatabag under set/tmp/2017q4.zip\\IS\\raw\n",
      "create joined databag\n",
      "store joineddatabag under set/tmp/2017q4.zip\\IS\\joined\n"
     ]
    },
    {
     "name": "stderr",
     "output_type": "stream",
     "text": [
      "2024-10-06 12:30:59,136 [INFO] configmgt  reading configuration from C:\\Users\\hansj\\.secfsdstools.cfg\n",
      "2024-10-06 12:30:59,139 [INFO] parallelexecution      items to process: 1\n",
      "2024-10-06 12:30:59,140 [INFO] zipcollecting  processing C:\\Users\\hansj\\secfsdstools\\data\\parquet\\quarter\\2010q2.zip\n",
      "2024-10-06 12:30:59,265 [INFO] parallelexecution      commited chunk: 0\n",
      "2024-10-06 12:30:59,426 [INFO] configmgt  reading configuration from C:\\Users\\hansj\\.secfsdstools.cfg\n",
      "2024-10-06 12:30:59,429 [INFO] parallelexecution      items to process: 1\n",
      "2024-10-06 12:30:59,431 [INFO] zipcollecting  processing C:\\Users\\hansj\\secfsdstools\\data\\parquet\\quarter\\2018q3.zip\n"
     ]
    },
    {
     "name": "stdout",
     "output_type": "stream",
     "text": [
      "store rawdatabag under set/tmp/2010q2.zip\\IS\\raw\n",
      "create joined databag\n",
      "store joineddatabag under set/tmp/2010q2.zip\\IS\\joined\n"
     ]
    },
    {
     "name": "stderr",
     "output_type": "stream",
     "text": [
      "2024-10-06 12:31:01,178 [INFO] parallelexecution      commited chunk: 0\n"
     ]
    },
    {
     "name": "stdout",
     "output_type": "stream",
     "text": [
      "store rawdatabag under set/tmp/2018q3.zip\\IS\\raw\n",
      "create joined databag\n",
      "store joineddatabag under set/tmp/2018q3.zip\\IS\\joined\n"
     ]
    },
    {
     "name": "stderr",
     "output_type": "stream",
     "text": [
      "2024-10-06 12:31:02,832 [INFO] configmgt  reading configuration from C:\\Users\\hansj\\.secfsdstools.cfg\n",
      "2024-10-06 12:31:02,835 [INFO] parallelexecution      items to process: 1\n",
      "2024-10-06 12:31:02,835 [INFO] zipcollecting  processing C:\\Users\\hansj\\secfsdstools\\data\\parquet\\quarter\\2021q4.zip\n",
      "2024-10-06 12:31:04,809 [INFO] parallelexecution      commited chunk: 0\n"
     ]
    },
    {
     "name": "stdout",
     "output_type": "stream",
     "text": [
      "store rawdatabag under set/tmp/2021q4.zip\\IS\\raw\n",
      "create joined databag\n",
      "store joineddatabag under set/tmp/2021q4.zip\\IS\\joined\n"
     ]
    },
    {
     "name": "stderr",
     "output_type": "stream",
     "text": [
      "2024-10-06 12:31:06,562 [INFO] configmgt  reading configuration from C:\\Users\\hansj\\.secfsdstools.cfg\n",
      "2024-10-06 12:31:06,565 [INFO] parallelexecution      items to process: 1\n",
      "2024-10-06 12:31:06,565 [INFO] zipcollecting  processing C:\\Users\\hansj\\secfsdstools\\data\\parquet\\quarter\\2019q2.zip\n",
      "2024-10-06 12:31:08,244 [INFO] parallelexecution      commited chunk: 0\n"
     ]
    },
    {
     "name": "stdout",
     "output_type": "stream",
     "text": [
      "store rawdatabag under set/tmp/2019q2.zip\\IS\\raw\n",
      "create joined databag\n",
      "store joineddatabag under set/tmp/2019q2.zip\\IS\\joined\n"
     ]
    },
    {
     "name": "stderr",
     "output_type": "stream",
     "text": [
      "2024-10-06 12:31:09,732 [INFO] configmgt  reading configuration from C:\\Users\\hansj\\.secfsdstools.cfg\n",
      "2024-10-06 12:31:09,735 [INFO] parallelexecution      items to process: 1\n",
      "2024-10-06 12:31:09,737 [INFO] zipcollecting  processing C:\\Users\\hansj\\secfsdstools\\data\\parquet\\quarter\\2013q1.zip\n",
      "2024-10-06 12:31:12,242 [INFO] parallelexecution      commited chunk: 0\n"
     ]
    },
    {
     "name": "stdout",
     "output_type": "stream",
     "text": [
      "store rawdatabag under set/tmp/2013q1.zip\\IS\\raw\n",
      "create joined databag\n",
      "store joineddatabag under set/tmp/2013q1.zip\\IS\\joined\n"
     ]
    },
    {
     "name": "stderr",
     "output_type": "stream",
     "text": [
      "2024-10-06 12:31:13,993 [INFO] configmgt  reading configuration from C:\\Users\\hansj\\.secfsdstools.cfg\n",
      "2024-10-06 12:31:13,995 [INFO] parallelexecution      items to process: 1\n",
      "2024-10-06 12:31:13,997 [INFO] zipcollecting  processing C:\\Users\\hansj\\secfsdstools\\data\\parquet\\quarter\\2015q4.zip\n",
      "2024-10-06 12:31:16,044 [INFO] parallelexecution      commited chunk: 0\n"
     ]
    },
    {
     "name": "stdout",
     "output_type": "stream",
     "text": [
      "store rawdatabag under set/tmp/2015q4.zip\\IS\\raw\n",
      "create joined databag\n",
      "store joineddatabag under set/tmp/2015q4.zip\\IS\\joined\n"
     ]
    },
    {
     "name": "stderr",
     "output_type": "stream",
     "text": [
      "2024-10-06 12:31:17,872 [INFO] configmgt  reading configuration from C:\\Users\\hansj\\.secfsdstools.cfg\n",
      "2024-10-06 12:31:17,875 [INFO] parallelexecution      items to process: 1\n",
      "2024-10-06 12:31:17,876 [INFO] zipcollecting  processing C:\\Users\\hansj\\secfsdstools\\data\\parquet\\quarter\\2009q3.zip\n",
      "2024-10-06 12:31:17,998 [INFO] parallelexecution      commited chunk: 0\n",
      "2024-10-06 12:31:18,165 [INFO] configmgt  reading configuration from C:\\Users\\hansj\\.secfsdstools.cfg\n",
      "2024-10-06 12:31:18,168 [INFO] parallelexecution      items to process: 1\n",
      "2024-10-06 12:31:18,169 [INFO] zipcollecting  processing C:\\Users\\hansj\\secfsdstools\\data\\parquet\\quarter\\2016q2.zip\n"
     ]
    },
    {
     "name": "stdout",
     "output_type": "stream",
     "text": [
      "store rawdatabag under set/tmp/2009q3.zip\\IS\\raw\n",
      "create joined databag\n",
      "store joineddatabag under set/tmp/2009q3.zip\\IS\\joined\n"
     ]
    },
    {
     "name": "stderr",
     "output_type": "stream",
     "text": [
      "2024-10-06 12:31:19,843 [INFO] parallelexecution      commited chunk: 0\n"
     ]
    },
    {
     "name": "stdout",
     "output_type": "stream",
     "text": [
      "store rawdatabag under set/tmp/2016q2.zip\\IS\\raw\n",
      "create joined databag\n",
      "store joineddatabag under set/tmp/2016q2.zip\\IS\\joined\n"
     ]
    },
    {
     "name": "stderr",
     "output_type": "stream",
     "text": [
      "2024-10-06 12:31:21,322 [INFO] configmgt  reading configuration from C:\\Users\\hansj\\.secfsdstools.cfg\n",
      "2024-10-06 12:31:21,325 [INFO] parallelexecution      items to process: 1\n",
      "2024-10-06 12:31:21,326 [INFO] zipcollecting  processing C:\\Users\\hansj\\secfsdstools\\data\\parquet\\quarter\\2013q3.zip\n",
      "2024-10-06 12:31:23,582 [INFO] parallelexecution      commited chunk: 0\n"
     ]
    },
    {
     "name": "stdout",
     "output_type": "stream",
     "text": [
      "store rawdatabag under set/tmp/2013q3.zip\\IS\\raw\n",
      "create joined databag\n",
      "store joineddatabag under set/tmp/2013q3.zip\\IS\\joined\n"
     ]
    },
    {
     "name": "stderr",
     "output_type": "stream",
     "text": [
      "2024-10-06 12:31:25,519 [INFO] configmgt  reading configuration from C:\\Users\\hansj\\.secfsdstools.cfg\n",
      "2024-10-06 12:31:25,522 [INFO] parallelexecution      items to process: 1\n",
      "2024-10-06 12:31:25,523 [INFO] zipcollecting  processing C:\\Users\\hansj\\secfsdstools\\data\\parquet\\quarter\\2016q4.zip\n",
      "2024-10-06 12:31:27,427 [INFO] parallelexecution      commited chunk: 0\n"
     ]
    },
    {
     "name": "stdout",
     "output_type": "stream",
     "text": [
      "store rawdatabag under set/tmp/2016q4.zip\\IS\\raw\n",
      "create joined databag\n",
      "store joineddatabag under set/tmp/2016q4.zip\\IS\\joined\n"
     ]
    },
    {
     "name": "stderr",
     "output_type": "stream",
     "text": [
      "2024-10-06 12:31:29,123 [INFO] configmgt  reading configuration from C:\\Users\\hansj\\.secfsdstools.cfg\n",
      "2024-10-06 12:31:29,126 [INFO] parallelexecution      items to process: 1\n",
      "2024-10-06 12:31:29,127 [INFO] zipcollecting  processing C:\\Users\\hansj\\secfsdstools\\data\\parquet\\quarter\\2017q3.zip\n",
      "2024-10-06 12:31:30,923 [INFO] parallelexecution      commited chunk: 0\n"
     ]
    },
    {
     "name": "stdout",
     "output_type": "stream",
     "text": [
      "store rawdatabag under set/tmp/2017q3.zip\\IS\\raw\n",
      "create joined databag\n",
      "store joineddatabag under set/tmp/2017q3.zip\\IS\\joined\n"
     ]
    },
    {
     "name": "stderr",
     "output_type": "stream",
     "text": [
      "2024-10-06 12:31:32,550 [INFO] configmgt  reading configuration from C:\\Users\\hansj\\.secfsdstools.cfg\n",
      "2024-10-06 12:31:32,552 [INFO] parallelexecution      items to process: 1\n",
      "2024-10-06 12:31:32,553 [INFO] zipcollecting  processing C:\\Users\\hansj\\secfsdstools\\data\\parquet\\quarter\\2018q4.zip\n",
      "2024-10-06 12:31:34,316 [INFO] parallelexecution      commited chunk: 0\n"
     ]
    },
    {
     "name": "stdout",
     "output_type": "stream",
     "text": [
      "store rawdatabag under set/tmp/2018q4.zip\\IS\\raw\n",
      "create joined databag\n",
      "store joineddatabag under set/tmp/2018q4.zip\\IS\\joined\n"
     ]
    },
    {
     "name": "stderr",
     "output_type": "stream",
     "text": [
      "2024-10-06 12:31:35,956 [INFO] configmgt  reading configuration from C:\\Users\\hansj\\.secfsdstools.cfg\n",
      "2024-10-06 12:31:35,958 [INFO] parallelexecution      items to process: 1\n",
      "2024-10-06 12:31:35,959 [INFO] zipcollecting  processing C:\\Users\\hansj\\secfsdstools\\data\\parquet\\quarter\\2023q2.zip\n",
      "2024-10-06 12:31:37,725 [INFO] parallelexecution      commited chunk: 0\n"
     ]
    },
    {
     "name": "stdout",
     "output_type": "stream",
     "text": [
      "store rawdatabag under set/tmp/2023q2.zip\\IS\\raw\n",
      "create joined databag\n",
      "store joineddatabag under set/tmp/2023q2.zip\\IS\\joined\n"
     ]
    },
    {
     "name": "stderr",
     "output_type": "stream",
     "text": [
      "2024-10-06 12:31:39,201 [INFO] configmgt  reading configuration from C:\\Users\\hansj\\.secfsdstools.cfg\n",
      "2024-10-06 12:31:39,204 [INFO] parallelexecution      items to process: 1\n",
      "2024-10-06 12:31:39,205 [INFO] zipcollecting  processing C:\\Users\\hansj\\secfsdstools\\data\\parquet\\quarter\\2014q4.zip\n",
      "2024-10-06 12:31:41,360 [INFO] parallelexecution      commited chunk: 0\n"
     ]
    },
    {
     "name": "stdout",
     "output_type": "stream",
     "text": [
      "store rawdatabag under set/tmp/2014q4.zip\\IS\\raw\n",
      "create joined databag\n",
      "store joineddatabag under set/tmp/2014q4.zip\\IS\\joined\n"
     ]
    },
    {
     "name": "stderr",
     "output_type": "stream",
     "text": [
      "2024-10-06 12:31:43,396 [INFO] configmgt  reading configuration from C:\\Users\\hansj\\.secfsdstools.cfg\n",
      "2024-10-06 12:31:43,399 [INFO] parallelexecution      items to process: 1\n",
      "2024-10-06 12:31:43,400 [INFO] zipcollecting  processing C:\\Users\\hansj\\secfsdstools\\data\\parquet\\quarter\\2011q3.zip\n",
      "2024-10-06 12:31:44,974 [INFO] parallelexecution      commited chunk: 0\n"
     ]
    },
    {
     "name": "stdout",
     "output_type": "stream",
     "text": [
      "store rawdatabag under set/tmp/2011q3.zip\\IS\\raw\n",
      "create joined databag\n",
      "store joineddatabag under set/tmp/2011q3.zip\\IS\\joined\n"
     ]
    },
    {
     "name": "stderr",
     "output_type": "stream",
     "text": [
      "2024-10-06 12:31:46,464 [INFO] configmgt  reading configuration from C:\\Users\\hansj\\.secfsdstools.cfg\n",
      "2024-10-06 12:31:46,469 [INFO] parallelexecution      items to process: 1\n",
      "2024-10-06 12:31:46,469 [INFO] zipcollecting  processing C:\\Users\\hansj\\secfsdstools\\data\\parquet\\quarter\\2020q3.zip\n",
      "2024-10-06 12:31:48,693 [INFO] parallelexecution      commited chunk: 0\n"
     ]
    },
    {
     "name": "stdout",
     "output_type": "stream",
     "text": [
      "store rawdatabag under set/tmp/2020q3.zip\\IS\\raw\n",
      "create joined databag\n",
      "store joineddatabag under set/tmp/2020q3.zip\\IS\\joined\n"
     ]
    },
    {
     "name": "stderr",
     "output_type": "stream",
     "text": [
      "2024-10-06 12:31:50,536 [INFO] configmgt  reading configuration from C:\\Users\\hansj\\.secfsdstools.cfg\n",
      "2024-10-06 12:31:50,541 [INFO] parallelexecution      items to process: 1\n",
      "2024-10-06 12:31:50,543 [INFO] zipcollecting  processing C:\\Users\\hansj\\secfsdstools\\data\\parquet\\quarter\\2014q2.zip\n",
      "2024-10-06 12:31:52,877 [INFO] parallelexecution      commited chunk: 0\n"
     ]
    },
    {
     "name": "stdout",
     "output_type": "stream",
     "text": [
      "store rawdatabag under set/tmp/2014q2.zip\\IS\\raw\n",
      "create joined databag\n",
      "store joineddatabag under set/tmp/2014q2.zip\\IS\\joined\n"
     ]
    },
    {
     "name": "stderr",
     "output_type": "stream",
     "text": [
      "2024-10-06 12:31:54,744 [INFO] configmgt  reading configuration from C:\\Users\\hansj\\.secfsdstools.cfg\n",
      "2024-10-06 12:31:54,748 [INFO] parallelexecution      items to process: 1\n",
      "2024-10-06 12:31:54,750 [INFO] zipcollecting  processing C:\\Users\\hansj\\secfsdstools\\data\\parquet\\quarter\\2020q1.zip\n",
      "2024-10-06 12:31:57,159 [INFO] parallelexecution      commited chunk: 0\n"
     ]
    },
    {
     "name": "stdout",
     "output_type": "stream",
     "text": [
      "store rawdatabag under set/tmp/2020q1.zip\\IS\\raw\n",
      "create joined databag\n",
      "store joineddatabag under set/tmp/2020q1.zip\\IS\\joined\n"
     ]
    },
    {
     "name": "stderr",
     "output_type": "stream",
     "text": [
      "2024-10-06 12:31:59,263 [INFO] configmgt  reading configuration from C:\\Users\\hansj\\.secfsdstools.cfg\n",
      "2024-10-06 12:31:59,266 [INFO] parallelexecution      items to process: 1\n",
      "2024-10-06 12:31:59,267 [INFO] zipcollecting  processing C:\\Users\\hansj\\secfsdstools\\data\\parquet\\quarter\\2012q1.zip\n",
      "2024-10-06 12:32:01,693 [INFO] parallelexecution      commited chunk: 0\n"
     ]
    },
    {
     "name": "stdout",
     "output_type": "stream",
     "text": [
      "store rawdatabag under set/tmp/2012q1.zip\\IS\\raw\n",
      "create joined databag\n",
      "store joineddatabag under set/tmp/2012q1.zip\\IS\\joined\n"
     ]
    },
    {
     "name": "stderr",
     "output_type": "stream",
     "text": [
      "2024-10-06 12:32:03,632 [INFO] configmgt  reading configuration from C:\\Users\\hansj\\.secfsdstools.cfg\n",
      "2024-10-06 12:32:03,636 [INFO] parallelexecution      items to process: 1\n",
      "2024-10-06 12:32:03,637 [INFO] zipcollecting  processing C:\\Users\\hansj\\secfsdstools\\data\\parquet\\quarter\\2014q1.zip\n",
      "2024-10-06 12:32:06,505 [INFO] parallelexecution      commited chunk: 0\n"
     ]
    },
    {
     "name": "stdout",
     "output_type": "stream",
     "text": [
      "store rawdatabag under set/tmp/2014q1.zip\\IS\\raw\n",
      "create joined databag\n",
      "store joineddatabag under set/tmp/2014q1.zip\\IS\\joined\n"
     ]
    },
    {
     "name": "stderr",
     "output_type": "stream",
     "text": [
      "2024-10-06 12:32:08,372 [INFO] configmgt  reading configuration from C:\\Users\\hansj\\.secfsdstools.cfg\n",
      "2024-10-06 12:32:08,376 [INFO] parallelexecution      items to process: 1\n",
      "2024-10-06 12:32:08,377 [INFO] zipcollecting  processing C:\\Users\\hansj\\secfsdstools\\data\\parquet\\quarter\\2019q1.zip\n",
      "2024-10-06 12:32:10,636 [INFO] parallelexecution      commited chunk: 0\n"
     ]
    },
    {
     "name": "stdout",
     "output_type": "stream",
     "text": [
      "store rawdatabag under set/tmp/2019q1.zip\\IS\\raw\n",
      "create joined databag\n",
      "store joineddatabag under set/tmp/2019q1.zip\\IS\\joined\n"
     ]
    },
    {
     "name": "stderr",
     "output_type": "stream",
     "text": [
      "2024-10-06 12:32:12,359 [INFO] configmgt  reading configuration from C:\\Users\\hansj\\.secfsdstools.cfg\n",
      "2024-10-06 12:32:12,362 [INFO] parallelexecution      items to process: 1\n",
      "2024-10-06 12:32:12,364 [INFO] zipcollecting  processing C:\\Users\\hansj\\secfsdstools\\data\\parquet\\quarter\\2015q3.zip\n",
      "2024-10-06 12:32:14,606 [INFO] parallelexecution      commited chunk: 0\n"
     ]
    },
    {
     "name": "stdout",
     "output_type": "stream",
     "text": [
      "store rawdatabag under set/tmp/2015q3.zip\\IS\\raw\n",
      "create joined databag\n",
      "store joineddatabag under set/tmp/2015q3.zip\\IS\\joined\n"
     ]
    },
    {
     "name": "stderr",
     "output_type": "stream",
     "text": [
      "2024-10-06 12:32:16,599 [INFO] configmgt  reading configuration from C:\\Users\\hansj\\.secfsdstools.cfg\n",
      "2024-10-06 12:32:16,603 [INFO] parallelexecution      items to process: 1\n",
      "2024-10-06 12:32:16,605 [INFO] zipcollecting  processing C:\\Users\\hansj\\secfsdstools\\data\\parquet\\quarter\\2017q1.zip\n",
      "2024-10-06 12:32:19,068 [INFO] parallelexecution      commited chunk: 0\n"
     ]
    },
    {
     "name": "stdout",
     "output_type": "stream",
     "text": [
      "store rawdatabag under set/tmp/2017q1.zip\\IS\\raw\n",
      "create joined databag\n",
      "store joineddatabag under set/tmp/2017q1.zip\\IS\\joined\n"
     ]
    },
    {
     "name": "stderr",
     "output_type": "stream",
     "text": [
      "2024-10-06 12:32:20,798 [INFO] configmgt  reading configuration from C:\\Users\\hansj\\.secfsdstools.cfg\n",
      "2024-10-06 12:32:20,801 [INFO] parallelexecution      items to process: 1\n",
      "2024-10-06 12:32:20,802 [INFO] zipcollecting  processing C:\\Users\\hansj\\secfsdstools\\data\\parquet\\quarter\\2020q4.zip\n",
      "2024-10-06 12:32:22,916 [INFO] parallelexecution      commited chunk: 0\n"
     ]
    },
    {
     "name": "stdout",
     "output_type": "stream",
     "text": [
      "store rawdatabag under set/tmp/2020q4.zip\\IS\\raw\n",
      "create joined databag\n",
      "store joineddatabag under set/tmp/2020q4.zip\\IS\\joined\n"
     ]
    },
    {
     "name": "stderr",
     "output_type": "stream",
     "text": [
      "2024-10-06 12:32:24,747 [INFO] configmgt  reading configuration from C:\\Users\\hansj\\.secfsdstools.cfg\n",
      "2024-10-06 12:32:24,749 [INFO] parallelexecution      items to process: 1\n",
      "2024-10-06 12:32:24,750 [INFO] zipcollecting  processing C:\\Users\\hansj\\secfsdstools\\data\\parquet\\quarter\\2013q2.zip\n",
      "2024-10-06 12:32:27,005 [INFO] parallelexecution      commited chunk: 0\n"
     ]
    },
    {
     "name": "stdout",
     "output_type": "stream",
     "text": [
      "store rawdatabag under set/tmp/2013q2.zip\\IS\\raw\n",
      "create joined databag\n",
      "store joineddatabag under set/tmp/2013q2.zip\\IS\\joined\n"
     ]
    },
    {
     "name": "stderr",
     "output_type": "stream",
     "text": [
      "2024-10-06 12:32:28,786 [INFO] configmgt  reading configuration from C:\\Users\\hansj\\.secfsdstools.cfg\n",
      "2024-10-06 12:32:28,789 [INFO] parallelexecution      items to process: 1\n",
      "2024-10-06 12:32:28,791 [INFO] zipcollecting  processing C:\\Users\\hansj\\secfsdstools\\data\\parquet\\quarter\\2021q2.zip\n",
      "2024-10-06 12:32:30,549 [INFO] parallelexecution      commited chunk: 0\n"
     ]
    },
    {
     "name": "stdout",
     "output_type": "stream",
     "text": [
      "store rawdatabag under set/tmp/2021q2.zip\\IS\\raw\n",
      "create joined databag\n",
      "store joineddatabag under set/tmp/2021q2.zip\\IS\\joined\n"
     ]
    },
    {
     "name": "stderr",
     "output_type": "stream",
     "text": [
      "2024-10-06 12:32:32,005 [INFO] configmgt  reading configuration from C:\\Users\\hansj\\.secfsdstools.cfg\n",
      "2024-10-06 12:32:32,008 [INFO] parallelexecution      items to process: 1\n",
      "2024-10-06 12:32:32,009 [INFO] zipcollecting  processing C:\\Users\\hansj\\secfsdstools\\data\\parquet\\quarter\\2022q2.zip\n",
      "2024-10-06 12:32:33,872 [INFO] parallelexecution      commited chunk: 0\n"
     ]
    },
    {
     "name": "stdout",
     "output_type": "stream",
     "text": [
      "store rawdatabag under set/tmp/2022q2.zip\\IS\\raw\n",
      "create joined databag\n",
      "store joineddatabag under set/tmp/2022q2.zip\\IS\\joined\n"
     ]
    },
    {
     "name": "stderr",
     "output_type": "stream",
     "text": [
      "2024-10-06 12:32:35,517 [INFO] configmgt  reading configuration from C:\\Users\\hansj\\.secfsdstools.cfg\n",
      "2024-10-06 12:32:35,520 [INFO] parallelexecution      items to process: 1\n",
      "2024-10-06 12:32:35,520 [INFO] zipcollecting  processing C:\\Users\\hansj\\secfsdstools\\data\\parquet\\quarter\\2009q4.zip\n",
      "2024-10-06 12:32:35,661 [INFO] parallelexecution      commited chunk: 0\n",
      "2024-10-06 12:32:35,841 [INFO] configmgt  reading configuration from C:\\Users\\hansj\\.secfsdstools.cfg\n",
      "2024-10-06 12:32:35,844 [INFO] parallelexecution      items to process: 1\n",
      "2024-10-06 12:32:35,845 [INFO] zipcollecting  processing C:\\Users\\hansj\\secfsdstools\\data\\parquet\\quarter\\2023q3.zip\n"
     ]
    },
    {
     "name": "stdout",
     "output_type": "stream",
     "text": [
      "store rawdatabag under set/tmp/2009q4.zip\\IS\\raw\n",
      "create joined databag\n",
      "store joineddatabag under set/tmp/2009q4.zip\\IS\\joined\n"
     ]
    },
    {
     "name": "stderr",
     "output_type": "stream",
     "text": [
      "2024-10-06 12:32:37,936 [INFO] parallelexecution      commited chunk: 0\n"
     ]
    },
    {
     "name": "stdout",
     "output_type": "stream",
     "text": [
      "store rawdatabag under set/tmp/2023q3.zip\\IS\\raw\n",
      "create joined databag\n",
      "store joineddatabag under set/tmp/2023q3.zip\\IS\\joined\n"
     ]
    },
    {
     "name": "stderr",
     "output_type": "stream",
     "text": [
      "2024-10-06 12:32:39,795 [INFO] configmgt  reading configuration from C:\\Users\\hansj\\.secfsdstools.cfg\n",
      "2024-10-06 12:32:39,798 [INFO] parallelexecution      items to process: 1\n",
      "2024-10-06 12:32:39,798 [INFO] zipcollecting  processing C:\\Users\\hansj\\secfsdstools\\data\\parquet\\quarter\\2023q4.zip\n",
      "2024-10-06 12:32:42,081 [INFO] parallelexecution      commited chunk: 0\n"
     ]
    },
    {
     "name": "stdout",
     "output_type": "stream",
     "text": [
      "store rawdatabag under set/tmp/2023q4.zip\\IS\\raw\n",
      "create joined databag\n",
      "store joineddatabag under set/tmp/2023q4.zip\\IS\\joined\n"
     ]
    },
    {
     "name": "stderr",
     "output_type": "stream",
     "text": [
      "2024-10-06 12:32:43,934 [INFO] configmgt  reading configuration from C:\\Users\\hansj\\.secfsdstools.cfg\n",
      "2024-10-06 12:32:43,937 [INFO] parallelexecution      items to process: 1\n",
      "2024-10-06 12:32:43,938 [INFO] zipcollecting  processing C:\\Users\\hansj\\secfsdstools\\data\\parquet\\quarter\\2024q1.zip\n",
      "2024-10-06 12:32:46,169 [INFO] parallelexecution      commited chunk: 0\n"
     ]
    },
    {
     "name": "stdout",
     "output_type": "stream",
     "text": [
      "store rawdatabag under set/tmp/2024q1.zip\\IS\\raw\n",
      "create joined databag\n",
      "store joineddatabag under set/tmp/2024q1.zip\\IS\\joined\n"
     ]
    },
    {
     "name": "stderr",
     "output_type": "stream",
     "text": [
      "2024-10-06 12:32:47,864 [INFO] configmgt  reading configuration from C:\\Users\\hansj\\.secfsdstools.cfg\n",
      "2024-10-06 12:32:47,867 [INFO] parallelexecution      items to process: 1\n",
      "2024-10-06 12:32:47,868 [INFO] zipcollecting  processing C:\\Users\\hansj\\secfsdstools\\data\\parquet\\quarter\\2024q2.zip\n",
      "2024-10-06 12:32:49,735 [INFO] parallelexecution      commited chunk: 0\n"
     ]
    },
    {
     "name": "stdout",
     "output_type": "stream",
     "text": [
      "store rawdatabag under set/tmp/2024q2.zip\\IS\\raw\n",
      "create joined databag\n",
      "store joineddatabag under set/tmp/2024q2.zip\\IS\\joined\n"
     ]
    }
   ],
   "source": [
    "build_tmp_set(financial_statement=\"IS\", file_names=all_zip_names, target_path=\"set/tmp/\")"
   ]
  },
  {
   "cell_type": "code",
   "execution_count": 16,
   "id": "62d8b73f-1cb1-4b7a-8bb4-a69061012633",
   "metadata": {
    "collapsed": true,
    "jupyter": {
     "outputs_hidden": true
    },
    "tags": []
   },
   "outputs": [
    {
     "name": "stderr",
     "output_type": "stream",
     "text": [
      "2024-10-06 12:32:51,341 [INFO] configmgt  reading configuration from C:\\Users\\hansj\\.secfsdstools.cfg\n",
      "2024-10-06 12:32:51,345 [INFO] parallelexecution      items to process: 1\n",
      "2024-10-06 12:32:51,346 [INFO] zipcollecting  processing C:\\Users\\hansj\\secfsdstools\\data\\parquet\\quarter\\2019q4.zip\n",
      "2024-10-06 12:32:53,293 [INFO] parallelexecution      commited chunk: 0\n"
     ]
    },
    {
     "name": "stdout",
     "output_type": "stream",
     "text": [
      "store rawdatabag under set/tmp/2019q4.zip\\CP\\raw\n",
      "create joined databag\n"
     ]
    },
    {
     "name": "stderr",
     "output_type": "stream",
     "text": [
      "2024-10-06 12:32:54,724 [INFO] configmgt  reading configuration from C:\\Users\\hansj\\.secfsdstools.cfg\n",
      "2024-10-06 12:32:54,728 [INFO] parallelexecution      items to process: 1\n",
      "2024-10-06 12:32:54,729 [INFO] zipcollecting  processing C:\\Users\\hansj\\secfsdstools\\data\\parquet\\quarter\\2023q1.zip\n"
     ]
    },
    {
     "name": "stdout",
     "output_type": "stream",
     "text": [
      "store joineddatabag under set/tmp/2019q4.zip\\CP\\joined\n"
     ]
    },
    {
     "name": "stderr",
     "output_type": "stream",
     "text": [
      "2024-10-06 12:32:57,132 [INFO] parallelexecution      commited chunk: 0\n"
     ]
    },
    {
     "name": "stdout",
     "output_type": "stream",
     "text": [
      "store rawdatabag under set/tmp/2023q1.zip\\CP\\raw\n",
      "create joined databag\n"
     ]
    },
    {
     "name": "stderr",
     "output_type": "stream",
     "text": [
      "2024-10-06 12:32:58,710 [INFO] configmgt  reading configuration from C:\\Users\\hansj\\.secfsdstools.cfg\n",
      "2024-10-06 12:32:58,713 [INFO] parallelexecution      items to process: 1\n",
      "2024-10-06 12:32:58,714 [INFO] zipcollecting  processing C:\\Users\\hansj\\secfsdstools\\data\\parquet\\quarter\\2014q3.zip\n"
     ]
    },
    {
     "name": "stdout",
     "output_type": "stream",
     "text": [
      "store joineddatabag under set/tmp/2023q1.zip\\CP\\joined\n"
     ]
    },
    {
     "name": "stderr",
     "output_type": "stream",
     "text": [
      "2024-10-06 12:33:00,917 [INFO] parallelexecution      commited chunk: 0\n"
     ]
    },
    {
     "name": "stdout",
     "output_type": "stream",
     "text": [
      "store rawdatabag under set/tmp/2014q3.zip\\CP\\raw\n",
      "create joined databag\n"
     ]
    },
    {
     "name": "stderr",
     "output_type": "stream",
     "text": [
      "2024-10-06 12:33:02,304 [INFO] configmgt  reading configuration from C:\\Users\\hansj\\.secfsdstools.cfg\n",
      "2024-10-06 12:33:02,307 [INFO] parallelexecution      items to process: 1\n",
      "2024-10-06 12:33:02,308 [INFO] zipcollecting  processing C:\\Users\\hansj\\secfsdstools\\data\\parquet\\quarter\\2016q3.zip\n"
     ]
    },
    {
     "name": "stdout",
     "output_type": "stream",
     "text": [
      "store joineddatabag under set/tmp/2014q3.zip\\CP\\joined\n"
     ]
    },
    {
     "name": "stderr",
     "output_type": "stream",
     "text": [
      "2024-10-06 12:33:04,216 [INFO] parallelexecution      commited chunk: 0\n"
     ]
    },
    {
     "name": "stdout",
     "output_type": "stream",
     "text": [
      "store rawdatabag under set/tmp/2016q3.zip\\CP\\raw\n",
      "create joined databag\n"
     ]
    },
    {
     "name": "stderr",
     "output_type": "stream",
     "text": [
      "2024-10-06 12:33:05,504 [INFO] configmgt  reading configuration from C:\\Users\\hansj\\.secfsdstools.cfg\n",
      "2024-10-06 12:33:05,507 [INFO] parallelexecution      items to process: 1\n",
      "2024-10-06 12:33:05,508 [INFO] zipcollecting  processing C:\\Users\\hansj\\secfsdstools\\data\\parquet\\quarter\\2018q1.zip\n"
     ]
    },
    {
     "name": "stdout",
     "output_type": "stream",
     "text": [
      "store joineddatabag under set/tmp/2016q3.zip\\CP\\joined\n"
     ]
    },
    {
     "name": "stderr",
     "output_type": "stream",
     "text": [
      "2024-10-06 12:33:07,520 [INFO] parallelexecution      commited chunk: 0\n"
     ]
    },
    {
     "name": "stdout",
     "output_type": "stream",
     "text": [
      "store rawdatabag under set/tmp/2018q1.zip\\CP\\raw\n",
      "create joined databag\n"
     ]
    },
    {
     "name": "stderr",
     "output_type": "stream",
     "text": [
      "2024-10-06 12:33:08,814 [INFO] configmgt  reading configuration from C:\\Users\\hansj\\.secfsdstools.cfg\n",
      "2024-10-06 12:33:08,816 [INFO] parallelexecution      items to process: 1\n",
      "2024-10-06 12:33:08,817 [INFO] zipcollecting  processing C:\\Users\\hansj\\secfsdstools\\data\\parquet\\quarter\\2013q4.zip\n"
     ]
    },
    {
     "name": "stdout",
     "output_type": "stream",
     "text": [
      "store joineddatabag under set/tmp/2018q1.zip\\CP\\joined\n"
     ]
    },
    {
     "name": "stderr",
     "output_type": "stream",
     "text": [
      "2024-10-06 12:33:11,071 [INFO] parallelexecution      commited chunk: 0\n"
     ]
    },
    {
     "name": "stdout",
     "output_type": "stream",
     "text": [
      "store rawdatabag under set/tmp/2013q4.zip\\CP\\raw\n",
      "create joined databag\n"
     ]
    },
    {
     "name": "stderr",
     "output_type": "stream",
     "text": [
      "2024-10-06 12:33:12,494 [INFO] configmgt  reading configuration from C:\\Users\\hansj\\.secfsdstools.cfg\n",
      "2024-10-06 12:33:12,498 [INFO] parallelexecution      items to process: 1\n",
      "2024-10-06 12:33:12,498 [INFO] zipcollecting  processing C:\\Users\\hansj\\secfsdstools\\data\\parquet\\quarter\\2015q2.zip\n"
     ]
    },
    {
     "name": "stdout",
     "output_type": "stream",
     "text": [
      "store joineddatabag under set/tmp/2013q4.zip\\CP\\joined\n"
     ]
    },
    {
     "name": "stderr",
     "output_type": "stream",
     "text": [
      "2024-10-06 12:33:14,384 [INFO] parallelexecution      commited chunk: 0\n"
     ]
    },
    {
     "name": "stdout",
     "output_type": "stream",
     "text": [
      "store rawdatabag under set/tmp/2015q2.zip\\CP\\raw\n",
      "create joined databag\n"
     ]
    },
    {
     "name": "stderr",
     "output_type": "stream",
     "text": [
      "2024-10-06 12:33:15,604 [INFO] configmgt  reading configuration from C:\\Users\\hansj\\.secfsdstools.cfg\n",
      "2024-10-06 12:33:15,606 [INFO] parallelexecution      items to process: 1\n",
      "2024-10-06 12:33:15,607 [INFO] zipcollecting  processing C:\\Users\\hansj\\secfsdstools\\data\\parquet\\quarter\\2021q3.zip\n"
     ]
    },
    {
     "name": "stdout",
     "output_type": "stream",
     "text": [
      "store joineddatabag under set/tmp/2015q2.zip\\CP\\joined\n"
     ]
    },
    {
     "name": "stderr",
     "output_type": "stream",
     "text": [
      "2024-10-06 12:33:17,554 [INFO] parallelexecution      commited chunk: 0\n"
     ]
    },
    {
     "name": "stdout",
     "output_type": "stream",
     "text": [
      "store rawdatabag under set/tmp/2021q3.zip\\CP\\raw\n",
      "create joined databag\n"
     ]
    },
    {
     "name": "stderr",
     "output_type": "stream",
     "text": [
      "2024-10-06 12:33:19,053 [INFO] configmgt  reading configuration from C:\\Users\\hansj\\.secfsdstools.cfg\n",
      "2024-10-06 12:33:19,056 [INFO] parallelexecution      items to process: 1\n",
      "2024-10-06 12:33:19,056 [INFO] zipcollecting  processing C:\\Users\\hansj\\secfsdstools\\data\\parquet\\quarter\\2010q3.zip\n"
     ]
    },
    {
     "name": "stdout",
     "output_type": "stream",
     "text": [
      "store joineddatabag under set/tmp/2021q3.zip\\CP\\joined\n"
     ]
    },
    {
     "name": "stderr",
     "output_type": "stream",
     "text": [
      "2024-10-06 12:33:19,430 [INFO] parallelexecution      commited chunk: 0\n"
     ]
    },
    {
     "name": "stdout",
     "output_type": "stream",
     "text": [
      "store rawdatabag under set/tmp/2010q3.zip\\CP\\raw\n",
      "create joined databag\n"
     ]
    },
    {
     "name": "stderr",
     "output_type": "stream",
     "text": [
      "2024-10-06 12:33:19,705 [INFO] configmgt  reading configuration from C:\\Users\\hansj\\.secfsdstools.cfg\n",
      "2024-10-06 12:33:19,707 [INFO] parallelexecution      items to process: 1\n",
      "2024-10-06 12:33:19,708 [INFO] zipcollecting  processing C:\\Users\\hansj\\secfsdstools\\data\\parquet\\quarter\\2011q4.zip\n"
     ]
    },
    {
     "name": "stdout",
     "output_type": "stream",
     "text": [
      "store joineddatabag under set/tmp/2010q3.zip\\CP\\joined\n"
     ]
    },
    {
     "name": "stderr",
     "output_type": "stream",
     "text": [
      "2024-10-06 12:33:21,450 [INFO] parallelexecution      commited chunk: 0\n"
     ]
    },
    {
     "name": "stdout",
     "output_type": "stream",
     "text": [
      "store rawdatabag under set/tmp/2011q4.zip\\CP\\raw\n",
      "create joined databag\n"
     ]
    },
    {
     "name": "stderr",
     "output_type": "stream",
     "text": [
      "2024-10-06 12:33:22,648 [INFO] configmgt  reading configuration from C:\\Users\\hansj\\.secfsdstools.cfg\n",
      "2024-10-06 12:33:22,651 [INFO] parallelexecution      items to process: 1\n",
      "2024-10-06 12:33:22,652 [INFO] zipcollecting  processing C:\\Users\\hansj\\secfsdstools\\data\\parquet\\quarter\\2012q2.zip\n"
     ]
    },
    {
     "name": "stdout",
     "output_type": "stream",
     "text": [
      "store joineddatabag under set/tmp/2011q4.zip\\CP\\joined\n"
     ]
    },
    {
     "name": "stderr",
     "output_type": "stream",
     "text": [
      "2024-10-06 12:33:24,361 [INFO] parallelexecution      commited chunk: 0\n"
     ]
    },
    {
     "name": "stdout",
     "output_type": "stream",
     "text": [
      "store rawdatabag under set/tmp/2012q2.zip\\CP\\raw\n",
      "create joined databag\n"
     ]
    },
    {
     "name": "stderr",
     "output_type": "stream",
     "text": [
      "2024-10-06 12:33:25,458 [INFO] configmgt  reading configuration from C:\\Users\\hansj\\.secfsdstools.cfg\n",
      "2024-10-06 12:33:25,461 [INFO] parallelexecution      items to process: 1\n",
      "2024-10-06 12:33:25,462 [INFO] zipcollecting  processing C:\\Users\\hansj\\secfsdstools\\data\\parquet\\quarter\\2010q4.zip\n"
     ]
    },
    {
     "name": "stdout",
     "output_type": "stream",
     "text": [
      "store joineddatabag under set/tmp/2012q2.zip\\CP\\joined\n"
     ]
    },
    {
     "name": "stderr",
     "output_type": "stream",
     "text": [
      "2024-10-06 12:33:25,882 [INFO] parallelexecution      commited chunk: 0\n"
     ]
    },
    {
     "name": "stdout",
     "output_type": "stream",
     "text": [
      "store rawdatabag under set/tmp/2010q4.zip\\CP\\raw\n",
      "create joined databag\n"
     ]
    },
    {
     "name": "stderr",
     "output_type": "stream",
     "text": [
      "2024-10-06 12:33:26,187 [INFO] configmgt  reading configuration from C:\\Users\\hansj\\.secfsdstools.cfg\n",
      "2024-10-06 12:33:26,190 [INFO] parallelexecution      items to process: 1\n",
      "2024-10-06 12:33:26,191 [INFO] zipcollecting  processing C:\\Users\\hansj\\secfsdstools\\data\\parquet\\quarter\\2016q1.zip\n"
     ]
    },
    {
     "name": "stdout",
     "output_type": "stream",
     "text": [
      "store joineddatabag under set/tmp/2010q4.zip\\CP\\joined\n"
     ]
    },
    {
     "name": "stderr",
     "output_type": "stream",
     "text": [
      "2024-10-06 12:33:28,628 [INFO] parallelexecution      commited chunk: 0\n"
     ]
    },
    {
     "name": "stdout",
     "output_type": "stream",
     "text": [
      "store rawdatabag under set/tmp/2016q1.zip\\CP\\raw\n",
      "create joined databag\n"
     ]
    },
    {
     "name": "stderr",
     "output_type": "stream",
     "text": [
      "2024-10-06 12:33:30,009 [INFO] configmgt  reading configuration from C:\\Users\\hansj\\.secfsdstools.cfg\n",
      "2024-10-06 12:33:30,012 [INFO] parallelexecution      items to process: 1\n",
      "2024-10-06 12:33:30,013 [INFO] zipcollecting  processing C:\\Users\\hansj\\secfsdstools\\data\\parquet\\quarter\\2021q1.zip\n"
     ]
    },
    {
     "name": "stdout",
     "output_type": "stream",
     "text": [
      "store joineddatabag under set/tmp/2016q1.zip\\CP\\joined\n"
     ]
    },
    {
     "name": "stderr",
     "output_type": "stream",
     "text": [
      "2024-10-06 12:33:32,125 [INFO] parallelexecution      commited chunk: 0\n"
     ]
    },
    {
     "name": "stdout",
     "output_type": "stream",
     "text": [
      "store rawdatabag under set/tmp/2021q1.zip\\CP\\raw\n",
      "create joined databag\n"
     ]
    },
    {
     "name": "stderr",
     "output_type": "stream",
     "text": [
      "2024-10-06 12:33:33,567 [INFO] configmgt  reading configuration from C:\\Users\\hansj\\.secfsdstools.cfg\n",
      "2024-10-06 12:33:33,570 [INFO] parallelexecution      items to process: 1\n",
      "2024-10-06 12:33:33,571 [INFO] zipcollecting  processing C:\\Users\\hansj\\secfsdstools\\data\\parquet\\quarter\\2011q2.zip\n"
     ]
    },
    {
     "name": "stdout",
     "output_type": "stream",
     "text": [
      "store joineddatabag under set/tmp/2021q1.zip\\CP\\joined\n"
     ]
    },
    {
     "name": "stderr",
     "output_type": "stream",
     "text": [
      "2024-10-06 12:33:33,969 [INFO] parallelexecution      commited chunk: 0\n"
     ]
    },
    {
     "name": "stdout",
     "output_type": "stream",
     "text": [
      "store rawdatabag under set/tmp/2011q2.zip\\CP\\raw\n",
      "create joined databag\n"
     ]
    },
    {
     "name": "stderr",
     "output_type": "stream",
     "text": [
      "2024-10-06 12:33:34,279 [INFO] configmgt  reading configuration from C:\\Users\\hansj\\.secfsdstools.cfg\n",
      "2024-10-06 12:33:34,281 [INFO] parallelexecution      items to process: 1\n",
      "2024-10-06 12:33:34,282 [INFO] zipcollecting  processing C:\\Users\\hansj\\secfsdstools\\data\\parquet\\quarter\\2009q2.zip\n",
      "2024-10-06 12:33:34,311 [INFO] parallelexecution      commited chunk: 0\n",
      "2024-10-06 12:33:34,360 [INFO] configmgt  reading configuration from C:\\Users\\hansj\\.secfsdstools.cfg\n",
      "2024-10-06 12:33:34,363 [INFO] parallelexecution      items to process: 1\n",
      "2024-10-06 12:33:34,364 [INFO] zipcollecting  processing C:\\Users\\hansj\\secfsdstools\\data\\parquet\\quarter\\2022q1.zip\n"
     ]
    },
    {
     "name": "stdout",
     "output_type": "stream",
     "text": [
      "store joineddatabag under set/tmp/2011q2.zip\\CP\\joined\n",
      "store rawdatabag under set/tmp/2009q2.zip\\CP\\raw\n",
      "create joined databag\n",
      "store joineddatabag under set/tmp/2009q2.zip\\CP\\joined\n"
     ]
    },
    {
     "name": "stderr",
     "output_type": "stream",
     "text": [
      "2024-10-06 12:33:36,654 [INFO] parallelexecution      commited chunk: 0\n"
     ]
    },
    {
     "name": "stdout",
     "output_type": "stream",
     "text": [
      "store rawdatabag under set/tmp/2022q1.zip\\CP\\raw\n",
      "create joined databag\n"
     ]
    },
    {
     "name": "stderr",
     "output_type": "stream",
     "text": [
      "2024-10-06 12:33:38,214 [INFO] configmgt  reading configuration from C:\\Users\\hansj\\.secfsdstools.cfg\n",
      "2024-10-06 12:33:38,217 [INFO] parallelexecution      items to process: 1\n",
      "2024-10-06 12:33:38,218 [INFO] zipcollecting  processing C:\\Users\\hansj\\secfsdstools\\data\\parquet\\quarter\\2012q4.zip\n"
     ]
    },
    {
     "name": "stdout",
     "output_type": "stream",
     "text": [
      "store joineddatabag under set/tmp/2022q1.zip\\CP\\joined\n"
     ]
    },
    {
     "name": "stderr",
     "output_type": "stream",
     "text": [
      "2024-10-06 12:33:40,575 [INFO] parallelexecution      commited chunk: 0\n"
     ]
    },
    {
     "name": "stdout",
     "output_type": "stream",
     "text": [
      "store rawdatabag under set/tmp/2012q4.zip\\CP\\raw\n",
      "create joined databag\n"
     ]
    },
    {
     "name": "stderr",
     "output_type": "stream",
     "text": [
      "2024-10-06 12:33:42,022 [INFO] configmgt  reading configuration from C:\\Users\\hansj\\.secfsdstools.cfg\n",
      "2024-10-06 12:33:42,024 [INFO] parallelexecution      items to process: 1\n",
      "2024-10-06 12:33:42,025 [INFO] zipcollecting  processing C:\\Users\\hansj\\secfsdstools\\data\\parquet\\quarter\\2010q1.zip\n",
      "2024-10-06 12:33:42,166 [INFO] parallelexecution      commited chunk: 0\n"
     ]
    },
    {
     "name": "stdout",
     "output_type": "stream",
     "text": [
      "store joineddatabag under set/tmp/2012q4.zip\\CP\\joined\n"
     ]
    },
    {
     "name": "stderr",
     "output_type": "stream",
     "text": [
      "2024-10-06 12:33:42,299 [INFO] configmgt  reading configuration from C:\\Users\\hansj\\.secfsdstools.cfg\n",
      "2024-10-06 12:33:42,301 [INFO] parallelexecution      items to process: 1\n",
      "2024-10-06 12:33:42,303 [INFO] zipcollecting  processing C:\\Users\\hansj\\secfsdstools\\data\\parquet\\quarter\\2015q1.zip\n"
     ]
    },
    {
     "name": "stdout",
     "output_type": "stream",
     "text": [
      "store rawdatabag under set/tmp/2010q1.zip\\CP\\raw\n",
      "create joined databag\n",
      "store joineddatabag under set/tmp/2010q1.zip\\CP\\joined\n"
     ]
    },
    {
     "name": "stderr",
     "output_type": "stream",
     "text": [
      "2024-10-06 12:33:44,776 [INFO] parallelexecution      commited chunk: 0\n"
     ]
    },
    {
     "name": "stdout",
     "output_type": "stream",
     "text": [
      "store rawdatabag under set/tmp/2015q1.zip\\CP\\raw\n",
      "create joined databag\n"
     ]
    },
    {
     "name": "stderr",
     "output_type": "stream",
     "text": [
      "2024-10-06 12:33:46,184 [INFO] configmgt  reading configuration from C:\\Users\\hansj\\.secfsdstools.cfg\n",
      "2024-10-06 12:33:46,188 [INFO] parallelexecution      items to process: 1\n",
      "2024-10-06 12:33:46,189 [INFO] zipcollecting  processing C:\\Users\\hansj\\secfsdstools\\data\\parquet\\quarter\\2022q3.zip\n"
     ]
    },
    {
     "name": "stdout",
     "output_type": "stream",
     "text": [
      "store joineddatabag under set/tmp/2015q1.zip\\CP\\joined\n"
     ]
    },
    {
     "name": "stderr",
     "output_type": "stream",
     "text": [
      "2024-10-06 12:33:48,135 [INFO] parallelexecution      commited chunk: 0\n"
     ]
    },
    {
     "name": "stdout",
     "output_type": "stream",
     "text": [
      "store rawdatabag under set/tmp/2022q3.zip\\CP\\raw\n",
      "create joined databag\n"
     ]
    },
    {
     "name": "stderr",
     "output_type": "stream",
     "text": [
      "2024-10-06 12:33:49,574 [INFO] configmgt  reading configuration from C:\\Users\\hansj\\.secfsdstools.cfg\n",
      "2024-10-06 12:33:49,578 [INFO] parallelexecution      items to process: 1\n",
      "2024-10-06 12:33:49,578 [INFO] zipcollecting  processing C:\\Users\\hansj\\secfsdstools\\data\\parquet\\quarter\\2018q2.zip\n"
     ]
    },
    {
     "name": "stdout",
     "output_type": "stream",
     "text": [
      "store joineddatabag under set/tmp/2022q3.zip\\CP\\joined\n"
     ]
    },
    {
     "name": "stderr",
     "output_type": "stream",
     "text": [
      "2024-10-06 12:33:51,212 [INFO] parallelexecution      commited chunk: 0\n"
     ]
    },
    {
     "name": "stdout",
     "output_type": "stream",
     "text": [
      "store rawdatabag under set/tmp/2018q2.zip\\CP\\raw\n",
      "create joined databag\n"
     ]
    },
    {
     "name": "stderr",
     "output_type": "stream",
     "text": [
      "2024-10-06 12:33:52,385 [INFO] configmgt  reading configuration from C:\\Users\\hansj\\.secfsdstools.cfg\n",
      "2024-10-06 12:33:52,388 [INFO] parallelexecution      items to process: 1\n",
      "2024-10-06 12:33:52,388 [INFO] zipcollecting  processing C:\\Users\\hansj\\secfsdstools\\data\\parquet\\quarter\\2019q3.zip\n"
     ]
    },
    {
     "name": "stdout",
     "output_type": "stream",
     "text": [
      "store joineddatabag under set/tmp/2018q2.zip\\CP\\joined\n"
     ]
    },
    {
     "name": "stderr",
     "output_type": "stream",
     "text": [
      "2024-10-06 12:33:54,272 [INFO] parallelexecution      commited chunk: 0\n"
     ]
    },
    {
     "name": "stdout",
     "output_type": "stream",
     "text": [
      "store rawdatabag under set/tmp/2019q3.zip\\CP\\raw\n",
      "create joined databag\n"
     ]
    },
    {
     "name": "stderr",
     "output_type": "stream",
     "text": [
      "2024-10-06 12:33:55,560 [INFO] configmgt  reading configuration from C:\\Users\\hansj\\.secfsdstools.cfg\n",
      "2024-10-06 12:33:55,563 [INFO] parallelexecution      items to process: 1\n",
      "2024-10-06 12:33:55,564 [INFO] zipcollecting  processing C:\\Users\\hansj\\secfsdstools\\data\\parquet\\quarter\\2020q2.zip\n"
     ]
    },
    {
     "name": "stdout",
     "output_type": "stream",
     "text": [
      "store joineddatabag under set/tmp/2019q3.zip\\CP\\joined\n"
     ]
    },
    {
     "name": "stderr",
     "output_type": "stream",
     "text": [
      "2024-10-06 12:33:57,239 [INFO] parallelexecution      commited chunk: 0\n"
     ]
    },
    {
     "name": "stdout",
     "output_type": "stream",
     "text": [
      "store rawdatabag under set/tmp/2020q2.zip\\CP\\raw\n",
      "create joined databag\n"
     ]
    },
    {
     "name": "stderr",
     "output_type": "stream",
     "text": [
      "2024-10-06 12:33:58,483 [INFO] configmgt  reading configuration from C:\\Users\\hansj\\.secfsdstools.cfg\n",
      "2024-10-06 12:33:58,487 [INFO] parallelexecution      items to process: 1\n",
      "2024-10-06 12:33:58,489 [INFO] zipcollecting  processing C:\\Users\\hansj\\secfsdstools\\data\\parquet\\quarter\\2022q4.zip\n"
     ]
    },
    {
     "name": "stdout",
     "output_type": "stream",
     "text": [
      "store joineddatabag under set/tmp/2020q2.zip\\CP\\joined\n"
     ]
    },
    {
     "name": "stderr",
     "output_type": "stream",
     "text": [
      "2024-10-06 12:34:00,578 [INFO] parallelexecution      commited chunk: 0\n"
     ]
    },
    {
     "name": "stdout",
     "output_type": "stream",
     "text": [
      "store rawdatabag under set/tmp/2022q4.zip\\CP\\raw\n",
      "create joined databag\n"
     ]
    },
    {
     "name": "stderr",
     "output_type": "stream",
     "text": [
      "2024-10-06 12:34:02,179 [INFO] configmgt  reading configuration from C:\\Users\\hansj\\.secfsdstools.cfg\n",
      "2024-10-06 12:34:02,182 [INFO] parallelexecution      items to process: 1\n",
      "2024-10-06 12:34:02,182 [INFO] zipcollecting  processing C:\\Users\\hansj\\secfsdstools\\data\\parquet\\quarter\\2017q2.zip\n"
     ]
    },
    {
     "name": "stdout",
     "output_type": "stream",
     "text": [
      "store joineddatabag under set/tmp/2022q4.zip\\CP\\joined\n"
     ]
    },
    {
     "name": "stderr",
     "output_type": "stream",
     "text": [
      "2024-10-06 12:34:03,921 [INFO] parallelexecution      commited chunk: 0\n"
     ]
    },
    {
     "name": "stdout",
     "output_type": "stream",
     "text": [
      "store rawdatabag under set/tmp/2017q2.zip\\CP\\raw\n",
      "create joined databag\n"
     ]
    },
    {
     "name": "stderr",
     "output_type": "stream",
     "text": [
      "2024-10-06 12:34:05,091 [INFO] configmgt  reading configuration from C:\\Users\\hansj\\.secfsdstools.cfg\n",
      "2024-10-06 12:34:05,093 [INFO] parallelexecution      items to process: 1\n",
      "2024-10-06 12:34:05,094 [INFO] zipcollecting  processing C:\\Users\\hansj\\secfsdstools\\data\\parquet\\quarter\\2012q3.zip\n"
     ]
    },
    {
     "name": "stdout",
     "output_type": "stream",
     "text": [
      "store joineddatabag under set/tmp/2017q2.zip\\CP\\joined\n"
     ]
    },
    {
     "name": "stderr",
     "output_type": "stream",
     "text": [
      "2024-10-06 12:34:07,111 [INFO] parallelexecution      commited chunk: 0\n"
     ]
    },
    {
     "name": "stdout",
     "output_type": "stream",
     "text": [
      "store rawdatabag under set/tmp/2012q3.zip\\CP\\raw\n",
      "create joined databag\n"
     ]
    },
    {
     "name": "stderr",
     "output_type": "stream",
     "text": [
      "2024-10-06 12:34:08,341 [INFO] configmgt  reading configuration from C:\\Users\\hansj\\.secfsdstools.cfg\n",
      "2024-10-06 12:34:08,343 [INFO] parallelexecution      items to process: 1\n",
      "2024-10-06 12:34:08,345 [INFO] zipcollecting  processing C:\\Users\\hansj\\secfsdstools\\data\\parquet\\quarter\\2011q1.zip\n"
     ]
    },
    {
     "name": "stdout",
     "output_type": "stream",
     "text": [
      "store joineddatabag under set/tmp/2012q3.zip\\CP\\joined\n"
     ]
    },
    {
     "name": "stderr",
     "output_type": "stream",
     "text": [
      "2024-10-06 12:34:08,853 [INFO] parallelexecution      commited chunk: 0\n"
     ]
    },
    {
     "name": "stdout",
     "output_type": "stream",
     "text": [
      "store rawdatabag under set/tmp/2011q1.zip\\CP\\raw\n"
     ]
    },
    {
     "name": "stderr",
     "output_type": "stream",
     "text": [
      "2024-10-06 12:34:09,167 [INFO] configmgt  reading configuration from C:\\Users\\hansj\\.secfsdstools.cfg\n",
      "2024-10-06 12:34:09,169 [INFO] parallelexecution      items to process: 1\n",
      "2024-10-06 12:34:09,170 [INFO] zipcollecting  processing C:\\Users\\hansj\\secfsdstools\\data\\parquet\\quarter\\2017q4.zip\n"
     ]
    },
    {
     "name": "stdout",
     "output_type": "stream",
     "text": [
      "create joined databag\n",
      "store joineddatabag under set/tmp/2011q1.zip\\CP\\joined\n"
     ]
    },
    {
     "name": "stderr",
     "output_type": "stream",
     "text": [
      "2024-10-06 12:34:11,043 [INFO] parallelexecution      commited chunk: 0\n"
     ]
    },
    {
     "name": "stdout",
     "output_type": "stream",
     "text": [
      "store rawdatabag under set/tmp/2017q4.zip\\CP\\raw\n",
      "create joined databag\n"
     ]
    },
    {
     "name": "stderr",
     "output_type": "stream",
     "text": [
      "2024-10-06 12:34:12,380 [INFO] configmgt  reading configuration from C:\\Users\\hansj\\.secfsdstools.cfg\n",
      "2024-10-06 12:34:12,383 [INFO] parallelexecution      items to process: 1\n",
      "2024-10-06 12:34:12,385 [INFO] zipcollecting  processing C:\\Users\\hansj\\secfsdstools\\data\\parquet\\quarter\\2010q2.zip\n"
     ]
    },
    {
     "name": "stdout",
     "output_type": "stream",
     "text": [
      "store joineddatabag under set/tmp/2017q4.zip\\CP\\joined\n"
     ]
    },
    {
     "name": "stderr",
     "output_type": "stream",
     "text": [
      "2024-10-06 12:34:12,529 [INFO] parallelexecution      commited chunk: 0\n",
      "2024-10-06 12:34:12,662 [INFO] configmgt  reading configuration from C:\\Users\\hansj\\.secfsdstools.cfg\n",
      "2024-10-06 12:34:12,664 [INFO] parallelexecution      items to process: 1\n",
      "2024-10-06 12:34:12,665 [INFO] zipcollecting  processing C:\\Users\\hansj\\secfsdstools\\data\\parquet\\quarter\\2018q3.zip\n"
     ]
    },
    {
     "name": "stdout",
     "output_type": "stream",
     "text": [
      "store rawdatabag under set/tmp/2010q2.zip\\CP\\raw\n",
      "create joined databag\n",
      "store joineddatabag under set/tmp/2010q2.zip\\CP\\joined\n"
     ]
    },
    {
     "name": "stderr",
     "output_type": "stream",
     "text": [
      "2024-10-06 12:34:14,440 [INFO] parallelexecution      commited chunk: 0\n"
     ]
    },
    {
     "name": "stdout",
     "output_type": "stream",
     "text": [
      "store rawdatabag under set/tmp/2018q3.zip\\CP\\raw\n",
      "create joined databag\n"
     ]
    },
    {
     "name": "stderr",
     "output_type": "stream",
     "text": [
      "2024-10-06 12:34:15,742 [INFO] configmgt  reading configuration from C:\\Users\\hansj\\.secfsdstools.cfg\n",
      "2024-10-06 12:34:15,745 [INFO] parallelexecution      items to process: 1\n",
      "2024-10-06 12:34:15,746 [INFO] zipcollecting  processing C:\\Users\\hansj\\secfsdstools\\data\\parquet\\quarter\\2021q4.zip\n"
     ]
    },
    {
     "name": "stdout",
     "output_type": "stream",
     "text": [
      "store joineddatabag under set/tmp/2018q3.zip\\CP\\joined\n"
     ]
    },
    {
     "name": "stderr",
     "output_type": "stream",
     "text": [
      "2024-10-06 12:34:17,724 [INFO] parallelexecution      commited chunk: 0\n"
     ]
    },
    {
     "name": "stdout",
     "output_type": "stream",
     "text": [
      "store rawdatabag under set/tmp/2021q4.zip\\CP\\raw\n",
      "create joined databag\n"
     ]
    },
    {
     "name": "stderr",
     "output_type": "stream",
     "text": [
      "2024-10-06 12:34:19,164 [INFO] configmgt  reading configuration from C:\\Users\\hansj\\.secfsdstools.cfg\n",
      "2024-10-06 12:34:19,168 [INFO] parallelexecution      items to process: 1\n",
      "2024-10-06 12:34:19,169 [INFO] zipcollecting  processing C:\\Users\\hansj\\secfsdstools\\data\\parquet\\quarter\\2019q2.zip\n"
     ]
    },
    {
     "name": "stdout",
     "output_type": "stream",
     "text": [
      "store joineddatabag under set/tmp/2021q4.zip\\CP\\joined\n"
     ]
    },
    {
     "name": "stderr",
     "output_type": "stream",
     "text": [
      "2024-10-06 12:34:20,891 [INFO] parallelexecution      commited chunk: 0\n"
     ]
    },
    {
     "name": "stdout",
     "output_type": "stream",
     "text": [
      "store rawdatabag under set/tmp/2019q2.zip\\CP\\raw\n",
      "create joined databag\n"
     ]
    },
    {
     "name": "stderr",
     "output_type": "stream",
     "text": [
      "2024-10-06 12:34:22,117 [INFO] configmgt  reading configuration from C:\\Users\\hansj\\.secfsdstools.cfg\n",
      "2024-10-06 12:34:22,119 [INFO] parallelexecution      items to process: 1\n",
      "2024-10-06 12:34:22,121 [INFO] zipcollecting  processing C:\\Users\\hansj\\secfsdstools\\data\\parquet\\quarter\\2013q1.zip\n"
     ]
    },
    {
     "name": "stdout",
     "output_type": "stream",
     "text": [
      "store joineddatabag under set/tmp/2019q2.zip\\CP\\joined\n"
     ]
    },
    {
     "name": "stderr",
     "output_type": "stream",
     "text": [
      "2024-10-06 12:34:24,633 [INFO] parallelexecution      commited chunk: 0\n"
     ]
    },
    {
     "name": "stdout",
     "output_type": "stream",
     "text": [
      "store rawdatabag under set/tmp/2013q1.zip\\CP\\raw\n",
      "create joined databag\n"
     ]
    },
    {
     "name": "stderr",
     "output_type": "stream",
     "text": [
      "2024-10-06 12:34:25,975 [INFO] configmgt  reading configuration from C:\\Users\\hansj\\.secfsdstools.cfg\n",
      "2024-10-06 12:34:25,977 [INFO] parallelexecution      items to process: 1\n",
      "2024-10-06 12:34:25,979 [INFO] zipcollecting  processing C:\\Users\\hansj\\secfsdstools\\data\\parquet\\quarter\\2015q4.zip\n"
     ]
    },
    {
     "name": "stdout",
     "output_type": "stream",
     "text": [
      "store joineddatabag under set/tmp/2013q1.zip\\CP\\joined\n"
     ]
    },
    {
     "name": "stderr",
     "output_type": "stream",
     "text": [
      "2024-10-06 12:34:27,987 [INFO] parallelexecution      commited chunk: 0\n"
     ]
    },
    {
     "name": "stdout",
     "output_type": "stream",
     "text": [
      "store rawdatabag under set/tmp/2015q4.zip\\CP\\raw\n",
      "create joined databag\n"
     ]
    },
    {
     "name": "stderr",
     "output_type": "stream",
     "text": [
      "2024-10-06 12:34:29,279 [INFO] configmgt  reading configuration from C:\\Users\\hansj\\.secfsdstools.cfg\n",
      "2024-10-06 12:34:29,282 [INFO] parallelexecution      items to process: 1\n",
      "2024-10-06 12:34:29,283 [INFO] zipcollecting  processing C:\\Users\\hansj\\secfsdstools\\data\\parquet\\quarter\\2009q3.zip\n",
      "2024-10-06 12:34:29,391 [INFO] parallelexecution      commited chunk: 0\n"
     ]
    },
    {
     "name": "stdout",
     "output_type": "stream",
     "text": [
      "store joineddatabag under set/tmp/2015q4.zip\\CP\\joined\n"
     ]
    },
    {
     "name": "stderr",
     "output_type": "stream",
     "text": [
      "2024-10-06 12:34:29,508 [INFO] configmgt  reading configuration from C:\\Users\\hansj\\.secfsdstools.cfg\n",
      "2024-10-06 12:34:29,510 [INFO] parallelexecution      items to process: 1\n",
      "2024-10-06 12:34:29,512 [INFO] zipcollecting  processing C:\\Users\\hansj\\secfsdstools\\data\\parquet\\quarter\\2016q2.zip\n"
     ]
    },
    {
     "name": "stdout",
     "output_type": "stream",
     "text": [
      "store rawdatabag under set/tmp/2009q3.zip\\CP\\raw\n",
      "create joined databag\n",
      "store joineddatabag under set/tmp/2009q3.zip\\CP\\joined\n"
     ]
    },
    {
     "name": "stderr",
     "output_type": "stream",
     "text": [
      "2024-10-06 12:34:31,222 [INFO] parallelexecution      commited chunk: 0\n"
     ]
    },
    {
     "name": "stdout",
     "output_type": "stream",
     "text": [
      "store rawdatabag under set/tmp/2016q2.zip\\CP\\raw\n",
      "create joined databag\n"
     ]
    },
    {
     "name": "stderr",
     "output_type": "stream",
     "text": [
      "2024-10-06 12:34:32,387 [INFO] configmgt  reading configuration from C:\\Users\\hansj\\.secfsdstools.cfg\n",
      "2024-10-06 12:34:32,391 [INFO] parallelexecution      items to process: 1\n",
      "2024-10-06 12:34:32,391 [INFO] zipcollecting  processing C:\\Users\\hansj\\secfsdstools\\data\\parquet\\quarter\\2013q3.zip\n"
     ]
    },
    {
     "name": "stdout",
     "output_type": "stream",
     "text": [
      "store joineddatabag under set/tmp/2016q2.zip\\CP\\joined\n"
     ]
    },
    {
     "name": "stderr",
     "output_type": "stream",
     "text": [
      "2024-10-06 12:34:34,588 [INFO] parallelexecution      commited chunk: 0\n"
     ]
    },
    {
     "name": "stdout",
     "output_type": "stream",
     "text": [
      "store rawdatabag under set/tmp/2013q3.zip\\CP\\raw\n",
      "create joined databag\n"
     ]
    },
    {
     "name": "stderr",
     "output_type": "stream",
     "text": [
      "2024-10-06 12:34:35,928 [INFO] configmgt  reading configuration from C:\\Users\\hansj\\.secfsdstools.cfg\n",
      "2024-10-06 12:34:35,931 [INFO] parallelexecution      items to process: 1\n",
      "2024-10-06 12:34:35,931 [INFO] zipcollecting  processing C:\\Users\\hansj\\secfsdstools\\data\\parquet\\quarter\\2016q4.zip\n"
     ]
    },
    {
     "name": "stdout",
     "output_type": "stream",
     "text": [
      "store joineddatabag under set/tmp/2013q3.zip\\CP\\joined\n"
     ]
    },
    {
     "name": "stderr",
     "output_type": "stream",
     "text": [
      "2024-10-06 12:34:37,754 [INFO] parallelexecution      commited chunk: 0\n"
     ]
    },
    {
     "name": "stdout",
     "output_type": "stream",
     "text": [
      "store rawdatabag under set/tmp/2016q4.zip\\CP\\raw\n",
      "create joined databag\n"
     ]
    },
    {
     "name": "stderr",
     "output_type": "stream",
     "text": [
      "2024-10-06 12:34:39,039 [INFO] configmgt  reading configuration from C:\\Users\\hansj\\.secfsdstools.cfg\n",
      "2024-10-06 12:34:39,043 [INFO] parallelexecution      items to process: 1\n",
      "2024-10-06 12:34:39,043 [INFO] zipcollecting  processing C:\\Users\\hansj\\secfsdstools\\data\\parquet\\quarter\\2017q3.zip\n"
     ]
    },
    {
     "name": "stdout",
     "output_type": "stream",
     "text": [
      "store joineddatabag under set/tmp/2016q4.zip\\CP\\joined\n"
     ]
    },
    {
     "name": "stderr",
     "output_type": "stream",
     "text": [
      "2024-10-06 12:34:40,861 [INFO] parallelexecution      commited chunk: 0\n"
     ]
    },
    {
     "name": "stdout",
     "output_type": "stream",
     "text": [
      "store rawdatabag under set/tmp/2017q3.zip\\CP\\raw\n",
      "create joined databag\n"
     ]
    },
    {
     "name": "stderr",
     "output_type": "stream",
     "text": [
      "2024-10-06 12:34:42,240 [INFO] configmgt  reading configuration from C:\\Users\\hansj\\.secfsdstools.cfg\n",
      "2024-10-06 12:34:42,244 [INFO] parallelexecution      items to process: 1\n",
      "2024-10-06 12:34:42,245 [INFO] zipcollecting  processing C:\\Users\\hansj\\secfsdstools\\data\\parquet\\quarter\\2018q4.zip\n"
     ]
    },
    {
     "name": "stdout",
     "output_type": "stream",
     "text": [
      "store joineddatabag under set/tmp/2017q3.zip\\CP\\joined\n"
     ]
    },
    {
     "name": "stderr",
     "output_type": "stream",
     "text": [
      "2024-10-06 12:34:44,107 [INFO] parallelexecution      commited chunk: 0\n"
     ]
    },
    {
     "name": "stdout",
     "output_type": "stream",
     "text": [
      "store rawdatabag under set/tmp/2018q4.zip\\CP\\raw\n",
      "create joined databag\n"
     ]
    },
    {
     "name": "stderr",
     "output_type": "stream",
     "text": [
      "2024-10-06 12:34:45,509 [INFO] configmgt  reading configuration from C:\\Users\\hansj\\.secfsdstools.cfg\n",
      "2024-10-06 12:34:45,512 [INFO] parallelexecution      items to process: 1\n",
      "2024-10-06 12:34:45,513 [INFO] zipcollecting  processing C:\\Users\\hansj\\secfsdstools\\data\\parquet\\quarter\\2023q2.zip\n"
     ]
    },
    {
     "name": "stdout",
     "output_type": "stream",
     "text": [
      "store joineddatabag under set/tmp/2018q4.zip\\CP\\joined\n"
     ]
    },
    {
     "name": "stderr",
     "output_type": "stream",
     "text": [
      "2024-10-06 12:34:47,460 [INFO] parallelexecution      commited chunk: 0\n"
     ]
    },
    {
     "name": "stdout",
     "output_type": "stream",
     "text": [
      "store rawdatabag under set/tmp/2023q2.zip\\CP\\raw\n",
      "create joined databag\n"
     ]
    },
    {
     "name": "stderr",
     "output_type": "stream",
     "text": [
      "2024-10-06 12:34:48,938 [INFO] configmgt  reading configuration from C:\\Users\\hansj\\.secfsdstools.cfg\n",
      "2024-10-06 12:34:48,941 [INFO] parallelexecution      items to process: 1\n",
      "2024-10-06 12:34:48,942 [INFO] zipcollecting  processing C:\\Users\\hansj\\secfsdstools\\data\\parquet\\quarter\\2014q4.zip\n"
     ]
    },
    {
     "name": "stdout",
     "output_type": "stream",
     "text": [
      "store joineddatabag under set/tmp/2023q2.zip\\CP\\joined\n"
     ]
    },
    {
     "name": "stderr",
     "output_type": "stream",
     "text": [
      "2024-10-06 12:34:51,235 [INFO] parallelexecution      commited chunk: 0\n"
     ]
    },
    {
     "name": "stdout",
     "output_type": "stream",
     "text": [
      "store rawdatabag under set/tmp/2014q4.zip\\CP\\raw\n",
      "create joined databag\n"
     ]
    },
    {
     "name": "stderr",
     "output_type": "stream",
     "text": [
      "2024-10-06 12:34:52,724 [INFO] configmgt  reading configuration from C:\\Users\\hansj\\.secfsdstools.cfg\n",
      "2024-10-06 12:34:52,726 [INFO] parallelexecution      items to process: 1\n",
      "2024-10-06 12:34:52,728 [INFO] zipcollecting  processing C:\\Users\\hansj\\secfsdstools\\data\\parquet\\quarter\\2011q3.zip\n"
     ]
    },
    {
     "name": "stdout",
     "output_type": "stream",
     "text": [
      "store joineddatabag under set/tmp/2014q4.zip\\CP\\joined\n"
     ]
    },
    {
     "name": "stderr",
     "output_type": "stream",
     "text": [
      "2024-10-06 12:34:54,254 [INFO] parallelexecution      commited chunk: 0\n"
     ]
    },
    {
     "name": "stdout",
     "output_type": "stream",
     "text": [
      "store rawdatabag under set/tmp/2011q3.zip\\CP\\raw\n",
      "create joined databag\n",
      "store joineddatabag under set/tmp/2011q3.zip\\CP\\joined\n"
     ]
    },
    {
     "name": "stderr",
     "output_type": "stream",
     "text": [
      "2024-10-06 12:34:55,240 [INFO] configmgt  reading configuration from C:\\Users\\hansj\\.secfsdstools.cfg\n",
      "2024-10-06 12:34:55,242 [INFO] parallelexecution      items to process: 1\n",
      "2024-10-06 12:34:55,243 [INFO] zipcollecting  processing C:\\Users\\hansj\\secfsdstools\\data\\parquet\\quarter\\2020q3.zip\n",
      "2024-10-06 12:34:57,100 [INFO] parallelexecution      commited chunk: 0\n"
     ]
    },
    {
     "name": "stdout",
     "output_type": "stream",
     "text": [
      "store rawdatabag under set/tmp/2020q3.zip\\CP\\raw\n",
      "create joined databag\n"
     ]
    },
    {
     "name": "stderr",
     "output_type": "stream",
     "text": [
      "2024-10-06 12:34:58,429 [INFO] configmgt  reading configuration from C:\\Users\\hansj\\.secfsdstools.cfg\n",
      "2024-10-06 12:34:58,432 [INFO] parallelexecution      items to process: 1\n",
      "2024-10-06 12:34:58,433 [INFO] zipcollecting  processing C:\\Users\\hansj\\secfsdstools\\data\\parquet\\quarter\\2014q2.zip\n"
     ]
    },
    {
     "name": "stdout",
     "output_type": "stream",
     "text": [
      "store joineddatabag under set/tmp/2020q3.zip\\CP\\joined\n"
     ]
    },
    {
     "name": "stderr",
     "output_type": "stream",
     "text": [
      "2024-10-06 12:35:00,537 [INFO] parallelexecution      commited chunk: 0\n"
     ]
    },
    {
     "name": "stdout",
     "output_type": "stream",
     "text": [
      "store rawdatabag under set/tmp/2014q2.zip\\CP\\raw\n",
      "create joined databag\n"
     ]
    },
    {
     "name": "stderr",
     "output_type": "stream",
     "text": [
      "2024-10-06 12:35:01,843 [INFO] configmgt  reading configuration from C:\\Users\\hansj\\.secfsdstools.cfg\n",
      "2024-10-06 12:35:01,846 [INFO] parallelexecution      items to process: 1\n",
      "2024-10-06 12:35:01,847 [INFO] zipcollecting  processing C:\\Users\\hansj\\secfsdstools\\data\\parquet\\quarter\\2020q1.zip\n"
     ]
    },
    {
     "name": "stdout",
     "output_type": "stream",
     "text": [
      "store joineddatabag under set/tmp/2014q2.zip\\CP\\joined\n"
     ]
    },
    {
     "name": "stderr",
     "output_type": "stream",
     "text": [
      "2024-10-06 12:35:03,958 [INFO] parallelexecution      commited chunk: 0\n"
     ]
    },
    {
     "name": "stdout",
     "output_type": "stream",
     "text": [
      "store rawdatabag under set/tmp/2020q1.zip\\CP\\raw\n",
      "create joined databag\n"
     ]
    },
    {
     "name": "stderr",
     "output_type": "stream",
     "text": [
      "2024-10-06 12:35:05,450 [INFO] configmgt  reading configuration from C:\\Users\\hansj\\.secfsdstools.cfg\n",
      "2024-10-06 12:35:05,452 [INFO] parallelexecution      items to process: 1\n",
      "2024-10-06 12:35:05,453 [INFO] zipcollecting  processing C:\\Users\\hansj\\secfsdstools\\data\\parquet\\quarter\\2012q1.zip\n"
     ]
    },
    {
     "name": "stdout",
     "output_type": "stream",
     "text": [
      "store joineddatabag under set/tmp/2020q1.zip\\CP\\joined\n"
     ]
    },
    {
     "name": "stderr",
     "output_type": "stream",
     "text": [
      "2024-10-06 12:35:07,433 [INFO] parallelexecution      commited chunk: 0\n"
     ]
    },
    {
     "name": "stdout",
     "output_type": "stream",
     "text": [
      "store rawdatabag under set/tmp/2012q1.zip\\CP\\raw\n",
      "create joined databag\n"
     ]
    },
    {
     "name": "stderr",
     "output_type": "stream",
     "text": [
      "2024-10-06 12:35:08,705 [INFO] configmgt  reading configuration from C:\\Users\\hansj\\.secfsdstools.cfg\n",
      "2024-10-06 12:35:08,709 [INFO] parallelexecution      items to process: 1\n",
      "2024-10-06 12:35:08,711 [INFO] zipcollecting  processing C:\\Users\\hansj\\secfsdstools\\data\\parquet\\quarter\\2014q1.zip\n"
     ]
    },
    {
     "name": "stdout",
     "output_type": "stream",
     "text": [
      "store joineddatabag under set/tmp/2012q1.zip\\CP\\joined\n"
     ]
    },
    {
     "name": "stderr",
     "output_type": "stream",
     "text": [
      "2024-10-06 12:35:11,371 [INFO] parallelexecution      commited chunk: 0\n"
     ]
    },
    {
     "name": "stdout",
     "output_type": "stream",
     "text": [
      "store rawdatabag under set/tmp/2014q1.zip\\CP\\raw\n",
      "create joined databag\n"
     ]
    },
    {
     "name": "stderr",
     "output_type": "stream",
     "text": [
      "2024-10-06 12:35:12,873 [INFO] configmgt  reading configuration from C:\\Users\\hansj\\.secfsdstools.cfg\n",
      "2024-10-06 12:35:12,876 [INFO] parallelexecution      items to process: 1\n",
      "2024-10-06 12:35:12,878 [INFO] zipcollecting  processing C:\\Users\\hansj\\secfsdstools\\data\\parquet\\quarter\\2019q1.zip\n"
     ]
    },
    {
     "name": "stdout",
     "output_type": "stream",
     "text": [
      "store joineddatabag under set/tmp/2014q1.zip\\CP\\joined\n"
     ]
    },
    {
     "name": "stderr",
     "output_type": "stream",
     "text": [
      "2024-10-06 12:35:14,831 [INFO] parallelexecution      commited chunk: 0\n"
     ]
    },
    {
     "name": "stdout",
     "output_type": "stream",
     "text": [
      "store rawdatabag under set/tmp/2019q1.zip\\CP\\raw\n",
      "create joined databag\n"
     ]
    },
    {
     "name": "stderr",
     "output_type": "stream",
     "text": [
      "2024-10-06 12:35:16,124 [INFO] configmgt  reading configuration from C:\\Users\\hansj\\.secfsdstools.cfg\n",
      "2024-10-06 12:35:16,127 [INFO] parallelexecution      items to process: 1\n",
      "2024-10-06 12:35:16,128 [INFO] zipcollecting  processing C:\\Users\\hansj\\secfsdstools\\data\\parquet\\quarter\\2015q3.zip\n"
     ]
    },
    {
     "name": "stdout",
     "output_type": "stream",
     "text": [
      "store joineddatabag under set/tmp/2019q1.zip\\CP\\joined\n"
     ]
    },
    {
     "name": "stderr",
     "output_type": "stream",
     "text": [
      "2024-10-06 12:35:18,282 [INFO] parallelexecution      commited chunk: 0\n"
     ]
    },
    {
     "name": "stdout",
     "output_type": "stream",
     "text": [
      "store rawdatabag under set/tmp/2015q3.zip\\CP\\raw\n",
      "create joined databag\n"
     ]
    },
    {
     "name": "stderr",
     "output_type": "stream",
     "text": [
      "2024-10-06 12:35:19,671 [INFO] configmgt  reading configuration from C:\\Users\\hansj\\.secfsdstools.cfg\n",
      "2024-10-06 12:35:19,674 [INFO] parallelexecution      items to process: 1\n",
      "2024-10-06 12:35:19,674 [INFO] zipcollecting  processing C:\\Users\\hansj\\secfsdstools\\data\\parquet\\quarter\\2017q1.zip\n"
     ]
    },
    {
     "name": "stdout",
     "output_type": "stream",
     "text": [
      "store joineddatabag under set/tmp/2015q3.zip\\CP\\joined\n"
     ]
    },
    {
     "name": "stderr",
     "output_type": "stream",
     "text": [
      "2024-10-06 12:35:22,071 [INFO] parallelexecution      commited chunk: 0\n"
     ]
    },
    {
     "name": "stdout",
     "output_type": "stream",
     "text": [
      "store rawdatabag under set/tmp/2017q1.zip\\CP\\raw\n",
      "create joined databag\n"
     ]
    },
    {
     "name": "stderr",
     "output_type": "stream",
     "text": [
      "2024-10-06 12:35:23,470 [INFO] configmgt  reading configuration from C:\\Users\\hansj\\.secfsdstools.cfg\n",
      "2024-10-06 12:35:23,473 [INFO] parallelexecution      items to process: 1\n",
      "2024-10-06 12:35:23,474 [INFO] zipcollecting  processing C:\\Users\\hansj\\secfsdstools\\data\\parquet\\quarter\\2020q4.zip\n"
     ]
    },
    {
     "name": "stdout",
     "output_type": "stream",
     "text": [
      "store joineddatabag under set/tmp/2017q1.zip\\CP\\joined\n"
     ]
    },
    {
     "name": "stderr",
     "output_type": "stream",
     "text": [
      "2024-10-06 12:35:25,406 [INFO] parallelexecution      commited chunk: 0\n"
     ]
    },
    {
     "name": "stdout",
     "output_type": "stream",
     "text": [
      "store rawdatabag under set/tmp/2020q4.zip\\CP\\raw\n",
      "create joined databag\n"
     ]
    },
    {
     "name": "stderr",
     "output_type": "stream",
     "text": [
      "2024-10-06 12:35:26,713 [INFO] configmgt  reading configuration from C:\\Users\\hansj\\.secfsdstools.cfg\n",
      "2024-10-06 12:35:26,715 [INFO] parallelexecution      items to process: 1\n",
      "2024-10-06 12:35:26,716 [INFO] zipcollecting  processing C:\\Users\\hansj\\secfsdstools\\data\\parquet\\quarter\\2013q2.zip\n"
     ]
    },
    {
     "name": "stdout",
     "output_type": "stream",
     "text": [
      "store joineddatabag under set/tmp/2020q4.zip\\CP\\joined\n"
     ]
    },
    {
     "name": "stderr",
     "output_type": "stream",
     "text": [
      "2024-10-06 12:35:28,931 [INFO] parallelexecution      commited chunk: 0\n"
     ]
    },
    {
     "name": "stdout",
     "output_type": "stream",
     "text": [
      "store rawdatabag under set/tmp/2013q2.zip\\CP\\raw\n",
      "create joined databag\n"
     ]
    },
    {
     "name": "stderr",
     "output_type": "stream",
     "text": [
      "2024-10-06 12:35:30,363 [INFO] configmgt  reading configuration from C:\\Users\\hansj\\.secfsdstools.cfg\n",
      "2024-10-06 12:35:30,365 [INFO] parallelexecution      items to process: 1\n",
      "2024-10-06 12:35:30,368 [INFO] zipcollecting  processing C:\\Users\\hansj\\secfsdstools\\data\\parquet\\quarter\\2021q2.zip\n"
     ]
    },
    {
     "name": "stdout",
     "output_type": "stream",
     "text": [
      "store joineddatabag under set/tmp/2013q2.zip\\CP\\joined\n"
     ]
    },
    {
     "name": "stderr",
     "output_type": "stream",
     "text": [
      "2024-10-06 12:35:31,995 [INFO] parallelexecution      commited chunk: 0\n"
     ]
    },
    {
     "name": "stdout",
     "output_type": "stream",
     "text": [
      "store rawdatabag under set/tmp/2021q2.zip\\CP\\raw\n",
      "create joined databag\n"
     ]
    },
    {
     "name": "stderr",
     "output_type": "stream",
     "text": [
      "2024-10-06 12:35:33,348 [INFO] configmgt  reading configuration from C:\\Users\\hansj\\.secfsdstools.cfg\n",
      "2024-10-06 12:35:33,351 [INFO] parallelexecution      items to process: 1\n",
      "2024-10-06 12:35:33,351 [INFO] zipcollecting  processing C:\\Users\\hansj\\secfsdstools\\data\\parquet\\quarter\\2022q2.zip\n"
     ]
    },
    {
     "name": "stdout",
     "output_type": "stream",
     "text": [
      "store joineddatabag under set/tmp/2021q2.zip\\CP\\joined\n"
     ]
    },
    {
     "name": "stderr",
     "output_type": "stream",
     "text": [
      "2024-10-06 12:35:35,228 [INFO] parallelexecution      commited chunk: 0\n"
     ]
    },
    {
     "name": "stdout",
     "output_type": "stream",
     "text": [
      "store rawdatabag under set/tmp/2022q2.zip\\CP\\raw\n",
      "create joined databag\n"
     ]
    },
    {
     "name": "stderr",
     "output_type": "stream",
     "text": [
      "2024-10-06 12:35:36,712 [INFO] configmgt  reading configuration from C:\\Users\\hansj\\.secfsdstools.cfg\n",
      "2024-10-06 12:35:36,715 [INFO] parallelexecution      items to process: 1\n",
      "2024-10-06 12:35:36,716 [INFO] zipcollecting  processing C:\\Users\\hansj\\secfsdstools\\data\\parquet\\quarter\\2009q4.zip\n"
     ]
    },
    {
     "name": "stdout",
     "output_type": "stream",
     "text": [
      "store joineddatabag under set/tmp/2022q2.zip\\CP\\joined\n"
     ]
    },
    {
     "name": "stderr",
     "output_type": "stream",
     "text": [
      "2024-10-06 12:35:36,853 [INFO] parallelexecution      commited chunk: 0\n",
      "2024-10-06 12:35:36,993 [INFO] configmgt  reading configuration from C:\\Users\\hansj\\.secfsdstools.cfg\n",
      "2024-10-06 12:35:36,995 [INFO] parallelexecution      items to process: 1\n",
      "2024-10-06 12:35:36,996 [INFO] zipcollecting  processing C:\\Users\\hansj\\secfsdstools\\data\\parquet\\quarter\\2023q3.zip\n"
     ]
    },
    {
     "name": "stdout",
     "output_type": "stream",
     "text": [
      "store rawdatabag under set/tmp/2009q4.zip\\CP\\raw\n",
      "create joined databag\n",
      "store joineddatabag under set/tmp/2009q4.zip\\CP\\joined\n"
     ]
    },
    {
     "name": "stderr",
     "output_type": "stream",
     "text": [
      "2024-10-06 12:35:39,031 [INFO] parallelexecution      commited chunk: 0\n"
     ]
    },
    {
     "name": "stdout",
     "output_type": "stream",
     "text": [
      "store rawdatabag under set/tmp/2023q3.zip\\CP\\raw\n",
      "create joined databag\n"
     ]
    },
    {
     "name": "stderr",
     "output_type": "stream",
     "text": [
      "2024-10-06 12:35:40,412 [INFO] configmgt  reading configuration from C:\\Users\\hansj\\.secfsdstools.cfg\n",
      "2024-10-06 12:35:40,415 [INFO] parallelexecution      items to process: 1\n",
      "2024-10-06 12:35:40,416 [INFO] zipcollecting  processing C:\\Users\\hansj\\secfsdstools\\data\\parquet\\quarter\\2023q4.zip\n"
     ]
    },
    {
     "name": "stdout",
     "output_type": "stream",
     "text": [
      "store joineddatabag under set/tmp/2023q3.zip\\CP\\joined\n"
     ]
    },
    {
     "name": "stderr",
     "output_type": "stream",
     "text": [
      "2024-10-06 12:35:42,580 [INFO] parallelexecution      commited chunk: 0\n"
     ]
    },
    {
     "name": "stdout",
     "output_type": "stream",
     "text": [
      "store rawdatabag under set/tmp/2023q4.zip\\CP\\raw\n",
      "create joined databag\n"
     ]
    },
    {
     "name": "stderr",
     "output_type": "stream",
     "text": [
      "2024-10-06 12:35:44,025 [INFO] configmgt  reading configuration from C:\\Users\\hansj\\.secfsdstools.cfg\n",
      "2024-10-06 12:35:44,028 [INFO] parallelexecution      items to process: 1\n",
      "2024-10-06 12:35:44,030 [INFO] zipcollecting  processing C:\\Users\\hansj\\secfsdstools\\data\\parquet\\quarter\\2024q1.zip\n"
     ]
    },
    {
     "name": "stdout",
     "output_type": "stream",
     "text": [
      "store joineddatabag under set/tmp/2023q4.zip\\CP\\joined\n"
     ]
    },
    {
     "name": "stderr",
     "output_type": "stream",
     "text": [
      "2024-10-06 12:35:46,240 [INFO] parallelexecution      commited chunk: 0\n"
     ]
    },
    {
     "name": "stdout",
     "output_type": "stream",
     "text": [
      "store rawdatabag under set/tmp/2024q1.zip\\CP\\raw\n",
      "create joined databag\n"
     ]
    },
    {
     "name": "stderr",
     "output_type": "stream",
     "text": [
      "2024-10-06 12:35:47,815 [INFO] configmgt  reading configuration from C:\\Users\\hansj\\.secfsdstools.cfg\n",
      "2024-10-06 12:35:47,818 [INFO] parallelexecution      items to process: 1\n",
      "2024-10-06 12:35:47,819 [INFO] zipcollecting  processing C:\\Users\\hansj\\secfsdstools\\data\\parquet\\quarter\\2024q2.zip\n"
     ]
    },
    {
     "name": "stdout",
     "output_type": "stream",
     "text": [
      "store joineddatabag under set/tmp/2024q1.zip\\CP\\joined\n"
     ]
    },
    {
     "name": "stderr",
     "output_type": "stream",
     "text": [
      "2024-10-06 12:35:49,712 [INFO] parallelexecution      commited chunk: 0\n"
     ]
    },
    {
     "name": "stdout",
     "output_type": "stream",
     "text": [
      "store rawdatabag under set/tmp/2024q2.zip\\CP\\raw\n",
      "create joined databag\n",
      "store joineddatabag under set/tmp/2024q2.zip\\CP\\joined\n"
     ]
    }
   ],
   "source": [
    "build_tmp_set(financial_statement=\"CP\", file_names=all_zip_names, target_path=\"set/tmp/\")"
   ]
  },
  {
   "cell_type": "markdown",
   "id": "b78e0305-9380-439d-8b60-bc26d22f4cd8",
   "metadata": {},
   "source": [
    "We know have subfolders for BS, CF, IS, and CP for every quarterly zipfile with the corresponding datapoints."
   ]
  },
  {
   "cell_type": "markdown",
   "id": "12720d14-6be6-4eb9-9b11-6c6c79df7773",
   "metadata": {},
   "source": [
    "**Create the rawdatabags**"
   ]
  },
  {
   "cell_type": "code",
   "execution_count": 17,
   "id": "0b3a9574-8895-4fe3-a9f0-1e48ef717bb0",
   "metadata": {
    "tags": []
   },
   "outputs": [],
   "source": [
    "from glob import glob\n",
    "\n",
    "def create_rawdatabag(financial_statement: str, target_path: str):\n",
    "    raw_files = glob(f\"./set/tmp/*/{financial_statement}/raw/\", recursive = True)    \n",
    "    raw_databags = [RawDataBag.load(file) for file in raw_files]\n",
    "    raw_databag = RawDataBag.concat(raw_databags)\n",
    "    target_path_raw = os.path.join(target_path, financial_statement, 'raw')\n",
    "    print(f\"store rawdatabag under {target_path_raw}\")\n",
    "    os.makedirs(target_path_raw, exist_ok=True)\n",
    "    raw_databag.save(target_path_raw)      "
   ]
  },
  {
   "cell_type": "markdown",
   "id": "a0b6ce36-6b06-400b-9200-e45182d4b86c",
   "metadata": {},
   "source": [
    "Next, concatenate the raw datasets together. Again, as a reference it took about 6-7 minutes to create all four rawdatabags."
   ]
  },
  {
   "cell_type": "code",
   "execution_count": 18,
   "id": "097a4940-2f44-434c-be19-b48cae0d1016",
   "metadata": {
    "tags": []
   },
   "outputs": [
    {
     "name": "stdout",
     "output_type": "stream",
     "text": [
      "store rawdatabag under set/serial/BS\\raw\n"
     ]
    }
   ],
   "source": [
    "create_rawdatabag(financial_statement=\"BS\", target_path=\"set/serial/\")"
   ]
  },
  {
   "cell_type": "code",
   "execution_count": 19,
   "id": "d036f268-d664-4e18-96cb-5f50deb50257",
   "metadata": {
    "tags": []
   },
   "outputs": [
    {
     "name": "stdout",
     "output_type": "stream",
     "text": [
      "store rawdatabag under set/serial/CF\\raw\n"
     ]
    }
   ],
   "source": [
    "create_rawdatabag(financial_statement=\"CF\", target_path=\"set/serial/\")"
   ]
  },
  {
   "cell_type": "code",
   "execution_count": 20,
   "id": "27464709-7766-4ca3-a95f-3d8fd668d866",
   "metadata": {
    "tags": []
   },
   "outputs": [
    {
     "name": "stdout",
     "output_type": "stream",
     "text": [
      "store rawdatabag under set/serial/IS\\raw\n"
     ]
    }
   ],
   "source": [
    "create_rawdatabag(financial_statement=\"IS\", target_path=\"set/serial/\")"
   ]
  },
  {
   "cell_type": "code",
   "execution_count": 21,
   "id": "fc0a9310-3047-4c4b-b2ed-a629e9467e7d",
   "metadata": {
    "tags": []
   },
   "outputs": [
    {
     "name": "stdout",
     "output_type": "stream",
     "text": [
      "store rawdatabag under set/serial/CP\\raw\n"
     ]
    }
   ],
   "source": [
    "create_rawdatabag(financial_statement=\"CP\", target_path=\"set/serial/\")"
   ]
  },
  {
   "cell_type": "markdown",
   "id": "5d429003-84a6-4e66-89d3-974d7629a442",
   "metadata": {},
   "source": [
    "**Create the joined databags**"
   ]
  },
  {
   "cell_type": "code",
   "execution_count": 22,
   "id": "6c513474-b29e-4034-a6a4-afefe0a2070c",
   "metadata": {
    "tags": []
   },
   "outputs": [],
   "source": [
    "from glob import glob\n",
    "\n",
    "def create_joineddatabag(financial_statement: str, target_path: str):\n",
    "    joined_files = glob(f\"./set/tmp/*/{financial_statement}/joined/\", recursive = True)\n",
    "    joined_databags = [JoinedDataBag.load(file) for file in joined_files]\n",
    "    joined_databag = JoinedDataBag.concat(joined_databags)\n",
    "    target_path_joined = os.path.join(target_path, financial_statement, 'joined')\n",
    "    print(f\"store joineddatabag under {target_path_joined}\")\n",
    "    os.makedirs(target_path_joined, exist_ok=True)\n",
    "    joined_databag.save(target_path_joined)   "
   ]
  },
  {
   "cell_type": "markdown",
   "id": "ffa8b6e8-4b20-4462-a931-d64e09ac5d33",
   "metadata": {},
   "source": [
    "Finally, create the joined databags. To create all four datasets, it took about 90 seconds."
   ]
  },
  {
   "cell_type": "code",
   "execution_count": 23,
   "id": "6fb50096-a09b-4b26-b2cc-9a5374820d3b",
   "metadata": {
    "tags": []
   },
   "outputs": [
    {
     "name": "stdout",
     "output_type": "stream",
     "text": [
      "store joineddatabag under set/serial/BS\\joined\n"
     ]
    }
   ],
   "source": [
    "create_joineddatabag(financial_statement=\"BS\", target_path=\"set/serial/\")"
   ]
  },
  {
   "cell_type": "code",
   "execution_count": 24,
   "id": "c8f9c719-17f6-4a85-aadb-4608bf685c3f",
   "metadata": {
    "tags": []
   },
   "outputs": [
    {
     "name": "stdout",
     "output_type": "stream",
     "text": [
      "store joineddatabag under set/serial/CF\\joined\n"
     ]
    }
   ],
   "source": [
    "create_joineddatabag(financial_statement=\"CF\", target_path=\"set/serial/\")"
   ]
  },
  {
   "cell_type": "code",
   "execution_count": 25,
   "id": "117528e8-c577-47b0-b5b2-876b44a2af6d",
   "metadata": {
    "tags": []
   },
   "outputs": [
    {
     "name": "stdout",
     "output_type": "stream",
     "text": [
      "store joineddatabag under set/serial/IS\\joined\n"
     ]
    }
   ],
   "source": [
    "create_joineddatabag(financial_statement=\"IS\", target_path=\"set/serial/\")"
   ]
  },
  {
   "cell_type": "code",
   "execution_count": 26,
   "id": "5088cac7-ebee-4dff-adf8-af33311abe21",
   "metadata": {
    "tags": []
   },
   "outputs": [
    {
     "name": "stdout",
     "output_type": "stream",
     "text": [
      "store joineddatabag under set/serial/CP\\joined\n"
     ]
    }
   ],
   "source": [
    "create_joineddatabag(financial_statement=\"CP\", target_path=\"set/serial/\")"
   ]
  },
  {
   "cell_type": "markdown",
   "id": "8e3f5417-9726-4584-84a5-b284274681cb",
   "metadata": {
    "tags": []
   },
   "source": [
    "Now we can read back all four prepared joined datasets. This only takes a few seconds."
   ]
  },
  {
   "cell_type": "code",
   "execution_count": 27,
   "id": "8b7f8a8d-3354-4e6b-8280-53c145338bd2",
   "metadata": {
    "tags": []
   },
   "outputs": [
    {
     "name": "stdout",
     "output_type": "stream",
     "text": [
      "loaded BS databag:  (11014858, 16)\n",
      "loaded CF databag:  (9984175, 16)\n",
      "loaded IS databag:  (9968603, 16)\n",
      "loaded CP databag:  (41947, 16)\n"
     ]
    }
   ],
   "source": [
    "#load BS joined data\n",
    "joinedBS = JoinedDataBag.load(\"./set/serial/BS/joined\")\n",
    "print(\"loaded BS databag: \", joinedBS.pre_num_df.shape)\n",
    "joinedCF = JoinedDataBag.load(\"./set/serial/CF/joined\")\n",
    "print(\"loaded CF databag: \", joinedCF.pre_num_df.shape)\n",
    "joinedIS = JoinedDataBag.load(\"./set/serial/IS/joined\")\n",
    "print(\"loaded IS databag: \", joinedIS.pre_num_df.shape)\n",
    "joinedCP = JoinedDataBag.load(\"./set/serial/CP/joined\")\n",
    "print(\"loaded CP databag: \", joinedCP.pre_num_df.shape)"
   ]
  },
  {
   "cell_type": "code",
   "execution_count": null,
   "id": "1db4fa73-a911-4323-9771-924b89e03f3d",
   "metadata": {},
   "outputs": [],
   "source": []
  }
 ],
 "metadata": {
  "kernelspec": {
   "display_name": "Python 3 (ipykernel)",
   "language": "python",
   "name": "python3"
  },
  "language_info": {
   "codemirror_mode": {
    "name": "ipython",
    "version": 3
   },
   "file_extension": ".py",
   "mimetype": "text/x-python",
   "name": "python",
   "nbconvert_exporter": "python",
   "pygments_lexer": "ipython3",
   "version": "3.10.0"
  }
 },
 "nbformat": 4,
 "nbformat_minor": 5
}
