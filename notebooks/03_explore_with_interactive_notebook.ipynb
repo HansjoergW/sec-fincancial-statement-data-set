{
 "cells": [
  {
   "cell_type": "markdown",
   "id": "9cafe8ec-7214-4e4d-9bec-39ee5183bbac",
   "metadata": {},
   "source": [
    "Note: for using the widgets inside jupyterlab, you need an appropriate environment with nodejs and the widegetextensions install. \n",
    "In order to develop the notebook, the following environment was used:\n",
    "\n",
    "- a new \"empty\" python 3.10 environment, for instance created with conda \n",
    "  - conda create -n secanalyzing python==3.10\n",
    "  - conda activate secanalyzing\n",
    "- pip install jupyterlab\n",
    "- jupyter labextension install @jupyter-widgets/jupyterlab-manager\n",
    "- pip install secfsdstools\n",
    "- pip install ipywidgets"
   ]
  },
  {
   "cell_type": "code",
   "execution_count": 1,
   "id": "1ae9d9be-6d78-48a3-bbda-a3383e6064dc",
   "metadata": {
    "tags": []
   },
   "outputs": [],
   "source": [
    "# Basic import to support interactive widgets in notebooks\n",
    "import ipywidgets as widgets\n",
    "from IPython.display import display, Markdown\n",
    "from ipywidgets import interact, interact_manual\n",
    "\n",
    "import pandas as pd\n",
    "pd.set_option('display.max_rows', 500) # ensure that all rows are shown"
   ]
  },
  {
   "cell_type": "code",
   "execution_count": 9,
   "id": "c20dcfbf-13f7-4519-9649-dbfdf96b32d0",
   "metadata": {
    "tags": []
   },
   "outputs": [],
   "source": [
    "# imports from the secfsdstools package\n",
    "from secfsdstools.c_index.searching import IndexSearch\n",
    "from secfsdstools.c_index.companyindexreading import CompanyIndexReader\n",
    "from secfsdstools.e_collector.reportcollecting import SingleReportCollector\n",
    "from secfsdstools.e_filter.rawfiltering import ReportPeriodRawFilter, StmtRawFilter\n",
    "from secfsdstools.e_presenter.presenting import StandardStatementPresenter\n",
    "from secfsdstools.c_index.indexing import BaseReportIndexer"
   ]
  },
  {
   "cell_type": "code",
   "execution_count": 3,
   "id": "7e65bb4e-ae08-4264-a26c-03e789c6ddbe",
   "metadata": {
    "tags": []
   },
   "outputs": [
    {
     "name": "stderr",
     "output_type": "stream",
     "text": [
      "2023-10-04 10:04:18,176 [INFO] configmgt  reading configuration from C:\\Users\\hansj\\.secfsdstools.cfg\n",
      "2023-10-04 10:04:18,322 [INFO] updateprocess  Check if new report zip files are available...\n",
      "2023-10-04 10:04:18,338 [INFO] updateprocess  check if there are new files to download from sec.gov ...\n",
      "2023-10-04 10:04:18,934 [INFO] updateprocess  start to transform to parquet format ...\n",
      "2023-10-04 10:04:18,937 [INFO] updateprocess  start to index parquet files ...\n"
     ]
    },
    {
     "name": "stdout",
     "output_type": "stream",
     "text": [
      "No rapid-api-key is set: \n",
      "If you are interested in daily updates, please have a look at https://rapidapi.com/hansjoerg.wingeier/api/daily-sec-financial-statement-dataset\n"
     ]
    }
   ],
   "source": [
    "# initialize the search class\n",
    "search = IndexSearch.get_index_search()\n",
    "\n",
    "# create a list with all known forms\n",
    "forms_list = sorted(search.dbaccessor.read_all_indexreports_df().form.unique().tolist())\n",
    "stmt_list = ['BS', 'CF', 'CI', 'CP', 'EQ', 'IS', 'SI', 'UN']"
   ]
  },
  {
   "cell_type": "markdown",
   "id": "9621bee7-5312-4d4e-8448-1616d182f2fc",
   "metadata": {},
   "source": [
    "## Finding the CIK for a company\n",
    "The first interactive cell lets you search for a companies cik number by name.\n",
    "For instance, just start to type apple."
   ]
  },
  {
   "cell_type": "code",
   "execution_count": 4,
   "id": "7af46857-312c-4ce1-b3d1-574587707a58",
   "metadata": {
    "tags": []
   },
   "outputs": [
    {
     "data": {
      "application/vnd.jupyter.widget-view+json": {
       "model_id": "d368a1de66a34c9a941dbfa825b2faad",
       "version_major": 2,
       "version_minor": 0
      },
      "text/plain": [
       "interactive(children=(Text(value='', description='search_string'), Output()), _dom_classes=('widget-interact',…"
      ]
     },
     "metadata": {},
     "output_type": "display_data"
    }
   ],
   "source": [
    "# a simple way to find the cik for a company.\n",
    "# e.g., start typing apple and watch the list get filtered\n",
    "@interact(search_string=widgets.Text(value=''))\n",
    "def search_cik(search_string):\n",
    "    print(search_string)\n",
    "    result_df = search.find_company_by_name(search_string)\n",
    "    display(result_df)\n",
    "    if len(result_df) > 0:\n",
    "        print(result_df.cik.tolist()[0])"
   ]
  },
  {
   "cell_type": "markdown",
   "id": "00f2e324-f67d-438d-9816-3742f0011abd",
   "metadata": {
    "tags": []
   },
   "source": [
    "## Finding reports for a cik number\n",
    "The next cell displays a list of availale reports for a company.<br>\n",
    "First, enter the cik into the cik field. E.g., use apple's cik '320193'.<br>\n",
    "Then chose the report types you want to filter for. The 10-K and 10-Q is preselected (annual and quarterly reports).<br>\n",
    "Use the rows dropdown to configure how many rows shall be displayed."
   ]
  },
  {
   "cell_type": "code",
   "execution_count": 5,
   "id": "07e40670-8598-47a0-a41a-b195b5b34150",
   "metadata": {
    "tags": []
   },
   "outputs": [
    {
     "data": {
      "application/vnd.jupyter.widget-view+json": {
       "model_id": "70930ef8949643b69842a625c2995104",
       "version_major": 2,
       "version_minor": 0
      },
      "text/plain": [
       "interactive(children=(Text(value='0', description='cik'), SelectMultiple(description='forms', index=(4, 8), op…"
      ]
     },
     "metadata": {},
     "output_type": "display_data"
    }
   ],
   "source": [
    "# using a cik number, you can filter for all filed reports. Choose the type of report you want to see by selecting the entries in the forms widget.\n",
    "# e.g., use apples cik '320193' to see an overview of the reports that have were filed by apple\n",
    "@interact\n",
    "def reports(cik=widgets.Text(value='0'), forms=widgets.SelectMultiple(options=forms_list, rows=6, value=['10-K', '10-Q']), rows=[10, 25, 50, 100]):\n",
    "    reader = CompanyIndexReader.get_company_index_reader(cik=int(cik))\n",
    "    reports = reader.get_all_company_reports_df(forms=list(forms))\n",
    "    display(reports.head(rows))"
   ]
  },
  {
   "cell_type": "markdown",
   "id": "e38e3982-dbc6-4fad-8ea8-27d4823a44db",
   "metadata": {},
   "source": [
    "## Showing the details of a report\n",
    "Now we are ready to show the details of a report. <br>\n",
    "<br>\n",
    "Therefore, enter the report id in the adsh field. E.g. use '0000320193-22-000108' for the annual report of 2022 from apple.<br>\n",
    "Use the stmts list to configure which which statements data should be shown. Per default, BS (balance sheet), IS (income statement), and CF (cash flow are activated). <br>\n",
    "Select the number of displayed rows with the rows drop-down box.<br>\n",
    "Sometimes, data is shown as positive even if the value is actually negative (or vice-versa). This is indicating by the negating flag. This is often the case in CF statements. There is a checkbox 'invert_negated' which switch the sign of number, if the have a value of one in the negating column. To see the effect, select only the CF stmt from the '0000320193-22-000108' report and swith the 'invert_negated' checkbox.<br><br>\n",
    "**Note how fast the data is reloaded if you change the settings or display another report**  This is due to the fact, that we use the parquet format and a simple index.<br>\n",
    "**Moreover, the data is sorted in the correct order as displayed in the original report.** Just click on the url in the 'Basic Information' to open the filed report directly at sec.gov and compare it."
   ]
  },
  {
   "cell_type": "code",
   "execution_count": 11,
   "id": "ae10ee12-4208-4b29-8869-16c34e7095ef",
   "metadata": {
    "tags": []
   },
   "outputs": [
    {
     "data": {
      "application/vnd.jupyter.widget-view+json": {
       "model_id": "ccc7e052a0504a1fa748222172f17095",
       "version_major": 2,
       "version_minor": 0
      },
      "text/plain": [
       "interactive(children=(Text(value='0', description='adsh'), SelectMultiple(description='stmts', index=(0, 5, 1)…"
      ]
     },
     "metadata": {},
     "output_type": "display_data"
    }
   ],
   "source": [
    "@interact\n",
    "def reports(adsh=widgets.Text(value='0'), stmts=widgets.SelectMultiple(options=stmt_list, rows=6, value=['BS', 'IS', 'CF']), rows=[50, 100, 200], invert_negated=widgets.Checkbox()):\n",
    "    if adsh=='0':\n",
    "        display(invert_negated)\n",
    "        display('Nothing selected - Note: loading may take a few seconds')\n",
    "        return\n",
    "    display('loading...')\n",
    "    reader = SingleReportCollector.get_report_by_adsh(adsh=adsh, stmt_filter=stmts)\n",
    "    \n",
    "    raw_data = reader.collect()\n",
    "    filterd_data = raw_data.filter(ReportPeriodRawFilter())\n",
    "    \n",
    "    raw_stmts_data = filterd_data.filter(StmtRawFilter(stmts=stmt_list))\n",
    "\n",
    "    report_data = filterd_data.join().present(StandardStatementPresenter(invert_negating=invert_negated))\n",
    "        \n",
    "    # get some key infos of the report\n",
    "    submission_data = {k:v for k,v in raw_data.sub_df.loc[0].to_dict().items() if k in ['cik', 'adsh', 'name', 'cityba', 'form', 'period', 'filed']}\n",
    "\n",
    "    # create and display the url on which the report is published on sec.gov, so that it can directly be opened    \n",
    "    url = BaseReportIndexer.URL_PREFIX + str(submission_data['cik']) + '/' + submission_data['adsh'].replace('-','') + '/' + submission_data['adsh'] + '-index.htm'\n",
    "    display(Markdown(\"## Basic Information\"))\n",
    "    display(url)\n",
    "\n",
    "    # display the key submission data of the report\n",
    "    display(submission_data)    \n",
    "    \n",
    "    display(Markdown(\"<br>\"))\n",
    "    \n",
    "    # display the data of the report\n",
    "    display(Markdown(\"## Details\"))\n",
    "    display(report_data.head(rows))\n",
    "    \n",
    "    display(Markdown(\"<br>\"))\n",
    "    display(Markdown(\"<br>\"))\n",
    "    display(Markdown(\"## Raw\"))\n",
    "    display(raw_stmts_data.pre_df.head(rows))\n",
    "    display(raw_stmts_data.num_df.head(rows))\n",
    "    "
   ]
  },
  {
   "cell_type": "code",
   "execution_count": null,
   "id": "5197349b-83fc-4506-85aa-1a7c6e28669e",
   "metadata": {},
   "outputs": [],
   "source": []
  }
 ],
 "metadata": {
  "kernelspec": {
   "display_name": "Python 3 (ipykernel)",
   "language": "python",
   "name": "python3"
  },
  "language_info": {
   "codemirror_mode": {
    "name": "ipython",
    "version": 3
   },
   "file_extension": ".py",
   "mimetype": "text/x-python",
   "name": "python",
   "nbconvert_exporter": "python",
   "pygments_lexer": "ipython3",
   "version": "3.10.0"
  }
 },
 "nbformat": 4,
 "nbformat_minor": 5
}
