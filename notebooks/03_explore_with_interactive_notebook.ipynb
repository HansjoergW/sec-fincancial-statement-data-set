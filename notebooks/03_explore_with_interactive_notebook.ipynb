{
 "cells": [
  {
   "cell_type": "markdown",
   "id": "9cafe8ec-7214-4e4d-9bec-39ee5183bbac",
   "metadata": {},
   "source": [
    "Note: for using the widgets inside jupyterlab, you need an appropriate environment with nodejs and the widegetextensions install. \n",
    "In order to develop the notebook, the following environment was used:\n",
    "\n",
    "- conda create -n secanalyzing python==3.10\n",
    "- conda activate secanalyzing\n",
    "- pip install jupyterlab\n",
    "- jupyter labextension install @jupyter-widgets/jupyterlab-manager\n",
    "- pip install secfsdstools\n",
    "- pip install ipywidgets"
   ]
  },
  {
   "cell_type": "code",
   "execution_count": 1,
   "id": "1ae9d9be-6d78-48a3-bbda-a3383e6064dc",
   "metadata": {
    "tags": []
   },
   "outputs": [],
   "source": [
    "# Basic import to support interactive widgets in notebooks\n",
    "import ipywidgets as widgets\n",
    "from ipywidgets import interact, interact_manual\n",
    "\n",
    "import pandas as pd\n",
    "pd.set_option('display.max_rows', 500) # ensure that all rows are shown"
   ]
  },
  {
   "cell_type": "code",
   "execution_count": 2,
   "id": "c20dcfbf-13f7-4519-9649-dbfdf96b32d0",
   "metadata": {
    "tags": []
   },
   "outputs": [],
   "source": [
    "# imports from the secfsdstools package\n",
    "from secfsdstools.e_read.searching import IndexSearch\n",
    "from secfsdstools.e_read.companyreading import CompanyReader\n",
    "from secfsdstools.e_read.reportreading import ReportReader\n",
    "from secfsdstools.e_read.zipreportreading import ZipReportReader\n",
    "from secfsdstools.d_index.indexing import ReportZipIndexer"
   ]
  },
  {
   "cell_type": "code",
   "execution_count": 10,
   "id": "7e65bb4e-ae08-4264-a26c-03e789c6ddbe",
   "metadata": {
    "tags": []
   },
   "outputs": [],
   "source": [
    "# initialize the search class\n",
    "search = IndexSearch.get_index_search()\n",
    "\n",
    "# create a list with all known forms\n",
    "forms_list = sorted(search.dbaccessor.read_all_indexreports_df().form.unique().tolist())\n",
    "stmt_list = ['BS', 'CF', 'CI', 'CP', 'EQ', 'IS', 'SI', 'UN']"
   ]
  },
  {
   "cell_type": "code",
   "execution_count": 4,
   "id": "7af46857-312c-4ce1-b3d1-574587707a58",
   "metadata": {
    "tags": []
   },
   "outputs": [
    {
     "data": {
      "application/vnd.jupyter.widget-view+json": {
       "model_id": "01e75db3ba3f487fbc6b730448e13251",
       "version_major": 2,
       "version_minor": 0
      },
      "text/plain": [
       "interactive(children=(Text(value='', description='search_string'), Output()), _dom_classes=('widget-interact',…"
      ]
     },
     "metadata": {},
     "output_type": "display_data"
    }
   ],
   "source": [
    "# a simple way to find the cik for a company.\n",
    "# e.g., start typing apple and watch the list get filtered\n",
    "@interact(search_string=widgets.Text(value=''))\n",
    "def search_cik(search_string):\n",
    "    print(search_string)\n",
    "    result_df = search.find_company_by_name(search_string)\n",
    "    display(result_df)\n",
    "    if len(result_df) > 0:\n",
    "        print(result_df.cik.tolist()[0])"
   ]
  },
  {
   "cell_type": "code",
   "execution_count": 5,
   "id": "07e40670-8598-47a0-a41a-b195b5b34150",
   "metadata": {},
   "outputs": [
    {
     "data": {
      "application/vnd.jupyter.widget-view+json": {
       "model_id": "75238f13685b4dc09656ace22ea8a1a6",
       "version_major": 2,
       "version_minor": 0
      },
      "text/plain": [
       "interactive(children=(Text(value='0', description='cik'), SelectMultiple(description='forms', index=(4, 8), op…"
      ]
     },
     "metadata": {},
     "output_type": "display_data"
    }
   ],
   "source": [
    "# using a cik number, you can filter for all filed reports. Choose the type of report you want to see by selecting the entries in the forms widget.\n",
    "# e.g., use apples cik '320193' to see an overview of the reports that have were filed by apple\n",
    "@interact\n",
    "def reports(cik=widgets.Text(value='0'), forms=widgets.SelectMultiple(options=forms_list, rows=6, value=['10-K', '10-Q']), rows=[10, 25, 50, 100]):\n",
    "    reader = CompanyReader.get_company_reader(cik=int(cik))\n",
    "    reports = reader.get_all_company_reports_df(forms=list(forms))\n",
    "    display(reports.head(rows))"
   ]
  },
  {
   "cell_type": "code",
   "execution_count": 24,
   "id": "ae10ee12-4208-4b29-8869-16c34e7095ef",
   "metadata": {},
   "outputs": [
    {
     "data": {
      "application/vnd.jupyter.widget-view+json": {
       "model_id": "b138bf12332c4c02827b211c6e6f47a3",
       "version_major": 2,
       "version_minor": 0
      },
      "text/plain": [
       "interactive(children=(Text(value='0', description='adsh'), SelectMultiple(description='stmts', index=(0, 5, 1)…"
      ]
     },
     "metadata": {},
     "output_type": "display_data"
    }
   ],
   "source": [
    "@interact\n",
    "def reports(adsh=widgets.Text(value='0'), stmts=widgets.SelectMultiple(options=stmt_list, rows=6, value=['BS', 'IS', 'CF']), rows=[10, 25, 50, 100, 200], invert_negated=widgets.Checkbox()):\n",
    "    if adsh=='0':\n",
    "        display(invert_negated)\n",
    "        display('Nothing selected - Note: loading may take a few seconds')\n",
    "        return\n",
    "    display('loading...')\n",
    "    reader = ReportReader.get_report_by_adsh(adsh=adsh)\n",
    "\n",
    "    # get some key infos of the report\n",
    "    submission_data = {k:v for k,v in reader.submission_data().items() if k in ['cik', 'adsh', 'name', 'cityba', 'form', 'period', 'filed']}\n",
    "\n",
    "    report_data = reader.merge_pre_and_num()\n",
    "    \n",
    "    # we only look at data for the submitted period, meaning we don't show data from the previous period\n",
    "    report_data = report_data[report_data.ddate==submission_data['period']]\n",
    "    \n",
    "    # sort the data in a meaningful way\n",
    "    report_data = report_data.sort_values(['adsh', 'coreg', 'ddate', 'stmt', 'report', 'line', ])\n",
    "    \n",
    "    # filter for the selected statements\n",
    "    report_data = report_data[report_data.stmt.isin(stmts)]\n",
    "    \n",
    "    if invert_negated:\n",
    "        report_data.loc[report_data.negating==1, 'value'] = -report_data.value\n",
    "    \n",
    "    # use a meaningful column order\n",
    "    report_data = report_data[['adsh', 'coreg', 'ddate', 'stmt', 'report', 'line', 'tag', 'version', 'uom', 'value', 'negating', 'plabel', 'qtrs', 'footnote', 'inpth', 'rfile']]\n",
    "    \n",
    "    # create and display the url on which the report is published on sec.gov, so that it can directly be opened    \n",
    "    url = ReportZipIndexer.URL_PREFIX + str(submission_data['cik']) + '/' + submission_data['adsh'].replace('-','') + '/' + submission_data['adsh'] + '-index.htm'\n",
    "    display(url)\n",
    "    \n",
    "    # display the key submission data of the report\n",
    "    display(submission_data)\n",
    "    \n",
    "    # display the data of the report\n",
    "    display(report_data.head(rows))"
   ]
  },
  {
   "cell_type": "code",
   "execution_count": null,
   "id": "24aad921-6566-42ce-8933-6fa3b32efa5e",
   "metadata": {},
   "outputs": [],
   "source": []
  }
 ],
 "metadata": {
  "kernelspec": {
   "display_name": "Python 3 (ipykernel)",
   "language": "python",
   "name": "python3"
  },
  "language_info": {
   "codemirror_mode": {
    "name": "ipython",
    "version": 3
   },
   "file_extension": ".py",
   "mimetype": "text/x-python",
   "name": "python",
   "nbconvert_exporter": "python",
   "pygments_lexer": "ipython3",
   "version": "3.10.0"
  }
 },
 "nbformat": 4,
 "nbformat_minor": 5
}
