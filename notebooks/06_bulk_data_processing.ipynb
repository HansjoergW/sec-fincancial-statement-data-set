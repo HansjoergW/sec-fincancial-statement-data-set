{
 "cells": [
  {
   "cell_type": "code",
   "execution_count": 1,
   "id": "5974588b-0809-468d-b6e3-e2df73afaacd",
   "metadata": {
    "tags": []
   },
   "outputs": [],
   "source": [
    "import pandas as pd\n",
    "# ensure that all columns are shown and that colum content is not cut\n",
    "pd.set_option('display.max_columns', None)\n",
    "pd.set_option('display.max_colwidth', None)\n",
    "pd.set_option('display.width',1000)\n",
    "pd.set_option('display.max_rows', 500) # ensure that all rows are shown"
   ]
  },
  {
   "cell_type": "markdown",
   "id": "333f3746-2750-4526-a4d9-b97ca6a1e167",
   "metadata": {},
   "source": [
    "# Bulk Data Processing\n",
    "The main advantage of this library is that the all data is downloaded down to your computer and therefore makes to analyze the whole datasets as a whole. For instance if you want to implement your own screener.\n",
    "\n",
    "Just on the file system, the size of all data files are more than 2 GB. Since the parquet format is also storage optimized, loading all the data into memory would need significantly more memory than a standard computer/laptop usually provides.\n",
    "\n",
    "Hence it is important to filter the data during the loading process, so that you only load the data into memory that is really needed.\n",
    "\n",
    "In this notebook, we will create different datasets for all the balance sheet datapoints, the cashflow datapoints, and the income statement datapoints.\n",
    "These datasets will be stored in their own directories, so that they can be easily loaded afterwards. Moreover, we will store the raw version (where the num_df and the pre_df are not joined) and the joined version, where num_df and pre_df are joined. Depending on what you want to do/analyze, you can use either one.\n",
    "\n",
    "This notebook will show two approaches. The first one is loading all the data in parallel, which you can do if you have enough resources in your computer. The second is doing it sequentially, which is slower, but needs less memory. In the end, you will create this dataset once and extend it when you quarterly zip files arrive, or you will recreate them every quarter. So in the end it doesn't really matter if the process takes 15 minutes or an hour.\n",
    "\n",
    "We will also apply different filters:\n",
    "\n",
    "* only filter 10-K and 10-Q reports during loading\n",
    "* `ReportPeriodRawFilter`: since we are only interested in datapoints that belong to the period of the report\n",
    "* `MainCoregRawFilter`: since we don't want to see datapoints of a subsidiary\n",
    "* `OfficialTagsOnlyRawFilter`: since we want to be able to compare the content and therefore don't want to read tags that or not in the standard sec xbrl definition\n",
    "* `USDOnlyRawFilter`: since we are not interested in money datapoints that are not in USD"
   ]
  },
  {
   "cell_type": "markdown",
   "id": "c1904d65-28df-47e1-9385-9b60098afc6e",
   "metadata": {},
   "source": [
    "## Basics\n",
    "First we will defines some basic stuff that is used by both approaches.\n",
    "We will start with the imports"
   ]
  },
  {
   "cell_type": "code",
   "execution_count": 2,
   "id": "d0d01c1f-8479-4360-aab6-164068424126",
   "metadata": {
    "tags": []
   },
   "outputs": [],
   "source": [
    "import os\n",
    "from secfsdstools.d_container.databagmodel import RawDataBag, JoinedDataBag\n",
    "from secfsdstools.e_collector.zipcollecting import ZipCollector"
   ]
  },
  {
   "cell_type": "markdown",
   "id": "f6e87306-9242-4523-9b81-0293069ddebe",
   "metadata": {},
   "source": [
    "The following list defines which statements we want to load."
   ]
  },
  {
   "cell_type": "code",
   "execution_count": 3,
   "id": "594116ef-3645-4dcc-9942-201bfe343e07",
   "metadata": {
    "tags": []
   },
   "outputs": [],
   "source": [
    "statements_to_load = [\"BS\", \"CF\", \"IS\"]"
   ]
  },
  {
   "cell_type": "markdown",
   "id": "133b535c-9ad4-4b00-9d39-bdf3dad43663",
   "metadata": {},
   "source": [
    "Next, we define a filter function, that defines the whole chain. As mentioned in the 04_collector_deep_dive.ipynt notebook, we have to define the imports inside the function itself, if we want to use it in jupyter together with parallization."
   ]
  },
  {
   "cell_type": "code",
   "execution_count": 4,
   "id": "6d908348-8e48-461f-a26c-ec0d0f2bbfd0",
   "metadata": {
    "tags": []
   },
   "outputs": [],
   "source": [
    "def postloadfilter(databag: RawDataBag) -> RawDataBag:\n",
    "    from secfsdstools.e_filter.rawfiltering import ReportPeriodRawFilter, MainCoregRawFilter, OfficialTagsOnlyRawFilter, USDOnlyRawFilter\n",
    "\n",
    "    return databag[ReportPeriodRawFilter()][MainCoregRawFilter()][OfficialTagsOnlyRawFilter()][USDOnlyRawFilter()]"
   ]
  },
  {
   "cell_type": "markdown",
   "id": "a0ff096f-b7e8-4e4a-a661-2a95e4b922f5",
   "metadata": {},
   "source": [
    "Next is a simple function that takes a raw databag and creates the joined databag. Both, the rawdatabag and the joined databag are then stored in a specific folder.\n"
   ]
  },
  {
   "cell_type": "code",
   "execution_count": 5,
   "id": "9395fe8a-06c3-4ca4-9953-fc22fa58b9f4",
   "metadata": {},
   "outputs": [],
   "source": [
    "def save_databag(databag: RawDataBag, financial_statement: str, base_path: str) -> JoinedDataBag:\n",
    "    target_path_raw = os.path.join(base_path, financial_statement, 'raw')\n",
    "    print(f\"store rawdatabag under {target_path_raw}\")\n",
    "    os.makedirs(target_path_raw, exist_ok=True)\n",
    "    databag.save(target_path_raw)\n",
    "    \n",
    "    target_path_joined = os.path.join(base_path, financial_statement, 'joined')\n",
    "    os.makedirs(target_path_joined, exist_ok=True)\n",
    "    print(\"create joined databag\")\n",
    "    joined_databag = databag.join()\n",
    "    print(f\"store joineddatabag under {target_path_joined}\")\n",
    "    joined_databag.save(target_path_joined)\n",
    "    return joined_databag"
   ]
  },
  {
   "cell_type": "markdown",
   "id": "c564ba5e-3334-47a9-94c7-53ba5df7a9c5",
   "metadata": {},
   "source": [
    "## Parallel Data Loading\n",
    "As stated above, we want to load all available 10-K and 10-Q reports. Therefore, we can use the `ZipCollector`which provides an option to load data from all available zip files. \n",
    "\n",
    "Moreover, the implementation of the ziploader does using all your cores in order to load data from your disk into memory. So you don't have to implement the parallization yourself. There are 50+ zip files that have to be loaded, so if you have 4 cores, you will load 4 at one time.\n",
    "\n",
    "Also, the `ZipCollector` provides parameters for filtering the report type (10-K and 10-Q) amd the financial statement type (Balance Sheet, Casch Flow, or Income Statement). This filters are directly applied during loading, since the data is stored in Parquet format. This will already reduce that amount of data that is being loaded into memory significantly.\n",
    "\n",
    "Moreover, it also provides the post_load_filter which we can use to apply the other filters, defined in the postloadfilter function."
   ]
  },
  {
   "cell_type": "code",
   "execution_count": 6,
   "id": "d18ac72e-0020-4ea5-9cd8-373e2f143fde",
   "metadata": {},
   "outputs": [],
   "source": [
    "def load_all_financial_statements_parallel(financial_statement: str) -> RawDataBag:\n",
    "    \"\"\" \n",
    "    financial_statement: either \"BS\", \"CF\", or \"IS\"\n",
    "    \"\"\"\n",
    "\n",
    "    collector: ZipCollector = ZipCollector.get_all_zips(forms_filter=[\"10-K\", \"10-Q\"],\n",
    "                                                        stmt_filter=[financial_statement],\n",
    "                                                        post_load_filter=postloadfilter)\n",
    "    return collector.collect()"
   ]
  },
  {
   "cell_type": "markdown",
   "id": "db367d8c-bda3-4ab1-a555-0e31c6f6bd52",
   "metadata": {},
   "source": [
    "Wrapped it together in simple loop where we iterate over the statements that we want to load. Depending on your logging configuration, you can see in the output of the terminal where you started jupyter which files are being processed.\n",
    "\n",
    "This process will take several minutes. On my laptop the execution time was approximately 16 minutes (32GB Ram / 4/8 Cores)."
   ]
  },
  {
   "cell_type": "code",
   "execution_count": 12,
   "id": "b158ec71-ce9d-49ea-9a23-6f111fcc8811",
   "metadata": {},
   "outputs": [
    {
     "name": "stderr",
     "output_type": "stream",
     "text": [
      "2023-12-05 06:30:59,104 [INFO] configmgt  reading configuration from C:\\Users\\hansj\\.secfsdstools.cfg\n",
      "2023-12-05 06:30:59,170 [INFO] updateprocess  Check if new report zip files are available...\n",
      "2023-12-05 06:30:59,249 [INFO] updateprocess  check if there are new files to download from sec.gov ...\n",
      "2023-12-05 06:31:00,295 [INFO] updateprocess  start to transform to parquet format ...\n",
      "2023-12-05 06:31:00,311 [INFO] updateprocess  start to index parquet files ...\n",
      "2023-12-05 06:31:00,375 [INFO] parallelexecution      items to process: 58\n"
     ]
    },
    {
     "name": "stdout",
     "output_type": "stream",
     "text": [
      "No rapid-api-key is set: \n",
      "If you are interested in daily updates, please have a look at https://rapidapi.com/hansjoerg.wingeier/api/daily-sec-financial-statement-dataset\n"
     ]
    },
    {
     "name": "stderr",
     "output_type": "stream",
     "text": [
      "2023-12-05 06:35:21,228 [INFO] parallelexecution      commited chunk: 0\n"
     ]
    },
    {
     "name": "stdout",
     "output_type": "stream",
     "text": [
      "store rawdatabag under ./set/parallel/BS\\raw\n",
      "create joined databag\n",
      "store joineddatabag under ./set/parallel/BS\\joined\n"
     ]
    },
    {
     "name": "stderr",
     "output_type": "stream",
     "text": [
      "2023-12-05 06:36:54,241 [INFO] configmgt  reading configuration from C:\\Users\\hansj\\.secfsdstools.cfg\n",
      "2023-12-05 06:36:54,288 [INFO] parallelexecution      items to process: 58\n",
      "2023-12-05 06:41:06,636 [INFO] parallelexecution      commited chunk: 0\n"
     ]
    },
    {
     "name": "stdout",
     "output_type": "stream",
     "text": [
      "store rawdatabag under ./set/parallel/CF\\raw\n",
      "create joined databag\n",
      "store joineddatabag under ./set/parallel/CF\\joined\n"
     ]
    },
    {
     "name": "stderr",
     "output_type": "stream",
     "text": [
      "2023-12-05 06:42:38,230 [INFO] configmgt  reading configuration from C:\\Users\\hansj\\.secfsdstools.cfg\n",
      "2023-12-05 06:42:38,269 [INFO] parallelexecution      items to process: 58\n",
      "2023-12-05 06:47:02,662 [INFO] parallelexecution      commited chunk: 0\n"
     ]
    },
    {
     "name": "stdout",
     "output_type": "stream",
     "text": [
      "store rawdatabag under ./set/parallel/IS\\raw\n",
      "create joined databag\n",
      "store joineddatabag under ./set/parallel/IS\\joined\n"
     ]
    }
   ],
   "source": [
    "for statement_to_load in statements_to_load:\n",
    "    rawdatabag = load_all_financial_statements_parallel(financial_statement=statement_to_load)\n",
    "    save_databag(databag=rawdatabag, financial_statement=statement_to_load, base_path=\"./set/parallel/\")"
   ]
  },
  {
   "cell_type": "markdown",
   "id": "0c1b0d7d-683d-40fd-937c-7242c5eb84ce",
   "metadata": {},
   "source": [
    "After processing, you have the following structure and sizes (with data up to 2023 Q3):\n",
    "<pre>\n",
    "- set/parallel\n",
    "  - BS\n",
    "    - raw     : 715 MB\n",
    "    - joined  : 266 MB\n",
    "  - CF\n",
    "    - raw     : 700 MB\n",
    "    - joined  : 246 MB\n",
    "  - IS\n",
    "    - raw     : 636 MB\n",
    "    - joined  : 217 MB\n",
    "</pre>\n",
    "\n",
    "Especially the joined databags have a size that can be easily loaded. Moreover, loading them just takes a few seconds. "
   ]
  },
  {
   "cell_type": "code",
   "execution_count": 10,
   "id": "686cf90c-fe3e-4f28-a987-42d5961695fa",
   "metadata": {},
   "outputs": [
    {
     "name": "stdout",
     "output_type": "stream",
     "text": [
      "loaded BS databag:  (10430891, 16)\n",
      "loaded CF databag:  (9468009, 16)\n",
      "loaded IS databag:  (9512425, 16)\n"
     ]
    }
   ],
   "source": [
    "#load BS joined data\n",
    "joinedBS = JoinedDataBag.load(\"./set/parallel/BS/joined\")\n",
    "print(\"loaded BS databag: \", joinedBS.pre_num_df.shape)\n",
    "joinedCF = JoinedDataBag.load(\"./set/parallel/CF/joined\")\n",
    "print(\"loaded CF databag: \", joinedCF.pre_num_df.shape)\n",
    "joinedIS = JoinedDataBag.load(\"./set/parallel/IS/joined\")\n",
    "print(\"loaded IS databag: \", joinedIS.pre_num_df.shape)"
   ]
  },
  {
   "cell_type": "markdown",
   "id": "1c15bf60-8266-405b-bf17-f1470c48933b",
   "metadata": {},
   "source": [
    "## Serial Data Loading\n",
    "As mentioned in above, parallel loading requires some minimal ressources on your laptop/computer. However, using a serial process, you still can create the databags for all balance sheet, cash flow, and income statments. Of course, we will have to use a more code and we will also save intermediate results on disk."
   ]
  },
  {
   "cell_type": "markdown",
   "id": "b26d7a4d-1e01-4349-b400-fcadfea40fb5",
   "metadata": {},
   "source": [
    "The first thing which we need, is a list of all available zip-files. We will just copy the logic that is present in the `ZipCollector.get_all_zips()` method to do this."
   ]
  },
  {
   "cell_type": "code",
   "execution_count": 11,
   "id": "96fdc620-20d7-4d3b-9294-9b1b696241e6",
   "metadata": {},
   "outputs": [],
   "source": [
    "from typing import List\n",
    "from secfsdstools.a_config.configmgt import ConfigurationManager\n",
    "from secfsdstools.c_index.indexdataaccess import ParquetDBIndexingAccessor\n",
    "\n",
    "def read_all_zip_names() -> List[str]:\n",
    "    configuration = ConfigurationManager.read_config_file()\n",
    "    dbaccessor = ParquetDBIndexingAccessor(db_dir=configuration.db_dir)\n",
    "\n",
    "    # exclude 2009q1.zip, since this is empty and causes and error when it is read with a filter\n",
    "    filenames = [x.fileName for x in dbaccessor.read_all_indexfileprocessing() if not x.fullPath.endswith(\"2009q1.zip\")]\n",
    "    return filenames"
   ]
  },
  {
   "cell_type": "code",
   "execution_count": 20,
   "id": "f2f566bf-0422-40dc-8d2f-b2bce2a842c6",
   "metadata": {},
   "outputs": [
    {
     "name": "stderr",
     "output_type": "stream",
     "text": [
      "2023-12-07 06:35:04,008 [INFO] configmgt  reading configuration from C:\\Users\\hansj\\.secfsdstools.cfg\n"
     ]
    },
    {
     "name": "stdout",
     "output_type": "stream",
     "text": [
      "58\n",
      "['2019q4.zip', '2023q1.zip', '2014q3.zip', '2016q3.zip', '2018q1.zip', '2013q4.zip', '2015q2.zip', '2021q3.zip', '2010q3.zip', '2011q4.zip', '2012q2.zip', '2010q4.zip', '2016q1.zip', '2021q1.zip', '2011q2.zip', '2009q2.zip', '2022q1.zip', '2012q4.zip', '2010q1.zip', '2015q1.zip', '2022q3.zip', '2018q2.zip', '2019q3.zip', '2020q2.zip', '2022q4.zip', '2017q2.zip', '2012q3.zip', '2011q1.zip', '2017q4.zip', '2010q2.zip', '2018q3.zip', '2021q4.zip', '2019q2.zip', '2013q1.zip', '2015q4.zip', '2009q3.zip', '2016q2.zip', '2013q3.zip', '2016q4.zip', '2017q3.zip', '2018q4.zip', '2023q2.zip', '2014q4.zip', '2011q3.zip', '2020q3.zip', '2014q2.zip', '2020q1.zip', '2012q1.zip', '2014q1.zip', '2019q1.zip', '2015q3.zip', '2017q1.zip', '2020q4.zip', '2013q2.zip', '2021q2.zip', '2022q2.zip', '2009q4.zip', '2023q3.zip']\n"
     ]
    }
   ],
   "source": [
    "all_zip_names = read_all_zip_names()\n",
    "print(len(all_zip_paths))\n",
    "print(all_zip_paths)"
   ]
  },
  {
   "cell_type": "code",
   "execution_count": 17,
   "id": "4d0d98e6-e6c5-418a-b775-320245dfecda",
   "metadata": {},
   "outputs": [],
   "source": [
    "def build_tmp_set(financial_statement: str, file_names: List[str], target_path: str = \"set/tmp/\"):\n",
    "    \"\"\" This function reads the data in sequence from the provided list of zip file names. It filters according to the \n",
    "        defined financial_statement and stores the data in specific subfolders.\n",
    "        \n",
    "        the folder structure will look like\n",
    "        <target_path>/<file_name>/<financial_statement>/raw\n",
    "        <target_path>/<file_name>/<financial_statement>/joined                                       \n",
    "        \"\"\"\n",
    "    \n",
    "    for file_name in file_names:\n",
    "        collector = ZipCollector.get_zip_by_name(name=file_name,\n",
    "                                 forms_filter=[\"10-K\", \"10-Q\"],\n",
    "                                 stmt_filter=[financial_statement],\n",
    "                                 post_load_filter=postloadfilter)\n",
    "\n",
    "        rawdatabag = collector.collect()\n",
    "\n",
    "        base_path = os.path.join(target_path, file_name)\n",
    "        save_databag(databag=rawdatabag, financial_statement=financial_statement, base_path=base_path)"
   ]
  },
  {
   "cell_type": "code",
   "execution_count": 22,
   "id": "ca6678b3-974e-4106-a05d-8b6a8d0a515f",
   "metadata": {
    "collapsed": true,
    "jupyter": {
     "outputs_hidden": true
    },
    "tags": []
   },
   "outputs": [
    {
     "name": "stderr",
     "output_type": "stream",
     "text": [
      "2023-12-07 06:35:29,781 [INFO] configmgt  reading configuration from C:\\Users\\hansj\\.secfsdstools.cfg\n",
      "2023-12-07 06:35:29,789 [INFO] parallelexecution      items to process: 1\n",
      "2023-12-07 06:35:29,792 [INFO] zipcollecting  processing C:\\Users\\hansj\\secfsdstools\\data\\parquet\\quarter\\2019q4.zip\n",
      "2023-12-07 06:35:32,556 [INFO] parallelexecution      commited chunk: 0\n"
     ]
    },
    {
     "name": "stdout",
     "output_type": "stream",
     "text": [
      "store rawdatabag under set/tmp/2019q4.zip\\BS\\raw\n",
      "create joined databag\n",
      "store joineddatabag under set/tmp/2019q4.zip\\BS\\joined\n"
     ]
    },
    {
     "name": "stderr",
     "output_type": "stream",
     "text": [
      "2023-12-07 06:35:34,767 [INFO] configmgt  reading configuration from C:\\Users\\hansj\\.secfsdstools.cfg\n",
      "2023-12-07 06:35:34,767 [INFO] parallelexecution      items to process: 1\n",
      "2023-12-07 06:35:34,781 [INFO] zipcollecting  processing C:\\Users\\hansj\\secfsdstools\\data\\parquet\\quarter\\2023q1.zip\n",
      "2023-12-07 06:35:37,599 [INFO] parallelexecution      commited chunk: 0\n"
     ]
    },
    {
     "name": "stdout",
     "output_type": "stream",
     "text": [
      "store rawdatabag under set/tmp/2023q1.zip\\BS\\raw\n",
      "create joined databag\n",
      "store joineddatabag under set/tmp/2023q1.zip\\BS\\joined\n"
     ]
    },
    {
     "name": "stderr",
     "output_type": "stream",
     "text": [
      "2023-12-07 06:35:39,901 [INFO] configmgt  reading configuration from C:\\Users\\hansj\\.secfsdstools.cfg\n",
      "2023-12-07 06:35:39,901 [INFO] parallelexecution      items to process: 1\n",
      "2023-12-07 06:35:39,901 [INFO] zipcollecting  processing C:\\Users\\hansj\\secfsdstools\\data\\parquet\\quarter\\2014q3.zip\n",
      "2023-12-07 06:35:42,711 [INFO] parallelexecution      commited chunk: 0\n"
     ]
    },
    {
     "name": "stdout",
     "output_type": "stream",
     "text": [
      "store rawdatabag under set/tmp/2014q3.zip\\BS\\raw\n",
      "create joined databag\n",
      "store joineddatabag under set/tmp/2014q3.zip\\BS\\joined\n"
     ]
    },
    {
     "name": "stderr",
     "output_type": "stream",
     "text": [
      "2023-12-07 06:35:45,074 [INFO] configmgt  reading configuration from C:\\Users\\hansj\\.secfsdstools.cfg\n",
      "2023-12-07 06:35:45,074 [INFO] parallelexecution      items to process: 1\n",
      "2023-12-07 06:35:45,074 [INFO] zipcollecting  processing C:\\Users\\hansj\\secfsdstools\\data\\parquet\\quarter\\2016q3.zip\n",
      "2023-12-07 06:35:47,402 [INFO] parallelexecution      commited chunk: 0\n"
     ]
    },
    {
     "name": "stdout",
     "output_type": "stream",
     "text": [
      "store rawdatabag under set/tmp/2016q3.zip\\BS\\raw\n",
      "create joined databag\n",
      "store joineddatabag under set/tmp/2016q3.zip\\BS\\joined\n"
     ]
    },
    {
     "name": "stderr",
     "output_type": "stream",
     "text": [
      "2023-12-07 06:35:49,584 [INFO] configmgt  reading configuration from C:\\Users\\hansj\\.secfsdstools.cfg\n",
      "2023-12-07 06:35:49,584 [INFO] parallelexecution      items to process: 1\n",
      "2023-12-07 06:35:49,584 [INFO] zipcollecting  processing C:\\Users\\hansj\\secfsdstools\\data\\parquet\\quarter\\2018q1.zip\n",
      "2023-12-07 06:35:52,198 [INFO] parallelexecution      commited chunk: 0\n"
     ]
    },
    {
     "name": "stdout",
     "output_type": "stream",
     "text": [
      "store rawdatabag under set/tmp/2018q1.zip\\BS\\raw\n",
      "create joined databag\n",
      "store joineddatabag under set/tmp/2018q1.zip\\BS\\joined\n"
     ]
    },
    {
     "name": "stderr",
     "output_type": "stream",
     "text": [
      "2023-12-07 06:35:54,259 [INFO] configmgt  reading configuration from C:\\Users\\hansj\\.secfsdstools.cfg\n",
      "2023-12-07 06:35:54,259 [INFO] parallelexecution      items to process: 1\n",
      "2023-12-07 06:35:54,266 [INFO] zipcollecting  processing C:\\Users\\hansj\\secfsdstools\\data\\parquet\\quarter\\2013q4.zip\n",
      "2023-12-07 06:35:57,023 [INFO] parallelexecution      commited chunk: 0\n"
     ]
    },
    {
     "name": "stdout",
     "output_type": "stream",
     "text": [
      "store rawdatabag under set/tmp/2013q4.zip\\BS\\raw\n",
      "create joined databag\n",
      "store joineddatabag under set/tmp/2013q4.zip\\BS\\joined\n"
     ]
    },
    {
     "name": "stderr",
     "output_type": "stream",
     "text": [
      "2023-12-07 06:35:59,407 [INFO] configmgt  reading configuration from C:\\Users\\hansj\\.secfsdstools.cfg\n",
      "2023-12-07 06:35:59,422 [INFO] parallelexecution      items to process: 1\n",
      "2023-12-07 06:35:59,426 [INFO] zipcollecting  processing C:\\Users\\hansj\\secfsdstools\\data\\parquet\\quarter\\2015q2.zip\n",
      "2023-12-07 06:36:01,976 [INFO] parallelexecution      commited chunk: 0\n"
     ]
    },
    {
     "name": "stdout",
     "output_type": "stream",
     "text": [
      "store rawdatabag under set/tmp/2015q2.zip\\BS\\raw\n",
      "create joined databag\n",
      "store joineddatabag under set/tmp/2015q2.zip\\BS\\joined\n"
     ]
    },
    {
     "name": "stderr",
     "output_type": "stream",
     "text": [
      "2023-12-07 06:36:04,305 [INFO] configmgt  reading configuration from C:\\Users\\hansj\\.secfsdstools.cfg\n",
      "2023-12-07 06:36:04,305 [INFO] parallelexecution      items to process: 1\n",
      "2023-12-07 06:36:04,305 [INFO] zipcollecting  processing C:\\Users\\hansj\\secfsdstools\\data\\parquet\\quarter\\2021q3.zip\n",
      "2023-12-07 06:36:06,767 [INFO] parallelexecution      commited chunk: 0\n"
     ]
    },
    {
     "name": "stdout",
     "output_type": "stream",
     "text": [
      "store rawdatabag under set/tmp/2021q3.zip\\BS\\raw\n",
      "create joined databag\n",
      "store joineddatabag under set/tmp/2021q3.zip\\BS\\joined\n"
     ]
    },
    {
     "name": "stderr",
     "output_type": "stream",
     "text": [
      "2023-12-07 06:36:09,071 [INFO] configmgt  reading configuration from C:\\Users\\hansj\\.secfsdstools.cfg\n",
      "2023-12-07 06:36:09,071 [INFO] parallelexecution      items to process: 1\n",
      "2023-12-07 06:36:09,071 [INFO] zipcollecting  processing C:\\Users\\hansj\\secfsdstools\\data\\parquet\\quarter\\2010q3.zip\n",
      "2023-12-07 06:36:09,589 [INFO] parallelexecution      commited chunk: 0\n"
     ]
    },
    {
     "name": "stdout",
     "output_type": "stream",
     "text": [
      "store rawdatabag under set/tmp/2010q3.zip\\BS\\raw\n"
     ]
    },
    {
     "name": "stderr",
     "output_type": "stream",
     "text": [
      "2023-12-07 06:36:10,085 [INFO] configmgt  reading configuration from C:\\Users\\hansj\\.secfsdstools.cfg\n"
     ]
    },
    {
     "name": "stdout",
     "output_type": "stream",
     "text": [
      "create joined databag\n",
      "store joineddatabag under set/tmp/2010q3.zip\\BS\\joined\n"
     ]
    },
    {
     "name": "stderr",
     "output_type": "stream",
     "text": [
      "2023-12-07 06:36:10,091 [INFO] parallelexecution      items to process: 1\n",
      "2023-12-07 06:36:10,092 [INFO] zipcollecting  processing C:\\Users\\hansj\\secfsdstools\\data\\parquet\\quarter\\2011q4.zip\n",
      "2023-12-07 06:36:12,342 [INFO] parallelexecution      commited chunk: 0\n"
     ]
    },
    {
     "name": "stdout",
     "output_type": "stream",
     "text": [
      "store rawdatabag under set/tmp/2011q4.zip\\BS\\raw\n",
      "create joined databag\n",
      "store joineddatabag under set/tmp/2011q4.zip\\BS\\joined\n"
     ]
    },
    {
     "name": "stderr",
     "output_type": "stream",
     "text": [
      "2023-12-07 06:36:14,460 [INFO] configmgt  reading configuration from C:\\Users\\hansj\\.secfsdstools.cfg\n",
      "2023-12-07 06:36:14,460 [INFO] parallelexecution      items to process: 1\n",
      "2023-12-07 06:36:14,460 [INFO] zipcollecting  processing C:\\Users\\hansj\\secfsdstools\\data\\parquet\\quarter\\2012q2.zip\n",
      "2023-12-07 06:36:16,624 [INFO] parallelexecution      commited chunk: 0\n"
     ]
    },
    {
     "name": "stdout",
     "output_type": "stream",
     "text": [
      "store rawdatabag under set/tmp/2012q2.zip\\BS\\raw\n",
      "create joined databag\n",
      "store joineddatabag under set/tmp/2012q2.zip\\BS\\joined\n"
     ]
    },
    {
     "name": "stderr",
     "output_type": "stream",
     "text": [
      "2023-12-07 06:36:18,758 [INFO] configmgt  reading configuration from C:\\Users\\hansj\\.secfsdstools.cfg\n",
      "2023-12-07 06:36:18,758 [INFO] parallelexecution      items to process: 1\n",
      "2023-12-07 06:36:18,758 [INFO] zipcollecting  processing C:\\Users\\hansj\\secfsdstools\\data\\parquet\\quarter\\2010q4.zip\n",
      "2023-12-07 06:36:19,323 [INFO] parallelexecution      commited chunk: 0\n"
     ]
    },
    {
     "name": "stdout",
     "output_type": "stream",
     "text": [
      "store rawdatabag under set/tmp/2010q4.zip\\BS\\raw\n",
      "create joined databag\n",
      "store joineddatabag under set/tmp/2010q4.zip\\BS\\joined\n"
     ]
    },
    {
     "name": "stderr",
     "output_type": "stream",
     "text": [
      "2023-12-07 06:36:19,874 [INFO] configmgt  reading configuration from C:\\Users\\hansj\\.secfsdstools.cfg\n",
      "2023-12-07 06:36:19,874 [INFO] parallelexecution      items to process: 1\n",
      "2023-12-07 06:36:19,886 [INFO] zipcollecting  processing C:\\Users\\hansj\\secfsdstools\\data\\parquet\\quarter\\2016q1.zip\n",
      "2023-12-07 06:36:22,934 [INFO] parallelexecution      commited chunk: 0\n"
     ]
    },
    {
     "name": "stdout",
     "output_type": "stream",
     "text": [
      "store rawdatabag under set/tmp/2016q1.zip\\BS\\raw\n",
      "create joined databag\n",
      "store joineddatabag under set/tmp/2016q1.zip\\BS\\joined\n"
     ]
    },
    {
     "name": "stderr",
     "output_type": "stream",
     "text": [
      "2023-12-07 06:36:25,291 [INFO] configmgt  reading configuration from C:\\Users\\hansj\\.secfsdstools.cfg\n",
      "2023-12-07 06:36:25,295 [INFO] parallelexecution      items to process: 1\n",
      "2023-12-07 06:36:25,297 [INFO] zipcollecting  processing C:\\Users\\hansj\\secfsdstools\\data\\parquet\\quarter\\2021q1.zip\n",
      "2023-12-07 06:36:28,247 [INFO] parallelexecution      commited chunk: 0\n"
     ]
    },
    {
     "name": "stdout",
     "output_type": "stream",
     "text": [
      "store rawdatabag under set/tmp/2021q1.zip\\BS\\raw\n",
      "create joined databag\n",
      "store joineddatabag under set/tmp/2021q1.zip\\BS\\joined\n"
     ]
    },
    {
     "name": "stderr",
     "output_type": "stream",
     "text": [
      "2023-12-07 06:36:30,479 [INFO] configmgt  reading configuration from C:\\Users\\hansj\\.secfsdstools.cfg\n",
      "2023-12-07 06:36:30,483 [INFO] parallelexecution      items to process: 1\n",
      "2023-12-07 06:36:30,485 [INFO] zipcollecting  processing C:\\Users\\hansj\\secfsdstools\\data\\parquet\\quarter\\2011q2.zip\n",
      "2023-12-07 06:36:31,015 [INFO] parallelexecution      commited chunk: 0\n"
     ]
    },
    {
     "name": "stdout",
     "output_type": "stream",
     "text": [
      "store rawdatabag under set/tmp/2011q2.zip\\BS\\raw\n",
      "create joined databag\n",
      "store joineddatabag under set/tmp/2011q2.zip\\BS\\joined\n"
     ]
    },
    {
     "name": "stderr",
     "output_type": "stream",
     "text": [
      "2023-12-07 06:36:31,580 [INFO] configmgt  reading configuration from C:\\Users\\hansj\\.secfsdstools.cfg\n",
      "2023-12-07 06:36:31,586 [INFO] parallelexecution      items to process: 1\n",
      "2023-12-07 06:36:31,587 [INFO] zipcollecting  processing C:\\Users\\hansj\\secfsdstools\\data\\parquet\\quarter\\2009q2.zip\n",
      "2023-12-07 06:36:31,631 [INFO] parallelexecution      commited chunk: 0\n",
      "2023-12-07 06:36:31,697 [INFO] configmgt  reading configuration from C:\\Users\\hansj\\.secfsdstools.cfg\n",
      "2023-12-07 06:36:31,697 [INFO] parallelexecution      items to process: 1\n",
      "2023-12-07 06:36:31,697 [INFO] zipcollecting  processing C:\\Users\\hansj\\secfsdstools\\data\\parquet\\quarter\\2022q1.zip\n"
     ]
    },
    {
     "name": "stdout",
     "output_type": "stream",
     "text": [
      "store rawdatabag under set/tmp/2009q2.zip\\BS\\raw\n",
      "create joined databag\n",
      "store joineddatabag under set/tmp/2009q2.zip\\BS\\joined\n"
     ]
    },
    {
     "name": "stderr",
     "output_type": "stream",
     "text": [
      "2023-12-07 06:36:34,760 [INFO] parallelexecution      commited chunk: 0\n"
     ]
    },
    {
     "name": "stdout",
     "output_type": "stream",
     "text": [
      "store rawdatabag under set/tmp/2022q1.zip\\BS\\raw\n",
      "create joined databag\n",
      "store joineddatabag under set/tmp/2022q1.zip\\BS\\joined\n"
     ]
    },
    {
     "name": "stderr",
     "output_type": "stream",
     "text": [
      "2023-12-07 06:36:37,009 [INFO] configmgt  reading configuration from C:\\Users\\hansj\\.secfsdstools.cfg\n",
      "2023-12-07 06:36:37,025 [INFO] parallelexecution      items to process: 1\n",
      "2023-12-07 06:36:37,026 [INFO] zipcollecting  processing C:\\Users\\hansj\\secfsdstools\\data\\parquet\\quarter\\2012q4.zip\n",
      "2023-12-07 06:36:39,881 [INFO] parallelexecution      commited chunk: 0\n"
     ]
    },
    {
     "name": "stdout",
     "output_type": "stream",
     "text": [
      "store rawdatabag under set/tmp/2012q4.zip\\BS\\raw\n",
      "create joined databag\n",
      "store joineddatabag under set/tmp/2012q4.zip\\BS\\joined\n"
     ]
    },
    {
     "name": "stderr",
     "output_type": "stream",
     "text": [
      "2023-12-07 06:36:42,365 [INFO] configmgt  reading configuration from C:\\Users\\hansj\\.secfsdstools.cfg\n",
      "2023-12-07 06:36:42,365 [INFO] parallelexecution      items to process: 1\n",
      "2023-12-07 06:36:42,365 [INFO] zipcollecting  processing C:\\Users\\hansj\\secfsdstools\\data\\parquet\\quarter\\2010q1.zip\n",
      "2023-12-07 06:36:42,577 [INFO] parallelexecution      commited chunk: 0\n",
      "2023-12-07 06:36:42,785 [INFO] configmgt  reading configuration from C:\\Users\\hansj\\.secfsdstools.cfg\n"
     ]
    },
    {
     "name": "stdout",
     "output_type": "stream",
     "text": [
      "store rawdatabag under set/tmp/2010q1.zip\\BS\\raw\n",
      "create joined databag\n",
      "store joineddatabag under set/tmp/2010q1.zip\\BS\\joined\n"
     ]
    },
    {
     "name": "stderr",
     "output_type": "stream",
     "text": [
      "2023-12-07 06:36:42,800 [INFO] parallelexecution      items to process: 1\n",
      "2023-12-07 06:36:42,805 [INFO] zipcollecting  processing C:\\Users\\hansj\\secfsdstools\\data\\parquet\\quarter\\2015q1.zip\n",
      "2023-12-07 06:36:46,218 [INFO] parallelexecution      commited chunk: 0\n"
     ]
    },
    {
     "name": "stdout",
     "output_type": "stream",
     "text": [
      "store rawdatabag under set/tmp/2015q1.zip\\BS\\raw\n",
      "create joined databag\n",
      "store joineddatabag under set/tmp/2015q1.zip\\BS\\joined\n"
     ]
    },
    {
     "name": "stderr",
     "output_type": "stream",
     "text": [
      "2023-12-07 06:36:48,872 [INFO] configmgt  reading configuration from C:\\Users\\hansj\\.secfsdstools.cfg\n",
      "2023-12-07 06:36:48,872 [INFO] parallelexecution      items to process: 1\n",
      "2023-12-07 06:36:48,872 [INFO] zipcollecting  processing C:\\Users\\hansj\\secfsdstools\\data\\parquet\\quarter\\2022q3.zip\n",
      "2023-12-07 06:36:51,687 [INFO] parallelexecution      commited chunk: 0\n"
     ]
    },
    {
     "name": "stdout",
     "output_type": "stream",
     "text": [
      "store rawdatabag under set/tmp/2022q3.zip\\BS\\raw\n",
      "create joined databag\n",
      "store joineddatabag under set/tmp/2022q3.zip\\BS\\joined\n"
     ]
    },
    {
     "name": "stderr",
     "output_type": "stream",
     "text": [
      "2023-12-07 06:36:54,288 [INFO] configmgt  reading configuration from C:\\Users\\hansj\\.secfsdstools.cfg\n",
      "2023-12-07 06:36:54,304 [INFO] parallelexecution      items to process: 1\n",
      "2023-12-07 06:36:54,307 [INFO] zipcollecting  processing C:\\Users\\hansj\\secfsdstools\\data\\parquet\\quarter\\2018q2.zip\n",
      "2023-12-07 06:36:56,575 [INFO] parallelexecution      commited chunk: 0\n"
     ]
    },
    {
     "name": "stdout",
     "output_type": "stream",
     "text": [
      "store rawdatabag under set/tmp/2018q2.zip\\BS\\raw\n",
      "create joined databag\n",
      "store joineddatabag under set/tmp/2018q2.zip\\BS\\joined\n"
     ]
    },
    {
     "name": "stderr",
     "output_type": "stream",
     "text": [
      "2023-12-07 06:36:58,677 [INFO] configmgt  reading configuration from C:\\Users\\hansj\\.secfsdstools.cfg\n",
      "2023-12-07 06:36:58,693 [INFO] parallelexecution      items to process: 1\n",
      "2023-12-07 06:36:58,694 [INFO] zipcollecting  processing C:\\Users\\hansj\\secfsdstools\\data\\parquet\\quarter\\2019q3.zip\n",
      "2023-12-07 06:37:01,025 [INFO] parallelexecution      commited chunk: 0\n"
     ]
    },
    {
     "name": "stdout",
     "output_type": "stream",
     "text": [
      "store rawdatabag under set/tmp/2019q3.zip\\BS\\raw\n",
      "create joined databag\n",
      "store joineddatabag under set/tmp/2019q3.zip\\BS\\joined\n"
     ]
    },
    {
     "name": "stderr",
     "output_type": "stream",
     "text": [
      "2023-12-07 06:37:03,160 [INFO] configmgt  reading configuration from C:\\Users\\hansj\\.secfsdstools.cfg\n",
      "2023-12-07 06:37:03,160 [INFO] parallelexecution      items to process: 1\n",
      "2023-12-07 06:37:03,170 [INFO] zipcollecting  processing C:\\Users\\hansj\\secfsdstools\\data\\parquet\\quarter\\2020q2.zip\n",
      "2023-12-07 06:37:05,271 [INFO] parallelexecution      commited chunk: 0\n"
     ]
    },
    {
     "name": "stdout",
     "output_type": "stream",
     "text": [
      "store rawdatabag under set/tmp/2020q2.zip\\BS\\raw\n",
      "create joined databag\n",
      "store joineddatabag under set/tmp/2020q2.zip\\BS\\joined\n"
     ]
    },
    {
     "name": "stderr",
     "output_type": "stream",
     "text": [
      "2023-12-07 06:37:07,224 [INFO] configmgt  reading configuration from C:\\Users\\hansj\\.secfsdstools.cfg\n",
      "2023-12-07 06:37:07,240 [INFO] parallelexecution      items to process: 1\n",
      "2023-12-07 06:37:07,240 [INFO] zipcollecting  processing C:\\Users\\hansj\\secfsdstools\\data\\parquet\\quarter\\2022q4.zip\n",
      "2023-12-07 06:37:09,725 [INFO] parallelexecution      commited chunk: 0\n"
     ]
    },
    {
     "name": "stdout",
     "output_type": "stream",
     "text": [
      "store rawdatabag under set/tmp/2022q4.zip\\BS\\raw\n",
      "create joined databag\n",
      "store joineddatabag under set/tmp/2022q4.zip\\BS\\joined\n"
     ]
    },
    {
     "name": "stderr",
     "output_type": "stream",
     "text": [
      "2023-12-07 06:37:12,065 [INFO] configmgt  reading configuration from C:\\Users\\hansj\\.secfsdstools.cfg\n",
      "2023-12-07 06:37:12,071 [INFO] parallelexecution      items to process: 1\n",
      "2023-12-07 06:37:12,072 [INFO] zipcollecting  processing C:\\Users\\hansj\\secfsdstools\\data\\parquet\\quarter\\2017q2.zip\n",
      "2023-12-07 06:37:14,224 [INFO] parallelexecution      commited chunk: 0\n"
     ]
    },
    {
     "name": "stdout",
     "output_type": "stream",
     "text": [
      "store rawdatabag under set/tmp/2017q2.zip\\BS\\raw\n",
      "create joined databag\n",
      "store joineddatabag under set/tmp/2017q2.zip\\BS\\joined\n"
     ]
    },
    {
     "name": "stderr",
     "output_type": "stream",
     "text": [
      "2023-12-07 06:37:16,249 [INFO] configmgt  reading configuration from C:\\Users\\hansj\\.secfsdstools.cfg\n",
      "2023-12-07 06:37:16,249 [INFO] parallelexecution      items to process: 1\n",
      "2023-12-07 06:37:16,249 [INFO] zipcollecting  processing C:\\Users\\hansj\\secfsdstools\\data\\parquet\\quarter\\2012q3.zip\n",
      "2023-12-07 06:37:18,815 [INFO] parallelexecution      commited chunk: 0\n"
     ]
    },
    {
     "name": "stdout",
     "output_type": "stream",
     "text": [
      "store rawdatabag under set/tmp/2012q3.zip\\BS\\raw\n",
      "create joined databag\n",
      "store joineddatabag under set/tmp/2012q3.zip\\BS\\joined\n"
     ]
    },
    {
     "name": "stderr",
     "output_type": "stream",
     "text": [
      "2023-12-07 06:37:20,937 [INFO] configmgt  reading configuration from C:\\Users\\hansj\\.secfsdstools.cfg\n",
      "2023-12-07 06:37:20,937 [INFO] parallelexecution      items to process: 1\n",
      "2023-12-07 06:37:20,937 [INFO] zipcollecting  processing C:\\Users\\hansj\\secfsdstools\\data\\parquet\\quarter\\2011q1.zip\n",
      "2023-12-07 06:37:21,604 [INFO] parallelexecution      commited chunk: 0\n"
     ]
    },
    {
     "name": "stdout",
     "output_type": "stream",
     "text": [
      "store rawdatabag under set/tmp/2011q1.zip\\BS\\raw\n",
      "create joined databag\n",
      "store joineddatabag under set/tmp/2011q1.zip\\BS\\joined\n"
     ]
    },
    {
     "name": "stderr",
     "output_type": "stream",
     "text": [
      "2023-12-07 06:37:22,177 [INFO] configmgt  reading configuration from C:\\Users\\hansj\\.secfsdstools.cfg\n",
      "2023-12-07 06:37:22,182 [INFO] parallelexecution      items to process: 1\n",
      "2023-12-07 06:37:22,183 [INFO] zipcollecting  processing C:\\Users\\hansj\\secfsdstools\\data\\parquet\\quarter\\2017q4.zip\n",
      "2023-12-07 06:37:24,514 [INFO] parallelexecution      commited chunk: 0\n"
     ]
    },
    {
     "name": "stdout",
     "output_type": "stream",
     "text": [
      "store rawdatabag under set/tmp/2017q4.zip\\BS\\raw\n",
      "create joined databag\n",
      "store joineddatabag under set/tmp/2017q4.zip\\BS\\joined\n"
     ]
    },
    {
     "name": "stderr",
     "output_type": "stream",
     "text": [
      "2023-12-07 06:37:26,660 [INFO] configmgt  reading configuration from C:\\Users\\hansj\\.secfsdstools.cfg\n",
      "2023-12-07 06:37:26,664 [INFO] parallelexecution      items to process: 1\n",
      "2023-12-07 06:37:26,665 [INFO] zipcollecting  processing C:\\Users\\hansj\\secfsdstools\\data\\parquet\\quarter\\2010q2.zip\n",
      "2023-12-07 06:37:26,851 [INFO] parallelexecution      commited chunk: 0\n",
      "2023-12-07 06:37:27,068 [INFO] configmgt  reading configuration from C:\\Users\\hansj\\.secfsdstools.cfg\n"
     ]
    },
    {
     "name": "stdout",
     "output_type": "stream",
     "text": [
      "store rawdatabag under set/tmp/2010q2.zip\\BS\\raw\n",
      "create joined databag\n",
      "store joineddatabag under set/tmp/2010q2.zip\\BS\\joined\n"
     ]
    },
    {
     "name": "stderr",
     "output_type": "stream",
     "text": [
      "2023-12-07 06:37:27,073 [INFO] parallelexecution      items to process: 1\n",
      "2023-12-07 06:37:27,075 [INFO] zipcollecting  processing C:\\Users\\hansj\\secfsdstools\\data\\parquet\\quarter\\2018q3.zip\n",
      "2023-12-07 06:37:29,591 [INFO] parallelexecution      commited chunk: 0\n"
     ]
    },
    {
     "name": "stdout",
     "output_type": "stream",
     "text": [
      "store rawdatabag under set/tmp/2018q3.zip\\BS\\raw\n",
      "create joined databag\n",
      "store joineddatabag under set/tmp/2018q3.zip\\BS\\joined\n"
     ]
    },
    {
     "name": "stderr",
     "output_type": "stream",
     "text": [
      "2023-12-07 06:37:31,917 [INFO] configmgt  reading configuration from C:\\Users\\hansj\\.secfsdstools.cfg\n",
      "2023-12-07 06:37:31,933 [INFO] parallelexecution      items to process: 1\n",
      "2023-12-07 06:37:31,934 [INFO] zipcollecting  processing C:\\Users\\hansj\\secfsdstools\\data\\parquet\\quarter\\2021q4.zip\n",
      "2023-12-07 06:37:34,516 [INFO] parallelexecution      commited chunk: 0\n"
     ]
    },
    {
     "name": "stdout",
     "output_type": "stream",
     "text": [
      "store rawdatabag under set/tmp/2021q4.zip\\BS\\raw\n",
      "create joined databag\n",
      "store joineddatabag under set/tmp/2021q4.zip\\BS\\joined\n"
     ]
    },
    {
     "name": "stderr",
     "output_type": "stream",
     "text": [
      "2023-12-07 06:37:37,080 [INFO] configmgt  reading configuration from C:\\Users\\hansj\\.secfsdstools.cfg\n",
      "2023-12-07 06:37:37,096 [INFO] parallelexecution      items to process: 1\n",
      "2023-12-07 06:37:37,096 [INFO] zipcollecting  processing C:\\Users\\hansj\\secfsdstools\\data\\parquet\\quarter\\2019q2.zip\n",
      "2023-12-07 06:37:39,451 [INFO] parallelexecution      commited chunk: 0\n"
     ]
    },
    {
     "name": "stdout",
     "output_type": "stream",
     "text": [
      "store rawdatabag under set/tmp/2019q2.zip\\BS\\raw\n",
      "create joined databag\n",
      "store joineddatabag under set/tmp/2019q2.zip\\BS\\joined\n"
     ]
    },
    {
     "name": "stderr",
     "output_type": "stream",
     "text": [
      "2023-12-07 06:37:41,770 [INFO] configmgt  reading configuration from C:\\Users\\hansj\\.secfsdstools.cfg\n",
      "2023-12-07 06:37:41,777 [INFO] parallelexecution      items to process: 1\n",
      "2023-12-07 06:37:41,777 [INFO] zipcollecting  processing C:\\Users\\hansj\\secfsdstools\\data\\parquet\\quarter\\2013q1.zip\n",
      "2023-12-07 06:37:45,293 [INFO] parallelexecution      commited chunk: 0\n"
     ]
    },
    {
     "name": "stdout",
     "output_type": "stream",
     "text": [
      "store rawdatabag under set/tmp/2013q1.zip\\BS\\raw\n",
      "create joined databag\n",
      "store joineddatabag under set/tmp/2013q1.zip\\BS\\joined\n"
     ]
    },
    {
     "name": "stderr",
     "output_type": "stream",
     "text": [
      "2023-12-07 06:37:47,990 [INFO] configmgt  reading configuration from C:\\Users\\hansj\\.secfsdstools.cfg\n",
      "2023-12-07 06:37:47,996 [INFO] parallelexecution      items to process: 1\n",
      "2023-12-07 06:37:47,997 [INFO] zipcollecting  processing C:\\Users\\hansj\\secfsdstools\\data\\parquet\\quarter\\2015q4.zip\n",
      "2023-12-07 06:37:50,725 [INFO] parallelexecution      commited chunk: 0\n"
     ]
    },
    {
     "name": "stdout",
     "output_type": "stream",
     "text": [
      "store rawdatabag under set/tmp/2015q4.zip\\BS\\raw\n",
      "create joined databag\n",
      "store joineddatabag under set/tmp/2015q4.zip\\BS\\joined\n"
     ]
    },
    {
     "name": "stderr",
     "output_type": "stream",
     "text": [
      "2023-12-07 06:37:53,088 [INFO] configmgt  reading configuration from C:\\Users\\hansj\\.secfsdstools.cfg\n",
      "2023-12-07 06:37:53,094 [INFO] parallelexecution      items to process: 1\n",
      "2023-12-07 06:37:53,095 [INFO] zipcollecting  processing C:\\Users\\hansj\\secfsdstools\\data\\parquet\\quarter\\2009q3.zip\n",
      "2023-12-07 06:37:53,273 [INFO] parallelexecution      commited chunk: 0\n",
      "2023-12-07 06:37:53,457 [INFO] configmgt  reading configuration from C:\\Users\\hansj\\.secfsdstools.cfg\n",
      "2023-12-07 06:37:53,463 [INFO] parallelexecution      items to process: 1\n",
      "2023-12-07 06:37:53,464 [INFO] zipcollecting  processing C:\\Users\\hansj\\secfsdstools\\data\\parquet\\quarter\\2016q2.zip\n"
     ]
    },
    {
     "name": "stdout",
     "output_type": "stream",
     "text": [
      "store rawdatabag under set/tmp/2009q3.zip\\BS\\raw\n",
      "create joined databag\n",
      "store joineddatabag under set/tmp/2009q3.zip\\BS\\joined\n"
     ]
    },
    {
     "name": "stderr",
     "output_type": "stream",
     "text": [
      "2023-12-07 06:37:55,750 [INFO] parallelexecution      commited chunk: 0\n"
     ]
    },
    {
     "name": "stdout",
     "output_type": "stream",
     "text": [
      "store rawdatabag under set/tmp/2016q2.zip\\BS\\raw\n",
      "create joined databag\n",
      "store joineddatabag under set/tmp/2016q2.zip\\BS\\joined\n"
     ]
    },
    {
     "name": "stderr",
     "output_type": "stream",
     "text": [
      "2023-12-07 06:37:57,869 [INFO] configmgt  reading configuration from C:\\Users\\hansj\\.secfsdstools.cfg\n",
      "2023-12-07 06:37:57,873 [INFO] parallelexecution      items to process: 1\n",
      "2023-12-07 06:37:57,874 [INFO] zipcollecting  processing C:\\Users\\hansj\\secfsdstools\\data\\parquet\\quarter\\2013q3.zip\n",
      "2023-12-07 06:38:00,752 [INFO] parallelexecution      commited chunk: 0\n"
     ]
    },
    {
     "name": "stdout",
     "output_type": "stream",
     "text": [
      "store rawdatabag under set/tmp/2013q3.zip\\BS\\raw\n",
      "create joined databag\n",
      "store joineddatabag under set/tmp/2013q3.zip\\BS\\joined\n"
     ]
    },
    {
     "name": "stderr",
     "output_type": "stream",
     "text": [
      "2023-12-07 06:38:03,118 [INFO] configmgt  reading configuration from C:\\Users\\hansj\\.secfsdstools.cfg\n",
      "2023-12-07 06:38:03,118 [INFO] parallelexecution      items to process: 1\n",
      "2023-12-07 06:38:03,118 [INFO] zipcollecting  processing C:\\Users\\hansj\\secfsdstools\\data\\parquet\\quarter\\2016q4.zip\n",
      "2023-12-07 06:38:05,536 [INFO] parallelexecution      commited chunk: 0\n"
     ]
    },
    {
     "name": "stdout",
     "output_type": "stream",
     "text": [
      "store rawdatabag under set/tmp/2016q4.zip\\BS\\raw\n",
      "create joined databag\n",
      "store joineddatabag under set/tmp/2016q4.zip\\BS\\joined\n"
     ]
    },
    {
     "name": "stderr",
     "output_type": "stream",
     "text": [
      "2023-12-07 06:38:07,746 [INFO] configmgt  reading configuration from C:\\Users\\hansj\\.secfsdstools.cfg\n",
      "2023-12-07 06:38:07,746 [INFO] parallelexecution      items to process: 1\n",
      "2023-12-07 06:38:07,746 [INFO] zipcollecting  processing C:\\Users\\hansj\\secfsdstools\\data\\parquet\\quarter\\2017q3.zip\n",
      "2023-12-07 06:38:10,181 [INFO] parallelexecution      commited chunk: 0\n"
     ]
    },
    {
     "name": "stdout",
     "output_type": "stream",
     "text": [
      "store rawdatabag under set/tmp/2017q3.zip\\BS\\raw\n",
      "create joined databag\n",
      "store joineddatabag under set/tmp/2017q3.zip\\BS\\joined\n"
     ]
    },
    {
     "name": "stderr",
     "output_type": "stream",
     "text": [
      "2023-12-07 06:38:12,282 [INFO] configmgt  reading configuration from C:\\Users\\hansj\\.secfsdstools.cfg\n",
      "2023-12-07 06:38:12,288 [INFO] parallelexecution      items to process: 1\n",
      "2023-12-07 06:38:12,289 [INFO] zipcollecting  processing C:\\Users\\hansj\\secfsdstools\\data\\parquet\\quarter\\2018q4.zip\n",
      "2023-12-07 06:38:14,566 [INFO] parallelexecution      commited chunk: 0\n"
     ]
    },
    {
     "name": "stdout",
     "output_type": "stream",
     "text": [
      "store rawdatabag under set/tmp/2018q4.zip\\BS\\raw\n",
      "create joined databag\n",
      "store joineddatabag under set/tmp/2018q4.zip\\BS\\joined\n"
     ]
    },
    {
     "name": "stderr",
     "output_type": "stream",
     "text": [
      "2023-12-07 06:38:16,701 [INFO] configmgt  reading configuration from C:\\Users\\hansj\\.secfsdstools.cfg\n",
      "2023-12-07 06:38:16,718 [INFO] parallelexecution      items to process: 1\n",
      "2023-12-07 06:38:16,718 [INFO] zipcollecting  processing C:\\Users\\hansj\\secfsdstools\\data\\parquet\\quarter\\2023q2.zip\n",
      "2023-12-07 06:38:19,099 [INFO] parallelexecution      commited chunk: 0\n"
     ]
    },
    {
     "name": "stdout",
     "output_type": "stream",
     "text": [
      "store rawdatabag under set/tmp/2023q2.zip\\BS\\raw\n",
      "create joined databag\n",
      "store joineddatabag under set/tmp/2023q2.zip\\BS\\joined\n"
     ]
    },
    {
     "name": "stderr",
     "output_type": "stream",
     "text": [
      "2023-12-07 06:38:21,271 [INFO] configmgt  reading configuration from C:\\Users\\hansj\\.secfsdstools.cfg\n",
      "2023-12-07 06:38:21,271 [INFO] parallelexecution      items to process: 1\n",
      "2023-12-07 06:38:21,271 [INFO] zipcollecting  processing C:\\Users\\hansj\\secfsdstools\\data\\parquet\\quarter\\2014q4.zip\n",
      "2023-12-07 06:38:24,021 [INFO] parallelexecution      commited chunk: 0\n"
     ]
    },
    {
     "name": "stdout",
     "output_type": "stream",
     "text": [
      "store rawdatabag under set/tmp/2014q4.zip\\BS\\raw\n",
      "create joined databag\n",
      "store joineddatabag under set/tmp/2014q4.zip\\BS\\joined\n"
     ]
    },
    {
     "name": "stderr",
     "output_type": "stream",
     "text": [
      "2023-12-07 06:38:26,488 [INFO] configmgt  reading configuration from C:\\Users\\hansj\\.secfsdstools.cfg\n",
      "2023-12-07 06:38:26,503 [INFO] parallelexecution      items to process: 1\n",
      "2023-12-07 06:38:26,503 [INFO] zipcollecting  processing C:\\Users\\hansj\\secfsdstools\\data\\parquet\\quarter\\2011q3.zip\n",
      "2023-12-07 06:38:28,411 [INFO] parallelexecution      commited chunk: 0\n"
     ]
    },
    {
     "name": "stdout",
     "output_type": "stream",
     "text": [
      "store rawdatabag under set/tmp/2011q3.zip\\BS\\raw\n",
      "create joined databag\n",
      "store joineddatabag under set/tmp/2011q3.zip\\BS\\joined\n"
     ]
    },
    {
     "name": "stderr",
     "output_type": "stream",
     "text": [
      "2023-12-07 06:38:30,174 [INFO] configmgt  reading configuration from C:\\Users\\hansj\\.secfsdstools.cfg\n",
      "2023-12-07 06:38:30,174 [INFO] parallelexecution      items to process: 1\n",
      "2023-12-07 06:38:30,174 [INFO] zipcollecting  processing C:\\Users\\hansj\\secfsdstools\\data\\parquet\\quarter\\2020q3.zip\n",
      "2023-12-07 06:38:32,496 [INFO] parallelexecution      commited chunk: 0\n"
     ]
    },
    {
     "name": "stdout",
     "output_type": "stream",
     "text": [
      "store rawdatabag under set/tmp/2020q3.zip\\BS\\raw\n",
      "create joined databag\n",
      "store joineddatabag under set/tmp/2020q3.zip\\BS\\joined\n"
     ]
    },
    {
     "name": "stderr",
     "output_type": "stream",
     "text": [
      "2023-12-07 06:38:34,671 [INFO] configmgt  reading configuration from C:\\Users\\hansj\\.secfsdstools.cfg\n",
      "2023-12-07 06:38:34,687 [INFO] parallelexecution      items to process: 1\n",
      "2023-12-07 06:38:34,690 [INFO] zipcollecting  processing C:\\Users\\hansj\\secfsdstools\\data\\parquet\\quarter\\2014q2.zip\n",
      "2023-12-07 06:38:37,286 [INFO] parallelexecution      commited chunk: 0\n"
     ]
    },
    {
     "name": "stdout",
     "output_type": "stream",
     "text": [
      "store rawdatabag under set/tmp/2014q2.zip\\BS\\raw\n",
      "create joined databag\n",
      "store joineddatabag under set/tmp/2014q2.zip\\BS\\joined\n"
     ]
    },
    {
     "name": "stderr",
     "output_type": "stream",
     "text": [
      "2023-12-07 06:38:39,672 [INFO] configmgt  reading configuration from C:\\Users\\hansj\\.secfsdstools.cfg\n",
      "2023-12-07 06:38:39,672 [INFO] parallelexecution      items to process: 1\n",
      "2023-12-07 06:38:39,678 [INFO] zipcollecting  processing C:\\Users\\hansj\\secfsdstools\\data\\parquet\\quarter\\2020q1.zip\n",
      "2023-12-07 06:38:42,420 [INFO] parallelexecution      commited chunk: 0\n"
     ]
    },
    {
     "name": "stdout",
     "output_type": "stream",
     "text": [
      "store rawdatabag under set/tmp/2020q1.zip\\BS\\raw\n",
      "create joined databag\n",
      "store joineddatabag under set/tmp/2020q1.zip\\BS\\joined\n"
     ]
    },
    {
     "name": "stderr",
     "output_type": "stream",
     "text": [
      "2023-12-07 06:38:44,639 [INFO] configmgt  reading configuration from C:\\Users\\hansj\\.secfsdstools.cfg\n",
      "2023-12-07 06:38:44,656 [INFO] parallelexecution      items to process: 1\n",
      "2023-12-07 06:38:44,656 [INFO] zipcollecting  processing C:\\Users\\hansj\\secfsdstools\\data\\parquet\\quarter\\2012q1.zip\n",
      "2023-12-07 06:38:47,053 [INFO] parallelexecution      commited chunk: 0\n"
     ]
    },
    {
     "name": "stdout",
     "output_type": "stream",
     "text": [
      "store rawdatabag under set/tmp/2012q1.zip\\BS\\raw\n",
      "create joined databag\n",
      "store joineddatabag under set/tmp/2012q1.zip\\BS\\joined\n"
     ]
    },
    {
     "name": "stderr",
     "output_type": "stream",
     "text": [
      "2023-12-07 06:38:49,165 [INFO] configmgt  reading configuration from C:\\Users\\hansj\\.secfsdstools.cfg\n",
      "2023-12-07 06:38:49,180 [INFO] parallelexecution      items to process: 1\n",
      "2023-12-07 06:38:49,183 [INFO] zipcollecting  processing C:\\Users\\hansj\\secfsdstools\\data\\parquet\\quarter\\2014q1.zip\n",
      "2023-12-07 06:38:52,547 [INFO] parallelexecution      commited chunk: 0\n"
     ]
    },
    {
     "name": "stdout",
     "output_type": "stream",
     "text": [
      "store rawdatabag under set/tmp/2014q1.zip\\BS\\raw\n",
      "create joined databag\n",
      "store joineddatabag under set/tmp/2014q1.zip\\BS\\joined\n"
     ]
    },
    {
     "name": "stderr",
     "output_type": "stream",
     "text": [
      "2023-12-07 06:38:54,992 [INFO] configmgt  reading configuration from C:\\Users\\hansj\\.secfsdstools.cfg\n",
      "2023-12-07 06:38:54,992 [INFO] parallelexecution      items to process: 1\n",
      "2023-12-07 06:38:54,992 [INFO] zipcollecting  processing C:\\Users\\hansj\\secfsdstools\\data\\parquet\\quarter\\2019q1.zip\n",
      "2023-12-07 06:38:57,565 [INFO] parallelexecution      commited chunk: 0\n"
     ]
    },
    {
     "name": "stdout",
     "output_type": "stream",
     "text": [
      "store rawdatabag under set/tmp/2019q1.zip\\BS\\raw\n",
      "create joined databag\n",
      "store joineddatabag under set/tmp/2019q1.zip\\BS\\joined\n"
     ]
    },
    {
     "name": "stderr",
     "output_type": "stream",
     "text": [
      "2023-12-07 06:38:59,578 [INFO] configmgt  reading configuration from C:\\Users\\hansj\\.secfsdstools.cfg\n",
      "2023-12-07 06:38:59,578 [INFO] parallelexecution      items to process: 1\n",
      "2023-12-07 06:38:59,578 [INFO] zipcollecting  processing C:\\Users\\hansj\\secfsdstools\\data\\parquet\\quarter\\2015q3.zip\n",
      "2023-12-07 06:39:02,246 [INFO] parallelexecution      commited chunk: 0\n"
     ]
    },
    {
     "name": "stdout",
     "output_type": "stream",
     "text": [
      "store rawdatabag under set/tmp/2015q3.zip\\BS\\raw\n",
      "create joined databag\n",
      "store joineddatabag under set/tmp/2015q3.zip\\BS\\joined\n"
     ]
    },
    {
     "name": "stderr",
     "output_type": "stream",
     "text": [
      "2023-12-07 06:39:04,537 [INFO] configmgt  reading configuration from C:\\Users\\hansj\\.secfsdstools.cfg\n",
      "2023-12-07 06:39:04,537 [INFO] parallelexecution      items to process: 1\n",
      "2023-12-07 06:39:04,537 [INFO] zipcollecting  processing C:\\Users\\hansj\\secfsdstools\\data\\parquet\\quarter\\2017q1.zip\n",
      "2023-12-07 06:39:07,461 [INFO] parallelexecution      commited chunk: 0\n"
     ]
    },
    {
     "name": "stdout",
     "output_type": "stream",
     "text": [
      "store rawdatabag under set/tmp/2017q1.zip\\BS\\raw\n",
      "create joined databag\n",
      "store joineddatabag under set/tmp/2017q1.zip\\BS\\joined\n"
     ]
    },
    {
     "name": "stderr",
     "output_type": "stream",
     "text": [
      "2023-12-07 06:39:09,737 [INFO] configmgt  reading configuration from C:\\Users\\hansj\\.secfsdstools.cfg\n",
      "2023-12-07 06:39:09,742 [INFO] parallelexecution      items to process: 1\n",
      "2023-12-07 06:39:09,743 [INFO] zipcollecting  processing C:\\Users\\hansj\\secfsdstools\\data\\parquet\\quarter\\2020q4.zip\n",
      "2023-12-07 06:39:12,247 [INFO] parallelexecution      commited chunk: 0\n"
     ]
    },
    {
     "name": "stdout",
     "output_type": "stream",
     "text": [
      "store rawdatabag under set/tmp/2020q4.zip\\BS\\raw\n",
      "create joined databag\n",
      "store joineddatabag under set/tmp/2020q4.zip\\BS\\joined\n"
     ]
    },
    {
     "name": "stderr",
     "output_type": "stream",
     "text": [
      "2023-12-07 06:39:14,534 [INFO] configmgt  reading configuration from C:\\Users\\hansj\\.secfsdstools.cfg\n",
      "2023-12-07 06:39:14,534 [INFO] parallelexecution      items to process: 1\n",
      "2023-12-07 06:39:14,534 [INFO] zipcollecting  processing C:\\Users\\hansj\\secfsdstools\\data\\parquet\\quarter\\2013q2.zip\n",
      "2023-12-07 06:39:17,316 [INFO] parallelexecution      commited chunk: 0\n"
     ]
    },
    {
     "name": "stdout",
     "output_type": "stream",
     "text": [
      "store rawdatabag under set/tmp/2013q2.zip\\BS\\raw\n",
      "create joined databag\n",
      "store joineddatabag under set/tmp/2013q2.zip\\BS\\joined\n"
     ]
    },
    {
     "name": "stderr",
     "output_type": "stream",
     "text": [
      "2023-12-07 06:39:19,747 [INFO] configmgt  reading configuration from C:\\Users\\hansj\\.secfsdstools.cfg\n",
      "2023-12-07 06:39:19,747 [INFO] parallelexecution      items to process: 1\n",
      "2023-12-07 06:39:19,762 [INFO] zipcollecting  processing C:\\Users\\hansj\\secfsdstools\\data\\parquet\\quarter\\2021q2.zip\n",
      "2023-12-07 06:39:21,922 [INFO] parallelexecution      commited chunk: 0\n"
     ]
    },
    {
     "name": "stdout",
     "output_type": "stream",
     "text": [
      "store rawdatabag under set/tmp/2021q2.zip\\BS\\raw\n",
      "create joined databag\n",
      "store joineddatabag under set/tmp/2021q2.zip\\BS\\joined\n"
     ]
    },
    {
     "name": "stderr",
     "output_type": "stream",
     "text": [
      "2023-12-07 06:39:24,078 [INFO] configmgt  reading configuration from C:\\Users\\hansj\\.secfsdstools.cfg\n",
      "2023-12-07 06:39:24,094 [INFO] parallelexecution      items to process: 1\n",
      "2023-12-07 06:39:24,094 [INFO] zipcollecting  processing C:\\Users\\hansj\\secfsdstools\\data\\parquet\\quarter\\2022q2.zip\n",
      "2023-12-07 06:39:26,484 [INFO] parallelexecution      commited chunk: 0\n"
     ]
    },
    {
     "name": "stdout",
     "output_type": "stream",
     "text": [
      "store rawdatabag under set/tmp/2022q2.zip\\BS\\raw\n",
      "create joined databag\n",
      "store joineddatabag under set/tmp/2022q2.zip\\BS\\joined\n"
     ]
    },
    {
     "name": "stderr",
     "output_type": "stream",
     "text": [
      "2023-12-07 06:39:28,743 [INFO] configmgt  reading configuration from C:\\Users\\hansj\\.secfsdstools.cfg\n",
      "2023-12-07 06:39:28,743 [INFO] parallelexecution      items to process: 1\n",
      "2023-12-07 06:39:28,757 [INFO] zipcollecting  processing C:\\Users\\hansj\\secfsdstools\\data\\parquet\\quarter\\2009q4.zip\n",
      "2023-12-07 06:39:28,964 [INFO] parallelexecution      commited chunk: 0\n"
     ]
    },
    {
     "name": "stdout",
     "output_type": "stream",
     "text": [
      "store rawdatabag under set/tmp/2009q4.zip\\BS\\raw\n",
      "create joined databag\n",
      "store joineddatabag under set/tmp/2009q4.zip\\BS\\joined\n"
     ]
    },
    {
     "name": "stderr",
     "output_type": "stream",
     "text": [
      "2023-12-07 06:39:29,192 [INFO] configmgt  reading configuration from C:\\Users\\hansj\\.secfsdstools.cfg\n",
      "2023-12-07 06:39:29,192 [INFO] parallelexecution      items to process: 1\n",
      "2023-12-07 06:39:29,207 [INFO] zipcollecting  processing C:\\Users\\hansj\\secfsdstools\\data\\parquet\\quarter\\2023q3.zip\n",
      "2023-12-07 06:39:31,914 [INFO] parallelexecution      commited chunk: 0\n"
     ]
    },
    {
     "name": "stdout",
     "output_type": "stream",
     "text": [
      "store rawdatabag under set/tmp/2023q3.zip\\BS\\raw\n",
      "create joined databag\n",
      "store joineddatabag under set/tmp/2023q3.zip\\BS\\joined\n"
     ]
    },
    {
     "name": "stderr",
     "output_type": "stream",
     "text": [
      "2023-12-07 06:39:34,109 [INFO] configmgt  reading configuration from C:\\Users\\hansj\\.secfsdstools.cfg\n",
      "2023-12-07 06:39:34,109 [INFO] parallelexecution      items to process: 1\n",
      "2023-12-07 06:39:34,116 [INFO] zipcollecting  processing C:\\Users\\hansj\\secfsdstools\\data\\parquet\\quarter\\2019q4.zip\n",
      "2023-12-07 06:39:36,418 [INFO] parallelexecution      commited chunk: 0\n"
     ]
    },
    {
     "name": "stdout",
     "output_type": "stream",
     "text": [
      "store rawdatabag under set/tmp/2019q4.zip\\CF\\raw\n",
      "create joined databag\n",
      "store joineddatabag under set/tmp/2019q4.zip\\CF\\joined\n"
     ]
    },
    {
     "name": "stderr",
     "output_type": "stream",
     "text": [
      "2023-12-07 06:39:38,526 [INFO] configmgt  reading configuration from C:\\Users\\hansj\\.secfsdstools.cfg\n",
      "2023-12-07 06:39:38,541 [INFO] parallelexecution      items to process: 1\n",
      "2023-12-07 06:39:38,541 [INFO] zipcollecting  processing C:\\Users\\hansj\\secfsdstools\\data\\parquet\\quarter\\2023q1.zip\n",
      "2023-12-07 06:39:41,377 [INFO] parallelexecution      commited chunk: 0\n"
     ]
    },
    {
     "name": "stdout",
     "output_type": "stream",
     "text": [
      "store rawdatabag under set/tmp/2023q1.zip\\CF\\raw\n",
      "create joined databag\n",
      "store joineddatabag under set/tmp/2023q1.zip\\CF\\joined\n"
     ]
    },
    {
     "name": "stderr",
     "output_type": "stream",
     "text": [
      "2023-12-07 06:39:43,564 [INFO] configmgt  reading configuration from C:\\Users\\hansj\\.secfsdstools.cfg\n",
      "2023-12-07 06:39:43,569 [INFO] parallelexecution      items to process: 1\n",
      "2023-12-07 06:39:43,570 [INFO] zipcollecting  processing C:\\Users\\hansj\\secfsdstools\\data\\parquet\\quarter\\2014q3.zip\n",
      "2023-12-07 06:39:46,163 [INFO] parallelexecution      commited chunk: 0\n"
     ]
    },
    {
     "name": "stdout",
     "output_type": "stream",
     "text": [
      "store rawdatabag under set/tmp/2014q3.zip\\CF\\raw\n",
      "create joined databag\n",
      "store joineddatabag under set/tmp/2014q3.zip\\CF\\joined\n"
     ]
    },
    {
     "name": "stderr",
     "output_type": "stream",
     "text": [
      "2023-12-07 06:39:48,483 [INFO] configmgt  reading configuration from C:\\Users\\hansj\\.secfsdstools.cfg\n",
      "2023-12-07 06:39:48,499 [INFO] parallelexecution      items to process: 1\n",
      "2023-12-07 06:39:48,504 [INFO] zipcollecting  processing C:\\Users\\hansj\\secfsdstools\\data\\parquet\\quarter\\2016q3.zip\n",
      "2023-12-07 06:39:50,815 [INFO] parallelexecution      commited chunk: 0\n"
     ]
    },
    {
     "name": "stdout",
     "output_type": "stream",
     "text": [
      "store rawdatabag under set/tmp/2016q3.zip\\CF\\raw\n",
      "create joined databag\n",
      "store joineddatabag under set/tmp/2016q3.zip\\CF\\joined\n"
     ]
    },
    {
     "name": "stderr",
     "output_type": "stream",
     "text": [
      "2023-12-07 06:39:52,922 [INFO] configmgt  reading configuration from C:\\Users\\hansj\\.secfsdstools.cfg\n",
      "2023-12-07 06:39:52,922 [INFO] parallelexecution      items to process: 1\n",
      "2023-12-07 06:39:52,928 [INFO] zipcollecting  processing C:\\Users\\hansj\\secfsdstools\\data\\parquet\\quarter\\2018q1.zip\n",
      "2023-12-07 06:39:55,436 [INFO] parallelexecution      commited chunk: 0\n"
     ]
    },
    {
     "name": "stdout",
     "output_type": "stream",
     "text": [
      "store rawdatabag under set/tmp/2018q1.zip\\CF\\raw\n",
      "create joined databag\n",
      "store joineddatabag under set/tmp/2018q1.zip\\CF\\joined\n"
     ]
    },
    {
     "name": "stderr",
     "output_type": "stream",
     "text": [
      "2023-12-07 06:39:57,486 [INFO] configmgt  reading configuration from C:\\Users\\hansj\\.secfsdstools.cfg\n",
      "2023-12-07 06:39:57,502 [INFO] parallelexecution      items to process: 1\n",
      "2023-12-07 06:39:57,502 [INFO] zipcollecting  processing C:\\Users\\hansj\\secfsdstools\\data\\parquet\\quarter\\2013q4.zip\n",
      "2023-12-07 06:40:00,230 [INFO] parallelexecution      commited chunk: 0\n"
     ]
    },
    {
     "name": "stdout",
     "output_type": "stream",
     "text": [
      "store rawdatabag under set/tmp/2013q4.zip\\CF\\raw\n",
      "create joined databag\n",
      "store joineddatabag under set/tmp/2013q4.zip\\CF\\joined\n"
     ]
    },
    {
     "name": "stderr",
     "output_type": "stream",
     "text": [
      "2023-12-07 06:40:02,593 [INFO] configmgt  reading configuration from C:\\Users\\hansj\\.secfsdstools.cfg\n",
      "2023-12-07 06:40:02,598 [INFO] parallelexecution      items to process: 1\n",
      "2023-12-07 06:40:02,601 [INFO] zipcollecting  processing C:\\Users\\hansj\\secfsdstools\\data\\parquet\\quarter\\2015q2.zip\n",
      "2023-12-07 06:40:04,919 [INFO] parallelexecution      commited chunk: 0\n"
     ]
    },
    {
     "name": "stdout",
     "output_type": "stream",
     "text": [
      "store rawdatabag under set/tmp/2015q2.zip\\CF\\raw\n",
      "create joined databag\n",
      "store joineddatabag under set/tmp/2015q2.zip\\CF\\joined\n"
     ]
    },
    {
     "name": "stderr",
     "output_type": "stream",
     "text": [
      "2023-12-07 06:40:07,063 [INFO] configmgt  reading configuration from C:\\Users\\hansj\\.secfsdstools.cfg\n",
      "2023-12-07 06:40:07,063 [INFO] parallelexecution      items to process: 1\n",
      "2023-12-07 06:40:07,063 [INFO] zipcollecting  processing C:\\Users\\hansj\\secfsdstools\\data\\parquet\\quarter\\2021q3.zip\n",
      "2023-12-07 06:40:09,368 [INFO] parallelexecution      commited chunk: 0\n"
     ]
    },
    {
     "name": "stdout",
     "output_type": "stream",
     "text": [
      "store rawdatabag under set/tmp/2021q3.zip\\CF\\raw\n",
      "create joined databag\n",
      "store joineddatabag under set/tmp/2021q3.zip\\CF\\joined\n"
     ]
    },
    {
     "name": "stderr",
     "output_type": "stream",
     "text": [
      "2023-12-07 06:40:11,526 [INFO] configmgt  reading configuration from C:\\Users\\hansj\\.secfsdstools.cfg\n",
      "2023-12-07 06:40:11,526 [INFO] updateprocess  Check if new report zip files are available...\n",
      "2023-12-07 06:40:11,548 [INFO] updateprocess  check if there are new files to download from sec.gov ...\n",
      "2023-12-07 06:40:13,092 [INFO] updateprocess  start to transform to parquet format ...\n",
      "2023-12-07 06:40:13,092 [INFO] updateprocess  start to index parquet files ...\n",
      "2023-12-07 06:40:13,126 [INFO] parallelexecution      items to process: 1\n",
      "2023-12-07 06:40:13,127 [INFO] zipcollecting  processing C:\\Users\\hansj\\secfsdstools\\data\\parquet\\quarter\\2010q3.zip\n"
     ]
    },
    {
     "name": "stdout",
     "output_type": "stream",
     "text": [
      "No rapid-api-key is set: \n",
      "If you are interested in daily updates, please have a look at https://rapidapi.com/hansjoerg.wingeier/api/daily-sec-financial-statement-dataset\n"
     ]
    },
    {
     "name": "stderr",
     "output_type": "stream",
     "text": [
      "2023-12-07 06:40:13,588 [INFO] parallelexecution      commited chunk: 0\n"
     ]
    },
    {
     "name": "stdout",
     "output_type": "stream",
     "text": [
      "store rawdatabag under set/tmp/2010q3.zip\\CF\\raw\n"
     ]
    },
    {
     "name": "stderr",
     "output_type": "stream",
     "text": [
      "2023-12-07 06:40:14,040 [INFO] configmgt  reading configuration from C:\\Users\\hansj\\.secfsdstools.cfg\n",
      "2023-12-07 06:40:14,040 [INFO] parallelexecution      items to process: 1\n",
      "2023-12-07 06:40:14,053 [INFO] zipcollecting  processing C:\\Users\\hansj\\secfsdstools\\data\\parquet\\quarter\\2011q4.zip\n"
     ]
    },
    {
     "name": "stdout",
     "output_type": "stream",
     "text": [
      "create joined databag\n",
      "store joineddatabag under set/tmp/2010q3.zip\\CF\\joined\n"
     ]
    },
    {
     "name": "stderr",
     "output_type": "stream",
     "text": [
      "2023-12-07 06:40:16,084 [INFO] parallelexecution      commited chunk: 0\n"
     ]
    },
    {
     "name": "stdout",
     "output_type": "stream",
     "text": [
      "store rawdatabag under set/tmp/2011q4.zip\\CF\\raw\n",
      "create joined databag\n",
      "store joineddatabag under set/tmp/2011q4.zip\\CF\\joined\n"
     ]
    },
    {
     "name": "stderr",
     "output_type": "stream",
     "text": [
      "2023-12-07 06:40:18,120 [INFO] configmgt  reading configuration from C:\\Users\\hansj\\.secfsdstools.cfg\n",
      "2023-12-07 06:40:18,136 [INFO] parallelexecution      items to process: 1\n",
      "2023-12-07 06:40:18,136 [INFO] zipcollecting  processing C:\\Users\\hansj\\secfsdstools\\data\\parquet\\quarter\\2012q2.zip\n",
      "2023-12-07 06:40:20,299 [INFO] parallelexecution      commited chunk: 0\n"
     ]
    },
    {
     "name": "stdout",
     "output_type": "stream",
     "text": [
      "store rawdatabag under set/tmp/2012q2.zip\\CF\\raw\n",
      "create joined databag\n",
      "store joineddatabag under set/tmp/2012q2.zip\\CF\\joined\n"
     ]
    },
    {
     "name": "stderr",
     "output_type": "stream",
     "text": [
      "2023-12-07 06:40:22,318 [INFO] configmgt  reading configuration from C:\\Users\\hansj\\.secfsdstools.cfg\n",
      "2023-12-07 06:40:22,318 [INFO] parallelexecution      items to process: 1\n",
      "2023-12-07 06:40:22,325 [INFO] zipcollecting  processing C:\\Users\\hansj\\secfsdstools\\data\\parquet\\quarter\\2010q4.zip\n",
      "2023-12-07 06:40:22,853 [INFO] parallelexecution      commited chunk: 0\n"
     ]
    },
    {
     "name": "stdout",
     "output_type": "stream",
     "text": [
      "store rawdatabag under set/tmp/2010q4.zip\\CF\\raw\n",
      "create joined databag\n",
      "store joineddatabag under set/tmp/2010q4.zip\\CF\\joined\n"
     ]
    },
    {
     "name": "stderr",
     "output_type": "stream",
     "text": [
      "2023-12-07 06:40:23,350 [INFO] configmgt  reading configuration from C:\\Users\\hansj\\.secfsdstools.cfg\n",
      "2023-12-07 06:40:23,365 [INFO] parallelexecution      items to process: 1\n",
      "2023-12-07 06:40:23,367 [INFO] zipcollecting  processing C:\\Users\\hansj\\secfsdstools\\data\\parquet\\quarter\\2016q1.zip\n",
      "2023-12-07 06:40:26,314 [INFO] parallelexecution      commited chunk: 0\n"
     ]
    },
    {
     "name": "stdout",
     "output_type": "stream",
     "text": [
      "store rawdatabag under set/tmp/2016q1.zip\\CF\\raw\n",
      "create joined databag\n",
      "store joineddatabag under set/tmp/2016q1.zip\\CF\\joined\n"
     ]
    },
    {
     "name": "stderr",
     "output_type": "stream",
     "text": [
      "2023-12-07 06:40:28,536 [INFO] configmgt  reading configuration from C:\\Users\\hansj\\.secfsdstools.cfg\n",
      "2023-12-07 06:40:28,536 [INFO] parallelexecution      items to process: 1\n",
      "2023-12-07 06:40:28,548 [INFO] zipcollecting  processing C:\\Users\\hansj\\secfsdstools\\data\\parquet\\quarter\\2021q1.zip\n",
      "2023-12-07 06:40:31,375 [INFO] parallelexecution      commited chunk: 0\n"
     ]
    },
    {
     "name": "stdout",
     "output_type": "stream",
     "text": [
      "store rawdatabag under set/tmp/2021q1.zip\\CF\\raw\n",
      "create joined databag\n",
      "store joineddatabag under set/tmp/2021q1.zip\\CF\\joined\n"
     ]
    },
    {
     "name": "stderr",
     "output_type": "stream",
     "text": [
      "2023-12-07 06:40:33,504 [INFO] configmgt  reading configuration from C:\\Users\\hansj\\.secfsdstools.cfg\n",
      "2023-12-07 06:40:33,504 [INFO] parallelexecution      items to process: 1\n",
      "2023-12-07 06:40:33,520 [INFO] zipcollecting  processing C:\\Users\\hansj\\secfsdstools\\data\\parquet\\quarter\\2011q2.zip\n",
      "2023-12-07 06:40:34,029 [INFO] parallelexecution      commited chunk: 0\n"
     ]
    },
    {
     "name": "stdout",
     "output_type": "stream",
     "text": [
      "store rawdatabag under set/tmp/2011q2.zip\\CF\\raw\n"
     ]
    },
    {
     "name": "stderr",
     "output_type": "stream",
     "text": [
      "2023-12-07 06:40:34,512 [INFO] configmgt  reading configuration from C:\\Users\\hansj\\.secfsdstools.cfg\n"
     ]
    },
    {
     "name": "stdout",
     "output_type": "stream",
     "text": [
      "create joined databag\n",
      "store joineddatabag under set/tmp/2011q2.zip\\CF\\joined\n"
     ]
    },
    {
     "name": "stderr",
     "output_type": "stream",
     "text": [
      "2023-12-07 06:40:34,528 [INFO] parallelexecution      items to process: 1\n",
      "2023-12-07 06:40:34,528 [INFO] zipcollecting  processing C:\\Users\\hansj\\secfsdstools\\data\\parquet\\quarter\\2009q2.zip\n",
      "2023-12-07 06:40:34,564 [INFO] parallelexecution      commited chunk: 0\n",
      "2023-12-07 06:40:34,623 [INFO] configmgt  reading configuration from C:\\Users\\hansj\\.secfsdstools.cfg\n",
      "2023-12-07 06:40:34,623 [INFO] parallelexecution      items to process: 1\n",
      "2023-12-07 06:40:34,635 [INFO] zipcollecting  processing C:\\Users\\hansj\\secfsdstools\\data\\parquet\\quarter\\2022q1.zip\n"
     ]
    },
    {
     "name": "stdout",
     "output_type": "stream",
     "text": [
      "store rawdatabag under set/tmp/2009q2.zip\\CF\\raw\n",
      "create joined databag\n",
      "store joineddatabag under set/tmp/2009q2.zip\\CF\\joined\n"
     ]
    },
    {
     "name": "stderr",
     "output_type": "stream",
     "text": [
      "2023-12-07 06:40:37,613 [INFO] parallelexecution      commited chunk: 0\n"
     ]
    },
    {
     "name": "stdout",
     "output_type": "stream",
     "text": [
      "store rawdatabag under set/tmp/2022q1.zip\\CF\\raw\n",
      "create joined databag\n",
      "store joineddatabag under set/tmp/2022q1.zip\\CF\\joined\n"
     ]
    },
    {
     "name": "stderr",
     "output_type": "stream",
     "text": [
      "2023-12-07 06:40:39,911 [INFO] configmgt  reading configuration from C:\\Users\\hansj\\.secfsdstools.cfg\n",
      "2023-12-07 06:40:39,915 [INFO] parallelexecution      items to process: 1\n",
      "2023-12-07 06:40:39,916 [INFO] zipcollecting  processing C:\\Users\\hansj\\secfsdstools\\data\\parquet\\quarter\\2012q4.zip\n",
      "2023-12-07 06:40:42,802 [INFO] parallelexecution      commited chunk: 0\n"
     ]
    },
    {
     "name": "stdout",
     "output_type": "stream",
     "text": [
      "store rawdatabag under set/tmp/2012q4.zip\\CF\\raw\n",
      "create joined databag\n",
      "store joineddatabag under set/tmp/2012q4.zip\\CF\\joined\n"
     ]
    },
    {
     "name": "stderr",
     "output_type": "stream",
     "text": [
      "2023-12-07 06:40:45,137 [INFO] configmgt  reading configuration from C:\\Users\\hansj\\.secfsdstools.cfg\n",
      "2023-12-07 06:40:45,154 [INFO] parallelexecution      items to process: 1\n",
      "2023-12-07 06:40:45,155 [INFO] zipcollecting  processing C:\\Users\\hansj\\secfsdstools\\data\\parquet\\quarter\\2010q1.zip\n",
      "2023-12-07 06:40:45,343 [INFO] parallelexecution      commited chunk: 0\n",
      "2023-12-07 06:40:45,555 [INFO] configmgt  reading configuration from C:\\Users\\hansj\\.secfsdstools.cfg\n"
     ]
    },
    {
     "name": "stdout",
     "output_type": "stream",
     "text": [
      "store rawdatabag under set/tmp/2010q1.zip\\CF\\raw\n",
      "create joined databag\n",
      "store joineddatabag under set/tmp/2010q1.zip\\CF\\joined\n"
     ]
    },
    {
     "name": "stderr",
     "output_type": "stream",
     "text": [
      "2023-12-07 06:40:45,567 [INFO] parallelexecution      items to process: 1\n",
      "2023-12-07 06:40:45,569 [INFO] zipcollecting  processing C:\\Users\\hansj\\secfsdstools\\data\\parquet\\quarter\\2015q1.zip\n",
      "2023-12-07 06:40:48,751 [INFO] parallelexecution      commited chunk: 0\n"
     ]
    },
    {
     "name": "stdout",
     "output_type": "stream",
     "text": [
      "store rawdatabag under set/tmp/2015q1.zip\\CF\\raw\n",
      "create joined databag\n",
      "store joineddatabag under set/tmp/2015q1.zip\\CF\\joined\n"
     ]
    },
    {
     "name": "stderr",
     "output_type": "stream",
     "text": [
      "2023-12-07 06:40:51,101 [INFO] configmgt  reading configuration from C:\\Users\\hansj\\.secfsdstools.cfg\n",
      "2023-12-07 06:40:51,106 [INFO] parallelexecution      items to process: 1\n",
      "2023-12-07 06:40:51,108 [INFO] zipcollecting  processing C:\\Users\\hansj\\secfsdstools\\data\\parquet\\quarter\\2022q3.zip\n",
      "2023-12-07 06:40:53,458 [INFO] parallelexecution      commited chunk: 0\n"
     ]
    },
    {
     "name": "stdout",
     "output_type": "stream",
     "text": [
      "store rawdatabag under set/tmp/2022q3.zip\\CF\\raw\n",
      "create joined databag\n",
      "store joineddatabag under set/tmp/2022q3.zip\\CF\\joined\n"
     ]
    },
    {
     "name": "stderr",
     "output_type": "stream",
     "text": [
      "2023-12-07 06:40:55,711 [INFO] configmgt  reading configuration from C:\\Users\\hansj\\.secfsdstools.cfg\n",
      "2023-12-07 06:40:55,717 [INFO] parallelexecution      items to process: 1\n",
      "2023-12-07 06:40:55,719 [INFO] zipcollecting  processing C:\\Users\\hansj\\secfsdstools\\data\\parquet\\quarter\\2018q2.zip\n",
      "2023-12-07 06:40:57,795 [INFO] parallelexecution      commited chunk: 0\n"
     ]
    },
    {
     "name": "stdout",
     "output_type": "stream",
     "text": [
      "store rawdatabag under set/tmp/2018q2.zip\\CF\\raw\n",
      "create joined databag\n",
      "store joineddatabag under set/tmp/2018q2.zip\\CF\\joined\n"
     ]
    },
    {
     "name": "stderr",
     "output_type": "stream",
     "text": [
      "2023-12-07 06:40:59,771 [INFO] configmgt  reading configuration from C:\\Users\\hansj\\.secfsdstools.cfg\n",
      "2023-12-07 06:40:59,771 [INFO] parallelexecution      items to process: 1\n",
      "2023-12-07 06:40:59,771 [INFO] zipcollecting  processing C:\\Users\\hansj\\secfsdstools\\data\\parquet\\quarter\\2019q3.zip\n",
      "2023-12-07 06:41:02,023 [INFO] parallelexecution      commited chunk: 0\n"
     ]
    },
    {
     "name": "stdout",
     "output_type": "stream",
     "text": [
      "store rawdatabag under set/tmp/2019q3.zip\\CF\\raw\n",
      "create joined databag\n",
      "store joineddatabag under set/tmp/2019q3.zip\\CF\\joined\n"
     ]
    },
    {
     "name": "stderr",
     "output_type": "stream",
     "text": [
      "2023-12-07 06:41:04,052 [INFO] configmgt  reading configuration from C:\\Users\\hansj\\.secfsdstools.cfg\n",
      "2023-12-07 06:41:04,068 [INFO] parallelexecution      items to process: 1\n",
      "2023-12-07 06:41:04,068 [INFO] zipcollecting  processing C:\\Users\\hansj\\secfsdstools\\data\\parquet\\quarter\\2020q2.zip\n",
      "2023-12-07 06:41:06,042 [INFO] parallelexecution      commited chunk: 0\n"
     ]
    },
    {
     "name": "stdout",
     "output_type": "stream",
     "text": [
      "store rawdatabag under set/tmp/2020q2.zip\\CF\\raw\n",
      "create joined databag\n",
      "store joineddatabag under set/tmp/2020q2.zip\\CF\\joined\n"
     ]
    },
    {
     "name": "stderr",
     "output_type": "stream",
     "text": [
      "2023-12-07 06:41:07,954 [INFO] configmgt  reading configuration from C:\\Users\\hansj\\.secfsdstools.cfg\n",
      "2023-12-07 06:41:07,960 [INFO] parallelexecution      items to process: 1\n",
      "2023-12-07 06:41:07,960 [INFO] zipcollecting  processing C:\\Users\\hansj\\secfsdstools\\data\\parquet\\quarter\\2022q4.zip\n",
      "2023-12-07 06:41:10,389 [INFO] parallelexecution      commited chunk: 0\n"
     ]
    },
    {
     "name": "stdout",
     "output_type": "stream",
     "text": [
      "store rawdatabag under set/tmp/2022q4.zip\\CF\\raw\n",
      "create joined databag\n",
      "store joineddatabag under set/tmp/2022q4.zip\\CF\\joined\n"
     ]
    },
    {
     "name": "stderr",
     "output_type": "stream",
     "text": [
      "2023-12-07 06:41:12,562 [INFO] configmgt  reading configuration from C:\\Users\\hansj\\.secfsdstools.cfg\n",
      "2023-12-07 06:41:12,562 [INFO] parallelexecution      items to process: 1\n",
      "2023-12-07 06:41:12,562 [INFO] zipcollecting  processing C:\\Users\\hansj\\secfsdstools\\data\\parquet\\quarter\\2017q2.zip\n",
      "2023-12-07 06:41:14,528 [INFO] parallelexecution      commited chunk: 0\n"
     ]
    },
    {
     "name": "stdout",
     "output_type": "stream",
     "text": [
      "store rawdatabag under set/tmp/2017q2.zip\\CF\\raw\n",
      "create joined databag\n",
      "store joineddatabag under set/tmp/2017q2.zip\\CF\\joined\n"
     ]
    },
    {
     "name": "stderr",
     "output_type": "stream",
     "text": [
      "2023-12-07 06:41:16,382 [INFO] configmgt  reading configuration from C:\\Users\\hansj\\.secfsdstools.cfg\n",
      "2023-12-07 06:41:16,382 [INFO] parallelexecution      items to process: 1\n",
      "2023-12-07 06:41:16,382 [INFO] zipcollecting  processing C:\\Users\\hansj\\secfsdstools\\data\\parquet\\quarter\\2012q3.zip\n",
      "2023-12-07 06:41:18,869 [INFO] parallelexecution      commited chunk: 0\n"
     ]
    },
    {
     "name": "stdout",
     "output_type": "stream",
     "text": [
      "store rawdatabag under set/tmp/2012q3.zip\\CF\\raw\n",
      "create joined databag\n",
      "store joineddatabag under set/tmp/2012q3.zip\\CF\\joined\n"
     ]
    },
    {
     "name": "stderr",
     "output_type": "stream",
     "text": [
      "2023-12-07 06:41:20,900 [INFO] configmgt  reading configuration from C:\\Users\\hansj\\.secfsdstools.cfg\n",
      "2023-12-07 06:41:20,900 [INFO] parallelexecution      items to process: 1\n",
      "2023-12-07 06:41:20,900 [INFO] zipcollecting  processing C:\\Users\\hansj\\secfsdstools\\data\\parquet\\quarter\\2011q1.zip\n",
      "2023-12-07 06:41:21,535 [INFO] parallelexecution      commited chunk: 0\n"
     ]
    },
    {
     "name": "stdout",
     "output_type": "stream",
     "text": [
      "store rawdatabag under set/tmp/2011q1.zip\\CF\\raw\n"
     ]
    },
    {
     "name": "stderr",
     "output_type": "stream",
     "text": [
      "2023-12-07 06:41:22,062 [INFO] configmgt  reading configuration from C:\\Users\\hansj\\.secfsdstools.cfg\n"
     ]
    },
    {
     "name": "stdout",
     "output_type": "stream",
     "text": [
      "create joined databag\n",
      "store joineddatabag under set/tmp/2011q1.zip\\CF\\joined\n"
     ]
    },
    {
     "name": "stderr",
     "output_type": "stream",
     "text": [
      "2023-12-07 06:41:22,062 [INFO] parallelexecution      items to process: 1\n",
      "2023-12-07 06:41:22,077 [INFO] zipcollecting  processing C:\\Users\\hansj\\secfsdstools\\data\\parquet\\quarter\\2017q4.zip\n",
      "2023-12-07 06:41:24,212 [INFO] parallelexecution      commited chunk: 0\n"
     ]
    },
    {
     "name": "stdout",
     "output_type": "stream",
     "text": [
      "store rawdatabag under set/tmp/2017q4.zip\\CF\\raw\n",
      "create joined databag\n",
      "store joineddatabag under set/tmp/2017q4.zip\\CF\\joined\n"
     ]
    },
    {
     "name": "stderr",
     "output_type": "stream",
     "text": [
      "2023-12-07 06:41:26,241 [INFO] configmgt  reading configuration from C:\\Users\\hansj\\.secfsdstools.cfg\n",
      "2023-12-07 06:41:26,257 [INFO] parallelexecution      items to process: 1\n",
      "2023-12-07 06:41:26,257 [INFO] zipcollecting  processing C:\\Users\\hansj\\secfsdstools\\data\\parquet\\quarter\\2010q2.zip\n",
      "2023-12-07 06:41:26,413 [INFO] parallelexecution      commited chunk: 0\n",
      "2023-12-07 06:41:26,603 [INFO] configmgt  reading configuration from C:\\Users\\hansj\\.secfsdstools.cfg\n",
      "2023-12-07 06:41:26,603 [INFO] parallelexecution      items to process: 1\n",
      "2023-12-07 06:41:26,610 [INFO] zipcollecting  processing C:\\Users\\hansj\\secfsdstools\\data\\parquet\\quarter\\2018q3.zip\n"
     ]
    },
    {
     "name": "stdout",
     "output_type": "stream",
     "text": [
      "store rawdatabag under set/tmp/2010q2.zip\\CF\\raw\n",
      "create joined databag\n",
      "store joineddatabag under set/tmp/2010q2.zip\\CF\\joined\n"
     ]
    },
    {
     "name": "stderr",
     "output_type": "stream",
     "text": [
      "2023-12-07 06:41:28,774 [INFO] parallelexecution      commited chunk: 0\n"
     ]
    },
    {
     "name": "stdout",
     "output_type": "stream",
     "text": [
      "store rawdatabag under set/tmp/2018q3.zip\\CF\\raw\n",
      "create joined databag\n",
      "store joineddatabag under set/tmp/2018q3.zip\\CF\\joined\n"
     ]
    },
    {
     "name": "stderr",
     "output_type": "stream",
     "text": [
      "2023-12-07 06:41:30,751 [INFO] configmgt  reading configuration from C:\\Users\\hansj\\.secfsdstools.cfg\n",
      "2023-12-07 06:41:30,755 [INFO] parallelexecution      items to process: 1\n",
      "2023-12-07 06:41:30,756 [INFO] zipcollecting  processing C:\\Users\\hansj\\secfsdstools\\data\\parquet\\quarter\\2021q4.zip\n",
      "2023-12-07 06:41:33,275 [INFO] parallelexecution      commited chunk: 0\n"
     ]
    },
    {
     "name": "stdout",
     "output_type": "stream",
     "text": [
      "store rawdatabag under set/tmp/2021q4.zip\\CF\\raw\n",
      "create joined databag\n",
      "store joineddatabag under set/tmp/2021q4.zip\\CF\\joined\n"
     ]
    },
    {
     "name": "stderr",
     "output_type": "stream",
     "text": [
      "2023-12-07 06:41:35,493 [INFO] configmgt  reading configuration from C:\\Users\\hansj\\.secfsdstools.cfg\n",
      "2023-12-07 06:41:35,509 [INFO] parallelexecution      items to process: 1\n",
      "2023-12-07 06:41:35,509 [INFO] zipcollecting  processing C:\\Users\\hansj\\secfsdstools\\data\\parquet\\quarter\\2019q2.zip\n",
      "2023-12-07 06:41:37,642 [INFO] parallelexecution      commited chunk: 0\n"
     ]
    },
    {
     "name": "stdout",
     "output_type": "stream",
     "text": [
      "store rawdatabag under set/tmp/2019q2.zip\\CF\\raw\n",
      "create joined databag\n",
      "store joineddatabag under set/tmp/2019q2.zip\\CF\\joined\n"
     ]
    },
    {
     "name": "stderr",
     "output_type": "stream",
     "text": [
      "2023-12-07 06:41:39,619 [INFO] configmgt  reading configuration from C:\\Users\\hansj\\.secfsdstools.cfg\n",
      "2023-12-07 06:41:39,619 [INFO] parallelexecution      items to process: 1\n",
      "2023-12-07 06:41:39,619 [INFO] zipcollecting  processing C:\\Users\\hansj\\secfsdstools\\data\\parquet\\quarter\\2013q1.zip\n",
      "2023-12-07 06:41:42,701 [INFO] parallelexecution      commited chunk: 0\n"
     ]
    },
    {
     "name": "stdout",
     "output_type": "stream",
     "text": [
      "store rawdatabag under set/tmp/2013q1.zip\\CF\\raw\n",
      "create joined databag\n",
      "store joineddatabag under set/tmp/2013q1.zip\\CF\\joined\n"
     ]
    },
    {
     "name": "stderr",
     "output_type": "stream",
     "text": [
      "2023-12-07 06:41:44,981 [INFO] configmgt  reading configuration from C:\\Users\\hansj\\.secfsdstools.cfg\n",
      "2023-12-07 06:41:44,986 [INFO] parallelexecution      items to process: 1\n",
      "2023-12-07 06:41:44,987 [INFO] zipcollecting  processing C:\\Users\\hansj\\secfsdstools\\data\\parquet\\quarter\\2015q4.zip\n",
      "2023-12-07 06:41:47,469 [INFO] parallelexecution      commited chunk: 0\n"
     ]
    },
    {
     "name": "stdout",
     "output_type": "stream",
     "text": [
      "store rawdatabag under set/tmp/2015q4.zip\\CF\\raw\n",
      "create joined databag\n",
      "store joineddatabag under set/tmp/2015q4.zip\\CF\\joined\n"
     ]
    },
    {
     "name": "stderr",
     "output_type": "stream",
     "text": [
      "2023-12-07 06:41:49,729 [INFO] configmgt  reading configuration from C:\\Users\\hansj\\.secfsdstools.cfg\n",
      "2023-12-07 06:41:49,735 [INFO] parallelexecution      items to process: 1\n",
      "2023-12-07 06:41:49,736 [INFO] zipcollecting  processing C:\\Users\\hansj\\secfsdstools\\data\\parquet\\quarter\\2009q3.zip\n",
      "2023-12-07 06:41:49,886 [INFO] parallelexecution      commited chunk: 0\n",
      "2023-12-07 06:41:50,074 [INFO] configmgt  reading configuration from C:\\Users\\hansj\\.secfsdstools.cfg\n",
      "2023-12-07 06:41:50,079 [INFO] parallelexecution      items to process: 1\n",
      "2023-12-07 06:41:50,081 [INFO] zipcollecting  processing C:\\Users\\hansj\\secfsdstools\\data\\parquet\\quarter\\2016q2.zip\n"
     ]
    },
    {
     "name": "stdout",
     "output_type": "stream",
     "text": [
      "store rawdatabag under set/tmp/2009q3.zip\\CF\\raw\n",
      "create joined databag\n",
      "store joineddatabag under set/tmp/2009q3.zip\\CF\\joined\n"
     ]
    },
    {
     "name": "stderr",
     "output_type": "stream",
     "text": [
      "2023-12-07 06:41:52,221 [INFO] parallelexecution      commited chunk: 0\n"
     ]
    },
    {
     "name": "stdout",
     "output_type": "stream",
     "text": [
      "store rawdatabag under set/tmp/2016q2.zip\\CF\\raw\n",
      "create joined databag\n",
      "store joineddatabag under set/tmp/2016q2.zip\\CF\\joined\n"
     ]
    },
    {
     "name": "stderr",
     "output_type": "stream",
     "text": [
      "2023-12-07 06:41:54,194 [INFO] configmgt  reading configuration from C:\\Users\\hansj\\.secfsdstools.cfg\n",
      "2023-12-07 06:41:54,194 [INFO] parallelexecution      items to process: 1\n",
      "2023-12-07 06:41:54,194 [INFO] zipcollecting  processing C:\\Users\\hansj\\secfsdstools\\data\\parquet\\quarter\\2013q3.zip\n",
      "2023-12-07 06:41:56,997 [INFO] parallelexecution      commited chunk: 0\n"
     ]
    },
    {
     "name": "stdout",
     "output_type": "stream",
     "text": [
      "store rawdatabag under set/tmp/2013q3.zip\\CF\\raw\n",
      "create joined databag\n",
      "store joineddatabag under set/tmp/2013q3.zip\\CF\\joined\n"
     ]
    },
    {
     "name": "stderr",
     "output_type": "stream",
     "text": [
      "2023-12-07 06:41:59,367 [INFO] configmgt  reading configuration from C:\\Users\\hansj\\.secfsdstools.cfg\n",
      "2023-12-07 06:41:59,367 [INFO] parallelexecution      items to process: 1\n",
      "2023-12-07 06:41:59,367 [INFO] zipcollecting  processing C:\\Users\\hansj\\secfsdstools\\data\\parquet\\quarter\\2016q4.zip\n",
      "2023-12-07 06:42:01,682 [INFO] parallelexecution      commited chunk: 0\n"
     ]
    },
    {
     "name": "stdout",
     "output_type": "stream",
     "text": [
      "store rawdatabag under set/tmp/2016q4.zip\\CF\\raw\n",
      "create joined databag\n",
      "store joineddatabag under set/tmp/2016q4.zip\\CF\\joined\n"
     ]
    },
    {
     "name": "stderr",
     "output_type": "stream",
     "text": [
      "2023-12-07 06:42:03,820 [INFO] configmgt  reading configuration from C:\\Users\\hansj\\.secfsdstools.cfg\n",
      "2023-12-07 06:42:03,825 [INFO] parallelexecution      items to process: 1\n",
      "2023-12-07 06:42:03,827 [INFO] zipcollecting  processing C:\\Users\\hansj\\secfsdstools\\data\\parquet\\quarter\\2017q3.zip\n",
      "2023-12-07 06:42:06,132 [INFO] parallelexecution      commited chunk: 0\n"
     ]
    },
    {
     "name": "stdout",
     "output_type": "stream",
     "text": [
      "store rawdatabag under set/tmp/2017q3.zip\\CF\\raw\n",
      "create joined databag\n",
      "store joineddatabag under set/tmp/2017q3.zip\\CF\\joined\n"
     ]
    },
    {
     "name": "stderr",
     "output_type": "stream",
     "text": [
      "2023-12-07 06:42:08,171 [INFO] configmgt  reading configuration from C:\\Users\\hansj\\.secfsdstools.cfg\n",
      "2023-12-07 06:42:08,171 [INFO] parallelexecution      items to process: 1\n",
      "2023-12-07 06:42:08,171 [INFO] zipcollecting  processing C:\\Users\\hansj\\secfsdstools\\data\\parquet\\quarter\\2018q4.zip\n",
      "2023-12-07 06:42:10,348 [INFO] parallelexecution      commited chunk: 0\n"
     ]
    },
    {
     "name": "stdout",
     "output_type": "stream",
     "text": [
      "store rawdatabag under set/tmp/2018q4.zip\\CF\\raw\n",
      "create joined databag\n",
      "store joineddatabag under set/tmp/2018q4.zip\\CF\\joined\n"
     ]
    },
    {
     "name": "stderr",
     "output_type": "stream",
     "text": [
      "2023-12-07 06:42:12,371 [INFO] configmgt  reading configuration from C:\\Users\\hansj\\.secfsdstools.cfg\n",
      "2023-12-07 06:42:12,371 [INFO] parallelexecution      items to process: 1\n",
      "2023-12-07 06:42:12,371 [INFO] zipcollecting  processing C:\\Users\\hansj\\secfsdstools\\data\\parquet\\quarter\\2023q2.zip\n",
      "2023-12-07 06:42:14,592 [INFO] parallelexecution      commited chunk: 0\n"
     ]
    },
    {
     "name": "stdout",
     "output_type": "stream",
     "text": [
      "store rawdatabag under set/tmp/2023q2.zip\\CF\\raw\n",
      "create joined databag\n",
      "store joineddatabag under set/tmp/2023q2.zip\\CF\\joined\n"
     ]
    },
    {
     "name": "stderr",
     "output_type": "stream",
     "text": [
      "2023-12-07 06:42:16,567 [INFO] configmgt  reading configuration from C:\\Users\\hansj\\.secfsdstools.cfg\n",
      "2023-12-07 06:42:16,571 [INFO] parallelexecution      items to process: 1\n",
      "2023-12-07 06:42:16,573 [INFO] zipcollecting  processing C:\\Users\\hansj\\secfsdstools\\data\\parquet\\quarter\\2014q4.zip\n",
      "2023-12-07 06:42:19,210 [INFO] parallelexecution      commited chunk: 0\n"
     ]
    },
    {
     "name": "stdout",
     "output_type": "stream",
     "text": [
      "store rawdatabag under set/tmp/2014q4.zip\\CF\\raw\n",
      "create joined databag\n",
      "store joineddatabag under set/tmp/2014q4.zip\\CF\\joined\n"
     ]
    },
    {
     "name": "stderr",
     "output_type": "stream",
     "text": [
      "2023-12-07 06:42:21,485 [INFO] configmgt  reading configuration from C:\\Users\\hansj\\.secfsdstools.cfg\n",
      "2023-12-07 06:42:21,495 [INFO] parallelexecution      items to process: 1\n",
      "2023-12-07 06:42:21,496 [INFO] zipcollecting  processing C:\\Users\\hansj\\secfsdstools\\data\\parquet\\quarter\\2011q3.zip\n",
      "2023-12-07 06:42:23,337 [INFO] parallelexecution      commited chunk: 0\n"
     ]
    },
    {
     "name": "stdout",
     "output_type": "stream",
     "text": [
      "store rawdatabag under set/tmp/2011q3.zip\\CF\\raw\n",
      "create joined databag\n",
      "store joineddatabag under set/tmp/2011q3.zip\\CF\\joined\n"
     ]
    },
    {
     "name": "stderr",
     "output_type": "stream",
     "text": [
      "2023-12-07 06:42:25,250 [INFO] configmgt  reading configuration from C:\\Users\\hansj\\.secfsdstools.cfg\n",
      "2023-12-07 06:42:25,255 [INFO] parallelexecution      items to process: 1\n",
      "2023-12-07 06:42:25,257 [INFO] zipcollecting  processing C:\\Users\\hansj\\secfsdstools\\data\\parquet\\quarter\\2020q3.zip\n",
      "2023-12-07 06:42:27,458 [INFO] parallelexecution      commited chunk: 0\n"
     ]
    },
    {
     "name": "stdout",
     "output_type": "stream",
     "text": [
      "store rawdatabag under set/tmp/2020q3.zip\\CF\\raw\n",
      "create joined databag\n",
      "store joineddatabag under set/tmp/2020q3.zip\\CF\\joined\n"
     ]
    },
    {
     "name": "stderr",
     "output_type": "stream",
     "text": [
      "2023-12-07 06:42:29,451 [INFO] configmgt  reading configuration from C:\\Users\\hansj\\.secfsdstools.cfg\n",
      "2023-12-07 06:42:29,456 [INFO] parallelexecution      items to process: 1\n",
      "2023-12-07 06:42:29,457 [INFO] zipcollecting  processing C:\\Users\\hansj\\secfsdstools\\data\\parquet\\quarter\\2014q2.zip\n",
      "2023-12-07 06:42:31,941 [INFO] parallelexecution      commited chunk: 0\n"
     ]
    },
    {
     "name": "stdout",
     "output_type": "stream",
     "text": [
      "store rawdatabag under set/tmp/2014q2.zip\\CF\\raw\n",
      "create joined databag\n",
      "store joineddatabag under set/tmp/2014q2.zip\\CF\\joined\n"
     ]
    },
    {
     "name": "stderr",
     "output_type": "stream",
     "text": [
      "2023-12-07 06:42:34,229 [INFO] configmgt  reading configuration from C:\\Users\\hansj\\.secfsdstools.cfg\n",
      "2023-12-07 06:42:34,234 [INFO] parallelexecution      items to process: 1\n",
      "2023-12-07 06:42:34,235 [INFO] zipcollecting  processing C:\\Users\\hansj\\secfsdstools\\data\\parquet\\quarter\\2020q1.zip\n",
      "2023-12-07 06:42:36,833 [INFO] parallelexecution      commited chunk: 0\n"
     ]
    },
    {
     "name": "stdout",
     "output_type": "stream",
     "text": [
      "store rawdatabag under set/tmp/2020q1.zip\\CF\\raw\n",
      "create joined databag\n",
      "store joineddatabag under set/tmp/2020q1.zip\\CF\\joined\n"
     ]
    },
    {
     "name": "stderr",
     "output_type": "stream",
     "text": [
      "2023-12-07 06:42:38,899 [INFO] configmgt  reading configuration from C:\\Users\\hansj\\.secfsdstools.cfg\n",
      "2023-12-07 06:42:38,915 [INFO] parallelexecution      items to process: 1\n",
      "2023-12-07 06:42:38,915 [INFO] zipcollecting  processing C:\\Users\\hansj\\secfsdstools\\data\\parquet\\quarter\\2012q1.zip\n",
      "2023-12-07 06:42:41,282 [INFO] parallelexecution      commited chunk: 0\n"
     ]
    },
    {
     "name": "stdout",
     "output_type": "stream",
     "text": [
      "store rawdatabag under set/tmp/2012q1.zip\\CF\\raw\n",
      "create joined databag\n",
      "store joineddatabag under set/tmp/2012q1.zip\\CF\\joined\n"
     ]
    },
    {
     "name": "stderr",
     "output_type": "stream",
     "text": [
      "2023-12-07 06:42:43,272 [INFO] configmgt  reading configuration from C:\\Users\\hansj\\.secfsdstools.cfg\n",
      "2023-12-07 06:42:43,272 [INFO] parallelexecution      items to process: 1\n",
      "2023-12-07 06:42:43,272 [INFO] zipcollecting  processing C:\\Users\\hansj\\secfsdstools\\data\\parquet\\quarter\\2014q1.zip\n",
      "2023-12-07 06:42:46,420 [INFO] parallelexecution      commited chunk: 0\n"
     ]
    },
    {
     "name": "stdout",
     "output_type": "stream",
     "text": [
      "store rawdatabag under set/tmp/2014q1.zip\\CF\\raw\n",
      "create joined databag\n",
      "store joineddatabag under set/tmp/2014q1.zip\\CF\\joined\n"
     ]
    },
    {
     "name": "stderr",
     "output_type": "stream",
     "text": [
      "2023-12-07 06:42:48,810 [INFO] configmgt  reading configuration from C:\\Users\\hansj\\.secfsdstools.cfg\n",
      "2023-12-07 06:42:48,810 [INFO] parallelexecution      items to process: 1\n",
      "2023-12-07 06:42:48,826 [INFO] zipcollecting  processing C:\\Users\\hansj\\secfsdstools\\data\\parquet\\quarter\\2019q1.zip\n",
      "2023-12-07 06:42:51,229 [INFO] parallelexecution      commited chunk: 0\n"
     ]
    },
    {
     "name": "stdout",
     "output_type": "stream",
     "text": [
      "store rawdatabag under set/tmp/2019q1.zip\\CF\\raw\n",
      "create joined databag\n",
      "store joineddatabag under set/tmp/2019q1.zip\\CF\\joined\n"
     ]
    },
    {
     "name": "stderr",
     "output_type": "stream",
     "text": [
      "2023-12-07 06:42:53,268 [INFO] configmgt  reading configuration from C:\\Users\\hansj\\.secfsdstools.cfg\n",
      "2023-12-07 06:42:53,272 [INFO] parallelexecution      items to process: 1\n",
      "2023-12-07 06:42:53,273 [INFO] zipcollecting  processing C:\\Users\\hansj\\secfsdstools\\data\\parquet\\quarter\\2015q3.zip\n",
      "2023-12-07 06:42:55,759 [INFO] parallelexecution      commited chunk: 0\n"
     ]
    },
    {
     "name": "stdout",
     "output_type": "stream",
     "text": [
      "store rawdatabag under set/tmp/2015q3.zip\\CF\\raw\n",
      "create joined databag\n",
      "store joineddatabag under set/tmp/2015q3.zip\\CF\\joined\n"
     ]
    },
    {
     "name": "stderr",
     "output_type": "stream",
     "text": [
      "2023-12-07 06:42:57,964 [INFO] configmgt  reading configuration from C:\\Users\\hansj\\.secfsdstools.cfg\n",
      "2023-12-07 06:42:57,978 [INFO] parallelexecution      items to process: 1\n",
      "2023-12-07 06:42:57,979 [INFO] zipcollecting  processing C:\\Users\\hansj\\secfsdstools\\data\\parquet\\quarter\\2017q1.zip\n",
      "2023-12-07 06:43:00,776 [INFO] parallelexecution      commited chunk: 0\n"
     ]
    },
    {
     "name": "stdout",
     "output_type": "stream",
     "text": [
      "store rawdatabag under set/tmp/2017q1.zip\\CF\\raw\n",
      "create joined databag\n",
      "store joineddatabag under set/tmp/2017q1.zip\\CF\\joined\n"
     ]
    },
    {
     "name": "stderr",
     "output_type": "stream",
     "text": [
      "2023-12-07 06:43:02,993 [INFO] configmgt  reading configuration from C:\\Users\\hansj\\.secfsdstools.cfg\n",
      "2023-12-07 06:43:02,999 [INFO] parallelexecution      items to process: 1\n",
      "2023-12-07 06:43:03,001 [INFO] zipcollecting  processing C:\\Users\\hansj\\secfsdstools\\data\\parquet\\quarter\\2020q4.zip\n",
      "2023-12-07 06:43:05,384 [INFO] parallelexecution      commited chunk: 0\n"
     ]
    },
    {
     "name": "stdout",
     "output_type": "stream",
     "text": [
      "store rawdatabag under set/tmp/2020q4.zip\\CF\\raw\n",
      "create joined databag\n",
      "store joineddatabag under set/tmp/2020q4.zip\\CF\\joined\n"
     ]
    },
    {
     "name": "stderr",
     "output_type": "stream",
     "text": [
      "2023-12-07 06:43:07,420 [INFO] configmgt  reading configuration from C:\\Users\\hansj\\.secfsdstools.cfg\n",
      "2023-12-07 06:43:07,436 [INFO] parallelexecution      items to process: 1\n",
      "2023-12-07 06:43:07,436 [INFO] zipcollecting  processing C:\\Users\\hansj\\secfsdstools\\data\\parquet\\quarter\\2013q2.zip\n",
      "2023-12-07 06:43:10,055 [INFO] parallelexecution      commited chunk: 0\n"
     ]
    },
    {
     "name": "stdout",
     "output_type": "stream",
     "text": [
      "store rawdatabag under set/tmp/2013q2.zip\\CF\\raw\n",
      "create joined databag\n",
      "store joineddatabag under set/tmp/2013q2.zip\\CF\\joined\n"
     ]
    },
    {
     "name": "stderr",
     "output_type": "stream",
     "text": [
      "2023-12-07 06:43:12,372 [INFO] configmgt  reading configuration from C:\\Users\\hansj\\.secfsdstools.cfg\n",
      "2023-12-07 06:43:12,372 [INFO] parallelexecution      items to process: 1\n",
      "2023-12-07 06:43:12,372 [INFO] zipcollecting  processing C:\\Users\\hansj\\secfsdstools\\data\\parquet\\quarter\\2021q2.zip\n",
      "2023-12-07 06:43:14,407 [INFO] parallelexecution      commited chunk: 0\n"
     ]
    },
    {
     "name": "stdout",
     "output_type": "stream",
     "text": [
      "store rawdatabag under set/tmp/2021q2.zip\\CF\\raw\n",
      "create joined databag\n",
      "store joineddatabag under set/tmp/2021q2.zip\\CF\\joined\n"
     ]
    },
    {
     "name": "stderr",
     "output_type": "stream",
     "text": [
      "2023-12-07 06:43:16,369 [INFO] configmgt  reading configuration from C:\\Users\\hansj\\.secfsdstools.cfg\n",
      "2023-12-07 06:43:16,372 [INFO] parallelexecution      items to process: 1\n",
      "2023-12-07 06:43:16,372 [INFO] zipcollecting  processing C:\\Users\\hansj\\secfsdstools\\data\\parquet\\quarter\\2022q2.zip\n",
      "2023-12-07 06:43:18,577 [INFO] parallelexecution      commited chunk: 0\n"
     ]
    },
    {
     "name": "stdout",
     "output_type": "stream",
     "text": [
      "store rawdatabag under set/tmp/2022q2.zip\\CF\\raw\n",
      "create joined databag\n",
      "store joineddatabag under set/tmp/2022q2.zip\\CF\\joined\n"
     ]
    },
    {
     "name": "stderr",
     "output_type": "stream",
     "text": [
      "2023-12-07 06:43:20,639 [INFO] configmgt  reading configuration from C:\\Users\\hansj\\.secfsdstools.cfg\n",
      "2023-12-07 06:43:20,643 [INFO] parallelexecution      items to process: 1\n",
      "2023-12-07 06:43:20,644 [INFO] zipcollecting  processing C:\\Users\\hansj\\secfsdstools\\data\\parquet\\quarter\\2009q4.zip\n",
      "2023-12-07 06:43:20,830 [INFO] parallelexecution      commited chunk: 0\n",
      "2023-12-07 06:43:21,048 [INFO] configmgt  reading configuration from C:\\Users\\hansj\\.secfsdstools.cfg\n"
     ]
    },
    {
     "name": "stdout",
     "output_type": "stream",
     "text": [
      "store rawdatabag under set/tmp/2009q4.zip\\CF\\raw\n",
      "create joined databag\n",
      "store joineddatabag under set/tmp/2009q4.zip\\CF\\joined\n"
     ]
    },
    {
     "name": "stderr",
     "output_type": "stream",
     "text": [
      "2023-12-07 06:43:21,053 [INFO] parallelexecution      items to process: 1\n",
      "2023-12-07 06:43:21,054 [INFO] zipcollecting  processing C:\\Users\\hansj\\secfsdstools\\data\\parquet\\quarter\\2023q3.zip\n",
      "2023-12-07 06:43:23,682 [INFO] parallelexecution      commited chunk: 0\n"
     ]
    },
    {
     "name": "stdout",
     "output_type": "stream",
     "text": [
      "store rawdatabag under set/tmp/2023q3.zip\\CF\\raw\n",
      "create joined databag\n",
      "store joineddatabag under set/tmp/2023q3.zip\\CF\\joined\n"
     ]
    },
    {
     "name": "stderr",
     "output_type": "stream",
     "text": [
      "2023-12-07 06:43:25,765 [INFO] configmgt  reading configuration from C:\\Users\\hansj\\.secfsdstools.cfg\n",
      "2023-12-07 06:43:25,770 [INFO] parallelexecution      items to process: 1\n",
      "2023-12-07 06:43:25,771 [INFO] zipcollecting  processing C:\\Users\\hansj\\secfsdstools\\data\\parquet\\quarter\\2019q4.zip\n",
      "2023-12-07 06:43:28,045 [INFO] parallelexecution      commited chunk: 0\n"
     ]
    },
    {
     "name": "stdout",
     "output_type": "stream",
     "text": [
      "store rawdatabag under set/tmp/2019q4.zip\\IS\\raw\n",
      "create joined databag\n",
      "store joineddatabag under set/tmp/2019q4.zip\\IS\\joined\n"
     ]
    },
    {
     "name": "stderr",
     "output_type": "stream",
     "text": [
      "2023-12-07 06:43:30,027 [INFO] configmgt  reading configuration from C:\\Users\\hansj\\.secfsdstools.cfg\n",
      "2023-12-07 06:43:30,027 [INFO] parallelexecution      items to process: 1\n",
      "2023-12-07 06:43:30,027 [INFO] zipcollecting  processing C:\\Users\\hansj\\secfsdstools\\data\\parquet\\quarter\\2023q1.zip\n",
      "2023-12-07 06:43:32,649 [INFO] parallelexecution      commited chunk: 0\n"
     ]
    },
    {
     "name": "stdout",
     "output_type": "stream",
     "text": [
      "store rawdatabag under set/tmp/2023q1.zip\\IS\\raw\n",
      "create joined databag\n",
      "store joineddatabag under set/tmp/2023q1.zip\\IS\\joined\n"
     ]
    },
    {
     "name": "stderr",
     "output_type": "stream",
     "text": [
      "2023-12-07 06:43:34,645 [INFO] configmgt  reading configuration from C:\\Users\\hansj\\.secfsdstools.cfg\n",
      "2023-12-07 06:43:34,651 [INFO] parallelexecution      items to process: 1\n",
      "2023-12-07 06:43:34,653 [INFO] zipcollecting  processing C:\\Users\\hansj\\secfsdstools\\data\\parquet\\quarter\\2014q3.zip\n",
      "2023-12-07 06:43:37,322 [INFO] parallelexecution      commited chunk: 0\n"
     ]
    },
    {
     "name": "stdout",
     "output_type": "stream",
     "text": [
      "store rawdatabag under set/tmp/2014q3.zip\\IS\\raw\n",
      "create joined databag\n",
      "store joineddatabag under set/tmp/2014q3.zip\\IS\\joined\n"
     ]
    },
    {
     "name": "stderr",
     "output_type": "stream",
     "text": [
      "2023-12-07 06:43:39,540 [INFO] configmgt  reading configuration from C:\\Users\\hansj\\.secfsdstools.cfg\n",
      "2023-12-07 06:43:39,540 [INFO] parallelexecution      items to process: 1\n",
      "2023-12-07 06:43:39,540 [INFO] zipcollecting  processing C:\\Users\\hansj\\secfsdstools\\data\\parquet\\quarter\\2016q3.zip\n",
      "2023-12-07 06:43:41,795 [INFO] parallelexecution      commited chunk: 0\n"
     ]
    },
    {
     "name": "stdout",
     "output_type": "stream",
     "text": [
      "store rawdatabag under set/tmp/2016q3.zip\\IS\\raw\n",
      "create joined databag\n",
      "store joineddatabag under set/tmp/2016q3.zip\\IS\\joined\n"
     ]
    },
    {
     "name": "stderr",
     "output_type": "stream",
     "text": [
      "2023-12-07 06:43:43,848 [INFO] configmgt  reading configuration from C:\\Users\\hansj\\.secfsdstools.cfg\n",
      "2023-12-07 06:43:43,856 [INFO] parallelexecution      items to process: 1\n",
      "2023-12-07 06:43:43,857 [INFO] zipcollecting  processing C:\\Users\\hansj\\secfsdstools\\data\\parquet\\quarter\\2018q1.zip\n",
      "2023-12-07 06:43:46,356 [INFO] parallelexecution      commited chunk: 0\n"
     ]
    },
    {
     "name": "stdout",
     "output_type": "stream",
     "text": [
      "store rawdatabag under set/tmp/2018q1.zip\\IS\\raw\n",
      "create joined databag\n",
      "store joineddatabag under set/tmp/2018q1.zip\\IS\\joined\n"
     ]
    },
    {
     "name": "stderr",
     "output_type": "stream",
     "text": [
      "2023-12-07 06:43:48,288 [INFO] configmgt  reading configuration from C:\\Users\\hansj\\.secfsdstools.cfg\n",
      "2023-12-07 06:43:48,288 [INFO] parallelexecution      items to process: 1\n",
      "2023-12-07 06:43:48,288 [INFO] zipcollecting  processing C:\\Users\\hansj\\secfsdstools\\data\\parquet\\quarter\\2013q4.zip\n",
      "2023-12-07 06:43:50,915 [INFO] parallelexecution      commited chunk: 0\n"
     ]
    },
    {
     "name": "stdout",
     "output_type": "stream",
     "text": [
      "store rawdatabag under set/tmp/2013q4.zip\\IS\\raw\n",
      "create joined databag\n",
      "store joineddatabag under set/tmp/2013q4.zip\\IS\\joined\n"
     ]
    },
    {
     "name": "stderr",
     "output_type": "stream",
     "text": [
      "2023-12-07 06:43:53,186 [INFO] configmgt  reading configuration from C:\\Users\\hansj\\.secfsdstools.cfg\n",
      "2023-12-07 06:43:53,186 [INFO] parallelexecution      items to process: 1\n",
      "2023-12-07 06:43:53,186 [INFO] zipcollecting  processing C:\\Users\\hansj\\secfsdstools\\data\\parquet\\quarter\\2015q2.zip\n",
      "2023-12-07 06:43:55,465 [INFO] parallelexecution      commited chunk: 0\n"
     ]
    },
    {
     "name": "stdout",
     "output_type": "stream",
     "text": [
      "store rawdatabag under set/tmp/2015q2.zip\\IS\\raw\n",
      "create joined databag\n",
      "store joineddatabag under set/tmp/2015q2.zip\\IS\\joined\n"
     ]
    },
    {
     "name": "stderr",
     "output_type": "stream",
     "text": [
      "2023-12-07 06:43:57,416 [INFO] configmgt  reading configuration from C:\\Users\\hansj\\.secfsdstools.cfg\n",
      "2023-12-07 06:43:57,416 [INFO] parallelexecution      items to process: 1\n",
      "2023-12-07 06:43:57,416 [INFO] zipcollecting  processing C:\\Users\\hansj\\secfsdstools\\data\\parquet\\quarter\\2021q3.zip\n",
      "2023-12-07 06:43:59,662 [INFO] parallelexecution      commited chunk: 0\n"
     ]
    },
    {
     "name": "stdout",
     "output_type": "stream",
     "text": [
      "store rawdatabag under set/tmp/2021q3.zip\\IS\\raw\n",
      "create joined databag\n",
      "store joineddatabag under set/tmp/2021q3.zip\\IS\\joined\n"
     ]
    },
    {
     "name": "stderr",
     "output_type": "stream",
     "text": [
      "2023-12-07 06:44:01,720 [INFO] configmgt  reading configuration from C:\\Users\\hansj\\.secfsdstools.cfg\n",
      "2023-12-07 06:44:01,736 [INFO] parallelexecution      items to process: 1\n",
      "2023-12-07 06:44:01,736 [INFO] zipcollecting  processing C:\\Users\\hansj\\secfsdstools\\data\\parquet\\quarter\\2010q3.zip\n",
      "2023-12-07 06:44:02,196 [INFO] parallelexecution      commited chunk: 0\n"
     ]
    },
    {
     "name": "stdout",
     "output_type": "stream",
     "text": [
      "store rawdatabag under set/tmp/2010q3.zip\\IS\\raw\n"
     ]
    },
    {
     "name": "stderr",
     "output_type": "stream",
     "text": [
      "2023-12-07 06:44:02,641 [INFO] configmgt  reading configuration from C:\\Users\\hansj\\.secfsdstools.cfg\n"
     ]
    },
    {
     "name": "stdout",
     "output_type": "stream",
     "text": [
      "create joined databag\n",
      "store joineddatabag under set/tmp/2010q3.zip\\IS\\joined\n"
     ]
    },
    {
     "name": "stderr",
     "output_type": "stream",
     "text": [
      "2023-12-07 06:44:02,645 [INFO] parallelexecution      items to process: 1\n",
      "2023-12-07 06:44:02,647 [INFO] zipcollecting  processing C:\\Users\\hansj\\secfsdstools\\data\\parquet\\quarter\\2011q4.zip\n",
      "2023-12-07 06:44:04,745 [INFO] parallelexecution      commited chunk: 0\n"
     ]
    },
    {
     "name": "stdout",
     "output_type": "stream",
     "text": [
      "store rawdatabag under set/tmp/2011q4.zip\\IS\\raw\n",
      "create joined databag\n",
      "store joineddatabag under set/tmp/2011q4.zip\\IS\\joined\n"
     ]
    },
    {
     "name": "stderr",
     "output_type": "stream",
     "text": [
      "2023-12-07 06:44:06,695 [INFO] configmgt  reading configuration from C:\\Users\\hansj\\.secfsdstools.cfg\n",
      "2023-12-07 06:44:06,695 [INFO] parallelexecution      items to process: 1\n",
      "2023-12-07 06:44:06,695 [INFO] zipcollecting  processing C:\\Users\\hansj\\secfsdstools\\data\\parquet\\quarter\\2012q2.zip\n",
      "2023-12-07 06:44:08,819 [INFO] parallelexecution      commited chunk: 0\n"
     ]
    },
    {
     "name": "stdout",
     "output_type": "stream",
     "text": [
      "store rawdatabag under set/tmp/2012q2.zip\\IS\\raw\n",
      "create joined databag\n",
      "store joineddatabag under set/tmp/2012q2.zip\\IS\\joined\n"
     ]
    },
    {
     "name": "stderr",
     "output_type": "stream",
     "text": [
      "2023-12-07 06:44:10,676 [INFO] configmgt  reading configuration from C:\\Users\\hansj\\.secfsdstools.cfg\n",
      "2023-12-07 06:44:10,691 [INFO] parallelexecution      items to process: 1\n",
      "2023-12-07 06:44:10,691 [INFO] zipcollecting  processing C:\\Users\\hansj\\secfsdstools\\data\\parquet\\quarter\\2010q4.zip\n",
      "2023-12-07 06:44:11,226 [INFO] parallelexecution      commited chunk: 0\n"
     ]
    },
    {
     "name": "stdout",
     "output_type": "stream",
     "text": [
      "store rawdatabag under set/tmp/2010q4.zip\\IS\\raw\n",
      "create joined databag\n",
      "store joineddatabag under set/tmp/2010q4.zip\\IS\\joined\n"
     ]
    },
    {
     "name": "stderr",
     "output_type": "stream",
     "text": [
      "2023-12-07 06:44:11,720 [INFO] configmgt  reading configuration from C:\\Users\\hansj\\.secfsdstools.cfg\n",
      "2023-12-07 06:44:11,727 [INFO] parallelexecution      items to process: 1\n",
      "2023-12-07 06:44:11,728 [INFO] zipcollecting  processing C:\\Users\\hansj\\secfsdstools\\data\\parquet\\quarter\\2016q1.zip\n",
      "2023-12-07 06:44:14,693 [INFO] parallelexecution      commited chunk: 0\n"
     ]
    },
    {
     "name": "stdout",
     "output_type": "stream",
     "text": [
      "store rawdatabag under set/tmp/2016q1.zip\\IS\\raw\n",
      "create joined databag\n",
      "store joineddatabag under set/tmp/2016q1.zip\\IS\\joined\n"
     ]
    },
    {
     "name": "stderr",
     "output_type": "stream",
     "text": [
      "2023-12-07 06:44:16,759 [INFO] configmgt  reading configuration from C:\\Users\\hansj\\.secfsdstools.cfg\n",
      "2023-12-07 06:44:16,774 [INFO] parallelexecution      items to process: 1\n",
      "2023-12-07 06:44:16,774 [INFO] zipcollecting  processing C:\\Users\\hansj\\secfsdstools\\data\\parquet\\quarter\\2021q1.zip\n",
      "2023-12-07 06:44:19,469 [INFO] parallelexecution      commited chunk: 0\n"
     ]
    },
    {
     "name": "stdout",
     "output_type": "stream",
     "text": [
      "store rawdatabag under set/tmp/2021q1.zip\\IS\\raw\n",
      "create joined databag\n",
      "store joineddatabag under set/tmp/2021q1.zip\\IS\\joined\n"
     ]
    },
    {
     "name": "stderr",
     "output_type": "stream",
     "text": [
      "2023-12-07 06:44:21,421 [INFO] configmgt  reading configuration from C:\\Users\\hansj\\.secfsdstools.cfg\n",
      "2023-12-07 06:44:21,421 [INFO] parallelexecution      items to process: 1\n",
      "2023-12-07 06:44:21,421 [INFO] zipcollecting  processing C:\\Users\\hansj\\secfsdstools\\data\\parquet\\quarter\\2011q2.zip\n",
      "2023-12-07 06:44:21,925 [INFO] parallelexecution      commited chunk: 0\n"
     ]
    },
    {
     "name": "stdout",
     "output_type": "stream",
     "text": [
      "store rawdatabag under set/tmp/2011q2.zip\\IS\\raw\n"
     ]
    },
    {
     "name": "stderr",
     "output_type": "stream",
     "text": [
      "2023-12-07 06:44:22,387 [INFO] configmgt  reading configuration from C:\\Users\\hansj\\.secfsdstools.cfg\n",
      "2023-12-07 06:44:22,387 [INFO] parallelexecution      items to process: 1\n",
      "2023-12-07 06:44:22,387 [INFO] zipcollecting  processing C:\\Users\\hansj\\secfsdstools\\data\\parquet\\quarter\\2009q2.zip\n"
     ]
    },
    {
     "name": "stdout",
     "output_type": "stream",
     "text": [
      "create joined databag\n",
      "store joineddatabag under set/tmp/2011q2.zip\\IS\\joined\n"
     ]
    },
    {
     "name": "stderr",
     "output_type": "stream",
     "text": [
      "2023-12-07 06:44:22,427 [INFO] parallelexecution      commited chunk: 0\n",
      "2023-12-07 06:44:22,485 [INFO] configmgt  reading configuration from C:\\Users\\hansj\\.secfsdstools.cfg\n",
      "2023-12-07 06:44:22,485 [INFO] parallelexecution      items to process: 1\n",
      "2023-12-07 06:44:22,492 [INFO] zipcollecting  processing C:\\Users\\hansj\\secfsdstools\\data\\parquet\\quarter\\2022q1.zip\n"
     ]
    },
    {
     "name": "stdout",
     "output_type": "stream",
     "text": [
      "store rawdatabag under set/tmp/2009q2.zip\\IS\\raw\n",
      "create joined databag\n",
      "store joineddatabag under set/tmp/2009q2.zip\\IS\\joined\n"
     ]
    },
    {
     "name": "stderr",
     "output_type": "stream",
     "text": [
      "2023-12-07 06:44:25,286 [INFO] parallelexecution      commited chunk: 0\n"
     ]
    },
    {
     "name": "stdout",
     "output_type": "stream",
     "text": [
      "store rawdatabag under set/tmp/2022q1.zip\\IS\\raw\n",
      "create joined databag\n",
      "store joineddatabag under set/tmp/2022q1.zip\\IS\\joined\n"
     ]
    },
    {
     "name": "stderr",
     "output_type": "stream",
     "text": [
      "2023-12-07 06:44:27,267 [INFO] configmgt  reading configuration from C:\\Users\\hansj\\.secfsdstools.cfg\n",
      "2023-12-07 06:44:27,283 [INFO] parallelexecution      items to process: 1\n",
      "2023-12-07 06:44:27,283 [INFO] zipcollecting  processing C:\\Users\\hansj\\secfsdstools\\data\\parquet\\quarter\\2012q4.zip\n",
      "2023-12-07 06:44:29,986 [INFO] parallelexecution      commited chunk: 0\n"
     ]
    },
    {
     "name": "stdout",
     "output_type": "stream",
     "text": [
      "store rawdatabag under set/tmp/2012q4.zip\\IS\\raw\n",
      "create joined databag\n",
      "store joineddatabag under set/tmp/2012q4.zip\\IS\\joined\n"
     ]
    },
    {
     "name": "stderr",
     "output_type": "stream",
     "text": [
      "2023-12-07 06:44:32,268 [INFO] configmgt  reading configuration from C:\\Users\\hansj\\.secfsdstools.cfg\n",
      "2023-12-07 06:44:32,284 [INFO] parallelexecution      items to process: 1\n",
      "2023-12-07 06:44:32,284 [INFO] zipcollecting  processing C:\\Users\\hansj\\secfsdstools\\data\\parquet\\quarter\\2010q1.zip\n",
      "2023-12-07 06:44:32,461 [INFO] parallelexecution      commited chunk: 0\n",
      "2023-12-07 06:44:32,657 [INFO] configmgt  reading configuration from C:\\Users\\hansj\\.secfsdstools.cfg\n",
      "2023-12-07 06:44:32,657 [INFO] parallelexecution      items to process: 1\n",
      "2023-12-07 06:44:32,663 [INFO] zipcollecting  processing C:\\Users\\hansj\\secfsdstools\\data\\parquet\\quarter\\2015q1.zip\n"
     ]
    },
    {
     "name": "stdout",
     "output_type": "stream",
     "text": [
      "store rawdatabag under set/tmp/2010q1.zip\\IS\\raw\n",
      "create joined databag\n",
      "store joineddatabag under set/tmp/2010q1.zip\\IS\\joined\n"
     ]
    },
    {
     "name": "stderr",
     "output_type": "stream",
     "text": [
      "2023-12-07 06:44:35,698 [INFO] parallelexecution      commited chunk: 0\n"
     ]
    },
    {
     "name": "stdout",
     "output_type": "stream",
     "text": [
      "store rawdatabag under set/tmp/2015q1.zip\\IS\\raw\n",
      "create joined databag\n",
      "store joineddatabag under set/tmp/2015q1.zip\\IS\\joined\n"
     ]
    },
    {
     "name": "stderr",
     "output_type": "stream",
     "text": [
      "2023-12-07 06:44:37,880 [INFO] configmgt  reading configuration from C:\\Users\\hansj\\.secfsdstools.cfg\n",
      "2023-12-07 06:44:37,880 [INFO] parallelexecution      items to process: 1\n",
      "2023-12-07 06:44:37,880 [INFO] zipcollecting  processing C:\\Users\\hansj\\secfsdstools\\data\\parquet\\quarter\\2022q3.zip\n",
      "2023-12-07 06:44:40,163 [INFO] parallelexecution      commited chunk: 0\n"
     ]
    },
    {
     "name": "stdout",
     "output_type": "stream",
     "text": [
      "store rawdatabag under set/tmp/2022q3.zip\\IS\\raw\n",
      "create joined databag\n",
      "store joineddatabag under set/tmp/2022q3.zip\\IS\\joined\n"
     ]
    },
    {
     "name": "stderr",
     "output_type": "stream",
     "text": [
      "2023-12-07 06:44:42,285 [INFO] configmgt  reading configuration from C:\\Users\\hansj\\.secfsdstools.cfg\n",
      "2023-12-07 06:44:42,285 [INFO] parallelexecution      items to process: 1\n",
      "2023-12-07 06:44:42,285 [INFO] zipcollecting  processing C:\\Users\\hansj\\secfsdstools\\data\\parquet\\quarter\\2018q2.zip\n",
      "2023-12-07 06:44:44,291 [INFO] parallelexecution      commited chunk: 0\n"
     ]
    },
    {
     "name": "stdout",
     "output_type": "stream",
     "text": [
      "store rawdatabag under set/tmp/2018q2.zip\\IS\\raw\n",
      "create joined databag\n",
      "store joineddatabag under set/tmp/2018q2.zip\\IS\\joined\n"
     ]
    },
    {
     "name": "stderr",
     "output_type": "stream",
     "text": [
      "2023-12-07 06:44:46,103 [INFO] configmgt  reading configuration from C:\\Users\\hansj\\.secfsdstools.cfg\n",
      "2023-12-07 06:44:46,108 [INFO] parallelexecution      items to process: 1\n",
      "2023-12-07 06:44:46,110 [INFO] zipcollecting  processing C:\\Users\\hansj\\secfsdstools\\data\\parquet\\quarter\\2019q3.zip\n",
      "2023-12-07 06:44:48,287 [INFO] parallelexecution      commited chunk: 0\n"
     ]
    },
    {
     "name": "stdout",
     "output_type": "stream",
     "text": [
      "store rawdatabag under set/tmp/2019q3.zip\\IS\\raw\n",
      "create joined databag\n",
      "store joineddatabag under set/tmp/2019q3.zip\\IS\\joined\n"
     ]
    },
    {
     "name": "stderr",
     "output_type": "stream",
     "text": [
      "2023-12-07 06:44:50,264 [INFO] configmgt  reading configuration from C:\\Users\\hansj\\.secfsdstools.cfg\n",
      "2023-12-07 06:44:50,278 [INFO] parallelexecution      items to process: 1\n",
      "2023-12-07 06:44:50,278 [INFO] zipcollecting  processing C:\\Users\\hansj\\secfsdstools\\data\\parquet\\quarter\\2020q2.zip\n",
      "2023-12-07 06:44:52,278 [INFO] parallelexecution      commited chunk: 0\n"
     ]
    },
    {
     "name": "stdout",
     "output_type": "stream",
     "text": [
      "store rawdatabag under set/tmp/2020q2.zip\\IS\\raw\n",
      "create joined databag\n",
      "store joineddatabag under set/tmp/2020q2.zip\\IS\\joined\n"
     ]
    },
    {
     "name": "stderr",
     "output_type": "stream",
     "text": [
      "2023-12-07 06:44:53,946 [INFO] configmgt  reading configuration from C:\\Users\\hansj\\.secfsdstools.cfg\n",
      "2023-12-07 06:44:53,952 [INFO] parallelexecution      items to process: 1\n",
      "2023-12-07 06:44:53,954 [INFO] zipcollecting  processing C:\\Users\\hansj\\secfsdstools\\data\\parquet\\quarter\\2022q4.zip\n",
      "2023-12-07 06:44:56,319 [INFO] parallelexecution      commited chunk: 0\n"
     ]
    },
    {
     "name": "stdout",
     "output_type": "stream",
     "text": [
      "store rawdatabag under set/tmp/2022q4.zip\\IS\\raw\n",
      "create joined databag\n",
      "store joineddatabag under set/tmp/2022q4.zip\\IS\\joined\n"
     ]
    },
    {
     "name": "stderr",
     "output_type": "stream",
     "text": [
      "2023-12-07 06:44:58,437 [INFO] configmgt  reading configuration from C:\\Users\\hansj\\.secfsdstools.cfg\n",
      "2023-12-07 06:44:58,437 [INFO] parallelexecution      items to process: 1\n",
      "2023-12-07 06:44:58,437 [INFO] zipcollecting  processing C:\\Users\\hansj\\secfsdstools\\data\\parquet\\quarter\\2017q2.zip\n",
      "2023-12-07 06:45:00,395 [INFO] parallelexecution      commited chunk: 0\n"
     ]
    },
    {
     "name": "stdout",
     "output_type": "stream",
     "text": [
      "store rawdatabag under set/tmp/2017q2.zip\\IS\\raw\n",
      "create joined databag\n",
      "store joineddatabag under set/tmp/2017q2.zip\\IS\\joined\n"
     ]
    },
    {
     "name": "stderr",
     "output_type": "stream",
     "text": [
      "2023-12-07 06:45:02,139 [INFO] configmgt  reading configuration from C:\\Users\\hansj\\.secfsdstools.cfg\n",
      "2023-12-07 06:45:02,139 [INFO] parallelexecution      items to process: 1\n",
      "2023-12-07 06:45:02,154 [INFO] zipcollecting  processing C:\\Users\\hansj\\secfsdstools\\data\\parquet\\quarter\\2012q3.zip\n",
      "2023-12-07 06:45:04,587 [INFO] parallelexecution      commited chunk: 0\n"
     ]
    },
    {
     "name": "stdout",
     "output_type": "stream",
     "text": [
      "store rawdatabag under set/tmp/2012q3.zip\\IS\\raw\n",
      "create joined databag\n",
      "store joineddatabag under set/tmp/2012q3.zip\\IS\\joined\n"
     ]
    },
    {
     "name": "stderr",
     "output_type": "stream",
     "text": [
      "2023-12-07 06:45:06,636 [INFO] configmgt  reading configuration from C:\\Users\\hansj\\.secfsdstools.cfg\n",
      "2023-12-07 06:45:06,636 [INFO] parallelexecution      items to process: 1\n",
      "2023-12-07 06:45:06,636 [INFO] zipcollecting  processing C:\\Users\\hansj\\secfsdstools\\data\\parquet\\quarter\\2011q1.zip\n",
      "2023-12-07 06:45:07,270 [INFO] parallelexecution      commited chunk: 0\n"
     ]
    },
    {
     "name": "stdout",
     "output_type": "stream",
     "text": [
      "store rawdatabag under set/tmp/2011q1.zip\\IS\\raw\n"
     ]
    },
    {
     "name": "stderr",
     "output_type": "stream",
     "text": [
      "2023-12-07 06:45:07,768 [INFO] configmgt  reading configuration from C:\\Users\\hansj\\.secfsdstools.cfg\n",
      "2023-12-07 06:45:07,783 [INFO] parallelexecution      items to process: 1\n"
     ]
    },
    {
     "name": "stdout",
     "output_type": "stream",
     "text": [
      "create joined databag\n",
      "store joineddatabag under set/tmp/2011q1.zip\\IS\\joined\n"
     ]
    },
    {
     "name": "stderr",
     "output_type": "stream",
     "text": [
      "2023-12-07 06:45:07,783 [INFO] zipcollecting  processing C:\\Users\\hansj\\secfsdstools\\data\\parquet\\quarter\\2017q4.zip\n",
      "2023-12-07 06:45:09,951 [INFO] parallelexecution      commited chunk: 0\n"
     ]
    },
    {
     "name": "stdout",
     "output_type": "stream",
     "text": [
      "store rawdatabag under set/tmp/2017q4.zip\\IS\\raw\n",
      "create joined databag\n",
      "store joineddatabag under set/tmp/2017q4.zip\\IS\\joined\n"
     ]
    },
    {
     "name": "stderr",
     "output_type": "stream",
     "text": [
      "2023-12-07 06:45:11,954 [INFO] configmgt  reading configuration from C:\\Users\\hansj\\.secfsdstools.cfg\n",
      "2023-12-07 06:45:11,960 [INFO] parallelexecution      items to process: 1\n",
      "2023-12-07 06:45:11,961 [INFO] zipcollecting  processing C:\\Users\\hansj\\secfsdstools\\data\\parquet\\quarter\\2010q2.zip\n",
      "2023-12-07 06:45:12,116 [INFO] parallelexecution      commited chunk: 0\n",
      "2023-12-07 06:45:12,296 [INFO] configmgt  reading configuration from C:\\Users\\hansj\\.secfsdstools.cfg\n",
      "2023-12-07 06:45:12,299 [INFO] parallelexecution      items to process: 1\n",
      "2023-12-07 06:45:12,299 [INFO] zipcollecting  processing C:\\Users\\hansj\\secfsdstools\\data\\parquet\\quarter\\2018q3.zip\n"
     ]
    },
    {
     "name": "stdout",
     "output_type": "stream",
     "text": [
      "store rawdatabag under set/tmp/2010q2.zip\\IS\\raw\n",
      "create joined databag\n",
      "store joineddatabag under set/tmp/2010q2.zip\\IS\\joined\n"
     ]
    },
    {
     "name": "stderr",
     "output_type": "stream",
     "text": [
      "2023-12-07 06:45:14,641 [INFO] parallelexecution      commited chunk: 0\n"
     ]
    },
    {
     "name": "stdout",
     "output_type": "stream",
     "text": [
      "store rawdatabag under set/tmp/2018q3.zip\\IS\\raw\n",
      "create joined databag\n",
      "store joineddatabag under set/tmp/2018q3.zip\\IS\\joined\n"
     ]
    },
    {
     "name": "stderr",
     "output_type": "stream",
     "text": [
      "2023-12-07 06:45:16,601 [INFO] configmgt  reading configuration from C:\\Users\\hansj\\.secfsdstools.cfg\n",
      "2023-12-07 06:45:16,605 [INFO] parallelexecution      items to process: 1\n",
      "2023-12-07 06:45:16,607 [INFO] zipcollecting  processing C:\\Users\\hansj\\secfsdstools\\data\\parquet\\quarter\\2021q4.zip\n",
      "2023-12-07 06:45:19,085 [INFO] parallelexecution      commited chunk: 0\n"
     ]
    },
    {
     "name": "stdout",
     "output_type": "stream",
     "text": [
      "store rawdatabag under set/tmp/2021q4.zip\\IS\\raw\n",
      "create joined databag\n",
      "store joineddatabag under set/tmp/2021q4.zip\\IS\\joined\n"
     ]
    },
    {
     "name": "stderr",
     "output_type": "stream",
     "text": [
      "2023-12-07 06:45:21,230 [INFO] configmgt  reading configuration from C:\\Users\\hansj\\.secfsdstools.cfg\n",
      "2023-12-07 06:45:21,234 [INFO] parallelexecution      items to process: 1\n",
      "2023-12-07 06:45:21,235 [INFO] zipcollecting  processing C:\\Users\\hansj\\secfsdstools\\data\\parquet\\quarter\\2019q2.zip\n",
      "2023-12-07 06:45:23,305 [INFO] parallelexecution      commited chunk: 0\n"
     ]
    },
    {
     "name": "stdout",
     "output_type": "stream",
     "text": [
      "store rawdatabag under set/tmp/2019q2.zip\\IS\\raw\n",
      "create joined databag\n",
      "store joineddatabag under set/tmp/2019q2.zip\\IS\\joined\n"
     ]
    },
    {
     "name": "stderr",
     "output_type": "stream",
     "text": [
      "2023-12-07 06:45:25,109 [INFO] configmgt  reading configuration from C:\\Users\\hansj\\.secfsdstools.cfg\n",
      "2023-12-07 06:45:25,109 [INFO] parallelexecution      items to process: 1\n",
      "2023-12-07 06:45:25,109 [INFO] zipcollecting  processing C:\\Users\\hansj\\secfsdstools\\data\\parquet\\quarter\\2013q1.zip\n",
      "2023-12-07 06:45:28,176 [INFO] parallelexecution      commited chunk: 0\n"
     ]
    },
    {
     "name": "stdout",
     "output_type": "stream",
     "text": [
      "store rawdatabag under set/tmp/2013q1.zip\\IS\\raw\n",
      "create joined databag\n",
      "store joineddatabag under set/tmp/2013q1.zip\\IS\\joined\n"
     ]
    },
    {
     "name": "stderr",
     "output_type": "stream",
     "text": [
      "2023-12-07 06:45:30,343 [INFO] configmgt  reading configuration from C:\\Users\\hansj\\.secfsdstools.cfg\n",
      "2023-12-07 06:45:30,359 [INFO] parallelexecution      items to process: 1\n",
      "2023-12-07 06:45:30,359 [INFO] zipcollecting  processing C:\\Users\\hansj\\secfsdstools\\data\\parquet\\quarter\\2015q4.zip\n",
      "2023-12-07 06:45:32,874 [INFO] parallelexecution      commited chunk: 0\n"
     ]
    },
    {
     "name": "stdout",
     "output_type": "stream",
     "text": [
      "store rawdatabag under set/tmp/2015q4.zip\\IS\\raw\n",
      "create joined databag\n",
      "store joineddatabag under set/tmp/2015q4.zip\\IS\\joined\n"
     ]
    },
    {
     "name": "stderr",
     "output_type": "stream",
     "text": [
      "2023-12-07 06:45:35,072 [INFO] configmgt  reading configuration from C:\\Users\\hansj\\.secfsdstools.cfg\n",
      "2023-12-07 06:45:35,088 [INFO] parallelexecution      items to process: 1\n",
      "2023-12-07 06:45:35,088 [INFO] zipcollecting  processing C:\\Users\\hansj\\secfsdstools\\data\\parquet\\quarter\\2009q3.zip\n",
      "2023-12-07 06:45:35,222 [INFO] parallelexecution      commited chunk: 0\n",
      "2023-12-07 06:45:35,414 [INFO] configmgt  reading configuration from C:\\Users\\hansj\\.secfsdstools.cfg\n",
      "2023-12-07 06:45:35,418 [INFO] parallelexecution      items to process: 1\n",
      "2023-12-07 06:45:35,419 [INFO] zipcollecting  processing C:\\Users\\hansj\\secfsdstools\\data\\parquet\\quarter\\2016q2.zip\n"
     ]
    },
    {
     "name": "stdout",
     "output_type": "stream",
     "text": [
      "store rawdatabag under set/tmp/2009q3.zip\\IS\\raw\n",
      "create joined databag\n",
      "store joineddatabag under set/tmp/2009q3.zip\\IS\\joined\n"
     ]
    },
    {
     "name": "stderr",
     "output_type": "stream",
     "text": [
      "2023-12-07 06:45:37,514 [INFO] parallelexecution      commited chunk: 0\n"
     ]
    },
    {
     "name": "stdout",
     "output_type": "stream",
     "text": [
      "store rawdatabag under set/tmp/2016q2.zip\\IS\\raw\n",
      "create joined databag\n",
      "store joineddatabag under set/tmp/2016q2.zip\\IS\\joined\n"
     ]
    },
    {
     "name": "stderr",
     "output_type": "stream",
     "text": [
      "2023-12-07 06:45:39,333 [INFO] configmgt  reading configuration from C:\\Users\\hansj\\.secfsdstools.cfg\n",
      "2023-12-07 06:45:39,337 [INFO] parallelexecution      items to process: 1\n",
      "2023-12-07 06:45:39,337 [INFO] zipcollecting  processing C:\\Users\\hansj\\secfsdstools\\data\\parquet\\quarter\\2013q3.zip\n",
      "2023-12-07 06:45:42,030 [INFO] parallelexecution      commited chunk: 0\n"
     ]
    },
    {
     "name": "stdout",
     "output_type": "stream",
     "text": [
      "store rawdatabag under set/tmp/2013q3.zip\\IS\\raw\n",
      "create joined databag\n",
      "store joineddatabag under set/tmp/2013q3.zip\\IS\\joined\n"
     ]
    },
    {
     "name": "stderr",
     "output_type": "stream",
     "text": [
      "2023-12-07 06:45:44,307 [INFO] configmgt  reading configuration from C:\\Users\\hansj\\.secfsdstools.cfg\n",
      "2023-12-07 06:45:44,311 [INFO] parallelexecution      items to process: 1\n",
      "2023-12-07 06:45:44,312 [INFO] zipcollecting  processing C:\\Users\\hansj\\secfsdstools\\data\\parquet\\quarter\\2016q4.zip\n",
      "2023-12-07 06:45:46,513 [INFO] parallelexecution      commited chunk: 0\n"
     ]
    },
    {
     "name": "stdout",
     "output_type": "stream",
     "text": [
      "store rawdatabag under set/tmp/2016q4.zip\\IS\\raw\n",
      "create joined databag\n",
      "store joineddatabag under set/tmp/2016q4.zip\\IS\\joined\n"
     ]
    },
    {
     "name": "stderr",
     "output_type": "stream",
     "text": [
      "2023-12-07 06:45:48,588 [INFO] configmgt  reading configuration from C:\\Users\\hansj\\.secfsdstools.cfg\n",
      "2023-12-07 06:45:48,588 [INFO] parallelexecution      items to process: 1\n",
      "2023-12-07 06:45:48,588 [INFO] zipcollecting  processing C:\\Users\\hansj\\secfsdstools\\data\\parquet\\quarter\\2017q3.zip\n",
      "2023-12-07 06:45:50,915 [INFO] parallelexecution      commited chunk: 0\n"
     ]
    },
    {
     "name": "stdout",
     "output_type": "stream",
     "text": [
      "store rawdatabag under set/tmp/2017q3.zip\\IS\\raw\n",
      "create joined databag\n",
      "store joineddatabag under set/tmp/2017q3.zip\\IS\\joined\n"
     ]
    },
    {
     "name": "stderr",
     "output_type": "stream",
     "text": [
      "2023-12-07 06:45:52,924 [INFO] configmgt  reading configuration from C:\\Users\\hansj\\.secfsdstools.cfg\n",
      "2023-12-07 06:45:52,928 [INFO] parallelexecution      items to process: 1\n",
      "2023-12-07 06:45:52,931 [INFO] zipcollecting  processing C:\\Users\\hansj\\secfsdstools\\data\\parquet\\quarter\\2018q4.zip\n",
      "2023-12-07 06:45:55,083 [INFO] parallelexecution      commited chunk: 0\n"
     ]
    },
    {
     "name": "stdout",
     "output_type": "stream",
     "text": [
      "store rawdatabag under set/tmp/2018q4.zip\\IS\\raw\n",
      "create joined databag\n",
      "store joineddatabag under set/tmp/2018q4.zip\\IS\\joined\n"
     ]
    },
    {
     "name": "stderr",
     "output_type": "stream",
     "text": [
      "2023-12-07 06:45:57,160 [INFO] configmgt  reading configuration from C:\\Users\\hansj\\.secfsdstools.cfg\n",
      "2023-12-07 06:45:57,165 [INFO] parallelexecution      items to process: 1\n",
      "2023-12-07 06:45:57,166 [INFO] zipcollecting  processing C:\\Users\\hansj\\secfsdstools\\data\\parquet\\quarter\\2023q2.zip\n",
      "2023-12-07 06:45:59,356 [INFO] parallelexecution      commited chunk: 0\n"
     ]
    },
    {
     "name": "stdout",
     "output_type": "stream",
     "text": [
      "store rawdatabag under set/tmp/2023q2.zip\\IS\\raw\n",
      "create joined databag\n",
      "store joineddatabag under set/tmp/2023q2.zip\\IS\\joined\n"
     ]
    },
    {
     "name": "stderr",
     "output_type": "stream",
     "text": [
      "2023-12-07 06:46:01,157 [INFO] configmgt  reading configuration from C:\\Users\\hansj\\.secfsdstools.cfg\n",
      "2023-12-07 06:46:01,163 [INFO] parallelexecution      items to process: 1\n",
      "2023-12-07 06:46:01,164 [INFO] zipcollecting  processing C:\\Users\\hansj\\secfsdstools\\data\\parquet\\quarter\\2014q4.zip\n",
      "2023-12-07 06:46:03,791 [INFO] parallelexecution      commited chunk: 0\n"
     ]
    },
    {
     "name": "stdout",
     "output_type": "stream",
     "text": [
      "store rawdatabag under set/tmp/2014q4.zip\\IS\\raw\n",
      "create joined databag\n",
      "store joineddatabag under set/tmp/2014q4.zip\\IS\\joined\n"
     ]
    },
    {
     "name": "stderr",
     "output_type": "stream",
     "text": [
      "2023-12-07 06:46:06,078 [INFO] configmgt  reading configuration from C:\\Users\\hansj\\.secfsdstools.cfg\n",
      "2023-12-07 06:46:06,083 [INFO] parallelexecution      items to process: 1\n",
      "2023-12-07 06:46:06,084 [INFO] zipcollecting  processing C:\\Users\\hansj\\secfsdstools\\data\\parquet\\quarter\\2011q3.zip\n",
      "2023-12-07 06:46:07,868 [INFO] parallelexecution      commited chunk: 0\n"
     ]
    },
    {
     "name": "stdout",
     "output_type": "stream",
     "text": [
      "store rawdatabag under set/tmp/2011q3.zip\\IS\\raw\n",
      "create joined databag\n",
      "store joineddatabag under set/tmp/2011q3.zip\\IS\\joined\n"
     ]
    },
    {
     "name": "stderr",
     "output_type": "stream",
     "text": [
      "2023-12-07 06:46:09,538 [INFO] configmgt  reading configuration from C:\\Users\\hansj\\.secfsdstools.cfg\n",
      "2023-12-07 06:46:09,543 [INFO] parallelexecution      items to process: 1\n",
      "2023-12-07 06:46:09,544 [INFO] zipcollecting  processing C:\\Users\\hansj\\secfsdstools\\data\\parquet\\quarter\\2020q3.zip\n",
      "2023-12-07 06:46:11,730 [INFO] parallelexecution      commited chunk: 0\n"
     ]
    },
    {
     "name": "stdout",
     "output_type": "stream",
     "text": [
      "store rawdatabag under set/tmp/2020q3.zip\\IS\\raw\n",
      "create joined databag\n",
      "store joineddatabag under set/tmp/2020q3.zip\\IS\\joined\n"
     ]
    },
    {
     "name": "stderr",
     "output_type": "stream",
     "text": [
      "2023-12-07 06:46:13,716 [INFO] configmgt  reading configuration from C:\\Users\\hansj\\.secfsdstools.cfg\n",
      "2023-12-07 06:46:13,721 [INFO] parallelexecution      items to process: 1\n",
      "2023-12-07 06:46:13,723 [INFO] zipcollecting  processing C:\\Users\\hansj\\secfsdstools\\data\\parquet\\quarter\\2014q2.zip\n",
      "2023-12-07 06:46:16,075 [INFO] parallelexecution      commited chunk: 0\n"
     ]
    },
    {
     "name": "stdout",
     "output_type": "stream",
     "text": [
      "store rawdatabag under set/tmp/2014q2.zip\\IS\\raw\n",
      "create joined databag\n",
      "store joineddatabag under set/tmp/2014q2.zip\\IS\\joined\n"
     ]
    },
    {
     "name": "stderr",
     "output_type": "stream",
     "text": [
      "2023-12-07 06:46:18,136 [INFO] configmgt  reading configuration from C:\\Users\\hansj\\.secfsdstools.cfg\n",
      "2023-12-07 06:46:18,151 [INFO] parallelexecution      items to process: 1\n",
      "2023-12-07 06:46:18,151 [INFO] zipcollecting  processing C:\\Users\\hansj\\secfsdstools\\data\\parquet\\quarter\\2020q1.zip\n",
      "2023-12-07 06:46:20,623 [INFO] parallelexecution      commited chunk: 0\n"
     ]
    },
    {
     "name": "stdout",
     "output_type": "stream",
     "text": [
      "store rawdatabag under set/tmp/2020q1.zip\\IS\\raw\n",
      "create joined databag\n",
      "store joineddatabag under set/tmp/2020q1.zip\\IS\\joined\n"
     ]
    },
    {
     "name": "stderr",
     "output_type": "stream",
     "text": [
      "2023-12-07 06:46:22,482 [INFO] configmgt  reading configuration from C:\\Users\\hansj\\.secfsdstools.cfg\n",
      "2023-12-07 06:46:22,482 [INFO] parallelexecution      items to process: 1\n",
      "2023-12-07 06:46:22,482 [INFO] zipcollecting  processing C:\\Users\\hansj\\secfsdstools\\data\\parquet\\quarter\\2012q1.zip\n",
      "2023-12-07 06:46:24,750 [INFO] parallelexecution      commited chunk: 0\n"
     ]
    },
    {
     "name": "stdout",
     "output_type": "stream",
     "text": [
      "store rawdatabag under set/tmp/2012q1.zip\\IS\\raw\n",
      "create joined databag\n",
      "store joineddatabag under set/tmp/2012q1.zip\\IS\\joined\n"
     ]
    },
    {
     "name": "stderr",
     "output_type": "stream",
     "text": [
      "2023-12-07 06:46:26,522 [INFO] configmgt  reading configuration from C:\\Users\\hansj\\.secfsdstools.cfg\n",
      "2023-12-07 06:46:26,527 [INFO] parallelexecution      items to process: 1\n",
      "2023-12-07 06:46:26,528 [INFO] zipcollecting  processing C:\\Users\\hansj\\secfsdstools\\data\\parquet\\quarter\\2014q1.zip\n",
      "2023-12-07 06:46:29,845 [INFO] parallelexecution      commited chunk: 0\n"
     ]
    },
    {
     "name": "stdout",
     "output_type": "stream",
     "text": [
      "store rawdatabag under set/tmp/2014q1.zip\\IS\\raw\n",
      "create joined databag\n",
      "store joineddatabag under set/tmp/2014q1.zip\\IS\\joined\n"
     ]
    },
    {
     "name": "stderr",
     "output_type": "stream",
     "text": [
      "2023-12-07 06:46:32,337 [INFO] configmgt  reading configuration from C:\\Users\\hansj\\.secfsdstools.cfg\n",
      "2023-12-07 06:46:32,352 [INFO] parallelexecution      items to process: 1\n",
      "2023-12-07 06:46:32,352 [INFO] zipcollecting  processing C:\\Users\\hansj\\secfsdstools\\data\\parquet\\quarter\\2019q1.zip\n",
      "2023-12-07 06:46:34,756 [INFO] parallelexecution      commited chunk: 0\n"
     ]
    },
    {
     "name": "stdout",
     "output_type": "stream",
     "text": [
      "store rawdatabag under set/tmp/2019q1.zip\\IS\\raw\n",
      "create joined databag\n",
      "store joineddatabag under set/tmp/2019q1.zip\\IS\\joined\n"
     ]
    },
    {
     "name": "stderr",
     "output_type": "stream",
     "text": [
      "2023-12-07 06:46:36,594 [INFO] configmgt  reading configuration from C:\\Users\\hansj\\.secfsdstools.cfg\n",
      "2023-12-07 06:46:36,610 [INFO] parallelexecution      items to process: 1\n",
      "2023-12-07 06:46:36,610 [INFO] zipcollecting  processing C:\\Users\\hansj\\secfsdstools\\data\\parquet\\quarter\\2015q3.zip\n",
      "2023-12-07 06:46:39,088 [INFO] parallelexecution      commited chunk: 0\n"
     ]
    },
    {
     "name": "stdout",
     "output_type": "stream",
     "text": [
      "store rawdatabag under set/tmp/2015q3.zip\\IS\\raw\n",
      "create joined databag\n",
      "store joineddatabag under set/tmp/2015q3.zip\\IS\\joined\n"
     ]
    },
    {
     "name": "stderr",
     "output_type": "stream",
     "text": [
      "2023-12-07 06:46:41,248 [INFO] configmgt  reading configuration from C:\\Users\\hansj\\.secfsdstools.cfg\n",
      "2023-12-07 06:46:41,264 [INFO] parallelexecution      items to process: 1\n",
      "2023-12-07 06:46:41,264 [INFO] zipcollecting  processing C:\\Users\\hansj\\secfsdstools\\data\\parquet\\quarter\\2017q1.zip\n",
      "2023-12-07 06:46:44,359 [INFO] parallelexecution      commited chunk: 0\n"
     ]
    },
    {
     "name": "stdout",
     "output_type": "stream",
     "text": [
      "store rawdatabag under set/tmp/2017q1.zip\\IS\\raw\n",
      "create joined databag\n",
      "store joineddatabag under set/tmp/2017q1.zip\\IS\\joined\n"
     ]
    },
    {
     "name": "stderr",
     "output_type": "stream",
     "text": [
      "2023-12-07 06:46:46,337 [INFO] configmgt  reading configuration from C:\\Users\\hansj\\.secfsdstools.cfg\n",
      "2023-12-07 06:46:46,337 [INFO] parallelexecution      items to process: 1\n",
      "2023-12-07 06:46:46,337 [INFO] zipcollecting  processing C:\\Users\\hansj\\secfsdstools\\data\\parquet\\quarter\\2020q4.zip\n",
      "2023-12-07 06:46:48,656 [INFO] parallelexecution      commited chunk: 0\n"
     ]
    },
    {
     "name": "stdout",
     "output_type": "stream",
     "text": [
      "store rawdatabag under set/tmp/2020q4.zip\\IS\\raw\n",
      "create joined databag\n",
      "store joineddatabag under set/tmp/2020q4.zip\\IS\\joined\n"
     ]
    },
    {
     "name": "stderr",
     "output_type": "stream",
     "text": [
      "2023-12-07 06:46:50,613 [INFO] configmgt  reading configuration from C:\\Users\\hansj\\.secfsdstools.cfg\n",
      "2023-12-07 06:46:50,628 [INFO] parallelexecution      items to process: 1\n",
      "2023-12-07 06:46:50,628 [INFO] zipcollecting  processing C:\\Users\\hansj\\secfsdstools\\data\\parquet\\quarter\\2013q2.zip\n",
      "2023-12-07 06:46:53,199 [INFO] parallelexecution      commited chunk: 0\n"
     ]
    },
    {
     "name": "stdout",
     "output_type": "stream",
     "text": [
      "store rawdatabag under set/tmp/2013q2.zip\\IS\\raw\n",
      "create joined databag\n",
      "store joineddatabag under set/tmp/2013q2.zip\\IS\\joined\n"
     ]
    },
    {
     "name": "stderr",
     "output_type": "stream",
     "text": [
      "2023-12-07 06:46:55,310 [INFO] configmgt  reading configuration from C:\\Users\\hansj\\.secfsdstools.cfg\n",
      "2023-12-07 06:46:55,325 [INFO] parallelexecution      items to process: 1\n",
      "2023-12-07 06:46:55,325 [INFO] zipcollecting  processing C:\\Users\\hansj\\secfsdstools\\data\\parquet\\quarter\\2021q2.zip\n",
      "2023-12-07 06:46:57,284 [INFO] parallelexecution      commited chunk: 0\n"
     ]
    },
    {
     "name": "stdout",
     "output_type": "stream",
     "text": [
      "store rawdatabag under set/tmp/2021q2.zip\\IS\\raw\n",
      "create joined databag\n",
      "store joineddatabag under set/tmp/2021q2.zip\\IS\\joined\n"
     ]
    },
    {
     "name": "stderr",
     "output_type": "stream",
     "text": [
      "2023-12-07 06:46:59,015 [INFO] configmgt  reading configuration from C:\\Users\\hansj\\.secfsdstools.cfg\n",
      "2023-12-07 06:46:59,015 [INFO] parallelexecution      items to process: 1\n",
      "2023-12-07 06:46:59,031 [INFO] zipcollecting  processing C:\\Users\\hansj\\secfsdstools\\data\\parquet\\quarter\\2022q2.zip\n",
      "2023-12-07 06:47:01,213 [INFO] parallelexecution      commited chunk: 0\n"
     ]
    },
    {
     "name": "stdout",
     "output_type": "stream",
     "text": [
      "store rawdatabag under set/tmp/2022q2.zip\\IS\\raw\n",
      "create joined databag\n",
      "store joineddatabag under set/tmp/2022q2.zip\\IS\\joined\n"
     ]
    },
    {
     "name": "stderr",
     "output_type": "stream",
     "text": [
      "2023-12-07 06:47:03,046 [INFO] configmgt  reading configuration from C:\\Users\\hansj\\.secfsdstools.cfg\n",
      "2023-12-07 06:47:03,046 [INFO] parallelexecution      items to process: 1\n",
      "2023-12-07 06:47:03,046 [INFO] zipcollecting  processing C:\\Users\\hansj\\secfsdstools\\data\\parquet\\quarter\\2009q4.zip\n",
      "2023-12-07 06:47:03,225 [INFO] parallelexecution      commited chunk: 0\n"
     ]
    },
    {
     "name": "stdout",
     "output_type": "stream",
     "text": [
      "store rawdatabag under set/tmp/2009q4.zip\\IS\\raw\n",
      "create joined databag\n",
      "store joineddatabag under set/tmp/2009q4.zip\\IS\\joined\n"
     ]
    },
    {
     "name": "stderr",
     "output_type": "stream",
     "text": [
      "2023-12-07 06:47:03,439 [INFO] configmgt  reading configuration from C:\\Users\\hansj\\.secfsdstools.cfg\n",
      "2023-12-07 06:47:03,439 [INFO] parallelexecution      items to process: 1\n",
      "2023-12-07 06:47:03,439 [INFO] zipcollecting  processing C:\\Users\\hansj\\secfsdstools\\data\\parquet\\quarter\\2023q3.zip\n",
      "2023-12-07 06:47:05,945 [INFO] parallelexecution      commited chunk: 0\n"
     ]
    },
    {
     "name": "stdout",
     "output_type": "stream",
     "text": [
      "store rawdatabag under set/tmp/2023q3.zip\\IS\\raw\n",
      "create joined databag\n",
      "store joineddatabag under set/tmp/2023q3.zip\\IS\\joined\n"
     ]
    }
   ],
   "source": [
    "# as a reference, this took 12 minutes on my laptop (32GB Ram / 4/8 Cores)\n",
    "for statement_to_load in statements_to_load:\n",
    "    build_tmp_set(financial_statement=statement_to_load, file_names=all_zip_names, target_path=\"set/tmp/\")"
   ]
  },
  {
   "cell_type": "code",
   "execution_count": 6,
   "id": "d5756301-3feb-4d7c-9f19-fa7155933353",
   "metadata": {
    "tags": []
   },
   "outputs": [
    {
     "name": "stdout",
     "output_type": "stream",
     "text": [
      "store rawdatabag under set/serial/BS\\raw\n",
      "store rawdatabag under set/serial/CF\\raw\n",
      "store rawdatabag under set/serial/IS\\raw\n"
     ]
    }
   ],
   "source": [
    "from glob import glob\n",
    "\n",
    "base_path = \"set/serial/\"\n",
    "for statement_to_load in statements_to_load:\n",
    "    raw_files = glob(f\"./set/tmp/*/{statement_to_load}/raw/\", recursive = True)    \n",
    "    raw_databags = [RawDataBag.load(file) for file in raw_files]\n",
    "    raw_databag = RawDataBag.concat(raw_databags)\n",
    "    target_path_raw = os.path.join(base_path, statement_to_load, 'raw')\n",
    "    print(f\"store rawdatabag under {target_path_raw}\")\n",
    "    os.makedirs(target_path_raw, exist_ok=True)\n",
    "    raw_databag.save(target_path_raw)     "
   ]
  },
  {
   "cell_type": "code",
   "execution_count": 11,
   "id": "6c513474-b29e-4034-a6a4-afefe0a2070c",
   "metadata": {
    "tags": []
   },
   "outputs": [
    {
     "name": "stdout",
     "output_type": "stream",
     "text": [
      "store joineddatabag under set/serial/BS\\joined\n",
      "store joineddatabag under set/serial/CF\\joined\n",
      "store joineddatabag under set/serial/IS\\joined\n"
     ]
    }
   ],
   "source": [
    "from glob import glob\n",
    "\n",
    "base_path = \"set/serial/\"\n",
    "for statement_to_load in statements_to_load:    \n",
    "    joined_files = glob(f\"./set/tmp/*/{statement_to_load}/joined/\", recursive = True)\n",
    "    joined_databags = [JoinedDataBag.load(file) for file in joined_files]\n",
    "    joined_databag = JoinedDataBag.concat(joined_databags)\n",
    "    target_path_joined = os.path.join(base_path, statement_to_load, 'joined')\n",
    "    print(f\"store joineddatabag under {target_path_joined}\")\n",
    "    os.makedirs(target_path_joined, exist_ok=True)\n",
    "    joined_databag.save(target_path_joined)   "
   ]
  },
  {
   "cell_type": "code",
   "execution_count": 7,
   "id": "8b7f8a8d-3354-4e6b-8280-53c145338bd2",
   "metadata": {},
   "outputs": [
    {
     "name": "stdout",
     "output_type": "stream",
     "text": [
      "loaded BS databag:  (10430891, 16)\n",
      "loaded CF databag:  (9468009, 16)\n",
      "loaded IS databag:  (9512425, 16)\n"
     ]
    }
   ],
   "source": [
    "#load BS joined data\n",
    "joinedBS = JoinedDataBag.load(\"./set/serial/BS/joined\")\n",
    "print(\"loaded BS databag: \", joinedBS.pre_num_df.shape)\n",
    "joinedCF = JoinedDataBag.load(\"./set/serial/CF/joined\")\n",
    "print(\"loaded CF databag: \", joinedCF.pre_num_df.shape)\n",
    "joinedIS = JoinedDataBag.load(\"./set/serial/IS/joined\")\n",
    "print(\"loaded IS databag: \", joinedIS.pre_num_df.shape)"
   ]
  },
  {
   "cell_type": "code",
   "execution_count": null,
   "id": "603d560e-0eac-40aa-abd8-3209951bdddc",
   "metadata": {},
   "outputs": [],
   "source": []
  }
 ],
 "metadata": {
  "kernelspec": {
   "display_name": "Python 3 (ipykernel)",
   "language": "python",
   "name": "python3"
  },
  "language_info": {
   "codemirror_mode": {
    "name": "ipython",
    "version": 3
   },
   "file_extension": ".py",
   "mimetype": "text/x-python",
   "name": "python",
   "nbconvert_exporter": "python",
   "pygments_lexer": "ipython3",
   "version": "3.10.0"
  }
 },
 "nbformat": 4,
 "nbformat_minor": 5
}
